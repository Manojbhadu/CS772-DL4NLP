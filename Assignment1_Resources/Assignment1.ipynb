{
 "cells": [
  {
   "cell_type": "code",
   "execution_count": 1,
   "metadata": {},
   "outputs": [
    {
     "name": "stderr",
     "output_type": "stream",
     "text": [
      "[nltk_data] Downloading package stopwords to\n",
      "[nltk_data]     /Users/manojbhadu/nltk_data...\n",
      "[nltk_data]   Package stopwords is already up-to-date!\n"
     ]
    }
   ],
   "source": [
    "import pandas as pd\n",
    "import numpy as np\n",
    "\n",
    "import tensorflow as tf\n",
    "\n",
    "import nltk\n",
    "from nltk.corpus import stopwords\n",
    "nltk.download('stopwords')\n",
    "\n",
    "from keras.preprocessing.sequence import pad_sequences"
   ]
  },
  {
   "cell_type": "code",
   "execution_count": 2,
   "metadata": {},
   "outputs": [],
   "source": [
    "train = pd.read_csv(\"train.csv\")\n",
    "test = pd.read_csv(\"test.csv\")  \n"
   ]
  },
  {
   "cell_type": "code",
   "execution_count": 3,
   "metadata": {},
   "outputs": [
    {
     "data": {
      "text/plain": [
       "0        This book was very informative, covering all a...\n",
       "1        I am already a baseball fan and knew a bit abo...\n",
       "2        I didn't like this product it smudged all unde...\n",
       "3        I simply love the product. I appreciate print ...\n",
       "4        It goes on very easily and makes my eyes look ...\n",
       "                               ...                        \n",
       "49995                         it does not work((((((((((((\n",
       "49996    Really worthless, loud motor with absolutely n...\n",
       "49997    Don't waste your money on this. It does nothin...\n",
       "49998    Product does not remove ear wax. No suction, j...\n",
       "49999    If you wear hearing aids these are great for r...\n",
       "Name: reviews, Length: 50000, dtype: object"
      ]
     },
     "execution_count": 3,
     "metadata": {},
     "output_type": "execute_result"
    }
   ],
   "source": [
    "train['reviews']"
   ]
  },
  {
   "cell_type": "code",
   "execution_count": null,
   "metadata": {},
   "outputs": [],
   "source": []
  },
  {
   "cell_type": "code",
   "execution_count": 4,
   "metadata": {},
   "outputs": [],
   "source": [
    "def convert_to_lower(text):\n",
    "    # return the reviews after convering then to lowercase\n",
    "    lower_text = text.copy()\n",
    "    for i in range(len(text)):\n",
    "        lower_text[i] = text[i].lower()\n",
    "    return lower_text"
   ]
  },
  {
   "cell_type": "code",
   "execution_count": 5,
   "metadata": {},
   "outputs": [],
   "source": [
    "def remove_punctuation(text):\n",
    "    #stop_words = set(stopwords.words('english'))\n",
    "    without_punctuation_text  = text.copy()\n",
    "    for i in range(len(text)):\n",
    "        without_punctuation_text[i] = [w for w in text[i] if w.isalpha()]\n",
    "    return without_punctuation_text"
   ]
  },
  {
   "cell_type": "code",
   "execution_count": 6,
   "metadata": {},
   "outputs": [],
   "source": [
    "def remove_stopwords(text):\n",
    "    stop_words = set(stopwords.words('english'))\n",
    "    without_stopwords_text  = text.copy()\n",
    "    for i in range(len(text)):\n",
    "        without_stopwords_text[i] = [w for w in text[i] if not w in stop_words]\n",
    "    return without_stopwords_text"
   ]
  },
  {
   "cell_type": "code",
   "execution_count": 7,
   "metadata": {},
   "outputs": [],
   "source": [
    "def perform_tokenization(text):\n",
    "    tokenize_text = text.copy()\n",
    "    for i in range(len(text)):\n",
    "        tokenize_text[i] = nltk.word_tokenize(text[i])\n",
    "    return tokenize_text"
   ]
  },
  {
   "cell_type": "code",
   "execution_count": 8,
   "metadata": {},
   "outputs": [],
   "source": [
    "def get_dicts(train):\n",
    "    reviews = train[\"reviews\"]\n",
    "    reviews = convert_to_lower(reviews)\n",
    "    reviews = perform_tokenization(reviews)\n",
    "    reviews = remove_punctuation(reviews)\n",
    "    reviews = remove_stopwords(reviews)\n",
    "    \n",
    "    words = []\n",
    "    for sent in reviews:\n",
    "        for word in sent:\n",
    "            words.append(word)\n",
    "            \n",
    "    #for phrase in test:\n",
    "    #for word in phrase:\n",
    "    #words.append(word)\n",
    "            \n",
    "    words.sort()\n",
    "    words = set(words)\n",
    "    word_to_index = {}\n",
    "    word_to_index['<PAD>'] = 0\n",
    "    word_to_index['<UNK>'] = 1\n",
    "    for i, word in enumerate(words):\n",
    "        word_to_index[word] = i  + 2\n",
    "        \n",
    "    #index_to_word = {index:word for (word, index) in word_to_index.items()}\n",
    "    \n",
    "    return word_to_index"
   ]
  },
  {
   "cell_type": "code",
   "execution_count": 9,
   "metadata": {},
   "outputs": [],
   "source": [
    "word_to_index = get_dicts(train)"
   ]
  },
  {
   "cell_type": "code",
   "execution_count": null,
   "metadata": {},
   "outputs": [],
   "source": []
  },
  {
   "cell_type": "code",
   "execution_count": 10,
   "metadata": {},
   "outputs": [],
   "source": [
    "def encode_data(text,word_to_index):\n",
    "    encoded_text = []\n",
    "    for phrase in text:\n",
    "        tokenized_format = []\n",
    "        for word in phrase:\n",
    "            try:\n",
    "                index = word_to_index[word]\n",
    "                tokenized_format.append(index)\n",
    "            except KeyError:\n",
    "                index = word_to_index['<UNK>']\n",
    "                tokenized_format.append(index)\n",
    "            \n",
    "        encoded_text.append(tokenized_format)\n",
    "    return encoded_text"
   ]
  },
  {
   "cell_type": "code",
   "execution_count": 11,
   "metadata": {},
   "outputs": [],
   "source": [
    "MAX_LENGTH = 60"
   ]
  },
  {
   "cell_type": "code",
   "execution_count": 12,
   "metadata": {},
   "outputs": [],
   "source": [
    "def perform_pedding(data):\n",
    "    \n",
    "    data = pad_sequences(data,maxlen=MAX_LENGTH,padding='post')\n",
    "    return data"
   ]
  },
  {
   "cell_type": "code",
   "execution_count": null,
   "metadata": {},
   "outputs": [],
   "source": []
  },
  {
   "cell_type": "code",
   "execution_count": 13,
   "metadata": {},
   "outputs": [],
   "source": [
    "def preprocess_data(data,word_to_index):\n",
    "    reviews = data[\"reviews\"]\n",
    "    reviews = convert_to_lower(reviews)\n",
    "    reviews = perform_tokenization(reviews)\n",
    "    reviews = remove_punctuation(reviews)\n",
    "    reviews = remove_stopwords(reviews)\n",
    "    reviews = encode_data(reviews,word_to_index)\n",
    "    reviews = perform_pedding(reviews)\n",
    "    return reviews"
   ]
  },
  {
   "cell_type": "code",
   "execution_count": 14,
   "metadata": {},
   "outputs": [],
   "source": [
    "preprocessed_reviews = preprocess_data(train,word_to_index)"
   ]
  },
  {
   "cell_type": "code",
   "execution_count": 15,
   "metadata": {},
   "outputs": [],
   "source": [
    "preprocessed_test_reviews = preprocess_data(test,word_to_index)"
   ]
  },
  {
   "cell_type": "code",
   "execution_count": 16,
   "metadata": {},
   "outputs": [],
   "source": [
    "def softmax_activation(x):\n",
    "    exp_x = np.exp(x)\n",
    "    return exp_x/np.sum(exp_x)"
   ]
  },
  {
   "cell_type": "code",
   "execution_count": null,
   "metadata": {},
   "outputs": [],
   "source": []
  },
  {
   "cell_type": "code",
   "execution_count": null,
   "metadata": {},
   "outputs": [],
   "source": []
  },
  {
   "cell_type": "code",
   "execution_count": null,
   "metadata": {},
   "outputs": [],
   "source": []
  },
  {
   "cell_type": "code",
   "execution_count": 17,
   "metadata": {},
   "outputs": [],
   "source": [
    "from keras.models import Sequential\n",
    "from keras.layers import Dense, InputLayer, Activation\n",
    "from keras.optimizers import Adam"
   ]
  },
  {
   "cell_type": "code",
   "execution_count": 18,
   "metadata": {},
   "outputs": [],
   "source": [
    "class NeuralNet:\n",
    "\n",
    "    def __init__(self, reviews, ratings):\n",
    "\n",
    "        self.reviews = reviews\n",
    "        self.ratings = ratings\n",
    "\n",
    "\n",
    "\n",
    "    def build_nn(self):\n",
    "        #add the input and output layer here; you can use either tensorflow or pytorch\n",
    "        self.model = Sequential()\n",
    "        MAX_LENGTH = 60\n",
    "        self.model.add(InputLayer(input_shape=(MAX_LENGTH, )))\n",
    "        self.model.add(Dense(5,activation='softmax'))\n",
    "        self.model.compile(loss='categorical_crossentropy',\n",
    "              optimizer=Adam(0.001),\n",
    "              metrics=['accuracy'])\n",
    "        self.model.summary()\n",
    "    def train_nn(self,batch_size,epochs):\n",
    "        # write the training loop here; you can use either tensorflow or pytorch\n",
    "        # print validation accuracy\n",
    "        y_train = tf.keras.utils.to_categorical(self.ratings,num_classes=5)\n",
    "        self.history = self.model.fit(self.reviews, y_train, batch_size=batch_size, epochs=epochs, validation_split=0.2)\n",
    "        \n",
    "\n",
    "    def predict(self, reviews):\n",
    "        # return a list containing all the ratings predicted by the trained model\n",
    "        y_pred = self.model.predict(reviews)\n",
    "        pred1 = []\n",
    "        for i in range(len(y_pred)):\n",
    "            pred1.append(np.argmax(y_pred[i])+1)\n",
    "        return pred1"
   ]
  },
  {
   "cell_type": "code",
   "execution_count": 135,
   "metadata": {},
   "outputs": [],
   "source": [
    "train_rating_list = train['ratings'].to_list()\n",
    "Y = [str(i-1) for i in train_rating_list]"
   ]
  },
  {
   "cell_type": "code",
   "execution_count": 149,
   "metadata": {},
   "outputs": [
    {
     "name": "stdout",
     "output_type": "stream",
     "text": [
      "Model: \"sequential_15\"\n",
      "_________________________________________________________________\n",
      "Layer (type)                 Output Shape              Param #   \n",
      "=================================================================\n",
      "dense_15 (Dense)             (None, 5)                 305       \n",
      "=================================================================\n",
      "Total params: 305\n",
      "Trainable params: 305\n",
      "Non-trainable params: 0\n",
      "_________________________________________________________________\n",
      "Epoch 1/15\n",
      "625/625 [==============================] - 1s 2ms/step - loss: 865.8192 - accuracy: 0.4806 - val_loss: 178.5734 - val_accuracy: 0.4754\n",
      "Epoch 2/15\n",
      "625/625 [==============================] - 1s 1ms/step - loss: 50.6691 - accuracy: 0.4917 - val_loss: 22.9362 - val_accuracy: 0.5664\n",
      "Epoch 3/15\n",
      "625/625 [==============================] - 1s 1ms/step - loss: 13.4519 - accuracy: 0.4945 - val_loss: 17.8044 - val_accuracy: 0.5405\n",
      "Epoch 4/15\n",
      "625/625 [==============================] - 1s 2ms/step - loss: 11.8856 - accuracy: 0.4931 - val_loss: 12.6054 - val_accuracy: 0.4592\n",
      "Epoch 5/15\n",
      "625/625 [==============================] - 1s 1ms/step - loss: 10.7198 - accuracy: 0.4950 - val_loss: 10.1414 - val_accuracy: 0.2522\n",
      "Epoch 6/15\n",
      "625/625 [==============================] - 1s 1ms/step - loss: 9.7968 - accuracy: 0.4954 - val_loss: 11.6926 - val_accuracy: 0.4024\n",
      "Epoch 7/15\n",
      "625/625 [==============================] - 1s 2ms/step - loss: 9.9713 - accuracy: 0.4968 - val_loss: 11.1459 - val_accuracy: 0.1896\n",
      "Epoch 8/15\n",
      "625/625 [==============================] - 1s 2ms/step - loss: 9.8666 - accuracy: 0.4996 - val_loss: 12.9476 - val_accuracy: 0.3615\n",
      "Epoch 9/15\n",
      "625/625 [==============================] - 1s 1ms/step - loss: 10.4819 - accuracy: 0.4974 - val_loss: 8.2569 - val_accuracy: 0.5060\n",
      "Epoch 10/15\n",
      "625/625 [==============================] - 1s 2ms/step - loss: 10.1550 - accuracy: 0.4953 - val_loss: 13.3251 - val_accuracy: 0.2279\n",
      "Epoch 11/15\n",
      "625/625 [==============================] - 1s 1ms/step - loss: 9.7441 - accuracy: 0.4991 - val_loss: 6.5529 - val_accuracy: 0.4839\n",
      "Epoch 12/15\n",
      "625/625 [==============================] - 1s 2ms/step - loss: 10.4335 - accuracy: 0.4981 - val_loss: 10.1819 - val_accuracy: 0.5395\n",
      "Epoch 13/15\n",
      "625/625 [==============================] - 1s 2ms/step - loss: 9.9361 - accuracy: 0.4973 - val_loss: 13.8928 - val_accuracy: 0.3074\n",
      "Epoch 14/15\n",
      "625/625 [==============================] - 1s 2ms/step - loss: 10.5948 - accuracy: 0.4973 - val_loss: 8.8467 - val_accuracy: 0.3723\n",
      "Epoch 15/15\n",
      "625/625 [==============================] - 1s 2ms/step - loss: 9.4689 - accuracy: 0.4989 - val_loss: 15.9108 - val_accuracy: 0.1465\n"
     ]
    }
   ],
   "source": [
    "M = NeuralNet(preprocessed_reviews,Y)\n",
    "M.build_nn()\n",
    "M.train_nn(64,15)\n",
    "y_pred = M.predict(preprocessed_test_reviews)\n"
   ]
  },
  {
   "cell_type": "code",
   "execution_count": null,
   "metadata": {},
   "outputs": [],
   "source": []
  },
  {
   "cell_type": "code",
   "execution_count": null,
   "metadata": {},
   "outputs": [],
   "source": []
  },
  {
   "cell_type": "code",
   "execution_count": null,
   "metadata": {},
   "outputs": [],
   "source": []
  },
  {
   "cell_type": "code",
   "execution_count": 150,
   "metadata": {},
   "outputs": [],
   "source": [
    "from sklearn.metrics import accuracy_score,classification_report,confusion_matrix\n",
    "Accuracy = accuracy_score(test['ratings'],y_pred)\n",
    "Classification_report = classification_report(test['ratings'],y_pred,target_names=['1','2','3','4','5'])\n",
    "cm  = confusion_matrix(test['ratings'],y_pred)"
   ]
  },
  {
   "cell_type": "code",
   "execution_count": 146,
   "metadata": {},
   "outputs": [
    {
     "data": {
      "text/plain": [
       "0.5698"
      ]
     },
     "execution_count": 146,
     "metadata": {},
     "output_type": "execute_result"
    }
   ],
   "source": [
    "Accuracy"
   ]
  },
  {
   "cell_type": "code",
   "execution_count": 147,
   "metadata": {},
   "outputs": [
    {
     "name": "stdout",
     "output_type": "stream",
     "text": [
      "Classification Report : \n",
      "               precision    recall  f1-score   support\n",
      "\n",
      "           1       0.00      0.00      0.00      1271\n",
      "           2       0.09      0.01      0.02       630\n",
      "           3       0.00      0.00      0.00       911\n",
      "           4       0.16      0.01      0.01      1404\n",
      "           5       0.58      0.98      0.73      5784\n",
      "\n",
      "    accuracy                           0.57     10000\n",
      "   macro avg       0.17      0.20      0.15     10000\n",
      "weighted avg       0.36      0.57      0.42     10000\n",
      "\n"
     ]
    }
   ],
   "source": [
    "print(\"Classification Report : \\n\",Classification_report)"
   ]
  },
  {
   "cell_type": "code",
   "execution_count": 148,
   "metadata": {},
   "outputs": [
    {
     "data": {
      "text/plain": [
       "<AxesSubplot:>"
      ]
     },
     "execution_count": 148,
     "metadata": {},
     "output_type": "execute_result"
    },
    {
     "data": {
      "image/png": "[encoded data removed]",
      "text/plain": [
       "<Figure size 432x288 with 2 Axes>"
      ]
     },
     "metadata": {
      "needs_background": "light"
     },
     "output_type": "display_data"
    }
   ],
   "source": [
    "import seaborn as sns\n",
    "sns.heatmap(cm,cmap=\"Blues\",annot=True,fmt='.4g',xticklabels=['1','2','3','4','5'],yticklabels=['1','2','3','4','5'])\n"
   ]
  },
  {
   "cell_type": "code",
   "execution_count": 151,
   "metadata": {},
   "outputs": [],
   "source": [
    "tried_examples = [['I like it but dont think I would buy again.'], ['Nice looking cleaner but way smaller than 2 liters. Not as advertised.'],['Total waste of money, I used all 10 of these and got 0 results from it.']] \n",
    "  \n",
    "# Create the pandas DataFrame \n",
    "df = pd.DataFrame(tried_examples, columns = ['reviews']) "
   ]
  },
  {
   "cell_type": "code",
   "execution_count": 152,
   "metadata": {},
   "outputs": [
    {
     "data": {
      "text/html": [
       "<div>\n",
       "<style scoped>\n",
       "    .dataframe tbody tr th:only-of-type {\n",
       "        vertical-align: middle;\n",
       "    }\n",
       "\n",
       "    .dataframe tbody tr th {\n",
       "        vertical-align: top;\n",
       "    }\n",
       "\n",
       "    .dataframe thead th {\n",
       "        text-align: right;\n",
       "    }\n",
       "</style>\n",
       "<table border=\"1\" class=\"dataframe\">\n",
       "  <thead>\n",
       "    <tr style=\"text-align: right;\">\n",
       "      <th></th>\n",
       "      <th>reviews</th>\n",
       "    </tr>\n",
       "  </thead>\n",
       "  <tbody>\n",
       "    <tr>\n",
       "      <th>0</th>\n",
       "      <td>I like it but dont think I would buy again.</td>\n",
       "    </tr>\n",
       "    <tr>\n",
       "      <th>1</th>\n",
       "      <td>Nice looking cleaner but way smaller than 2 li...</td>\n",
       "    </tr>\n",
       "    <tr>\n",
       "      <th>2</th>\n",
       "      <td>Total waste of money, I used all 10 of these a...</td>\n",
       "    </tr>\n",
       "  </tbody>\n",
       "</table>\n",
       "</div>"
      ],
      "text/plain": [
       "                                             reviews\n",
       "0        I like it but dont think I would buy again.\n",
       "1  Nice looking cleaner but way smaller than 2 li...\n",
       "2  Total waste of money, I used all 10 of these a..."
      ]
     },
     "execution_count": 152,
     "metadata": {},
     "output_type": "execute_result"
    }
   ],
   "source": [
    "df"
   ]
  },
  {
   "cell_type": "code",
   "execution_count": 153,
   "metadata": {},
   "outputs": [
    {
     "data": {
      "text/plain": [
       "[1, 3, 3]"
      ]
     },
     "execution_count": 153,
     "metadata": {},
     "output_type": "execute_result"
    }
   ],
   "source": [
    "pre_tried_examples = preprocess_data(df,word_to_index)\n",
    "M.predict(pre_tried_examples)"
   ]
  },
  {
   "cell_type": "code",
   "execution_count": null,
   "metadata": {},
   "outputs": [],
   "source": []
  },
  {
   "cell_type": "code",
   "execution_count": null,
   "metadata": {},
   "outputs": [],
   "source": []
  },
  {
   "cell_type": "code",
   "execution_count": null,
   "metadata": {},
   "outputs": [],
   "source": []
  },
  {
   "cell_type": "code",
   "execution_count": null,
   "metadata": {},
   "outputs": [],
   "source": []
  }
 ],
 "metadata": {
  "kernelspec": {
   "display_name": "Python 3",
   "language": "python",
   "name": "python3"
  },
  "language_info": {
   "codemirror_mode": {
    "name": "ipython",
    "version": 3
   },
   "file_extension": ".py",
   "mimetype": "text/x-python",
   "name": "python",
   "nbconvert_exporter": "python",
   "pygments_lexer": "ipython3",
   "version": "3.8.5"
  }
 },
 "nbformat": 4,
 "nbformat_minor": 4
}

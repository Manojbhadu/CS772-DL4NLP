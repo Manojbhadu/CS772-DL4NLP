{
  "nbformat": 4,
  "nbformat_minor": 0,
  "metadata": {
    "colab": {
      "name": "Pretrained_lstm.ipynb",
      "provenance": [],
      "collapsed_sections": []
    },
    "kernelspec": {
      "name": "python3",
      "display_name": "Python 3"
    },
    "language_info": {
      "name": "python"
    }
  },
  "cells": [
    {
      "cell_type": "code",
      "metadata": {
        "id": "I12c8m4J7VtG"
      },
      "source": [
        "import pandas as pd\n",
        "import numpy as np\n",
        "import tensorflow as tf\n",
        "import nltk\n",
        "from nltk.corpus import stopwords\n",
        "from keras.preprocessing.sequence import pad_sequences\n",
        "import re\n",
        "from keras.preprocessing.text import Tokenizer\n",
        "from keras.models import Sequential\n",
        "from keras.layers import Dense, InputLayer, Activation, Flatten, Embedding, LSTM,GRU\n",
        "from keras.initializers import Constant\n",
        "from keras.optimizers import Adam\n",
        "from sklearn.metrics import accuracy_score,classification_report,confusion_matrix\n",
        "import seaborn as sns\n",
        "import gensim\n",
        "import gensim.downloader\n",
        "from nltk.corpus import brown\n",
        "import string"
      ],
      "execution_count": 79,
      "outputs": []
    },
    {
      "cell_type": "code",
      "metadata": {
        "colab": {
          "base_uri": "https://localhost:8080/"
        },
        "id": "or_xnXj47bSk",
        "outputId": "87466f26-a224-4d29-c1ef-5c59e9537d1e"
      },
      "source": [
        "import nltk\n",
        "nltk.download('brown')\n",
        "import nltk\n",
        "nltk.download('punkt')"
      ],
      "execution_count": 2,
      "outputs": [
        {
          "output_type": "stream",
          "text": [
            "[nltk_data] Downloading package brown to /root/nltk_data...\n",
            "[nltk_data]   Unzipping corpora/brown.zip.\n",
            "[nltk_data] Downloading package punkt to /root/nltk_data...\n",
            "[nltk_data]   Unzipping tokenizers/punkt.zip.\n"
          ],
          "name": "stdout"
        },
        {
          "output_type": "execute_result",
          "data": {
            "text/plain": [
              "True"
            ]
          },
          "metadata": {
            "tags": []
          },
          "execution_count": 2
        }
      ]
    },
    {
      "cell_type": "code",
      "metadata": {
        "id": "RA88Qin47mim"
      },
      "source": [
        "sents = brown.sents()\n",
        "cleaned_sents = []\n",
        "for i in sents:\n",
        "    sentence = []\n",
        "    for j in i :\n",
        "        if j not in string.punctuation :\n",
        "            sentence.append(j.lower())\n",
        "    cleaned_sents.append(sentence)\n",
        "\n"
      ],
      "execution_count": 3,
      "outputs": []
    },
    {
      "cell_type": "code",
      "metadata": {
        "id": "dNKsgAZw7pBv"
      },
      "source": [
        "model = gensim.models.Word2Vec(cleaned_sents,size=50,window=7,min_count=1)"
      ],
      "execution_count": 4,
      "outputs": []
    },
    {
      "cell_type": "code",
      "metadata": {
        "id": "jii8drzu7t0C"
      },
      "source": [
        "train = pd.read_csv(\"train.csv\")\n",
        "test = pd.read_csv(\"test.csv\")  "
      ],
      "execution_count": 5,
      "outputs": []
    },
    {
      "cell_type": "code",
      "metadata": {
        "id": "3LEkE2gW79M3"
      },
      "source": [
        "def convert_to_lower(text):\n",
        "    # return the reviews after convering then to lowercase\n",
        "    lower_text = text.copy()\n",
        "    for i in range(len(text)):\n",
        "        lower_text[i] = text[i].lower()\n",
        "    return lower_text"
      ],
      "execution_count": 6,
      "outputs": []
    },
    {
      "cell_type": "code",
      "metadata": {
        "id": "vCoZIT5D8LNW"
      },
      "source": [
        "def remove_punctuation(text):\n",
        "    #stop_words = set(stopwords.words('english'))\n",
        "    without_punctuation_text  = text.copy()\n",
        "    for i in range(len(text)):\n",
        "        without_punctuation_text[i] = [w for w in text[i] if w.isalpha()]\n",
        "    return without_punctuation_text"
      ],
      "execution_count": 20,
      "outputs": []
    },
    {
      "cell_type": "code",
      "metadata": {
        "id": "79MyWmLA8L5e"
      },
      "source": [
        "def perform_tokenization(text):\n",
        "    tokenize_text = text.copy()\n",
        "    for i in range(len(text)):\n",
        "        tokenize_text[i] = nltk.word_tokenize(text[i])\n",
        "    return tokenize_text"
      ],
      "execution_count": 23,
      "outputs": []
    },
    {
      "cell_type": "code",
      "metadata": {
        "id": "cjRYpCYE8OIB"
      },
      "source": [
        "def get_dicts(train):\n",
        "    reviews = train[\"reviews\"]\n",
        "    reviews = convert_to_lower(reviews)\n",
        "    reviews = perform_tokenization(reviews)\n",
        "    reviews = remove_punctuation(reviews)\n",
        "\n",
        "    # tokenizer = Tokenizer()\n",
        "    # tokenizer.fit_on_texts(train['re'])\n",
        "    # words_to_index = tokenizer.word_index\n",
        "    return reviews"
      ],
      "execution_count": 24,
      "outputs": []
    },
    {
      "cell_type": "code",
      "metadata": {
        "id": "_pZ_Ql8j8okK"
      },
      "source": [
        "review = get_dicts(train)"
      ],
      "execution_count": 41,
      "outputs": []
    },
    {
      "cell_type": "code",
      "metadata": {
        "id": "jNohIEB68uaV"
      },
      "source": [
        "review = review.to_list()\n"
      ],
      "execution_count": 43,
      "outputs": []
    },
    {
      "cell_type": "code",
      "metadata": {
        "id": "C6bGccvzC5jj"
      },
      "source": [
        "max_length=50\n",
        "Embedding_dimension=50"
      ],
      "execution_count": 61,
      "outputs": []
    },
    {
      "cell_type": "code",
      "metadata": {
        "id": "yUZXOSWx9JlM"
      },
      "source": [
        "\n",
        "\n",
        "tokenizer_obj = Tokenizer()\n",
        "\n",
        "tokenizer_obj.fit_on_texts(review) \n",
        "sequences = tokenizer_obj.texts_to_sequences(review)\n",
        "\n",
        "\n",
        "word_index = tokenizer_obj.word_index\n",
        "\n",
        "\n",
        "review_pad = pad_sequences(sequences, maxlen=max_length) \n"
      ],
      "execution_count": 60,
      "outputs": []
    },
    {
      "cell_type": "code",
      "metadata": {
        "id": "KnRhFg329POP"
      },
      "source": [
        "num_words = len(word_index)+1\n",
        "\n",
        "embedding_matrix = np.zeros ((num_words, Embedding_dimension))\n",
        "\n",
        "\n",
        "\n",
        "for word, i in word_index.items():\n",
        "  try:\n",
        "    embedding_vector = model.wv[word]\n",
        "    embedding_matrix[i] = embedding_vector\n",
        "  except:\n",
        "    continue\n",
        "  "
      ],
      "execution_count": 64,
      "outputs": []
    },
    {
      "cell_type": "code",
      "metadata": {
        "id": "Vr1_dmnoF9Pl"
      },
      "source": [
        "model = Sequential()\n",
        "\n",
        "embedding_layer = Embedding(num_words,Embedding_dimension,embeddings_initializer=Constant(embedding_matrix), input_length = max_length, trainable=False)\n",
        "\n",
        "model.add(embedding_layer)\n",
        "\n",
        "model.add(LSTM(units=32, dropout=0.2, recurrent_dropout=0.2))\n",
        "\n",
        "model.add (Dense (5, activation='softmax'))\n",
        "\n",
        "model.compile(loss='categorical_crossentropy', optimizer='adam', metrics=['accuracy'])"
      ],
      "execution_count": 80,
      "outputs": []
    },
    {
      "cell_type": "code",
      "metadata": {
        "colab": {
          "base_uri": "https://localhost:8080/"
        },
        "id": "wyoLWrJnGMzS",
        "outputId": "909f4669-fa96-4474-e489-ebc312bc3fdf"
      },
      "source": [
        "model.summary()"
      ],
      "execution_count": 81,
      "outputs": [
        {
          "output_type": "stream",
          "text": [
            "Model: \"sequential_1\"\n",
            "_________________________________________________________________\n",
            "Layer (type)                 Output Shape              Param #   \n",
            "=================================================================\n",
            "embedding (Embedding)        (None, 50, 50)            797800    \n",
            "_________________________________________________________________\n",
            "lstm (LSTM)                  (None, 32)                10624     \n",
            "_________________________________________________________________\n",
            "dense (Dense)                (None, 5)                 165       \n",
            "=================================================================\n",
            "Total params: 808,589\n",
            "Trainable params: 10,789\n",
            "Non-trainable params: 797,800\n",
            "_________________________________________________________________\n"
          ],
          "name": "stdout"
        }
      ]
    },
    {
      "cell_type": "code",
      "metadata": {
        "id": "7V6q9e3MJB8q"
      },
      "source": [
        "train_rating_list = train['ratings'].to_list()\n",
        "Y = [str(i-1) for i in train_rating_list]"
      ],
      "execution_count": 82,
      "outputs": []
    },
    {
      "cell_type": "code",
      "metadata": {
        "id": "EsUmxfLdLfk2"
      },
      "source": [
        "y_train = tf.keras.utils.to_categorical(Y,num_classes=5)"
      ],
      "execution_count": 89,
      "outputs": []
    },
    {
      "cell_type": "code",
      "metadata": {
        "colab": {
          "base_uri": "https://localhost:8080/"
        },
        "id": "n5D6WxvcLtAr",
        "outputId": "3ae3b44b-30de-453d-92cd-21820f71a9f4"
      },
      "source": [
        "model.fit(review_pad, y_train, batch_size=64, epochs=15, validation_split=0.2)"
      ],
      "execution_count": 91,
      "outputs": [
        {
          "output_type": "stream",
          "text": [
            "Epoch 1/15\n",
            "625/625 [==============================] - 30s 45ms/step - loss: 1.0346 - accuracy: 0.6791 - val_loss: 1.0727 - val_accuracy: 0.5998\n",
            "Epoch 2/15\n",
            "625/625 [==============================] - 28s 45ms/step - loss: 0.8987 - accuracy: 0.6921 - val_loss: 1.0808 - val_accuracy: 0.6035\n",
            "Epoch 3/15\n",
            "625/625 [==============================] - 28s 45ms/step - loss: 0.8561 - accuracy: 0.7018 - val_loss: 1.0474 - val_accuracy: 0.6161\n",
            "Epoch 4/15\n",
            "625/625 [==============================] - 28s 45ms/step - loss: 0.8504 - accuracy: 0.7021 - val_loss: 0.9938 - val_accuracy: 0.6279\n",
            "Epoch 5/15\n",
            "625/625 [==============================] - 29s 46ms/step - loss: 0.8380 - accuracy: 0.7049 - val_loss: 0.9919 - val_accuracy: 0.6340\n",
            "Epoch 6/15\n",
            "625/625 [==============================] - 28s 45ms/step - loss: 0.8327 - accuracy: 0.7037 - val_loss: 1.0035 - val_accuracy: 0.6287\n",
            "Epoch 7/15\n",
            "625/625 [==============================] - 28s 45ms/step - loss: 0.8207 - accuracy: 0.7127 - val_loss: 0.9753 - val_accuracy: 0.6385\n",
            "Epoch 8/15\n",
            "625/625 [==============================] - 29s 46ms/step - loss: 0.8059 - accuracy: 0.7126 - val_loss: 0.9491 - val_accuracy: 0.6437\n",
            "Epoch 9/15\n",
            "625/625 [==============================] - 28s 46ms/step - loss: 0.8013 - accuracy: 0.7151 - val_loss: 0.9580 - val_accuracy: 0.6415\n",
            "Epoch 10/15\n",
            "625/625 [==============================] - 28s 45ms/step - loss: 0.7955 - accuracy: 0.7172 - val_loss: 0.9632 - val_accuracy: 0.6387\n",
            "Epoch 11/15\n",
            "625/625 [==============================] - 28s 45ms/step - loss: 0.8012 - accuracy: 0.7138 - val_loss: 0.9612 - val_accuracy: 0.6424\n",
            "Epoch 12/15\n",
            "625/625 [==============================] - 28s 45ms/step - loss: 0.7952 - accuracy: 0.7146 - val_loss: 0.9785 - val_accuracy: 0.6371\n",
            "Epoch 13/15\n",
            "625/625 [==============================] - 28s 45ms/step - loss: 0.7836 - accuracy: 0.7219 - val_loss: 0.9427 - val_accuracy: 0.6466\n",
            "Epoch 14/15\n",
            "625/625 [==============================] - 28s 44ms/step - loss: 0.7876 - accuracy: 0.7180 - val_loss: 0.9661 - val_accuracy: 0.6430\n",
            "Epoch 15/15\n",
            "625/625 [==============================] - 28s 45ms/step - loss: 0.7885 - accuracy: 0.7168 - val_loss: 0.9364 - val_accuracy: 0.6484\n"
          ],
          "name": "stdout"
        },
        {
          "output_type": "execute_result",
          "data": {
            "text/plain": [
              "<tensorflow.python.keras.callbacks.History at 0x7f572a8cf090>"
            ]
          },
          "metadata": {
            "tags": []
          },
          "execution_count": 91
        }
      ]
    },
    {
      "cell_type": "code",
      "metadata": {
        "id": "UcHyo1gBMKXB"
      },
      "source": [
        "def preprocess_test(test_reviews):\n",
        "  reviews = test_reviews\n",
        "  reviews = convert_to_lower(reviews)\n",
        "  reviews = perform_tokenization(reviews)\n",
        "  reviews = remove_punctuation(reviews)\n",
        "\n",
        "  # tokenizer = Tokenizer()\n",
        "  # tokenizer.fit_on_texts(train['re'])\n",
        "  # words_to_index = tokenizer.word_index\n",
        "\n",
        "  \n",
        "  return reviews"
      ],
      "execution_count": 92,
      "outputs": []
    },
    {
      "cell_type": "code",
      "metadata": {
        "id": "WZk3DHLSO6yB"
      },
      "source": [
        "test_review = test['reviews']\n",
        "test_review = test_review.to_list()"
      ],
      "execution_count": 93,
      "outputs": []
    },
    {
      "cell_type": "code",
      "metadata": {
        "id": "egDw41FpOgp0"
      },
      "source": [
        "sequences_test = tokenizer_obj.texts_to_sequences(test_review)\n",
        "test_review_pad = pad_sequences(sequences_test, maxlen=max_length) \n"
      ],
      "execution_count": 94,
      "outputs": []
    },
    {
      "cell_type": "code",
      "metadata": {
        "id": "opPWqbT2O5-Y"
      },
      "source": [
        "def predict(model, test_reviews):\n",
        "        # return a list containing all the ratings predicted by the trained model\n",
        "        y_pred = model.predict(test_reviews)\n",
        "        pred1 = []\n",
        "        for i in range(len(y_pred)):\n",
        "            pred1.append(np.argmax(y_pred[i])+1)\n",
        "        return pred1"
      ],
      "execution_count": 95,
      "outputs": []
    },
    {
      "cell_type": "code",
      "metadata": {
        "id": "hZDhiUxkO0xD"
      },
      "source": [
        "y_pred = predict(model, test_review_pad)"
      ],
      "execution_count": 96,
      "outputs": []
    },
    {
      "cell_type": "code",
      "metadata": {
        "id": "6z5HEsBjPbHF"
      },
      "source": [
        "def report(y_pred,test,Model):\n",
        "    Classification_report = classification_report(test['ratings'],y_pred,target_names=['1','2','3','4','5'])\n",
        "    cm  = confusion_matrix(test['ratings'],y_pred)\n",
        "    print(\"Classification Report : \\n\",Classification_report)\n",
        "    print(\"Heat Map :\\n\")\n",
        "    sns.heatmap(cm,cmap=\"Blues\",annot=True,fmt='.4g',xticklabels=['1','2','3','4','5'],yticklabels=['1','2','3','4','5'])"
      ],
      "execution_count": 98,
      "outputs": []
    },
    {
      "cell_type": "code",
      "metadata": {
        "colab": {
          "base_uri": "https://localhost:8080/",
          "height": 520
        },
        "id": "Qb73ktrKPdWB",
        "outputId": "e164d3d1-dd51-4998-a805-4b9681bf4179"
      },
      "source": [
        "report(y_pred, test, model)"
      ],
      "execution_count": 100,
      "outputs": [
        {
          "output_type": "stream",
          "text": [
            "Classification Report : \n",
            "               precision    recall  f1-score   support\n",
            "\n",
            "           1       0.55      0.40      0.46      1271\n",
            "           2       0.25      0.03      0.06       630\n",
            "           3       0.34      0.23      0.27       911\n",
            "           4       0.39      0.13      0.19      1404\n",
            "           5       0.70      0.95      0.80      5784\n",
            "\n",
            "    accuracy                           0.64     10000\n",
            "   macro avg       0.44      0.35      0.36     10000\n",
            "weighted avg       0.57      0.64      0.58     10000\n",
            "\n",
            "Heat Map :\n",
            "\n"
          ],
          "name": "stdout"
        },
        {
          "output_type": "display_data",
          "data": {
            "image/png": "[encoded data removed]",
            "text/plain": [
              "<Figure size 432x288 with 2 Axes>"
            ]
          },
          "metadata": {
            "tags": [],
            "needs_background": "light"
          }
        }
      ]
    },
    {
      "cell_type": "code",
      "metadata": {
        "id": "xCdfsVcCPsgR"
      },
      "source": [
        ""
      ],
      "execution_count": null,
      "outputs": []
    }
  ]
}
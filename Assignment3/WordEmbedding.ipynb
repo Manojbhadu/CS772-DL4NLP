{
 "cells": [
  {
   "cell_type": "code",
   "execution_count": 1,
   "metadata": {
    "id": "I12c8m4J7VtG"
   },
   "outputs": [],
   "source": [
    "import pandas as pd\n",
    "import numpy as np\n",
    "import tensorflow as tf\n",
    "import nltk\n",
    "from nltk.corpus import stopwords\n",
    "from keras.preprocessing.sequence import pad_sequences\n",
    "import re\n",
    "from keras.preprocessing.text import Tokenizer\n",
    "from keras.models import Sequential\n",
    "from keras.layers import Dense, InputLayer, Activation, Flatten, Embedding, LSTM,GRU, Bidirectional, SimpleRNN\n",
    "from keras.initializers import Constant\n",
    "from keras.optimizers import Adam\n",
    "from sklearn.metrics import accuracy_score,classification_report,confusion_matrix\n",
    "import seaborn as sns\n",
    "import gensim\n",
    "import gensim.downloader\n",
    "from nltk.corpus import brown\n",
    "import string"
   ]
  },
  {
   "cell_type": "code",
   "execution_count": 2,
   "metadata": {
    "colab": {
     "base_uri": "https://localhost:8080/"
    },
    "id": "or_xnXj47bSk",
    "outputId": "87466f26-a224-4d29-c1ef-5c59e9537d1e"
   },
   "outputs": [
    {
     "name": "stderr",
     "output_type": "stream",
     "text": [
      "[nltk_data] Downloading package brown to /home/piyush/nltk_data...\n",
      "[nltk_data]   Package brown is already up-to-date!\n",
      "[nltk_data] Downloading package punkt to /home/piyush/nltk_data...\n",
      "[nltk_data]   Package punkt is already up-to-date!\n"
     ]
    },
    {
     "data": {
      "text/plain": [
       "True"
      ]
     },
     "execution_count": 2,
     "metadata": {},
     "output_type": "execute_result"
    }
   ],
   "source": [
    "import nltk\n",
    "nltk.download('brown')\n",
    "nltk.download('punkt')"
   ]
  },
  {
   "cell_type": "code",
   "execution_count": 3,
   "metadata": {
    "id": "RA88Qin47mim"
   },
   "outputs": [],
   "source": [
    "sents = brown.sents()\n",
    "cleaned_sents = []\n",
    "for i in sents:\n",
    "    sentence = []\n",
    "    for j in i :\n",
    "        if j not in string.punctuation :\n",
    "            sentence.append(j.lower())\n",
    "    cleaned_sents.append(sentence)"
   ]
  },
  {
   "cell_type": "code",
   "execution_count": 4,
   "metadata": {
    "id": "dNKsgAZw7pBv"
   },
   "outputs": [],
   "source": [
    "model = gensim.models.Word2Vec(cleaned_sents,size=50,window=7,min_count=1)"
   ]
  },
  {
   "cell_type": "code",
   "execution_count": 5,
   "metadata": {
    "id": "jii8drzu7t0C"
   },
   "outputs": [],
   "source": [
    "train = pd.read_csv(\"./train.csv\")\n",
    "test = pd.read_csv(\"./test.csv\")  "
   ]
  },
  {
   "cell_type": "code",
   "execution_count": 6,
   "metadata": {
    "id": "3LEkE2gW79M3"
   },
   "outputs": [],
   "source": [
    "def convert_to_lower(text):\n",
    "    # return the reviews after convering then to lowercase\n",
    "    lower_text = text.copy()\n",
    "    for i in range(len(text)):\n",
    "        lower_text[i] = text[i].lower()\n",
    "    return lower_text"
   ]
  },
  {
   "cell_type": "code",
   "execution_count": 7,
   "metadata": {
    "id": "vCoZIT5D8LNW"
   },
   "outputs": [],
   "source": [
    "def remove_punctuation(text):\n",
    "    #stop_words = set(stopwords.words('english'))\n",
    "    without_punctuation_text  = text.copy()\n",
    "    for i in range(len(text)):\n",
    "        without_punctuation_text[i] = [w for w in text[i] if w.isalpha()]\n",
    "    return without_punctuation_text"
   ]
  },
  {
   "cell_type": "code",
   "execution_count": 8,
   "metadata": {
    "id": "79MyWmLA8L5e"
   },
   "outputs": [],
   "source": [
    "def perform_tokenization(text):\n",
    "    tokenize_text = text.copy()\n",
    "    for i in range(len(text)):\n",
    "        tokenize_text[i] = nltk.word_tokenize(text[i])\n",
    "    return tokenize_text"
   ]
  },
  {
   "cell_type": "code",
   "execution_count": 9,
   "metadata": {
    "id": "cjRYpCYE8OIB"
   },
   "outputs": [],
   "source": [
    "def get_dicts(train):\n",
    "    reviews = train[\"reviews\"]\n",
    "    reviews = convert_to_lower(reviews)\n",
    "    reviews = perform_tokenization(reviews)\n",
    "    reviews = remove_punctuation(reviews)\n",
    "    return reviews"
   ]
  },
  {
   "cell_type": "code",
   "execution_count": 10,
   "metadata": {
    "id": "_pZ_Ql8j8okK"
   },
   "outputs": [],
   "source": [
    "review = get_dicts(train)"
   ]
  },
  {
   "cell_type": "code",
   "execution_count": 11,
   "metadata": {
    "id": "jNohIEB68uaV"
   },
   "outputs": [],
   "source": [
    "review = review.to_list()\n"
   ]
  },
  {
   "cell_type": "code",
   "execution_count": 12,
   "metadata": {
    "id": "C6bGccvzC5jj"
   },
   "outputs": [],
   "source": [
    "max_length=50\n",
    "Embedding_dimension=50"
   ]
  },
  {
   "cell_type": "code",
   "execution_count": 13,
   "metadata": {
    "id": "yUZXOSWx9JlM"
   },
   "outputs": [],
   "source": [
    "tokenizer_obj = Tokenizer()\n",
    "tokenizer_obj.fit_on_texts(review) \n",
    "sequences = tokenizer_obj.texts_to_sequences(review)\n",
    "word_index = tokenizer_obj.word_index\n",
    "review_pad = pad_sequences(sequences, maxlen=max_length) "
   ]
  },
  {
   "cell_type": "code",
   "execution_count": 14,
   "metadata": {
    "id": "KnRhFg329POP"
   },
   "outputs": [],
   "source": [
    "num_words = len(word_index)+1\n",
    "embedding_matrix = np.zeros ((num_words, Embedding_dimension))\n",
    "for word, i in word_index.items():\n",
    "  try:\n",
    "    embedding_vector = model.wv[word]\n",
    "    embedding_matrix[i] = embedding_vector\n",
    "  except:\n",
    "    continue "
   ]
  },
  {
   "cell_type": "code",
   "execution_count": 15,
   "metadata": {},
   "outputs": [],
   "source": [
    "train_rating_list = train['ratings'].to_list()\n",
    "Y = [str(i-1) for i in train_rating_list]\n",
    "y_train = tf.keras.utils.to_categorical(Y,num_classes=5)"
   ]
  },
  {
   "cell_type": "code",
   "execution_count": 16,
   "metadata": {},
   "outputs": [],
   "source": [
    "def preprocess_test(test_reviews):\n",
    "  reviews = test_reviews\n",
    "  reviews = convert_to_lower(reviews)\n",
    "  reviews = perform_tokenization(reviews)\n",
    "  reviews = remove_punctuation(reviews)\n",
    "  return reviews"
   ]
  },
  {
   "cell_type": "code",
   "execution_count": 17,
   "metadata": {},
   "outputs": [],
   "source": [
    "test_review = preprocess_test(test['reviews'])\n",
    "test_review = test_review.to_list()\n",
    "sequences_test = tokenizer_obj.texts_to_sequences(test_review)\n",
    "test_review_pad = pad_sequences(sequences_test, maxlen=max_length) "
   ]
  },
  {
   "cell_type": "code",
   "execution_count": 18,
   "metadata": {},
   "outputs": [],
   "source": [
    "y_test = test['ratings']"
   ]
  },
  {
   "cell_type": "code",
   "execution_count": 19,
   "metadata": {},
   "outputs": [],
   "source": [
    "def predict(model, test_reviews):\n",
    "        y_pred = model.predict(test_reviews)\n",
    "        pred1 = []\n",
    "        for i in range(len(y_pred)):\n",
    "            pred1.append(np.argmax(y_pred[i])+1)\n",
    "        return pred1"
   ]
  },
  {
   "cell_type": "code",
   "execution_count": 20,
   "metadata": {},
   "outputs": [],
   "source": [
    "def report(y_pred,y_test,Model,modelName):\n",
    "    print(\"For model = \",modelName)\n",
    "    Classification_report = classification_report(y_test,y_pred,target_names=['1','2','3','4','5'])\n",
    "    cm  = confusion_matrix(test['ratings'],y_pred)\n",
    "    print(\"Classification Report : \\n\",Classification_report)\n",
    "    print(\"Heat Map :\\n\")\n",
    "    sns.heatmap(cm,cmap=\"Blues\",annot=True,fmt='.4g',xticklabels=['1','2','3','4','5'],yticklabels=['1','2','3','4','5'])"
   ]
  },
  {
   "cell_type": "code",
   "execution_count": 21,
   "metadata": {
    "id": "Vr1_dmnoF9Pl"
   },
   "outputs": [],
   "source": [
    "def lstmModel():\n",
    "    model = Sequential()\n",
    "    embedding_layer = Embedding(num_words,Embedding_dimension,embeddings_initializer=Constant(embedding_matrix), input_length = max_length, trainable=False)\n",
    "    model.add(embedding_layer)\n",
    "    model.add(LSTM(units=64, dropout=0.2,recurrent_dropout=0.2))\n",
    "    model.add (Dense (64, activation='sigmoid'))\n",
    "    model.add (Dense (5, activation='softmax'))\n",
    "    model.compile(loss='categorical_crossentropy', optimizer='adam', metrics=['accuracy'])\n",
    "    return model"
   ]
  },
  {
   "cell_type": "code",
   "execution_count": 22,
   "metadata": {
    "colab": {
     "base_uri": "https://localhost:8080/"
    },
    "id": "wyoLWrJnGMzS",
    "outputId": "909f4669-fa96-4474-e489-ebc312bc3fdf",
    "scrolled": true
   },
   "outputs": [
    {
     "name": "stdout",
     "output_type": "stream",
     "text": [
      "Epoch 1/15\n",
      "586/586 [==============================] - 34s 58ms/step - loss: 0.9577 - accuracy: 0.6890 - val_loss: 1.0909 - val_accuracy: 0.6016\n",
      "Epoch 2/15\n",
      "586/586 [==============================] - 35s 59ms/step - loss: 0.8636 - accuracy: 0.7008 - val_loss: 1.0218 - val_accuracy: 0.6206\n",
      "Epoch 3/15\n",
      "586/586 [==============================] - 34s 58ms/step - loss: 0.8337 - accuracy: 0.7084 - val_loss: 1.0069 - val_accuracy: 0.6325\n",
      "Epoch 4/15\n",
      "586/586 [==============================] - 34s 58ms/step - loss: 0.8137 - accuracy: 0.7150 - val_loss: 0.9701 - val_accuracy: 0.6385\n",
      "Epoch 5/15\n",
      "586/586 [==============================] - 35s 59ms/step - loss: 0.8030 - accuracy: 0.7163 - val_loss: 0.9672 - val_accuracy: 0.6440\n",
      "Epoch 6/15\n",
      "586/586 [==============================] - 35s 60ms/step - loss: 0.7861 - accuracy: 0.7217 - val_loss: 0.9728 - val_accuracy: 0.6392\n",
      "Epoch 7/15\n",
      "586/586 [==============================] - 35s 59ms/step - loss: 0.7759 - accuracy: 0.7248 - val_loss: 0.9401 - val_accuracy: 0.6503\n",
      "Epoch 8/15\n",
      "586/586 [==============================] - 37s 63ms/step - loss: 0.7682 - accuracy: 0.7265 - val_loss: 0.9252 - val_accuracy: 0.6558\n",
      "Epoch 9/15\n",
      "586/586 [==============================] - 36s 62ms/step - loss: 0.7598 - accuracy: 0.7283 - val_loss: 0.9472 - val_accuracy: 0.6506\n",
      "Epoch 10/15\n",
      "586/586 [==============================] - 36s 62ms/step - loss: 0.7516 - accuracy: 0.7302 - val_loss: 0.9255 - val_accuracy: 0.6545\n",
      "Epoch 11/15\n",
      "586/586 [==============================] - 32s 54ms/step - loss: 0.7457 - accuracy: 0.7318 - val_loss: 0.9210 - val_accuracy: 0.6560\n",
      "Epoch 12/15\n",
      "586/586 [==============================] - 25s 43ms/step - loss: 0.7400 - accuracy: 0.7350 - val_loss: 0.9285 - val_accuracy: 0.6529\n",
      "Epoch 13/15\n",
      "586/586 [==============================] - 25s 43ms/step - loss: 0.7326 - accuracy: 0.7357 - val_loss: 0.9422 - val_accuracy: 0.6551\n",
      "Epoch 14/15\n",
      "586/586 [==============================] - 25s 42ms/step - loss: 0.7292 - accuracy: 0.7364 - val_loss: 0.9134 - val_accuracy: 0.6592\n",
      "Epoch 15/15\n",
      "586/586 [==============================] - 25s 42ms/step - loss: 0.7255 - accuracy: 0.7366 - val_loss: 0.9359 - val_accuracy: 0.6545\n"
     ]
    },
    {
     "data": {
      "text/plain": [
       "<tensorflow.python.keras.callbacks.History at 0x7f8d8e4ae4e0>"
      ]
     },
     "execution_count": 22,
     "metadata": {},
     "output_type": "execute_result"
    }
   ],
   "source": [
    "lstm  = lstmModel()\n",
    "lstm.fit(review_pad, y_train, batch_size=64, epochs=15, validation_split=0.25)\n"
   ]
  },
  {
   "cell_type": "code",
   "execution_count": 23,
   "metadata": {
    "id": "7V6q9e3MJB8q"
   },
   "outputs": [],
   "source": [
    "y_pred = predict(lstm, test_review_pad)"
   ]
  },
  {
   "cell_type": "code",
   "execution_count": 24,
   "metadata": {
    "id": "EsUmxfLdLfk2"
   },
   "outputs": [
    {
     "name": "stdout",
     "output_type": "stream",
     "text": [
      "For model =  LSTM Model\n",
      "Classification Report : \n",
      "               precision    recall  f1-score   support\n",
      "\n",
      "           1       0.58      0.46      0.51      1271\n",
      "           2       0.27      0.02      0.04       630\n",
      "           3       0.35      0.26      0.30       911\n",
      "           4       0.36      0.17      0.23      1404\n",
      "           5       0.72      0.95      0.82      5784\n",
      "\n",
      "    accuracy                           0.66     10000\n",
      "   macro avg       0.46      0.37      0.38     10000\n",
      "weighted avg       0.59      0.66      0.60     10000\n",
      "\n",
      "Heat Map :\n",
      "\n"
     ]
    },
    {
     "data": {
      "image/png": "[encoded data removed]",
      "text/plain": [
       "<Figure size 432x288 with 2 Axes>"
      ]
     },
     "metadata": {
      "needs_background": "light"
     },
     "output_type": "display_data"
    }
   ],
   "source": [
    "report(y_pred, y_test, lstm,\"LSTM Model\")"
   ]
  },
  {
   "cell_type": "code",
   "execution_count": 25,
   "metadata": {
    "colab": {
     "base_uri": "https://localhost:8080/"
    },
    "id": "n5D6WxvcLtAr",
    "outputId": "3ae3b44b-30de-453d-92cd-21820f71a9f4"
   },
   "outputs": [],
   "source": [
    "def bilstmModel():\n",
    "    model = Sequential()\n",
    "    embedding_layer = Embedding(num_words,Embedding_dimension,embeddings_initializer=Constant(embedding_matrix), input_length = max_length, trainable=False)\n",
    "    model.add(embedding_layer)\n",
    "    model.add(Bidirectional(LSTM(units=64, dropout=0.2,recurrent_dropout=0.2)))\n",
    "    model.add (Dense (64, activation='sigmoid'))\n",
    "    model.add (Dense (5, activation='softmax'))\n",
    "    model.compile(loss='categorical_crossentropy', optimizer='adam', metrics=['accuracy'])\n",
    "    return model"
   ]
  },
  {
   "cell_type": "code",
   "execution_count": 26,
   "metadata": {
    "id": "UcHyo1gBMKXB"
   },
   "outputs": [
    {
     "name": "stdout",
     "output_type": "stream",
     "text": [
      "Epoch 1/15\n",
      "586/586 [==============================] - 34s 59ms/step - loss: 0.9710 - accuracy: 0.6823 - val_loss: 1.0417 - val_accuracy: 0.6140\n",
      "Epoch 2/15\n",
      "586/586 [==============================] - 35s 59ms/step - loss: 0.8658 - accuracy: 0.7024 - val_loss: 1.0119 - val_accuracy: 0.6250\n",
      "Epoch 3/15\n",
      "586/586 [==============================] - 34s 59ms/step - loss: 0.8379 - accuracy: 0.7084 - val_loss: 0.9837 - val_accuracy: 0.6327\n",
      "Epoch 4/15\n",
      "586/586 [==============================] - 35s 60ms/step - loss: 0.8170 - accuracy: 0.7121 - val_loss: 0.9832 - val_accuracy: 0.6363\n",
      "Epoch 5/15\n",
      "586/586 [==============================] - 35s 59ms/step - loss: 0.8020 - accuracy: 0.7162 - val_loss: 0.9510 - val_accuracy: 0.6486\n",
      "Epoch 6/15\n",
      "586/586 [==============================] - 35s 60ms/step - loss: 0.7918 - accuracy: 0.7194 - val_loss: 0.9510 - val_accuracy: 0.6486\n",
      "Epoch 7/15\n",
      "586/586 [==============================] - 35s 60ms/step - loss: 0.7827 - accuracy: 0.7222 - val_loss: 0.9612 - val_accuracy: 0.6459\n",
      "Epoch 8/15\n",
      "586/586 [==============================] - 36s 61ms/step - loss: 0.7752 - accuracy: 0.7237 - val_loss: 0.9448 - val_accuracy: 0.6505\n",
      "Epoch 9/15\n",
      "586/586 [==============================] - 48s 81ms/step - loss: 0.7622 - accuracy: 0.7261 - val_loss: 0.9465 - val_accuracy: 0.6487\n",
      "Epoch 10/15\n",
      "586/586 [==============================] - 48s 82ms/step - loss: 0.7579 - accuracy: 0.7279 - val_loss: 0.9308 - val_accuracy: 0.6573\n",
      "Epoch 11/15\n",
      "586/586 [==============================] - 48s 82ms/step - loss: 0.7484 - accuracy: 0.7303 - val_loss: 0.9228 - val_accuracy: 0.6577\n",
      "Epoch 12/15\n",
      "586/586 [==============================] - 48s 82ms/step - loss: 0.7428 - accuracy: 0.7324 - val_loss: 0.9256 - val_accuracy: 0.6538\n",
      "Epoch 13/15\n",
      "586/586 [==============================] - 48s 81ms/step - loss: 0.7354 - accuracy: 0.7339 - val_loss: 0.9431 - val_accuracy: 0.6578\n",
      "Epoch 14/15\n",
      "586/586 [==============================] - 49s 83ms/step - loss: 0.7325 - accuracy: 0.7344 - val_loss: 0.9208 - val_accuracy: 0.6584\n",
      "Epoch 15/15\n",
      "586/586 [==============================] - 49s 83ms/step - loss: 0.7238 - accuracy: 0.7366 - val_loss: 0.9363 - val_accuracy: 0.6569\n"
     ]
    },
    {
     "data": {
      "text/plain": [
       "<tensorflow.python.keras.callbacks.History at 0x7f8d4424cfd0>"
      ]
     },
     "execution_count": 26,
     "metadata": {},
     "output_type": "execute_result"
    }
   ],
   "source": [
    "bilstm  = bilstmModel()\n",
    "bilstm.fit(review_pad, y_train, batch_size=64, epochs=15, validation_split=0.25)"
   ]
  },
  {
   "cell_type": "code",
   "execution_count": 27,
   "metadata": {
    "id": "WZk3DHLSO6yB"
   },
   "outputs": [
    {
     "name": "stdout",
     "output_type": "stream",
     "text": [
      "For model =  Bi-LSTM Model\n",
      "Classification Report : \n",
      "               precision    recall  f1-score   support\n",
      "\n",
      "           1       0.58      0.43      0.50      1271\n",
      "           2       0.25      0.03      0.05       630\n",
      "           3       0.32      0.35      0.33       911\n",
      "           4       0.41      0.12      0.19      1404\n",
      "           5       0.73      0.95      0.82      5784\n",
      "\n",
      "    accuracy                           0.66     10000\n",
      "   macro avg       0.46      0.38      0.38     10000\n",
      "weighted avg       0.60      0.66      0.60     10000\n",
      "\n",
      "Heat Map :\n",
      "\n"
     ]
    },
    {
     "data": {
      "image/png": "[encoded data removed]",
      "text/plain": [
       "<Figure size 432x288 with 2 Axes>"
      ]
     },
     "metadata": {
      "needs_background": "light"
     },
     "output_type": "display_data"
    }
   ],
   "source": [
    "y_pred = predict(bilstm, test_review_pad)\n",
    "report(y_pred, y_test, bilstm,\"Bi-LSTM Model\")"
   ]
  },
  {
   "cell_type": "code",
   "execution_count": 28,
   "metadata": {
    "id": "egDw41FpOgp0"
   },
   "outputs": [],
   "source": [
    "def gruModel():\n",
    "    model = Sequential()\n",
    "    embedding_layer = Embedding(num_words,Embedding_dimension,embeddings_initializer=Constant(embedding_matrix), input_length = max_length, trainable=False)\n",
    "    model.add(embedding_layer)\n",
    "    model.add(GRU(units= 64,dropout=0.2,recurrent_dropout=0.2))\n",
    "    model.add (Dense (64, activation='sigmoid'))\n",
    "    model.add (Dense (5, activation='softmax'))\n",
    "    model.compile(loss='categorical_crossentropy', optimizer='adam', metrics=['accuracy'])\n",
    "    return model\n"
   ]
  },
  {
   "cell_type": "code",
   "execution_count": 29,
   "metadata": {
    "id": "opPWqbT2O5-Y"
   },
   "outputs": [
    {
     "name": "stdout",
     "output_type": "stream",
     "text": [
      "Epoch 1/15\n",
      "586/586 [==============================] - 27s 46ms/step - loss: 1.0020 - accuracy: 0.6777 - val_loss: 1.1556 - val_accuracy: 0.5942\n",
      "Epoch 2/15\n",
      "586/586 [==============================] - 30s 51ms/step - loss: 0.8723 - accuracy: 0.7003 - val_loss: 1.0169 - val_accuracy: 0.6224\n",
      "Epoch 3/15\n",
      "586/586 [==============================] - 26s 45ms/step - loss: 0.8360 - accuracy: 0.7091 - val_loss: 0.9979 - val_accuracy: 0.6329\n",
      "Epoch 4/15\n",
      "586/586 [==============================] - 26s 45ms/step - loss: 0.8156 - accuracy: 0.7142 - val_loss: 0.9479 - val_accuracy: 0.6505\n",
      "Epoch 5/15\n",
      "586/586 [==============================] - 26s 45ms/step - loss: 0.7987 - accuracy: 0.7182 - val_loss: 0.9775 - val_accuracy: 0.6430\n",
      "Epoch 6/15\n",
      "586/586 [==============================] - 27s 45ms/step - loss: 0.7875 - accuracy: 0.7220 - val_loss: 0.9338 - val_accuracy: 0.6538\n",
      "Epoch 7/15\n",
      "586/586 [==============================] - 28s 47ms/step - loss: 0.7776 - accuracy: 0.7226 - val_loss: 0.9412 - val_accuracy: 0.6508\n",
      "Epoch 8/15\n",
      "586/586 [==============================] - 28s 47ms/step - loss: 0.7693 - accuracy: 0.7262 - val_loss: 0.9353 - val_accuracy: 0.6534\n",
      "Epoch 9/15\n",
      "586/586 [==============================] - 29s 49ms/step - loss: 0.7592 - accuracy: 0.7277 - val_loss: 0.9247 - val_accuracy: 0.6526\n",
      "Epoch 10/15\n",
      "586/586 [==============================] - 23s 39ms/step - loss: 0.7546 - accuracy: 0.7292 - val_loss: 0.9254 - val_accuracy: 0.6587\n",
      "Epoch 11/15\n",
      "586/586 [==============================] - 23s 39ms/step - loss: 0.7489 - accuracy: 0.7312 - val_loss: 0.9044 - val_accuracy: 0.6621\n",
      "Epoch 12/15\n",
      "586/586 [==============================] - 21s 37ms/step - loss: 0.7436 - accuracy: 0.7306 - val_loss: 0.9203 - val_accuracy: 0.6578\n",
      "Epoch 13/15\n",
      "586/586 [==============================] - 21s 36ms/step - loss: 0.7389 - accuracy: 0.7318 - val_loss: 0.9020 - val_accuracy: 0.6648\n",
      "Epoch 14/15\n",
      "586/586 [==============================] - 22s 37ms/step - loss: 0.7339 - accuracy: 0.7332 - val_loss: 0.9079 - val_accuracy: 0.6647\n",
      "Epoch 15/15\n",
      "586/586 [==============================] - 21s 37ms/step - loss: 0.7308 - accuracy: 0.7355 - val_loss: 0.9071 - val_accuracy: 0.6633\n"
     ]
    },
    {
     "data": {
      "text/plain": [
       "<tensorflow.python.keras.callbacks.History at 0x7f8d05dc9668>"
      ]
     },
     "execution_count": 29,
     "metadata": {},
     "output_type": "execute_result"
    }
   ],
   "source": [
    "gru  = gruModel()\n",
    "gru.fit(review_pad, y_train, batch_size=64, epochs=15, validation_split=0.25)"
   ]
  },
  {
   "cell_type": "code",
   "execution_count": 30,
   "metadata": {
    "id": "hZDhiUxkO0xD"
   },
   "outputs": [
    {
     "name": "stdout",
     "output_type": "stream",
     "text": [
      "For model =  GRU Model\n",
      "Classification Report : \n",
      "               precision    recall  f1-score   support\n",
      "\n",
      "           1       0.53      0.54      0.54      1271\n",
      "           2       0.22      0.03      0.05       630\n",
      "           3       0.35      0.22      0.27       911\n",
      "           4       0.36      0.23      0.28      1404\n",
      "           5       0.75      0.93      0.83      5784\n",
      "\n",
      "    accuracy                           0.66     10000\n",
      "   macro avg       0.44      0.39      0.39     10000\n",
      "weighted avg       0.60      0.66      0.61     10000\n",
      "\n",
      "Heat Map :\n",
      "\n"
     ]
    },
    {
     "data": {
      "image/png": "[encoded data removed]",
      "text/plain": [
       "<Figure size 432x288 with 2 Axes>"
      ]
     },
     "metadata": {
      "needs_background": "light"
     },
     "output_type": "display_data"
    }
   ],
   "source": [
    "y_pred = predict(gru, test_review_pad)\n",
    "report(y_pred, y_test, gru,\"GRU Model\")"
   ]
  },
  {
   "cell_type": "code",
   "execution_count": 31,
   "metadata": {
    "id": "6z5HEsBjPbHF"
   },
   "outputs": [],
   "source": [
    "def bigruModel():\n",
    "    model = Sequential()\n",
    "    embedding_layer = Embedding(num_words,Embedding_dimension,embeddings_initializer=Constant(embedding_matrix), input_length = max_length, trainable=False)\n",
    "    model.add(embedding_layer)\n",
    "    model.add(Bidirectional(GRU(units= 64,dropout=0.2,recurrent_dropout=0.2)))\n",
    "    model.add (Dense (64, activation='sigmoid'))\n",
    "    model.add (Dense (5, activation='softmax'))\n",
    "    model.compile(loss='categorical_crossentropy', optimizer='adam', metrics=['accuracy'])\n",
    "    return model"
   ]
  },
  {
   "cell_type": "code",
   "execution_count": 32,
   "metadata": {
    "colab": {
     "base_uri": "https://localhost:8080/",
     "height": 520
    },
    "id": "Qb73ktrKPdWB",
    "outputId": "e164d3d1-dd51-4998-a805-4b9681bf4179"
   },
   "outputs": [
    {
     "name": "stdout",
     "output_type": "stream",
     "text": [
      "Epoch 1/15\n",
      "586/586 [==============================] - 29s 49ms/step - loss: 0.9976 - accuracy: 0.6801 - val_loss: 1.0964 - val_accuracy: 0.5981\n",
      "Epoch 2/15\n",
      "586/586 [==============================] - 29s 50ms/step - loss: 0.8727 - accuracy: 0.7020 - val_loss: 1.0325 - val_accuracy: 0.6239\n",
      "Epoch 3/15\n",
      "586/586 [==============================] - 29s 49ms/step - loss: 0.8371 - accuracy: 0.7082 - val_loss: 1.0055 - val_accuracy: 0.6316\n",
      "Epoch 4/15\n",
      "586/586 [==============================] - 29s 49ms/step - loss: 0.8191 - accuracy: 0.7118 - val_loss: 1.0061 - val_accuracy: 0.6319\n",
      "Epoch 5/15\n",
      "586/586 [==============================] - 31s 53ms/step - loss: 0.8063 - accuracy: 0.7153 - val_loss: 0.9641 - val_accuracy: 0.6438\n",
      "Epoch 6/15\n",
      "586/586 [==============================] - 30s 51ms/step - loss: 0.7942 - accuracy: 0.7193 - val_loss: 0.9806 - val_accuracy: 0.6426\n",
      "Epoch 7/15\n",
      "586/586 [==============================] - 32s 55ms/step - loss: 0.7818 - accuracy: 0.7227 - val_loss: 0.9713 - val_accuracy: 0.6445\n",
      "Epoch 8/15\n",
      "586/586 [==============================] - 32s 54ms/step - loss: 0.7747 - accuracy: 0.7245 - val_loss: 0.9338 - val_accuracy: 0.6534\n",
      "Epoch 9/15\n",
      "586/586 [==============================] - 32s 54ms/step - loss: 0.7681 - accuracy: 0.7250 - val_loss: 0.9525 - val_accuracy: 0.6471\n",
      "Epoch 10/15\n",
      "586/586 [==============================] - 33s 56ms/step - loss: 0.7602 - accuracy: 0.7266 - val_loss: 0.9476 - val_accuracy: 0.6490\n",
      "Epoch 11/15\n",
      "586/586 [==============================] - 33s 56ms/step - loss: 0.7526 - accuracy: 0.7293 - val_loss: 0.9386 - val_accuracy: 0.6507\n",
      "Epoch 12/15\n",
      "586/586 [==============================] - 36s 62ms/step - loss: 0.7493 - accuracy: 0.7305 - val_loss: 0.9171 - val_accuracy: 0.6628\n",
      "Epoch 13/15\n",
      "586/586 [==============================] - 43s 74ms/step - loss: 0.7431 - accuracy: 0.7326 - val_loss: 0.9167 - val_accuracy: 0.6628\n",
      "Epoch 14/15\n",
      "586/586 [==============================] - 45s 77ms/step - loss: 0.7377 - accuracy: 0.7334 - val_loss: 0.9208 - val_accuracy: 0.6587\n",
      "Epoch 15/15\n",
      "586/586 [==============================] - 43s 74ms/step - loss: 0.7357 - accuracy: 0.7337 - val_loss: 0.9494 - val_accuracy: 0.6476\n"
     ]
    },
    {
     "data": {
      "text/plain": [
       "<tensorflow.python.keras.callbacks.History at 0x7f8d05fbaac8>"
      ]
     },
     "execution_count": 32,
     "metadata": {},
     "output_type": "execute_result"
    }
   ],
   "source": [
    "bigru  = bigruModel()\n",
    "bigru.fit(review_pad, y_train, batch_size=64, epochs=15, validation_split=0.25)"
   ]
  },
  {
   "cell_type": "code",
   "execution_count": 33,
   "metadata": {
    "id": "xCdfsVcCPsgR"
   },
   "outputs": [
    {
     "name": "stdout",
     "output_type": "stream",
     "text": [
      "For model =  Bidirectional GRU Model\n",
      "Classification Report : \n",
      "               precision    recall  f1-score   support\n",
      "\n",
      "           1       0.62      0.37      0.47      1271\n",
      "           2       0.24      0.06      0.10       630\n",
      "           3       0.32      0.26      0.29       911\n",
      "           4       0.38      0.19      0.25      1404\n",
      "           5       0.72      0.95      0.82      5784\n",
      "\n",
      "    accuracy                           0.65     10000\n",
      "   macro avg       0.46      0.37      0.38     10000\n",
      "weighted avg       0.59      0.65      0.60     10000\n",
      "\n",
      "Heat Map :\n",
      "\n"
     ]
    },
    {
     "data": {
      "image/png": "[encoded data removed]",
      "text/plain": [
       "<Figure size 432x288 with 2 Axes>"
      ]
     },
     "metadata": {
      "needs_background": "light"
     },
     "output_type": "display_data"
    }
   ],
   "source": [
    "y_pred = predict(bigru, test_review_pad)\n",
    "report(y_pred, y_test, bigru,\"Bidirectional GRU Model\")"
   ]
  },
  {
   "cell_type": "code",
   "execution_count": 34,
   "metadata": {},
   "outputs": [],
   "source": [
    "def rnnModel():\n",
    "    model = Sequential()\n",
    "    embedding_layer = Embedding(num_words,Embedding_dimension,embeddings_initializer=Constant(embedding_matrix), input_length = max_length, trainable=False)\n",
    "    model.add(embedding_layer)\n",
    "    model.add(SimpleRNN(units= 64,dropout=0.2,recurrent_dropout=0.2))\n",
    "    model.add (Dense (64, activation='sigmoid'))\n",
    "    model.add (Dense (5, activation='softmax'))\n",
    "    model.compile(loss='categorical_crossentropy', optimizer='adam', metrics=['accuracy'])\n",
    "    return model"
   ]
  },
  {
   "cell_type": "code",
   "execution_count": 36,
   "metadata": {},
   "outputs": [
    {
     "name": "stdout",
     "output_type": "stream",
     "text": [
      "Epoch 1/15\n",
      "586/586 [==============================] - 11s 18ms/step - loss: 1.0077 - accuracy: 0.6907 - val_loss: 1.1952 - val_accuracy: 0.5833\n",
      "Epoch 2/15\n",
      "586/586 [==============================] - 10s 18ms/step - loss: 0.9834 - accuracy: 0.6907 - val_loss: 1.2787 - val_accuracy: 0.5833\n",
      "Epoch 3/15\n",
      "586/586 [==============================] - 11s 19ms/step - loss: 0.9653 - accuracy: 0.6908 - val_loss: 1.2456 - val_accuracy: 0.5833\n",
      "Epoch 4/15\n",
      "586/586 [==============================] - 12s 21ms/step - loss: 0.9586 - accuracy: 0.6906 - val_loss: 1.1856 - val_accuracy: 0.5833\n",
      "Epoch 5/15\n",
      "586/586 [==============================] - 11s 18ms/step - loss: 0.9754 - accuracy: 0.6905 - val_loss: 1.2139 - val_accuracy: 0.5833\n",
      "Epoch 6/15\n",
      "586/586 [==============================] - 10s 18ms/step - loss: 0.9740 - accuracy: 0.6909 - val_loss: 1.2576 - val_accuracy: 0.5853\n",
      "Epoch 7/15\n",
      "586/586 [==============================] - 11s 18ms/step - loss: 0.9608 - accuracy: 0.6907 - val_loss: 1.1869 - val_accuracy: 0.5833\n",
      "Epoch 8/15\n",
      "586/586 [==============================] - 11s 18ms/step - loss: 0.9411 - accuracy: 0.6909 - val_loss: 1.1814 - val_accuracy: 0.5862\n",
      "Epoch 9/15\n",
      "586/586 [==============================] - 11s 19ms/step - loss: 0.9478 - accuracy: 0.6907 - val_loss: 1.1731 - val_accuracy: 0.5880\n",
      "Epoch 10/15\n",
      "586/586 [==============================] - 11s 19ms/step - loss: 0.9446 - accuracy: 0.6907 - val_loss: 1.1372 - val_accuracy: 0.5874\n",
      "Epoch 11/15\n",
      "586/586 [==============================] - 12s 20ms/step - loss: 0.9339 - accuracy: 0.6907 - val_loss: 1.1255 - val_accuracy: 0.5873\n",
      "Epoch 12/15\n",
      "586/586 [==============================] - 11s 19ms/step - loss: 0.9410 - accuracy: 0.6910 - val_loss: 1.1508 - val_accuracy: 0.5882\n",
      "Epoch 13/15\n",
      "586/586 [==============================] - 11s 18ms/step - loss: 0.9313 - accuracy: 0.6912 - val_loss: 1.1109 - val_accuracy: 0.5897\n",
      "Epoch 14/15\n",
      "586/586 [==============================] - 11s 19ms/step - loss: 0.9306 - accuracy: 0.6916 - val_loss: 1.1440 - val_accuracy: 0.5868\n",
      "Epoch 15/15\n",
      "586/586 [==============================] - 11s 19ms/step - loss: 0.9340 - accuracy: 0.6915 - val_loss: 1.1653 - val_accuracy: 0.5875\n"
     ]
    },
    {
     "data": {
      "text/plain": [
       "<tensorflow.python.keras.callbacks.History at 0x7f8cec539ba8>"
      ]
     },
     "execution_count": 36,
     "metadata": {},
     "output_type": "execute_result"
    }
   ],
   "source": [
    "rnn  = rnnModel()\n",
    "rnn.fit(review_pad, y_train, batch_size=64, epochs=15, validation_split=0.25)\n"
   ]
  },
  {
   "cell_type": "code",
   "execution_count": 37,
   "metadata": {},
   "outputs": [
    {
     "name": "stdout",
     "output_type": "stream",
     "text": [
      "For model =  RNN Model\n",
      "Classification Report : \n",
      "               precision    recall  f1-score   support\n",
      "\n",
      "           1       0.47      0.05      0.10      1271\n",
      "           2       0.00      0.00      0.00       630\n",
      "           3       0.00      0.00      0.00       911\n",
      "           4       0.00      0.00      0.00      1404\n",
      "           5       0.58      1.00      0.74      5784\n",
      "\n",
      "    accuracy                           0.58     10000\n",
      "   macro avg       0.21      0.21      0.17     10000\n",
      "weighted avg       0.40      0.58      0.44     10000\n",
      "\n",
      "Heat Map :\n",
      "\n"
     ]
    },
    {
     "data": {
      "image/png": "[encoded data removed]",
      "text/plain": [
       "<Figure size 432x288 with 2 Axes>"
      ]
     },
     "metadata": {
      "needs_background": "light"
     },
     "output_type": "display_data"
    }
   ],
   "source": [
    "y_pred = predict(rnn, test_review_pad)\n",
    "report(y_pred, y_test, rnn,\"RNN Model\")"
   ]
  },
  {
   "cell_type": "code",
   "execution_count": null,
   "metadata": {},
   "outputs": [],
   "source": []
  }
 ],
 "metadata": {
  "colab": {
   "collapsed_sections": [],
   "name": "Pretrained_lstm.ipynb",
   "provenance": []
  },
  "kernelspec": {
   "display_name": "Python 3",
   "language": "python",
   "name": "python3"
  },
  "language_info": {
   "codemirror_mode": {
    "name": "ipython",
    "version": 3
   },
   "file_extension": ".py",
   "mimetype": "text/x-python",
   "name": "python",
   "nbconvert_exporter": "python",
   "pygments_lexer": "ipython3",
   "version": "3.6.9"
  }
 },
 "nbformat": 4,
 "nbformat_minor": 1
}

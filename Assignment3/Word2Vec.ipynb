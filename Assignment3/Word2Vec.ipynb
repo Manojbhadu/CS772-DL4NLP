{
  "nbformat": 4,
  "nbformat_minor": 0,
  "metadata": {
    "kernelspec": {
      "display_name": "Python 3",
      "language": "python",
      "name": "python3"
    },
    "language_info": {
      "codemirror_mode": {
        "name": "ipython",
        "version": 3
      },
      "file_extension": ".py",
      "mimetype": "text/x-python",
      "name": "python",
      "nbconvert_exporter": "python",
      "pygments_lexer": "ipython3",
      "version": "3.6.9-final"
    },
    "colab": {
      "name": "Word2Vec.ipynb",
      "provenance": [],
      "collapsed_sections": []
    },
    "widgets": {
      "application/vnd.jupyter.widget-state+json": {
        "7af910a17d724cb9b5d83b11f0e8684e": {
          "model_module": "@jupyter-widgets/controls",
          "model_name": "TextareaModel",
          "state": {
            "_view_name": "TextareaView",
            "style": "IPY_MODEL_8e5aaa437a134fbd8221aebfa8988f66",
            "rows": null,
            "_dom_classes": [],
            "description": "String:",
            "_model_name": "TextareaModel",
            "placeholder": "Type something",
            "_view_module": "@jupyter-widgets/controls",
            "_model_module_version": "1.5.0",
            "value": "I am feeling bad",
            "_view_count": null,
            "disabled": false,
            "_view_module_version": "1.5.0",
            "continuous_update": true,
            "description_tooltip": null,
            "_model_module": "@jupyter-widgets/controls",
            "layout": "IPY_MODEL_adb65ca14fb4412ab8991537c077a902"
          }
        },
        "8e5aaa437a134fbd8221aebfa8988f66": {
          "model_module": "@jupyter-widgets/controls",
          "model_name": "DescriptionStyleModel",
          "state": {
            "_view_name": "StyleView",
            "_model_name": "DescriptionStyleModel",
            "description_width": "",
            "_view_module": "@jupyter-widgets/base",
            "_model_module_version": "1.5.0",
            "_view_count": null,
            "_view_module_version": "1.2.0",
            "_model_module": "@jupyter-widgets/controls"
          }
        },
        "adb65ca14fb4412ab8991537c077a902": {
          "model_module": "@jupyter-widgets/base",
          "model_name": "LayoutModel",
          "state": {
            "_view_name": "LayoutView",
            "grid_template_rows": null,
            "right": null,
            "justify_content": null,
            "_view_module": "@jupyter-widgets/base",
            "overflow": null,
            "_model_module_version": "1.2.0",
            "_view_count": null,
            "flex_flow": null,
            "width": null,
            "min_width": null,
            "border": null,
            "align_items": null,
            "bottom": null,
            "_model_module": "@jupyter-widgets/base",
            "top": null,
            "grid_column": null,
            "overflow_y": null,
            "overflow_x": null,
            "grid_auto_flow": null,
            "grid_area": null,
            "grid_template_columns": null,
            "flex": null,
            "_model_name": "LayoutModel",
            "justify_items": null,
            "grid_row": null,
            "max_height": null,
            "align_content": null,
            "visibility": null,
            "align_self": null,
            "height": null,
            "min_height": null,
            "padding": null,
            "grid_auto_rows": null,
            "grid_gap": null,
            "max_width": null,
            "order": null,
            "_view_module_version": "1.2.0",
            "grid_template_areas": null,
            "object_position": null,
            "object_fit": null,
            "grid_auto_columns": null,
            "margin": null,
            "display": null,
            "left": null
          }
        },
        "89f77b56b1d14042a1b1ff5611c01915": {
          "model_module": "@jupyter-widgets/controls",
          "model_name": "ButtonModel",
          "state": {
            "_view_name": "ButtonView",
            "style": "IPY_MODEL_bac8698d958e4ac08cd2ec1adc4e82ff",
            "_dom_classes": [],
            "description": "Predict!",
            "_model_name": "ButtonModel",
            "button_style": "",
            "_view_module": "@jupyter-widgets/controls",
            "_model_module_version": "1.5.0",
            "tooltip": "",
            "_view_count": null,
            "disabled": false,
            "_view_module_version": "1.5.0",
            "layout": "IPY_MODEL_f02962aefde64c3aaf3e55e0b61f8712",
            "_model_module": "@jupyter-widgets/controls",
            "icon": ""
          }
        },
        "bac8698d958e4ac08cd2ec1adc4e82ff": {
          "model_module": "@jupyter-widgets/controls",
          "model_name": "ButtonStyleModel",
          "state": {
            "_view_name": "StyleView",
            "_model_name": "ButtonStyleModel",
            "_view_module": "@jupyter-widgets/base",
            "_model_module_version": "1.5.0",
            "_view_count": null,
            "button_color": null,
            "font_weight": "",
            "_view_module_version": "1.2.0",
            "_model_module": "@jupyter-widgets/controls"
          }
        },
        "f02962aefde64c3aaf3e55e0b61f8712": {
          "model_module": "@jupyter-widgets/base",
          "model_name": "LayoutModel",
          "state": {
            "_view_name": "LayoutView",
            "grid_template_rows": null,
            "right": null,
            "justify_content": null,
            "_view_module": "@jupyter-widgets/base",
            "overflow": null,
            "_model_module_version": "1.2.0",
            "_view_count": null,
            "flex_flow": null,
            "width": null,
            "min_width": null,
            "border": null,
            "align_items": null,
            "bottom": null,
            "_model_module": "@jupyter-widgets/base",
            "top": null,
            "grid_column": null,
            "overflow_y": null,
            "overflow_x": null,
            "grid_auto_flow": null,
            "grid_area": null,
            "grid_template_columns": null,
            "flex": null,
            "_model_name": "LayoutModel",
            "justify_items": null,
            "grid_row": null,
            "max_height": null,
            "align_content": null,
            "visibility": null,
            "align_self": null,
            "height": null,
            "min_height": null,
            "padding": null,
            "grid_auto_rows": null,
            "grid_gap": null,
            "max_width": null,
            "order": null,
            "_view_module_version": "1.2.0",
            "grid_template_areas": null,
            "object_position": null,
            "object_fit": null,
            "grid_auto_columns": null,
            "margin": null,
            "display": null,
            "left": null
          }
        },
        "2889621b51ef400982b68a8470e234d5": {
          "model_module": "@jupyter-widgets/output",
          "model_name": "OutputModel",
          "state": {
            "_view_name": "OutputView",
            "msg_id": "",
            "_dom_classes": [],
            "_model_name": "OutputModel",
            "outputs": [
              {
                "output_type": "stream",
                "metadata": {
                  "tags": []
                },
                "text": "[5, 5, 5, 5]\n",
                "stream": "stdout"
              }
            ],
            "_view_module": "@jupyter-widgets/output",
            "_model_module_version": "1.0.0",
            "_view_count": null,
            "_view_module_version": "1.0.0",
            "layout": "IPY_MODEL_0de23603aa2f498090514573abcbf4e7",
            "_model_module": "@jupyter-widgets/output"
          }
        },
        "0de23603aa2f498090514573abcbf4e7": {
          "model_module": "@jupyter-widgets/base",
          "model_name": "LayoutModel",
          "state": {
            "_view_name": "LayoutView",
            "grid_template_rows": null,
            "right": null,
            "justify_content": null,
            "_view_module": "@jupyter-widgets/base",
            "overflow": null,
            "_model_module_version": "1.2.0",
            "_view_count": null,
            "flex_flow": null,
            "width": null,
            "min_width": null,
            "border": null,
            "align_items": null,
            "bottom": null,
            "_model_module": "@jupyter-widgets/base",
            "top": null,
            "grid_column": null,
            "overflow_y": null,
            "overflow_x": null,
            "grid_auto_flow": null,
            "grid_area": null,
            "grid_template_columns": null,
            "flex": null,
            "_model_name": "LayoutModel",
            "justify_items": null,
            "grid_row": null,
            "max_height": null,
            "align_content": null,
            "visibility": null,
            "align_self": null,
            "height": null,
            "min_height": null,
            "padding": null,
            "grid_auto_rows": null,
            "grid_gap": null,
            "max_width": null,
            "order": null,
            "_view_module_version": "1.2.0",
            "grid_template_areas": null,
            "object_position": null,
            "object_fit": null,
            "grid_auto_columns": null,
            "margin": null,
            "display": null,
            "left": null
          }
        }
      }
    }
  },
  "cells": [
    {
      "cell_type": "code",
      "metadata": {
        "id": "CaQczgCwntEC"
      },
      "source": [
        "import pandas as pd\n",
        "import numpy as np\n",
        "import tensorflow as tf\n",
        "import nltk\n",
        "from nltk.corpus import stopwords\n",
        "from keras.preprocessing.sequence import pad_sequences\n",
        "import re\n",
        "from keras.preprocessing.text import Tokenizer\n",
        "from keras.models import Sequential\n",
        "from keras.layers import Dense, InputLayer, Activation, Flatten\n",
        "from keras.optimizers import Adam\n",
        "from sklearn.metrics import accuracy_score,classification_report,confusion_matrix\n",
        "import seaborn as sns\n",
        "import gensim\n",
        "import gensim.downloader\n",
        "from nltk.corpus import brown\n",
        "import string"
      ],
      "execution_count": null,
      "outputs": []
    },
    {
      "cell_type": "code",
      "metadata": {
        "colab": {
          "base_uri": "https://localhost:8080/"
        },
        "id": "hxVn5PDTofRJ",
        "outputId": "205e6dc6-a546-4e0b-97e2-f701ab653e0f"
      },
      "source": [
        "import nltk\n",
        "nltk.download('brown')\n",
        "import nltk\n",
        "nltk.download('punkt')"
      ],
      "execution_count": null,
      "outputs": [
        {
          "output_type": "stream",
          "text": [
            "[nltk_data] Downloading package brown to /root/nltk_data...\n",
            "[nltk_data]   Unzipping corpora/brown.zip.\n",
            "[nltk_data] Downloading package punkt to /root/nltk_data...\n",
            "[nltk_data]   Unzipping tokenizers/punkt.zip.\n"
          ],
          "name": "stdout"
        },
        {
          "output_type": "execute_result",
          "data": {
            "text/plain": [
              "True"
            ]
          },
          "metadata": {
            "tags": []
          },
          "execution_count": 2
        }
      ]
    },
    {
      "cell_type": "code",
      "metadata": {
        "id": "HCPkJ2s9ntEG"
      },
      "source": [
        "sents = brown.sents()\n",
        "cleaned_sents = []\n",
        "for i in sents:\n",
        "    sentence = []\n",
        "    for j in i :\n",
        "        if j not in string.punctuation :\n",
        "            sentence.append(j.lower())\n",
        "    cleaned_sents.append(sentence)\n",
        "\n"
      ],
      "execution_count": null,
      "outputs": []
    },
    {
      "cell_type": "code",
      "metadata": {
        "id": "AKQZjAEGntEH"
      },
      "source": [
        "model = gensim.models.Word2Vec(cleaned_sents,size=50,window=7,min_count=1)"
      ],
      "execution_count": null,
      "outputs": []
    },
    {
      "cell_type": "code",
      "metadata": {
        "id": "ghIJ8BM1ntEI"
      },
      "source": [
        ""
      ],
      "execution_count": null,
      "outputs": []
    },
    {
      "cell_type": "code",
      "metadata": {
        "id": "arIFoNAPntEI"
      },
      "source": [
        "train = pd.read_csv(\"train.csv\")\n",
        "test = pd.read_csv(\"test.csv\")  "
      ],
      "execution_count": null,
      "outputs": []
    },
    {
      "cell_type": "code",
      "metadata": {
        "colab": {
          "base_uri": "https://localhost:8080/"
        },
        "id": "g7mQ9FadntEJ",
        "outputId": "eaa60c0f-0222-4a41-b0ba-fda0c894ba95"
      },
      "source": [
        "train['reviews']"
      ],
      "execution_count": null,
      "outputs": [
        {
          "output_type": "execute_result",
          "data": {
            "text/plain": [
              "0        This book was very informative, covering all a...\n",
              "1        I am already a baseball fan and knew a bit abo...\n",
              "2        I didn't like this product it smudged all unde...\n",
              "3        I simply love the product. I appreciate print ...\n",
              "4        It goes on very easily and makes my eyes look ...\n",
              "                               ...                        \n",
              "49995                         it does not work((((((((((((\n",
              "49996    Really worthless, loud motor with absolutely n...\n",
              "49997    Don't waste your money on this. It does nothin...\n",
              "49998    Product does not remove ear wax. No suction, j...\n",
              "49999    If you wear hearing aids these are great for r...\n",
              "Name: reviews, Length: 50000, dtype: object"
            ]
          },
          "metadata": {
            "tags": []
          },
          "execution_count": 6
        }
      ]
    },
    {
      "cell_type": "code",
      "metadata": {
        "id": "TRMYD0xUntEK"
      },
      "source": [
        ""
      ],
      "execution_count": null,
      "outputs": []
    },
    {
      "cell_type": "code",
      "metadata": {
        "id": "T4JqQE0QntEL"
      },
      "source": [
        "def convert_to_lower(text):\n",
        "    # return the reviews after convering then to lowercase\n",
        "    lower_text = text.copy()\n",
        "    for i in range(len(text)):\n",
        "        lower_text[i] = text[i].lower()\n",
        "    return lower_text"
      ],
      "execution_count": null,
      "outputs": []
    },
    {
      "cell_type": "code",
      "metadata": {
        "id": "t0MiqmuZntEL"
      },
      "source": [
        "def remove_punctuation(text):\n",
        "    #stop_words = set(stopwords.words('english'))\n",
        "    cleanedText = []\n",
        "    for test_str in text:\n",
        "        res = re.sub(r'[^\\w\\s]', '', test_str) \n",
        "        cleanedText.append(res)\n",
        "    return cleanedText"
      ],
      "execution_count": null,
      "outputs": []
    },
    {
      "cell_type": "code",
      "metadata": {
        "id": "mkyeyTmtntEM"
      },
      "source": [
        "def remove_stopwords(text):\n",
        "    stop_words = set(stopwords.words('english'))\n",
        "    without_stopwords_text  = text.copy()\n",
        "    for i in range(len(text)):\n",
        "        without_stopwords_text[i] = [w for w in text[i] if w not in stop_words]\n",
        "    return without_stopwords_text"
      ],
      "execution_count": null,
      "outputs": []
    },
    {
      "cell_type": "code",
      "metadata": {
        "id": "DGG8FC8wntEM"
      },
      "source": [
        "def perform_tokenization(text):\n",
        "    t = Tokenizer()\n",
        "    t.fit_on_texts(text)\n",
        "    encoded = t.texts_to_sequences(text)\n",
        "    return encoded"
      ],
      "execution_count": null,
      "outputs": []
    },
    {
      "cell_type": "code",
      "metadata": {
        "id": "Zsz3K0pHntEM"
      },
      "source": [
        "def get_dicts(train):\n",
        "    tokenizer = Tokenizer()\n",
        "    tokenizer.fit_on_texts(train)\n",
        "    words_to_index = tokenizer.word_index\n",
        "    return words_to_index"
      ],
      "execution_count": null,
      "outputs": []
    },
    {
      "cell_type": "code",
      "metadata": {
        "id": "L_3bwTH7ntEN"
      },
      "source": [
        "# def gloveVector():\n",
        "#     wordMapping = {}\n",
        "#     fileName = ''\n",
        "#     with open(fileName, 'r', encoding='UTF-8') as f:\n",
        "#         for line in f:\n",
        "#             w_line = line.split()\n",
        "#             curr_word = w_line[0]\n",
        "#             wordMapping[curr_word] = np.array(w_line[1:], dtype=np.float64)\n",
        "#     return (wordMapping)\n",
        "\n"
      ],
      "execution_count": null,
      "outputs": []
    },
    {
      "cell_type": "code",
      "metadata": {
        "id": "nCLrcH1untEO"
      },
      "source": [
        "# word_to_index = get_dicts(train)\n",
        "# wordMap = gloveVector()\n",
        "# vocabSize = len(word_to_index)"
      ],
      "execution_count": null,
      "outputs": []
    },
    {
      "cell_type": "code",
      "metadata": {
        "id": "Psed3OjyntEO"
      },
      "source": [
        "MAX_LENGTH = 50"
      ],
      "execution_count": null,
      "outputs": []
    },
    {
      "cell_type": "code",
      "metadata": {
        "id": "Gp4uPm49ntEP"
      },
      "source": [
        "# def embeddingMatrix():\n",
        "#     vocab_len = len(word_to_index)\n",
        "#     embed_vector_len = wordMap['moon'].shape[0]\n",
        "#     emb_matrix = np.zeros((vocab_len, embed_vector_len))\n",
        "#     for word, index in word_to_index.items():\n",
        "#     embedding_vector = wordMap.get(word)\n",
        "#     if embedding_vector is not None:\n",
        "#         emb_matrix[index, :] = embedding_vector\n",
        "#     embedding_layer = Embedding(input_dim=vocab_len, output_dim=embed_vector_len, input_length=MAX_LENGTH, weights = [emb_matrix], trainable=False)\n",
        "#     return embedding_layer\n"
      ],
      "execution_count": null,
      "outputs": []
    },
    {
      "cell_type": "code",
      "metadata": {
        "id": "-G1uDb78ntEQ"
      },
      "source": [
        "def tokens(text):\n",
        "    a = text.copy()\n",
        "    for i in range(len(text)):\n",
        "        a[i] = nltk.word_tokenize(text[i])\n",
        "    return a"
      ],
      "execution_count": null,
      "outputs": []
    },
    {
      "cell_type": "code",
      "metadata": {
        "id": "yzp3MpBOntEQ"
      },
      "source": [
        "def perform_padding(data):\n",
        "  z=[]\n",
        "  for i in data:\n",
        "    k = [r for j in i for r in j]\n",
        "    result = np.zeros(MAX_LENGTH*50)\n",
        "    result[:len(k)] = np.array(k)\n",
        "    z.append(result)\n",
        "  return (np.array(z,dtype='float64'))"
      ],
      "execution_count": null,
      "outputs": []
    },
    {
      "cell_type": "code",
      "metadata": {
        "id": "w-cSZjJFntEQ"
      },
      "source": [
        "\n"
      ],
      "execution_count": null,
      "outputs": []
    },
    {
      "cell_type": "code",
      "metadata": {
        "id": "lbk39DPXntER"
      },
      "source": [
        "def preprocess_data(data):\n",
        "    reviews = data[\"reviews\"]\n",
        "    reviews = convert_to_lower(reviews)\n",
        "    reviews = remove_punctuation(reviews)\n",
        "    reviews = tokens(reviews)\n",
        "    emb = []\n",
        "    for i in reviews:\n",
        "      tmp=[]\n",
        "      for j in i:\n",
        "        try:\n",
        "          tmp.append(model.wv[j])\n",
        "        except KeyError:\n",
        "          tmp.append(np.zeros((50)))\n",
        "      emb.append(tmp)\n",
        "    padded = perform_padding(emb)    \n",
        "    return padded"
      ],
      "execution_count": null,
      "outputs": []
    },
    {
      "cell_type": "code",
      "metadata": {
        "id": "JEY0zxq3ntER"
      },
      "source": [
        "preprocessed_reviews = preprocess_data(train)"
      ],
      "execution_count": null,
      "outputs": []
    },
    {
      "cell_type": "code",
      "metadata": {
        "id": "yU3kyxrLntES"
      },
      "source": [
        "preprocessed_test_reviews = preprocess_data(test)"
      ],
      "execution_count": null,
      "outputs": []
    },
    {
      "cell_type": "code",
      "metadata": {
        "id": "AXRyXkVLntET"
      },
      "source": [
        "def softmax_activation(x):\n",
        "    exp_x = np.exp(x)\n",
        "    return exp_x/np.sum(exp_x)"
      ],
      "execution_count": null,
      "outputs": []
    },
    {
      "cell_type": "code",
      "metadata": {
        "id": "RXEac4xsntET"
      },
      "source": [
        ""
      ],
      "execution_count": null,
      "outputs": []
    },
    {
      "cell_type": "code",
      "metadata": {
        "id": "V6b0JeeHntEU"
      },
      "source": [
        "class NeuralNetGlove:\n",
        "\n",
        "    def __init__(self, reviews, ratings):\n",
        "\n",
        "        self.reviews = reviews\n",
        "        self.ratings = ratings\n",
        "\n",
        "    def build_nn(self,hiddenLayers,activationHidden):\n",
        "        #add the input and output layer here; you can use either tensorflow or pytorch\n",
        "        self.model = Sequential()\n",
        "        self.model.add(InputLayer(input_shape=(MAX_LENGTH*50,)))\n",
        "        for i in range(hiddenLayers):\n",
        "            self.model.add(Dense(64,activation=activationHidden))\n",
        "        self.model.add(Dense(5,activation='softmax'))\n",
        "        self.model.compile(loss='categorical_crossentropy', optimizer=Adam(0.0001), metrics=['accuracy'])\n",
        "        self.model.summary()\n",
        "        \n",
        "    def train_nn(self,batch_size,epochs):\n",
        "        # write the training loop here; you can use either tensorflow or pytorch\n",
        "        # print validation accuracy\n",
        "        y_train = tf.keras.utils.to_categorical(self.ratings,num_classes=5)\n",
        "        self.history = self.model.fit(self.reviews, y_train, batch_size=batch_size, epochs=epochs, validation_split=0.2)\n",
        "        \n",
        "\n",
        "    def predict(self, reviews):\n",
        "        # return a list containing all the ratings predicted by the trained model\n",
        "        y_pred = self.model.predict(reviews)\n",
        "        pred1 = []\n",
        "        for i in range(len(y_pred)):\n",
        "            pred1.append(np.argmax(y_pred[i])+1)\n",
        "        return pred1"
      ],
      "execution_count": null,
      "outputs": []
    },
    {
      "cell_type": "code",
      "metadata": {
        "id": "93a5wn9BntEU"
      },
      "source": [
        "train_rating_list = train['ratings'].to_list()\n",
        "Y = [str(i-1) for i in train_rating_list]"
      ],
      "execution_count": null,
      "outputs": []
    },
    {
      "cell_type": "code",
      "metadata": {
        "id": "mPXKNXmIntEV"
      },
      "source": [
        ""
      ],
      "execution_count": null,
      "outputs": []
    },
    {
      "cell_type": "code",
      "metadata": {
        "id": "UyLLs1wTntEW"
      },
      "source": [
        ""
      ],
      "execution_count": null,
      "outputs": []
    },
    {
      "cell_type": "code",
      "metadata": {
        "id": "OOJuCfFMntEW"
      },
      "source": [
        ""
      ],
      "execution_count": null,
      "outputs": []
    },
    {
      "cell_type": "code",
      "metadata": {
        "id": "aeLvQsdFntEX"
      },
      "source": [
        "###### Code to find the model with best training and test set \n",
        "def bestModelNN():\n",
        "    trainAccuraciesReLU = []\n",
        "    testAccuraciesReLU = []\n",
        "    trainAccuraciesSigmoid = []\n",
        "    testAccuraciesSigmoid = []\n",
        "    \n",
        "    for i in range(0,5):\n",
        "        M = NeuralNetGlove(preprocessed_reviews,Y)\n",
        "        M.build_nn(hiddenLayers=i,activationHidden='sigmoid')\n",
        "        M.train_nn(64,15)\n",
        "        y_pred = M.predict(preprocessed_test_reviews)\n",
        "        accuracyTest = accuracy_score(test['ratings'],y_pred)\n",
        "        accuracyTrain = M.history.history['accuracy'][-1]\n",
        "        trainAccuraciesSigmoid.append(accuracyTrain)\n",
        "        testAccuraciesSigmoid.append(accuracyTest)\n",
        "        del M\n",
        "        \n",
        "    for i in range(0,5):\n",
        "        M = NeuralNetGlove(preprocessed_reviews,Y)\n",
        "        M.build_nn(hiddenLayers=i,activationHidden='relu')\n",
        "        M.train_nn(64,15)\n",
        "        y_pred = M.predict(preprocessed_test_reviews)\n",
        "        accuracyTest = accuracy_score(test['ratings'],y_pred)\n",
        "        accuracyTrain = M.history.history['accuracy'][-1]\n",
        "        trainAccuraciesReLU.append(accuracyTrain)\n",
        "        testAccuraciesReLU.append(accuracyTest)\n",
        "        del M \n",
        "        \n",
        "    print(trainAccuraciesReLU)\n",
        "    print(testAccuraciesReLU)\n",
        "    print(trainAccuraciesSigmoid)\n",
        "    print(testAccuraciesSigmoid)\n",
        "    return trainAccuraciesReLU, testAccuraciesReLU, trainAccuraciesSigmoid, testAccuraciesSigmoid\n",
        "\n"
      ],
      "execution_count": null,
      "outputs": []
    },
    {
      "cell_type": "code",
      "metadata": {
        "id": "svNGm6-fntEX"
      },
      "source": [
        "##### Develop Report for the best model and prediction for some examples\n",
        "def report(y_pred,test,Model):\n",
        "    Classification_report = classification_report(test['ratings'],y_pred,target_names=['1','2','3','4','5'])\n",
        "    cm  = confusion_matrix(test['ratings'],y_pred)\n",
        "    print(\"Classification Report : \\n\",Classification_report)\n",
        "    print(\"Heat Map :\\n\")\n",
        "    sns.heatmap(cm,cmap=\"Blues\",annot=True,fmt='.4g',xticklabels=['1','2','3','4','5'],yticklabels=['1','2','3','4','5'])\n",
        "    #tried_examples = [['I like it but dont think I would buy again.'], ['Nice looking cleaner but way smaller than 2 liters. Not as advertised.'],['Total waste of money, I used all 10 of these and got 0 results from it.']] \n",
        "    # Create the pandas DataFrame \n",
        "    #df = pd.DataFrame(tried_examples, columns = ['reviews']) \n",
        "    #pre_tried_examples = preprocess_data(df,word_to_index)\n",
        "    #z = Model.predict(pre_tried_examples)\n",
        "    #print(\"Examples :\\n\",df)\n",
        "    #print(\"Predicted Values: \\n\",z)"
      ],
      "execution_count": null,
      "outputs": []
    },
    {
      "cell_type": "code",
      "metadata": {
        "colab": {
          "base_uri": "https://localhost:8080/"
        },
        "id": "qSHRc3Y-ntEY",
        "outputId": "4bf5c17e-0304-4466-d38f-b5b2f48d08a9"
      },
      "source": [
        "trainAccuraciesReLU, testAccuraciesReLU, trainAccuraciesSigmoid, testAccuraciesSigmoid = bestModelNN()\n",
        "\n"
      ],
      "execution_count": null,
      "outputs": [
        {
          "output_type": "stream",
          "text": [
            "Model: \"sequential\"\n",
            "_________________________________________________________________\n",
            "Layer (type)                 Output Shape              Param #   \n",
            "=================================================================\n",
            "dense (Dense)                (None, 5)                 12505     \n",
            "=================================================================\n",
            "Total params: 12,505\n",
            "Trainable params: 12,505\n",
            "Non-trainable params: 0\n",
            "_________________________________________________________________\n",
            "Epoch 1/15\n",
            "625/625 [==============================] - 2s 3ms/step - loss: 1.2398 - accuracy: 0.6043 - val_loss: 1.3286 - val_accuracy: 0.5731\n",
            "Epoch 2/15\n",
            "625/625 [==============================] - 1s 2ms/step - loss: 1.0344 - accuracy: 0.6816 - val_loss: 1.2574 - val_accuracy: 0.5727\n",
            "Epoch 3/15\n",
            "625/625 [==============================] - 1s 2ms/step - loss: 0.9877 - accuracy: 0.6849 - val_loss: 1.2162 - val_accuracy: 0.5758\n",
            "Epoch 4/15\n",
            "625/625 [==============================] - 1s 2ms/step - loss: 0.9556 - accuracy: 0.6901 - val_loss: 1.2080 - val_accuracy: 0.5789\n",
            "Epoch 5/15\n",
            "625/625 [==============================] - 1s 2ms/step - loss: 0.9493 - accuracy: 0.6875 - val_loss: 1.1973 - val_accuracy: 0.5803\n",
            "Epoch 6/15\n",
            "625/625 [==============================] - 1s 2ms/step - loss: 0.9350 - accuracy: 0.6887 - val_loss: 1.1833 - val_accuracy: 0.5833\n",
            "Epoch 7/15\n",
            "625/625 [==============================] - 1s 2ms/step - loss: 0.9316 - accuracy: 0.6863 - val_loss: 1.1774 - val_accuracy: 0.5861\n",
            "Epoch 8/15\n",
            "625/625 [==============================] - 1s 2ms/step - loss: 0.9065 - accuracy: 0.6972 - val_loss: 1.1703 - val_accuracy: 0.5853\n",
            "Epoch 9/15\n",
            "625/625 [==============================] - 1s 2ms/step - loss: 0.9082 - accuracy: 0.6927 - val_loss: 1.1592 - val_accuracy: 0.5869\n",
            "Epoch 10/15\n",
            "625/625 [==============================] - 1s 2ms/step - loss: 0.9029 - accuracy: 0.6949 - val_loss: 1.1757 - val_accuracy: 0.5874\n",
            "Epoch 11/15\n",
            "625/625 [==============================] - 1s 2ms/step - loss: 0.8977 - accuracy: 0.6968 - val_loss: 1.1580 - val_accuracy: 0.5890\n",
            "Epoch 12/15\n",
            "625/625 [==============================] - 1s 2ms/step - loss: 0.8897 - accuracy: 0.6976 - val_loss: 1.1571 - val_accuracy: 0.5875\n",
            "Epoch 13/15\n",
            "625/625 [==============================] - 1s 2ms/step - loss: 0.8848 - accuracy: 0.6983 - val_loss: 1.1572 - val_accuracy: 0.5878\n",
            "Epoch 14/15\n",
            "625/625 [==============================] - 1s 2ms/step - loss: 0.8891 - accuracy: 0.6975 - val_loss: 1.1578 - val_accuracy: 0.5884\n",
            "Epoch 15/15\n",
            "625/625 [==============================] - 1s 2ms/step - loss: 0.8840 - accuracy: 0.6992 - val_loss: 1.1630 - val_accuracy: 0.5886\n",
            "Model: \"sequential_1\"\n",
            "_________________________________________________________________\n",
            "Layer (type)                 Output Shape              Param #   \n",
            "=================================================================\n",
            "dense_1 (Dense)              (None, 64)                160064    \n",
            "_________________________________________________________________\n",
            "dense_2 (Dense)              (None, 5)                 325       \n",
            "=================================================================\n",
            "Total params: 160,389\n",
            "Trainable params: 160,389\n",
            "Non-trainable params: 0\n",
            "_________________________________________________________________\n",
            "Epoch 1/15\n",
            "625/625 [==============================] - 3s 4ms/step - loss: 1.0701 - accuracy: 0.6564 - val_loss: 1.2440 - val_accuracy: 0.5741\n",
            "Epoch 2/15\n",
            "625/625 [==============================] - 2s 3ms/step - loss: 0.9801 - accuracy: 0.6833 - val_loss: 1.1972 - val_accuracy: 0.5752\n",
            "Epoch 3/15\n",
            "625/625 [==============================] - 2s 3ms/step - loss: 0.9453 - accuracy: 0.6855 - val_loss: 1.1772 - val_accuracy: 0.5766\n",
            "Epoch 4/15\n",
            "625/625 [==============================] - 2s 3ms/step - loss: 0.9199 - accuracy: 0.6910 - val_loss: 1.1750 - val_accuracy: 0.5781\n",
            "Epoch 5/15\n",
            "625/625 [==============================] - 2s 3ms/step - loss: 0.9164 - accuracy: 0.6887 - val_loss: 1.1682 - val_accuracy: 0.5820\n",
            "Epoch 6/15\n",
            "625/625 [==============================] - 2s 3ms/step - loss: 0.8919 - accuracy: 0.6944 - val_loss: 1.1507 - val_accuracy: 0.5863\n",
            "Epoch 7/15\n",
            "625/625 [==============================] - 2s 3ms/step - loss: 0.8928 - accuracy: 0.6942 - val_loss: 1.1482 - val_accuracy: 0.5860\n",
            "Epoch 8/15\n",
            "625/625 [==============================] - 2s 3ms/step - loss: 0.8826 - accuracy: 0.6962 - val_loss: 1.1391 - val_accuracy: 0.5902\n",
            "Epoch 9/15\n",
            "625/625 [==============================] - 2s 3ms/step - loss: 0.8725 - accuracy: 0.6993 - val_loss: 1.1352 - val_accuracy: 0.5911\n",
            "Epoch 10/15\n",
            "625/625 [==============================] - 2s 3ms/step - loss: 0.8712 - accuracy: 0.6994 - val_loss: 1.1405 - val_accuracy: 0.5892\n",
            "Epoch 11/15\n",
            "625/625 [==============================] - 2s 3ms/step - loss: 0.8592 - accuracy: 0.7019 - val_loss: 1.1555 - val_accuracy: 0.5889\n",
            "Epoch 12/15\n",
            "625/625 [==============================] - 2s 3ms/step - loss: 0.8526 - accuracy: 0.7044 - val_loss: 1.1419 - val_accuracy: 0.5934\n",
            "Epoch 13/15\n",
            "625/625 [==============================] - 2s 3ms/step - loss: 0.8491 - accuracy: 0.7066 - val_loss: 1.1382 - val_accuracy: 0.5908\n",
            "Epoch 14/15\n",
            "625/625 [==============================] - 2s 3ms/step - loss: 0.8506 - accuracy: 0.7054 - val_loss: 1.1230 - val_accuracy: 0.5938\n",
            "Epoch 15/15\n",
            "625/625 [==============================] - 2s 3ms/step - loss: 0.8450 - accuracy: 0.7060 - val_loss: 1.1485 - val_accuracy: 0.5933\n",
            "Model: \"sequential_2\"\n",
            "_________________________________________________________________\n",
            "Layer (type)                 Output Shape              Param #   \n",
            "=================================================================\n",
            "dense_3 (Dense)              (None, 64)                160064    \n",
            "_________________________________________________________________\n",
            "dense_4 (Dense)              (None, 64)                4160      \n",
            "_________________________________________________________________\n",
            "dense_5 (Dense)              (None, 5)                 325       \n",
            "=================================================================\n",
            "Total params: 164,549\n",
            "Trainable params: 164,549\n",
            "Non-trainable params: 0\n",
            "_________________________________________________________________\n",
            "Epoch 1/15\n",
            "625/625 [==============================] - 3s 4ms/step - loss: 1.2313 - accuracy: 0.5654 - val_loss: 1.2954 - val_accuracy: 0.5742\n",
            "Epoch 2/15\n",
            "625/625 [==============================] - 2s 3ms/step - loss: 1.0273 - accuracy: 0.6834 - val_loss: 1.2692 - val_accuracy: 0.5742\n",
            "Epoch 3/15\n",
            "625/625 [==============================] - 2s 3ms/step - loss: 1.0099 - accuracy: 0.6821 - val_loss: 1.2359 - val_accuracy: 0.5742\n",
            "Epoch 4/15\n",
            "625/625 [==============================] - 2s 3ms/step - loss: 0.9624 - accuracy: 0.6910 - val_loss: 1.1833 - val_accuracy: 0.5743\n",
            "Epoch 5/15\n",
            "625/625 [==============================] - 2s 3ms/step - loss: 0.9407 - accuracy: 0.6882 - val_loss: 1.1754 - val_accuracy: 0.5764\n",
            "Epoch 6/15\n",
            "625/625 [==============================] - 2s 3ms/step - loss: 0.9245 - accuracy: 0.6894 - val_loss: 1.1473 - val_accuracy: 0.5848\n",
            "Epoch 7/15\n",
            "625/625 [==============================] - 2s 3ms/step - loss: 0.9101 - accuracy: 0.6902 - val_loss: 1.1474 - val_accuracy: 0.5864\n",
            "Epoch 8/15\n",
            "625/625 [==============================] - 2s 3ms/step - loss: 0.9023 - accuracy: 0.6931 - val_loss: 1.1367 - val_accuracy: 0.5911\n",
            "Epoch 9/15\n",
            "625/625 [==============================] - 2s 3ms/step - loss: 0.8895 - accuracy: 0.6960 - val_loss: 1.1368 - val_accuracy: 0.5919\n",
            "Epoch 10/15\n",
            "625/625 [==============================] - 2s 3ms/step - loss: 0.8866 - accuracy: 0.6955 - val_loss: 1.1462 - val_accuracy: 0.5909\n",
            "Epoch 11/15\n",
            "625/625 [==============================] - 2s 3ms/step - loss: 0.8786 - accuracy: 0.6990 - val_loss: 1.1257 - val_accuracy: 0.5945\n",
            "Epoch 12/15\n",
            "625/625 [==============================] - 2s 3ms/step - loss: 0.8667 - accuracy: 0.7027 - val_loss: 1.1286 - val_accuracy: 0.5941\n",
            "Epoch 13/15\n",
            "625/625 [==============================] - 2s 3ms/step - loss: 0.8721 - accuracy: 0.6995 - val_loss: 1.1310 - val_accuracy: 0.5932\n",
            "Epoch 14/15\n",
            "625/625 [==============================] - 2s 3ms/step - loss: 0.8600 - accuracy: 0.7034 - val_loss: 1.1243 - val_accuracy: 0.5953\n",
            "Epoch 15/15\n",
            "625/625 [==============================] - 2s 3ms/step - loss: 0.8551 - accuracy: 0.7025 - val_loss: 1.1359 - val_accuracy: 0.5949\n",
            "Model: \"sequential_3\"\n",
            "_________________________________________________________________\n",
            "Layer (type)                 Output Shape              Param #   \n",
            "=================================================================\n",
            "dense_6 (Dense)              (None, 64)                160064    \n",
            "_________________________________________________________________\n",
            "dense_7 (Dense)              (None, 64)                4160      \n",
            "_________________________________________________________________\n",
            "dense_8 (Dense)              (None, 64)                4160      \n",
            "_________________________________________________________________\n",
            "dense_9 (Dense)              (None, 5)                 325       \n",
            "=================================================================\n",
            "Total params: 168,709\n",
            "Trainable params: 168,709\n",
            "Non-trainable params: 0\n",
            "_________________________________________________________________\n",
            "Epoch 1/15\n",
            "625/625 [==============================] - 3s 4ms/step - loss: 1.4146 - accuracy: 0.4399 - val_loss: 1.2908 - val_accuracy: 0.5742\n",
            "Epoch 2/15\n",
            "625/625 [==============================] - 2s 3ms/step - loss: 1.0323 - accuracy: 0.6834 - val_loss: 1.2964 - val_accuracy: 0.5742\n",
            "Epoch 3/15\n",
            "625/625 [==============================] - 2s 4ms/step - loss: 1.0313 - accuracy: 0.6826 - val_loss: 1.2919 - val_accuracy: 0.5742\n",
            "Epoch 4/15\n",
            "625/625 [==============================] - 2s 4ms/step - loss: 1.0148 - accuracy: 0.6850 - val_loss: 1.2526 - val_accuracy: 0.5742\n",
            "Epoch 5/15\n",
            "625/625 [==============================] - 2s 4ms/step - loss: 0.9816 - accuracy: 0.6862 - val_loss: 1.1967 - val_accuracy: 0.5742\n",
            "Epoch 6/15\n",
            "625/625 [==============================] - 2s 4ms/step - loss: 0.9545 - accuracy: 0.6858 - val_loss: 1.1740 - val_accuracy: 0.5743\n",
            "Epoch 7/15\n",
            "625/625 [==============================] - 2s 3ms/step - loss: 0.9435 - accuracy: 0.6829 - val_loss: 1.1657 - val_accuracy: 0.5798\n",
            "Epoch 8/15\n",
            "625/625 [==============================] - 2s 4ms/step - loss: 0.9230 - accuracy: 0.6889 - val_loss: 1.1557 - val_accuracy: 0.5859\n",
            "Epoch 9/15\n",
            "625/625 [==============================] - 2s 3ms/step - loss: 0.9105 - accuracy: 0.6923 - val_loss: 1.1550 - val_accuracy: 0.5888\n",
            "Epoch 10/15\n",
            "625/625 [==============================] - 2s 4ms/step - loss: 0.8954 - accuracy: 0.6960 - val_loss: 1.1500 - val_accuracy: 0.5907\n",
            "Epoch 11/15\n",
            "625/625 [==============================] - 2s 4ms/step - loss: 0.8957 - accuracy: 0.6956 - val_loss: 1.1309 - val_accuracy: 0.5949\n",
            "Epoch 12/15\n",
            "625/625 [==============================] - 2s 3ms/step - loss: 0.8942 - accuracy: 0.6941 - val_loss: 1.1428 - val_accuracy: 0.5925\n",
            "Epoch 13/15\n",
            "625/625 [==============================] - 2s 3ms/step - loss: 0.8813 - accuracy: 0.6973 - val_loss: 1.1319 - val_accuracy: 0.5951\n",
            "Epoch 14/15\n",
            "625/625 [==============================] - 2s 4ms/step - loss: 0.8810 - accuracy: 0.6975 - val_loss: 1.1347 - val_accuracy: 0.5945\n",
            "Epoch 15/15\n",
            "625/625 [==============================] - 3s 4ms/step - loss: 0.8708 - accuracy: 0.6996 - val_loss: 1.1314 - val_accuracy: 0.5969\n",
            "Model: \"sequential_4\"\n",
            "_________________________________________________________________\n",
            "Layer (type)                 Output Shape              Param #   \n",
            "=================================================================\n",
            "dense_10 (Dense)             (None, 64)                160064    \n",
            "_________________________________________________________________\n",
            "dense_11 (Dense)             (None, 64)                4160      \n",
            "_________________________________________________________________\n",
            "dense_12 (Dense)             (None, 64)                4160      \n",
            "_________________________________________________________________\n",
            "dense_13 (Dense)             (None, 64)                4160      \n",
            "_________________________________________________________________\n",
            "dense_14 (Dense)             (None, 5)                 325       \n",
            "=================================================================\n",
            "Total params: 172,869\n",
            "Trainable params: 172,869\n",
            "Non-trainable params: 0\n",
            "_________________________________________________________________\n",
            "Epoch 1/15\n",
            "625/625 [==============================] - 4s 6ms/step - loss: 1.2431 - accuracy: 0.5312 - val_loss: 1.2931 - val_accuracy: 0.5742\n",
            "Epoch 2/15\n",
            "625/625 [==============================] - 3s 5ms/step - loss: 1.0222 - accuracy: 0.6882 - val_loss: 1.2898 - val_accuracy: 0.5742\n",
            "Epoch 3/15\n",
            "625/625 [==============================] - 4s 6ms/step - loss: 1.0189 - accuracy: 0.6888 - val_loss: 1.2791 - val_accuracy: 0.5742\n",
            "Epoch 4/15\n",
            "625/625 [==============================] - 3s 4ms/step - loss: 1.0097 - accuracy: 0.6852 - val_loss: 1.2271 - val_accuracy: 0.5742\n",
            "Epoch 5/15\n",
            "625/625 [==============================] - 2s 4ms/step - loss: 0.9749 - accuracy: 0.6841 - val_loss: 1.1874 - val_accuracy: 0.5742\n",
            "Epoch 6/15\n",
            "625/625 [==============================] - 2s 4ms/step - loss: 0.9461 - accuracy: 0.6876 - val_loss: 1.1720 - val_accuracy: 0.5742\n",
            "Epoch 7/15\n",
            "625/625 [==============================] - 2s 4ms/step - loss: 0.9292 - accuracy: 0.6864 - val_loss: 1.1635 - val_accuracy: 0.5747\n",
            "Epoch 8/15\n",
            "625/625 [==============================] - 2s 4ms/step - loss: 0.9220 - accuracy: 0.6880 - val_loss: 1.1584 - val_accuracy: 0.5808\n",
            "Epoch 9/15\n",
            "625/625 [==============================] - 2s 4ms/step - loss: 0.9130 - accuracy: 0.6922 - val_loss: 1.1497 - val_accuracy: 0.5865\n",
            "Epoch 10/15\n",
            "625/625 [==============================] - 2s 4ms/step - loss: 0.9152 - accuracy: 0.6878 - val_loss: 1.1421 - val_accuracy: 0.5915\n",
            "Epoch 11/15\n",
            "625/625 [==============================] - 2s 4ms/step - loss: 0.9050 - accuracy: 0.6895 - val_loss: 1.1628 - val_accuracy: 0.5897\n",
            "Epoch 12/15\n",
            "625/625 [==============================] - 2s 4ms/step - loss: 0.8857 - accuracy: 0.6964 - val_loss: 1.1347 - val_accuracy: 0.5953\n",
            "Epoch 13/15\n",
            "625/625 [==============================] - 2s 4ms/step - loss: 0.8793 - accuracy: 0.6979 - val_loss: 1.1337 - val_accuracy: 0.5971\n",
            "Epoch 14/15\n",
            "625/625 [==============================] - 2s 4ms/step - loss: 0.8804 - accuracy: 0.6944 - val_loss: 1.1340 - val_accuracy: 0.5953\n",
            "Epoch 15/15\n",
            "625/625 [==============================] - 2s 4ms/step - loss: 0.8751 - accuracy: 0.6942 - val_loss: 1.1201 - val_accuracy: 0.5986\n",
            "Model: \"sequential_5\"\n",
            "_________________________________________________________________\n",
            "Layer (type)                 Output Shape              Param #   \n",
            "=================================================================\n",
            "dense_15 (Dense)             (None, 5)                 12505     \n",
            "=================================================================\n",
            "Total params: 12,505\n",
            "Trainable params: 12,505\n",
            "Non-trainable params: 0\n",
            "_________________________________________________________________\n",
            "Epoch 1/15\n",
            "625/625 [==============================] - 2s 3ms/step - loss: 1.2865 - accuracy: 0.5781 - val_loss: 1.3161 - val_accuracy: 0.5702\n",
            "Epoch 2/15\n",
            "625/625 [==============================] - 1s 2ms/step - loss: 1.0463 - accuracy: 0.6806 - val_loss: 1.2617 - val_accuracy: 0.5732\n",
            "Epoch 3/15\n",
            "625/625 [==============================] - 1s 2ms/step - loss: 0.9896 - accuracy: 0.6832 - val_loss: 1.2297 - val_accuracy: 0.5754\n",
            "Epoch 4/15\n",
            "625/625 [==============================] - 1s 2ms/step - loss: 0.9543 - accuracy: 0.6914 - val_loss: 1.2021 - val_accuracy: 0.5790\n",
            "Epoch 5/15\n",
            "625/625 [==============================] - 1s 2ms/step - loss: 0.9374 - accuracy: 0.6909 - val_loss: 1.1896 - val_accuracy: 0.5809\n",
            "Epoch 6/15\n",
            "625/625 [==============================] - 1s 2ms/step - loss: 0.9217 - accuracy: 0.6951 - val_loss: 1.1746 - val_accuracy: 0.5836\n",
            "Epoch 7/15\n",
            "625/625 [==============================] - 1s 2ms/step - loss: 0.9245 - accuracy: 0.6905 - val_loss: 1.1675 - val_accuracy: 0.5846\n",
            "Epoch 8/15\n",
            "625/625 [==============================] - 1s 2ms/step - loss: 0.9180 - accuracy: 0.6895 - val_loss: 1.1708 - val_accuracy: 0.5854\n",
            "Epoch 9/15\n",
            "625/625 [==============================] - 1s 2ms/step - loss: 0.9078 - accuracy: 0.6929 - val_loss: 1.1604 - val_accuracy: 0.5866\n",
            "Epoch 10/15\n",
            "625/625 [==============================] - 1s 2ms/step - loss: 0.9084 - accuracy: 0.6908 - val_loss: 1.1585 - val_accuracy: 0.5895\n",
            "Epoch 11/15\n",
            "625/625 [==============================] - 1s 2ms/step - loss: 0.9084 - accuracy: 0.6920 - val_loss: 1.1592 - val_accuracy: 0.5888\n",
            "Epoch 12/15\n",
            "625/625 [==============================] - 1s 2ms/step - loss: 0.8969 - accuracy: 0.6935 - val_loss: 1.1512 - val_accuracy: 0.5905\n",
            "Epoch 13/15\n",
            "625/625 [==============================] - 1s 2ms/step - loss: 0.8925 - accuracy: 0.6943 - val_loss: 1.1565 - val_accuracy: 0.5883\n",
            "Epoch 14/15\n",
            "625/625 [==============================] - 1s 2ms/step - loss: 0.8851 - accuracy: 0.6962 - val_loss: 1.1500 - val_accuracy: 0.5907\n",
            "Epoch 15/15\n",
            "625/625 [==============================] - 1s 2ms/step - loss: 0.8872 - accuracy: 0.6981 - val_loss: 1.1391 - val_accuracy: 0.5935\n",
            "Model: \"sequential_6\"\n",
            "_________________________________________________________________\n",
            "Layer (type)                 Output Shape              Param #   \n",
            "=================================================================\n",
            "dense_16 (Dense)             (None, 64)                160064    \n",
            "_________________________________________________________________\n",
            "dense_17 (Dense)             (None, 5)                 325       \n",
            "=================================================================\n",
            "Total params: 160,389\n",
            "Trainable params: 160,389\n",
            "Non-trainable params: 0\n",
            "_________________________________________________________________\n",
            "Epoch 1/15\n",
            "625/625 [==============================] - 3s 4ms/step - loss: 1.1164 - accuracy: 0.6617 - val_loss: 1.2361 - val_accuracy: 0.5752\n",
            "Epoch 2/15\n",
            "625/625 [==============================] - 2s 3ms/step - loss: 0.9721 - accuracy: 0.6826 - val_loss: 1.1948 - val_accuracy: 0.5812\n",
            "Epoch 3/15\n",
            "625/625 [==============================] - 2s 3ms/step - loss: 0.9033 - accuracy: 0.6945 - val_loss: 1.1790 - val_accuracy: 0.5843\n",
            "Epoch 4/15\n",
            "625/625 [==============================] - 2s 3ms/step - loss: 0.8621 - accuracy: 0.7039 - val_loss: 1.1530 - val_accuracy: 0.5908\n",
            "Epoch 5/15\n",
            "625/625 [==============================] - 2s 3ms/step - loss: 0.8289 - accuracy: 0.7110 - val_loss: 1.1531 - val_accuracy: 0.5965\n",
            "Epoch 6/15\n",
            "625/625 [==============================] - 2s 3ms/step - loss: 0.8116 - accuracy: 0.7163 - val_loss: 1.1464 - val_accuracy: 0.5952\n",
            "Epoch 7/15\n",
            "625/625 [==============================] - 2s 3ms/step - loss: 0.7949 - accuracy: 0.7199 - val_loss: 1.1608 - val_accuracy: 0.5930\n",
            "Epoch 8/15\n",
            "625/625 [==============================] - 2s 3ms/step - loss: 0.7737 - accuracy: 0.7270 - val_loss: 1.1602 - val_accuracy: 0.5915\n",
            "Epoch 9/15\n",
            "625/625 [==============================] - 2s 3ms/step - loss: 0.7505 - accuracy: 0.7356 - val_loss: 1.1736 - val_accuracy: 0.5934\n",
            "Epoch 10/15\n",
            "625/625 [==============================] - 2s 3ms/step - loss: 0.7331 - accuracy: 0.7421 - val_loss: 1.1596 - val_accuracy: 0.5881\n",
            "Epoch 11/15\n",
            "625/625 [==============================] - 2s 3ms/step - loss: 0.7176 - accuracy: 0.7494 - val_loss: 1.1663 - val_accuracy: 0.5894\n",
            "Epoch 12/15\n",
            "625/625 [==============================] - 2s 3ms/step - loss: 0.7053 - accuracy: 0.7543 - val_loss: 1.1762 - val_accuracy: 0.5927\n",
            "Epoch 13/15\n",
            "625/625 [==============================] - 2s 3ms/step - loss: 0.6794 - accuracy: 0.7641 - val_loss: 1.1822 - val_accuracy: 0.5906\n",
            "Epoch 14/15\n",
            "625/625 [==============================] - 2s 3ms/step - loss: 0.6649 - accuracy: 0.7701 - val_loss: 1.1875 - val_accuracy: 0.5901\n",
            "Epoch 15/15\n",
            "625/625 [==============================] - 2s 4ms/step - loss: 0.6522 - accuracy: 0.7741 - val_loss: 1.2045 - val_accuracy: 0.5905\n",
            "Model: \"sequential_7\"\n",
            "_________________________________________________________________\n",
            "Layer (type)                 Output Shape              Param #   \n",
            "=================================================================\n",
            "dense_18 (Dense)             (None, 64)                160064    \n",
            "_________________________________________________________________\n",
            "dense_19 (Dense)             (None, 64)                4160      \n",
            "_________________________________________________________________\n",
            "dense_20 (Dense)             (None, 5)                 325       \n",
            "=================================================================\n",
            "Total params: 164,549\n",
            "Trainable params: 164,549\n",
            "Non-trainable params: 0\n",
            "_________________________________________________________________\n",
            "Epoch 1/15\n",
            "625/625 [==============================] - 3s 4ms/step - loss: 1.1488 - accuracy: 0.6321 - val_loss: 1.2307 - val_accuracy: 0.5739\n",
            "Epoch 2/15\n",
            "625/625 [==============================] - 2s 4ms/step - loss: 0.9722 - accuracy: 0.6860 - val_loss: 1.2023 - val_accuracy: 0.5772\n",
            "Epoch 3/15\n",
            "625/625 [==============================] - 2s 4ms/step - loss: 0.9202 - accuracy: 0.6898 - val_loss: 1.1691 - val_accuracy: 0.5862\n",
            "Epoch 4/15\n",
            "625/625 [==============================] - 2s 4ms/step - loss: 0.8737 - accuracy: 0.7013 - val_loss: 1.1658 - val_accuracy: 0.5883\n",
            "Epoch 5/15\n",
            "625/625 [==============================] - 2s 4ms/step - loss: 0.8465 - accuracy: 0.7067 - val_loss: 1.1502 - val_accuracy: 0.5900\n",
            "Epoch 6/15\n",
            "625/625 [==============================] - 2s 4ms/step - loss: 0.8174 - accuracy: 0.7160 - val_loss: 1.1706 - val_accuracy: 0.5903\n",
            "Epoch 7/15\n",
            "625/625 [==============================] - 2s 4ms/step - loss: 0.7930 - accuracy: 0.7206 - val_loss: 1.1636 - val_accuracy: 0.5953\n",
            "Epoch 8/15\n",
            "625/625 [==============================] - 2s 4ms/step - loss: 0.7672 - accuracy: 0.7300 - val_loss: 1.1539 - val_accuracy: 0.5920\n",
            "Epoch 9/15\n",
            "625/625 [==============================] - 2s 4ms/step - loss: 0.7443 - accuracy: 0.7383 - val_loss: 1.1698 - val_accuracy: 0.5905\n",
            "Epoch 10/15\n",
            "625/625 [==============================] - 2s 4ms/step - loss: 0.7229 - accuracy: 0.7449 - val_loss: 1.1752 - val_accuracy: 0.5904\n",
            "Epoch 11/15\n",
            "625/625 [==============================] - 2s 4ms/step - loss: 0.7011 - accuracy: 0.7513 - val_loss: 1.1874 - val_accuracy: 0.5903\n",
            "Epoch 12/15\n",
            "625/625 [==============================] - 2s 4ms/step - loss: 0.6743 - accuracy: 0.7614 - val_loss: 1.2100 - val_accuracy: 0.5834\n",
            "Epoch 13/15\n",
            "625/625 [==============================] - 2s 4ms/step - loss: 0.6531 - accuracy: 0.7733 - val_loss: 1.2213 - val_accuracy: 0.5882\n",
            "Epoch 14/15\n",
            "625/625 [==============================] - 2s 4ms/step - loss: 0.6432 - accuracy: 0.7752 - val_loss: 1.2229 - val_accuracy: 0.5809\n",
            "Epoch 15/15\n",
            "625/625 [==============================] - 2s 4ms/step - loss: 0.6168 - accuracy: 0.7846 - val_loss: 1.2278 - val_accuracy: 0.5746\n",
            "Model: \"sequential_8\"\n",
            "_________________________________________________________________\n",
            "Layer (type)                 Output Shape              Param #   \n",
            "=================================================================\n",
            "dense_21 (Dense)             (None, 64)                160064    \n",
            "_________________________________________________________________\n",
            "dense_22 (Dense)             (None, 64)                4160      \n",
            "_________________________________________________________________\n",
            "dense_23 (Dense)             (None, 64)                4160      \n",
            "_________________________________________________________________\n",
            "dense_24 (Dense)             (None, 5)                 325       \n",
            "=================================================================\n",
            "Total params: 168,709\n",
            "Trainable params: 168,709\n",
            "Non-trainable params: 0\n",
            "_________________________________________________________________\n",
            "Epoch 1/15\n",
            "625/625 [==============================] - 3s 4ms/step - loss: 1.1309 - accuracy: 0.6395 - val_loss: 1.2334 - val_accuracy: 0.5742\n",
            "Epoch 2/15\n",
            "625/625 [==============================] - 2s 4ms/step - loss: 0.9682 - accuracy: 0.6867 - val_loss: 1.1754 - val_accuracy: 0.5819\n",
            "Epoch 3/15\n",
            "625/625 [==============================] - 2s 4ms/step - loss: 0.9225 - accuracy: 0.6875 - val_loss: 1.1691 - val_accuracy: 0.5866\n",
            "Epoch 4/15\n",
            "625/625 [==============================] - 2s 4ms/step - loss: 0.8776 - accuracy: 0.6990 - val_loss: 1.1482 - val_accuracy: 0.5935\n",
            "Epoch 5/15\n",
            "625/625 [==============================] - 2s 4ms/step - loss: 0.8470 - accuracy: 0.7040 - val_loss: 1.1703 - val_accuracy: 0.5910\n",
            "Epoch 6/15\n",
            "625/625 [==============================] - 2s 4ms/step - loss: 0.8036 - accuracy: 0.7160 - val_loss: 1.1504 - val_accuracy: 0.5917\n",
            "Epoch 7/15\n",
            "625/625 [==============================] - 2s 4ms/step - loss: 0.7755 - accuracy: 0.7249 - val_loss: 1.1807 - val_accuracy: 0.5910\n",
            "Epoch 8/15\n",
            "625/625 [==============================] - 2s 4ms/step - loss: 0.7385 - accuracy: 0.7387 - val_loss: 1.2159 - val_accuracy: 0.5896\n",
            "Epoch 9/15\n",
            "625/625 [==============================] - 2s 4ms/step - loss: 0.7076 - accuracy: 0.7484 - val_loss: 1.1972 - val_accuracy: 0.5804\n",
            "Epoch 10/15\n",
            "625/625 [==============================] - 2s 4ms/step - loss: 0.6847 - accuracy: 0.7566 - val_loss: 1.2107 - val_accuracy: 0.5716\n",
            "Epoch 11/15\n",
            "625/625 [==============================] - 2s 4ms/step - loss: 0.6528 - accuracy: 0.7675 - val_loss: 1.2718 - val_accuracy: 0.5806\n",
            "Epoch 12/15\n",
            "625/625 [==============================] - 2s 4ms/step - loss: 0.6353 - accuracy: 0.7746 - val_loss: 1.2889 - val_accuracy: 0.5804\n",
            "Epoch 13/15\n",
            "625/625 [==============================] - 2s 4ms/step - loss: 0.6116 - accuracy: 0.7845 - val_loss: 1.3091 - val_accuracy: 0.5722\n",
            "Epoch 14/15\n",
            "625/625 [==============================] - 2s 4ms/step - loss: 0.5947 - accuracy: 0.7906 - val_loss: 1.3233 - val_accuracy: 0.5667\n",
            "Epoch 15/15\n",
            "625/625 [==============================] - 2s 4ms/step - loss: 0.5681 - accuracy: 0.8009 - val_loss: 1.3570 - val_accuracy: 0.5659\n",
            "Model: \"sequential_9\"\n",
            "_________________________________________________________________\n",
            "Layer (type)                 Output Shape              Param #   \n",
            "=================================================================\n",
            "dense_25 (Dense)             (None, 64)                160064    \n",
            "_________________________________________________________________\n",
            "dense_26 (Dense)             (None, 64)                4160      \n",
            "_________________________________________________________________\n",
            "dense_27 (Dense)             (None, 64)                4160      \n",
            "_________________________________________________________________\n",
            "dense_28 (Dense)             (None, 64)                4160      \n",
            "_________________________________________________________________\n",
            "dense_29 (Dense)             (None, 5)                 325       \n",
            "=================================================================\n",
            "Total params: 172,869\n",
            "Trainable params: 172,869\n",
            "Non-trainable params: 0\n",
            "_________________________________________________________________\n",
            "Epoch 1/15\n",
            "625/625 [==============================] - 4s 4ms/step - loss: 1.1526 - accuracy: 0.6257 - val_loss: 1.2322 - val_accuracy: 0.5742\n",
            "Epoch 2/15\n",
            "625/625 [==============================] - 2s 4ms/step - loss: 0.9653 - accuracy: 0.6850 - val_loss: 1.1861 - val_accuracy: 0.5775\n",
            "Epoch 3/15\n",
            "625/625 [==============================] - 2s 4ms/step - loss: 0.9167 - accuracy: 0.6886 - val_loss: 1.1596 - val_accuracy: 0.5877\n",
            "Epoch 4/15\n",
            "625/625 [==============================] - 2s 4ms/step - loss: 0.8717 - accuracy: 0.6962 - val_loss: 1.1665 - val_accuracy: 0.5902\n",
            "Epoch 5/15\n",
            "625/625 [==============================] - 3s 4ms/step - loss: 0.8480 - accuracy: 0.7023 - val_loss: 1.1503 - val_accuracy: 0.5931\n",
            "Epoch 6/15\n",
            "625/625 [==============================] - 2s 4ms/step - loss: 0.8170 - accuracy: 0.7108 - val_loss: 1.1950 - val_accuracy: 0.5915\n",
            "Epoch 7/15\n",
            "625/625 [==============================] - 2s 4ms/step - loss: 0.7745 - accuracy: 0.7212 - val_loss: 1.1775 - val_accuracy: 0.5854\n",
            "Epoch 8/15\n",
            "625/625 [==============================] - 3s 4ms/step - loss: 0.7404 - accuracy: 0.7403 - val_loss: 1.1974 - val_accuracy: 0.5850\n",
            "Epoch 9/15\n",
            "625/625 [==============================] - 2s 4ms/step - loss: 0.7117 - accuracy: 0.7478 - val_loss: 1.2326 - val_accuracy: 0.5831\n",
            "Epoch 10/15\n",
            "625/625 [==============================] - 2s 4ms/step - loss: 0.6713 - accuracy: 0.7635 - val_loss: 1.2385 - val_accuracy: 0.5791\n",
            "Epoch 11/15\n",
            "625/625 [==============================] - 2s 4ms/step - loss: 0.6512 - accuracy: 0.7735 - val_loss: 1.2711 - val_accuracy: 0.5696\n",
            "Epoch 12/15\n",
            "625/625 [==============================] - 3s 4ms/step - loss: 0.6271 - accuracy: 0.7802 - val_loss: 1.3061 - val_accuracy: 0.5686\n",
            "Epoch 13/15\n",
            "625/625 [==============================] - 2s 4ms/step - loss: 0.6063 - accuracy: 0.7928 - val_loss: 1.3265 - val_accuracy: 0.5715\n",
            "Epoch 14/15\n",
            "625/625 [==============================] - 2s 4ms/step - loss: 0.5689 - accuracy: 0.8021 - val_loss: 1.3536 - val_accuracy: 0.5602\n",
            "Epoch 15/15\n",
            "625/625 [==============================] - 2s 4ms/step - loss: 0.5542 - accuracy: 0.8076 - val_loss: 1.4389 - val_accuracy: 0.5613\n",
            "[0.697350025177002, 0.7717499732971191, 0.7818250060081482, 0.7972750067710876, 0.801675021648407]\n",
            "[0.5932, 0.5928, 0.5803, 0.5765, 0.565]\n",
            "[0.6970499753952026, 0.7043750286102295, 0.7019000053405762, 0.699150025844574, 0.6965000033378601]\n",
            "[0.5905, 0.5927, 0.5979, 0.5991, 0.5987]\n"
          ],
          "name": "stdout"
        }
      ]
    },
    {
      "cell_type": "code",
      "metadata": {
        "id": "bvjLr7ODntEZ"
      },
      "source": [
        ""
      ],
      "execution_count": null,
      "outputs": []
    },
    {
      "cell_type": "markdown",
      "metadata": {
        "id": "A_qzwQccpZWj"
      },
      "source": [
        "### Accuracies Plots"
      ]
    },
    {
      "cell_type": "code",
      "metadata": {
        "id": "54a4FDDQntEZ"
      },
      "source": [
        "all_accuracy = pd.DataFrame(columns=['layers','train_accuracy_sigmoid','test_accuracy_sigmoid','train_accuracy_relu','test_accuracy_relu'],index=np.arange(5))"
      ],
      "execution_count": null,
      "outputs": []
    },
    {
      "cell_type": "code",
      "metadata": {
        "colab": {
          "base_uri": "https://localhost:8080/",
          "height": 204
        },
        "id": "0_rz9ml2ntEa",
        "outputId": "75c1e484-f6f8-42dd-ce82-5be92b772772"
      },
      "source": [
        "all_accuracy['layers'] = np.arange(5)\n",
        "all_accuracy['train_accuracy_sigmoid']= trainAccuraciesSigmoid\n",
        "all_accuracy['test_accuracy_sigmoid'] = testAccuraciesSigmoid\n",
        "all_accuracy['train_accuracy_relu'] = trainAccuraciesReLU\n",
        "all_accuracy['test_accuracy_relu'] = testAccuraciesReLU\n",
        "all_accuracy"
      ],
      "execution_count": null,
      "outputs": [
        {
          "output_type": "execute_result",
          "data": {
            "text/html": [
              "<div>\n",
              "<style scoped>\n",
              "    .dataframe tbody tr th:only-of-type {\n",
              "        vertical-align: middle;\n",
              "    }\n",
              "\n",
              "    .dataframe tbody tr th {\n",
              "        vertical-align: top;\n",
              "    }\n",
              "\n",
              "    .dataframe thead th {\n",
              "        text-align: right;\n",
              "    }\n",
              "</style>\n",
              "<table border=\"1\" class=\"dataframe\">\n",
              "  <thead>\n",
              "    <tr style=\"text-align: right;\">\n",
              "      <th></th>\n",
              "      <th>layers</th>\n",
              "      <th>train_accuracy_sigmoid</th>\n",
              "      <th>test_accuracy_sigmoid</th>\n",
              "      <th>train_accuracy_relu</th>\n",
              "      <th>test_accuracy_relu</th>\n",
              "    </tr>\n",
              "  </thead>\n",
              "  <tbody>\n",
              "    <tr>\n",
              "      <th>0</th>\n",
              "      <td>0</td>\n",
              "      <td>0.697050</td>\n",
              "      <td>0.5905</td>\n",
              "      <td>0.697350</td>\n",
              "      <td>0.5932</td>\n",
              "    </tr>\n",
              "    <tr>\n",
              "      <th>1</th>\n",
              "      <td>1</td>\n",
              "      <td>0.704375</td>\n",
              "      <td>0.5927</td>\n",
              "      <td>0.771750</td>\n",
              "      <td>0.5928</td>\n",
              "    </tr>\n",
              "    <tr>\n",
              "      <th>2</th>\n",
              "      <td>2</td>\n",
              "      <td>0.701900</td>\n",
              "      <td>0.5979</td>\n",
              "      <td>0.781825</td>\n",
              "      <td>0.5803</td>\n",
              "    </tr>\n",
              "    <tr>\n",
              "      <th>3</th>\n",
              "      <td>3</td>\n",
              "      <td>0.699150</td>\n",
              "      <td>0.5991</td>\n",
              "      <td>0.797275</td>\n",
              "      <td>0.5765</td>\n",
              "    </tr>\n",
              "    <tr>\n",
              "      <th>4</th>\n",
              "      <td>4</td>\n",
              "      <td>0.696500</td>\n",
              "      <td>0.5987</td>\n",
              "      <td>0.801675</td>\n",
              "      <td>0.5650</td>\n",
              "    </tr>\n",
              "  </tbody>\n",
              "</table>\n",
              "</div>"
            ],
            "text/plain": [
              "   layers  train_accuracy_sigmoid  ...  train_accuracy_relu  test_accuracy_relu\n",
              "0       0                0.697050  ...             0.697350              0.5932\n",
              "1       1                0.704375  ...             0.771750              0.5928\n",
              "2       2                0.701900  ...             0.781825              0.5803\n",
              "3       3                0.699150  ...             0.797275              0.5765\n",
              "4       4                0.696500  ...             0.801675              0.5650\n",
              "\n",
              "[5 rows x 5 columns]"
            ]
          },
          "metadata": {
            "tags": []
          },
          "execution_count": 28
        }
      ]
    },
    {
      "cell_type": "code",
      "metadata": {
        "id": "mIsdc5vgntEa"
      },
      "source": [
        "import matplotlib.pyplot as plt"
      ],
      "execution_count": null,
      "outputs": []
    },
    {
      "cell_type": "code",
      "metadata": {
        "colab": {
          "base_uri": "https://localhost:8080/",
          "height": 530
        },
        "id": "ODvkQY27ntEb",
        "outputId": "a023f843-f6b3-4022-ad12-975ef8692f40"
      },
      "source": [
        "plt.figure(figsize=(12,8))\n",
        "plt.plot(all_accuracy['layers'],all_accuracy['train_accuracy_sigmoid'],label='train_accuracy_sigmoid')\n",
        "plt.plot(all_accuracy['layers'],all_accuracy['test_accuracy_sigmoid'],label='test_accuracy_sigmoid')\n",
        "plt.plot(all_accuracy['layers'],all_accuracy['train_accuracy_relu'],label='train_accuracy_relu')\n",
        "plt.plot(all_accuracy['layers'],all_accuracy['test_accuracy_relu'],label='test_accuracy_relu')\n",
        "plt.title('For Fasttext Embeddings')\n",
        "plt.xlabel(\"No of hidden layers\")\n",
        "plt.ylabel(\"Accuracy\")\n",
        "plt.legend()\n"
      ],
      "execution_count": null,
      "outputs": [
        {
          "output_type": "execute_result",
          "data": {
            "text/plain": [
              "<matplotlib.legend.Legend at 0x7f4db0544510>"
            ]
          },
          "metadata": {
            "tags": []
          },
          "execution_count": 30
        },
        {
          "output_type": "display_data",
          "data": {
            "image/png": "[encoded data removed]",
            "text/plain": [
              "<Figure size 864x576 with 1 Axes>"
            ]
          },
          "metadata": {
            "tags": [],
            "needs_background": "light"
          }
        }
      ]
    },
    {
      "cell_type": "code",
      "metadata": {
        "id": "yHdX0ltXntEb"
      },
      "source": [
        ""
      ],
      "execution_count": null,
      "outputs": []
    },
    {
      "cell_type": "markdown",
      "metadata": {
        "id": "gPa_ASdHprLR"
      },
      "source": [
        "### Best Model:\n",
        "1. Hidden Layers:\n",
        "2. Activation"
      ]
    },
    {
      "cell_type": "code",
      "metadata": {
        "colab": {
          "base_uri": "https://localhost:8080/"
        },
        "id": "oC8yqvdlntEc",
        "outputId": "8818689c-7288-4280-ba89-44d972b87246"
      },
      "source": [
        "Best_model = NeuralNetGlove(preprocessed_reviews,Y)\n",
        "Best_model.build_nn(hiddenLayers=1,activationHidden='relu')\n",
        "Best_model.train_nn(64,15)\n",
        "y_pred = Best_model.predict(preprocessed_test_reviews)\n",
        "accuracyTest = accuracy_score(test['ratings'],y_pred)\n",
        "accuracyTrain = Best_model.history.history['accuracy'][-1]\n",
        "print(accuracyTrain)\n",
        "print(accuracyTest)"
      ],
      "execution_count": null,
      "outputs": [
        {
          "output_type": "stream",
          "text": [
            "Model: \"sequential_10\"\n",
            "_________________________________________________________________\n",
            "Layer (type)                 Output Shape              Param #   \n",
            "=================================================================\n",
            "dense_30 (Dense)             (None, 64)                160064    \n",
            "_________________________________________________________________\n",
            "dense_31 (Dense)             (None, 5)                 325       \n",
            "=================================================================\n",
            "Total params: 160,389\n",
            "Trainable params: 160,389\n",
            "Non-trainable params: 0\n",
            "_________________________________________________________________\n",
            "Epoch 1/15\n",
            "625/625 [==============================] - 3s 4ms/step - loss: 1.0942 - accuracy: 0.6744 - val_loss: 1.2291 - val_accuracy: 0.5760\n",
            "Epoch 2/15\n",
            "625/625 [==============================] - 2s 3ms/step - loss: 0.9594 - accuracy: 0.6862 - val_loss: 1.1888 - val_accuracy: 0.5828\n",
            "Epoch 3/15\n",
            "625/625 [==============================] - 2s 3ms/step - loss: 0.9071 - accuracy: 0.6945 - val_loss: 1.1739 - val_accuracy: 0.5882\n",
            "Epoch 4/15\n",
            "625/625 [==============================] - 2s 3ms/step - loss: 0.8665 - accuracy: 0.7026 - val_loss: 1.1793 - val_accuracy: 0.5903\n",
            "Epoch 5/15\n",
            "625/625 [==============================] - 2s 3ms/step - loss: 0.8407 - accuracy: 0.7095 - val_loss: 1.1516 - val_accuracy: 0.5925\n",
            "Epoch 6/15\n",
            "625/625 [==============================] - 2s 3ms/step - loss: 0.8196 - accuracy: 0.7139 - val_loss: 1.1430 - val_accuracy: 0.5950\n",
            "Epoch 7/15\n",
            "625/625 [==============================] - 2s 3ms/step - loss: 0.7893 - accuracy: 0.7263 - val_loss: 1.1434 - val_accuracy: 0.5920\n",
            "Epoch 8/15\n",
            "625/625 [==============================] - 2s 3ms/step - loss: 0.7750 - accuracy: 0.7293 - val_loss: 1.1462 - val_accuracy: 0.5919\n",
            "Epoch 9/15\n",
            "625/625 [==============================] - 2s 3ms/step - loss: 0.7542 - accuracy: 0.7375 - val_loss: 1.1503 - val_accuracy: 0.5916\n",
            "Epoch 10/15\n",
            "625/625 [==============================] - 2s 3ms/step - loss: 0.7442 - accuracy: 0.7383 - val_loss: 1.1595 - val_accuracy: 0.5910\n",
            "Epoch 11/15\n",
            "625/625 [==============================] - 2s 3ms/step - loss: 0.7215 - accuracy: 0.7474 - val_loss: 1.1607 - val_accuracy: 0.5870\n",
            "Epoch 12/15\n",
            "625/625 [==============================] - 2s 3ms/step - loss: 0.7061 - accuracy: 0.7531 - val_loss: 1.1888 - val_accuracy: 0.5904\n",
            "Epoch 13/15\n",
            "625/625 [==============================] - 2s 3ms/step - loss: 0.6846 - accuracy: 0.7608 - val_loss: 1.1751 - val_accuracy: 0.5863\n",
            "Epoch 14/15\n",
            "625/625 [==============================] - 2s 3ms/step - loss: 0.6720 - accuracy: 0.7677 - val_loss: 1.2071 - val_accuracy: 0.5911\n",
            "Epoch 15/15\n",
            "625/625 [==============================] - 2s 3ms/step - loss: 0.6574 - accuracy: 0.7704 - val_loss: 1.1888 - val_accuracy: 0.5863\n",
            "0.7669249773025513\n",
            "0.5905\n"
          ],
          "name": "stdout"
        }
      ]
    },
    {
      "cell_type": "markdown",
      "metadata": {
        "id": "V2GETx7pp5dL"
      },
      "source": [
        "##### Report for Best Model"
      ]
    },
    {
      "cell_type": "code",
      "metadata": {
        "colab": {
          "base_uri": "https://localhost:8080/",
          "height": 520
        },
        "id": "2DjobqnintEc",
        "outputId": "1a216873-5294-44fd-b953-92de685bc5d2"
      },
      "source": [
        "report(y_pred,test,Model=Best_model)\n"
      ],
      "execution_count": null,
      "outputs": [
        {
          "output_type": "stream",
          "text": [
            "Classification Report : \n",
            "               precision    recall  f1-score   support\n",
            "\n",
            "           1       0.45      0.17      0.25      1271\n",
            "           2       0.16      0.04      0.07       630\n",
            "           3       0.25      0.11      0.15       911\n",
            "           4       0.24      0.08      0.12      1404\n",
            "           5       0.64      0.94      0.76      5784\n",
            "\n",
            "    accuracy                           0.59     10000\n",
            "   macro avg       0.35      0.27      0.27     10000\n",
            "weighted avg       0.49      0.59      0.51     10000\n",
            "\n",
            "Heat Map :\n",
            "\n"
          ],
          "name": "stdout"
        },
        {
          "output_type": "display_data",
          "data": {
            "image/png": "[encoded data removed]",
            "text/plain": [
              "<Figure size 432x288 with 2 Axes>"
            ]
          },
          "metadata": {
            "tags": [],
            "needs_background": "light"
          }
        }
      ]
    },
    {
      "cell_type": "code",
      "metadata": {
        "id": "HnUmS4USntEc"
      },
      "source": [
        ""
      ],
      "execution_count": null,
      "outputs": []
    },
    {
      "cell_type": "markdown",
      "metadata": {
        "id": "xAql7sxvqAAo"
      },
      "source": [
        "## Predction GUI"
      ]
    },
    {
      "cell_type": "code",
      "metadata": {
        "id": "TDjyU5ointEc"
      },
      "source": [
        "import ipywidgets as widgets\n",
        "from IPython.display import display"
      ],
      "execution_count": null,
      "outputs": []
    },
    {
      "cell_type": "code",
      "metadata": {
        "id": "KCOLMeJentEc"
      },
      "source": [
        "def preprocess_test(input):\n",
        "  input = input.split()\n",
        "  \n",
        "  input = convert_to_lower(input)\n",
        "  input = tokens(input)\n",
        "  emb=[]\n",
        "  for i in input:\n",
        "    try:\n",
        "      emb.append(model.wv[i])\n",
        "    except KeyError:\n",
        "      emb.append(np.zeros((50)))\n",
        "  padded = perform_padding(emb)    \n",
        "  return padded\n"
      ],
      "execution_count": null,
      "outputs": []
    },
    {
      "cell_type": "code",
      "metadata": {
        "colab": {
          "base_uri": "https://localhost:8080/",
          "height": 116,
          "referenced_widgets": [
            "7af910a17d724cb9b5d83b11f0e8684e",
            "8e5aaa437a134fbd8221aebfa8988f66",
            "adb65ca14fb4412ab8991537c077a902",
            "89f77b56b1d14042a1b1ff5611c01915",
            "bac8698d958e4ac08cd2ec1adc4e82ff",
            "f02962aefde64c3aaf3e55e0b61f8712",
            "2889621b51ef400982b68a8470e234d5",
            "0de23603aa2f498090514573abcbf4e7"
          ]
        },
        "id": "WUTglcmjntEd",
        "outputId": "ca9825da-8ece-47f1-b8e8-b3fcd138a901"
      },
      "source": [
        "k = widgets.Textarea(\n",
        "    value=\"\",\n",
        "    placeholder='Type something',\n",
        "    description='String:',\n",
        "    disabled=False)\n",
        "button = widgets.Button(description=\"Predict!\")\n",
        "output = widgets.Output()\n",
        "display(k,button, output)\n",
        "def on_button_clicked(b):\n",
        "    output.clear_output()\n",
        "    if k.value == \"\":\n",
        "      output.clear_output()\n",
        "    else :\n",
        "        with output:\n",
        "        text = preprocess_test(k.value)\n",
        "        tmp=[]\n",
        "        for i in text:\n",
        "          for j in i:\n",
        "            tmp.append(j)\n",
        "        text_ = np.zeros(2500)\n",
        "        text_[:len(tmp)]=tmp\n",
        "\n",
        "        prediction = Best_model.predict(np.array([text_]))\n",
        "        print(\"Predicted Sentiment:\",prediction[0])\n",
        "    \n",
        "button.on_click(on_button_clicked)"
      ],
      "execution_count": null,
      "outputs": [
        {
          "output_type": "display_data",
          "data": {
            "application/vnd.jupyter.widget-view+json": {
              "model_id": "7af910a17d724cb9b5d83b11f0e8684e",
              "version_minor": 0,
              "version_major": 2
            },
            "text/plain": [
              "Textarea(value='', description='String:', placeholder='Type something')"
            ]
          },
          "metadata": {
            "tags": []
          }
        },
        {
          "output_type": "display_data",
          "data": {
            "application/vnd.jupyter.widget-view+json": {
              "model_id": "89f77b56b1d14042a1b1ff5611c01915",
              "version_minor": 0,
              "version_major": 2
            },
            "text/plain": [
              "Button(description='Predict!', style=ButtonStyle())"
            ]
          },
          "metadata": {
            "tags": []
          }
        },
        {
          "output_type": "display_data",
          "data": {
            "application/vnd.jupyter.widget-view+json": {
              "model_id": "2889621b51ef400982b68a8470e234d5",
              "version_minor": 0,
              "version_major": 2
            },
            "text/plain": [
              "Output()"
            ]
          },
          "metadata": {
            "tags": []
          }
        }
      ]
    },
    {
      "cell_type": "code",
      "metadata": {
        "id": "8z30cifPntEd"
      },
      "source": [
        ""
      ],
      "execution_count": null,
      "outputs": []
    },
    {
      "cell_type": "code",
      "metadata": {
        "id": "GmNLkZJintEd"
      },
      "source": [
        ""
      ],
      "execution_count": null,
      "outputs": []
    },
    {
      "cell_type": "markdown",
      "metadata": {
        "id": "VD23GOTQqKf4"
      },
      "source": [
        "### Different Models"
      ]
    },
    {
      "cell_type": "markdown",
      "metadata": {
        "id": "qcE1bNo9qQd1"
      },
      "source": [
        "##### Hidden Layers:0, Activation:Sigmoid"
      ]
    },
    {
      "cell_type": "code",
      "metadata": {
        "colab": {
          "base_uri": "https://localhost:8080/"
        },
        "id": "UNNe_kXKntEd",
        "outputId": "200457bd-1cb4-47b7-8d43-323c7b6ea7ab"
      },
      "source": [
        "Sigmoid0 = NeuralNetGlove(preprocessed_reviews,Y)\n",
        "Sigmoid0.build_nn(hiddenLayers=0,activationHidden='sigmoid')\n",
        "Sigmoid0.train_nn(64,15)\n",
        "y_pred = Sigmoid0.predict(preprocessed_test_reviews)\n",
        "accuracyTest = accuracy_score(test['ratings'],y_pred)\n",
        "accuracyTrain = Sigmoid0.history.history['accuracy'][-1]\n",
        "print(accuracyTrain)\n",
        "print(accuracyTest)"
      ],
      "execution_count": null,
      "outputs": [
        {
          "output_type": "stream",
          "text": [
            "Model: \"sequential_11\"\n",
            "_________________________________________________________________\n",
            "Layer (type)                 Output Shape              Param #   \n",
            "=================================================================\n",
            "dense_32 (Dense)             (None, 5)                 12505     \n",
            "=================================================================\n",
            "Total params: 12,505\n",
            "Trainable params: 12,505\n",
            "Non-trainable params: 0\n",
            "_________________________________________________________________\n",
            "Epoch 1/15\n",
            "625/625 [==============================] - 2s 3ms/step - loss: 1.2249 - accuracy: 0.6104 - val_loss: 1.3405 - val_accuracy: 0.5721\n",
            "Epoch 2/15\n",
            "625/625 [==============================] - 1s 2ms/step - loss: 1.0387 - accuracy: 0.6788 - val_loss: 1.2842 - val_accuracy: 0.5739\n",
            "Epoch 3/15\n",
            "625/625 [==============================] - 1s 2ms/step - loss: 0.9971 - accuracy: 0.6817 - val_loss: 1.2340 - val_accuracy: 0.5759\n",
            "Epoch 4/15\n",
            "625/625 [==============================] - 1s 2ms/step - loss: 0.9532 - accuracy: 0.6918 - val_loss: 1.1996 - val_accuracy: 0.5776\n",
            "Epoch 5/15\n",
            "625/625 [==============================] - 1s 2ms/step - loss: 0.9443 - accuracy: 0.6879 - val_loss: 1.2179 - val_accuracy: 0.5793\n",
            "Epoch 6/15\n",
            "625/625 [==============================] - 1s 2ms/step - loss: 0.9378 - accuracy: 0.6878 - val_loss: 1.1842 - val_accuracy: 0.5824\n",
            "Epoch 7/15\n",
            "625/625 [==============================] - 1s 2ms/step - loss: 0.9279 - accuracy: 0.6874 - val_loss: 1.1729 - val_accuracy: 0.5829\n",
            "Epoch 8/15\n",
            "625/625 [==============================] - 1s 2ms/step - loss: 0.9160 - accuracy: 0.6922 - val_loss: 1.1691 - val_accuracy: 0.5839\n",
            "Epoch 9/15\n",
            "625/625 [==============================] - 1s 2ms/step - loss: 0.9074 - accuracy: 0.6943 - val_loss: 1.1723 - val_accuracy: 0.5860\n",
            "Epoch 10/15\n",
            "625/625 [==============================] - 1s 2ms/step - loss: 0.9022 - accuracy: 0.6942 - val_loss: 1.1719 - val_accuracy: 0.5851\n",
            "Epoch 11/15\n",
            "625/625 [==============================] - 1s 2ms/step - loss: 0.9017 - accuracy: 0.6943 - val_loss: 1.1598 - val_accuracy: 0.5887\n",
            "Epoch 12/15\n",
            "625/625 [==============================] - 1s 2ms/step - loss: 0.8990 - accuracy: 0.6945 - val_loss: 1.1532 - val_accuracy: 0.5878\n",
            "Epoch 13/15\n",
            "625/625 [==============================] - 1s 2ms/step - loss: 0.8864 - accuracy: 0.6990 - val_loss: 1.1585 - val_accuracy: 0.5872\n",
            "Epoch 14/15\n",
            "625/625 [==============================] - 1s 2ms/step - loss: 0.8805 - accuracy: 0.6989 - val_loss: 1.1671 - val_accuracy: 0.5897\n",
            "Epoch 15/15\n",
            "625/625 [==============================] - 1s 2ms/step - loss: 0.8846 - accuracy: 0.6983 - val_loss: 1.1476 - val_accuracy: 0.5892\n",
            "0.6973000168800354\n",
            "0.5932\n"
          ],
          "name": "stdout"
        }
      ]
    },
    {
      "cell_type": "code",
      "metadata": {
        "colab": {
          "base_uri": "https://localhost:8080/",
          "height": 520
        },
        "id": "jYMy2kAcntEe",
        "outputId": "fc7d0ff1-2ba3-45f0-e572-0dcbd9ff10db"
      },
      "source": [
        "report(y_pred,test,Model=Sigmoid0)"
      ],
      "execution_count": null,
      "outputs": [
        {
          "output_type": "stream",
          "text": [
            "Classification Report : \n",
            "               precision    recall  f1-score   support\n",
            "\n",
            "           1       0.45      0.13      0.21      1271\n",
            "           2       0.16      0.01      0.02       630\n",
            "           3       0.28      0.08      0.12       911\n",
            "           4       0.26      0.04      0.06      1404\n",
            "           5       0.62      0.97      0.76      5784\n",
            "\n",
            "    accuracy                           0.59     10000\n",
            "   macro avg       0.35      0.25      0.23     10000\n",
            "weighted avg       0.49      0.59      0.48     10000\n",
            "\n",
            "Heat Map :\n",
            "\n"
          ],
          "name": "stdout"
        },
        {
          "output_type": "display_data",
          "data": {
            "image/png": "[encoded data removed]",
            "text/plain": [
              "<Figure size 432x288 with 2 Axes>"
            ]
          },
          "metadata": {
            "tags": [],
            "needs_background": "light"
          }
        }
      ]
    },
    {
      "cell_type": "markdown",
      "metadata": {
        "id": "LHPyM0XiqRh3"
      },
      "source": [
        "##### Hidden Layers:1, Activation: Sigmoid"
      ]
    },
    {
      "cell_type": "code",
      "metadata": {
        "colab": {
          "base_uri": "https://localhost:8080/"
        },
        "id": "KsCes88TntEe",
        "outputId": "ada7bc25-09bf-4b6f-943c-37673445dc9c"
      },
      "source": [
        "Sigmoid1 = NeuralNetGlove(preprocessed_reviews,Y)\n",
        "Sigmoid1.build_nn(hiddenLayers=1,activationHidden='sigmoid')\n",
        "Sigmoid1.train_nn(64,15)\n",
        "y_pred = Sigmoid1.predict(preprocessed_test_reviews)\n",
        "accuracyTest = accuracy_score(test['ratings'],y_pred)\n",
        "accuracyTrain = Sigmoid1.history.history['accuracy'][-1]\n",
        "print(accuracyTrain)\n",
        "print(accuracyTest)"
      ],
      "execution_count": null,
      "outputs": [
        {
          "output_type": "stream",
          "text": [
            "Model: \"sequential_12\"\n",
            "_________________________________________________________________\n",
            "Layer (type)                 Output Shape              Param #   \n",
            "=================================================================\n",
            "dense_33 (Dense)             (None, 64)                160064    \n",
            "_________________________________________________________________\n",
            "dense_34 (Dense)             (None, 5)                 325       \n",
            "=================================================================\n",
            "Total params: 160,389\n",
            "Trainable params: 160,389\n",
            "Non-trainable params: 0\n",
            "_________________________________________________________________\n",
            "Epoch 1/15\n",
            "625/625 [==============================] - 2s 3ms/step - loss: 1.1288 - accuracy: 0.6312 - val_loss: 1.2560 - val_accuracy: 0.5741\n",
            "Epoch 2/15\n",
            "625/625 [==============================] - 2s 3ms/step - loss: 0.9841 - accuracy: 0.6884 - val_loss: 1.2050 - val_accuracy: 0.5741\n",
            "Epoch 3/15\n",
            "625/625 [==============================] - 2s 3ms/step - loss: 0.9609 - accuracy: 0.6831 - val_loss: 1.1801 - val_accuracy: 0.5773\n",
            "Epoch 4/15\n",
            "625/625 [==============================] - 2s 3ms/step - loss: 0.9233 - accuracy: 0.6910 - val_loss: 1.1719 - val_accuracy: 0.5793\n",
            "Epoch 5/15\n",
            "625/625 [==============================] - 2s 3ms/step - loss: 0.9081 - accuracy: 0.6930 - val_loss: 1.1491 - val_accuracy: 0.5876\n",
            "Epoch 6/15\n",
            "625/625 [==============================] - 2s 3ms/step - loss: 0.9056 - accuracy: 0.6911 - val_loss: 1.1573 - val_accuracy: 0.5858\n",
            "Epoch 7/15\n",
            "625/625 [==============================] - 2s 3ms/step - loss: 0.8824 - accuracy: 0.6992 - val_loss: 1.1443 - val_accuracy: 0.5889\n",
            "Epoch 8/15\n",
            "625/625 [==============================] - 2s 3ms/step - loss: 0.8787 - accuracy: 0.6981 - val_loss: 1.1375 - val_accuracy: 0.5911\n",
            "Epoch 9/15\n",
            "625/625 [==============================] - 2s 3ms/step - loss: 0.8771 - accuracy: 0.6971 - val_loss: 1.1365 - val_accuracy: 0.5914\n",
            "Epoch 10/15\n",
            "625/625 [==============================] - 2s 3ms/step - loss: 0.8623 - accuracy: 0.7015 - val_loss: 1.1478 - val_accuracy: 0.5920\n",
            "Epoch 11/15\n",
            "625/625 [==============================] - 2s 3ms/step - loss: 0.8570 - accuracy: 0.7029 - val_loss: 1.1490 - val_accuracy: 0.5913\n",
            "Epoch 12/15\n",
            "625/625 [==============================] - 2s 3ms/step - loss: 0.8608 - accuracy: 0.6978 - val_loss: 1.1370 - val_accuracy: 0.5938\n",
            "Epoch 13/15\n",
            "625/625 [==============================] - 2s 3ms/step - loss: 0.8402 - accuracy: 0.7070 - val_loss: 1.1422 - val_accuracy: 0.5918\n",
            "Epoch 14/15\n",
            "625/625 [==============================] - 2s 3ms/step - loss: 0.8380 - accuracy: 0.7092 - val_loss: 1.1319 - val_accuracy: 0.5938\n",
            "Epoch 15/15\n",
            "625/625 [==============================] - 2s 3ms/step - loss: 0.8399 - accuracy: 0.7056 - val_loss: 1.1292 - val_accuracy: 0.5944\n",
            "0.705299973487854\n",
            "0.5952\n"
          ],
          "name": "stdout"
        }
      ]
    },
    {
      "cell_type": "code",
      "metadata": {
        "colab": {
          "base_uri": "https://localhost:8080/",
          "height": 520
        },
        "id": "Z8OXstPVntEe",
        "outputId": "4c2352ed-d9ea-4d36-e68b-ee23aa7187c8"
      },
      "source": [
        "report(y_pred,test,Model=Sigmoid1)"
      ],
      "execution_count": null,
      "outputs": [
        {
          "output_type": "stream",
          "text": [
            "Classification Report : \n",
            "               precision    recall  f1-score   support\n",
            "\n",
            "           1       0.46      0.15      0.23      1271\n",
            "           2       0.12      0.02      0.03       630\n",
            "           3       0.28      0.08      0.12       911\n",
            "           4       0.25      0.01      0.02      1404\n",
            "           5       0.62      0.98      0.76      5784\n",
            "\n",
            "    accuracy                           0.60     10000\n",
            "   macro avg       0.35      0.25      0.23     10000\n",
            "weighted avg       0.48      0.60      0.48     10000\n",
            "\n",
            "Heat Map :\n",
            "\n"
          ],
          "name": "stdout"
        },
        {
          "output_type": "display_data",
          "data": {
            "image/png": "[encoded data removed]",
            "text/plain": [
              "<Figure size 432x288 with 2 Axes>"
            ]
          },
          "metadata": {
            "tags": [],
            "needs_background": "light"
          }
        }
      ]
    },
    {
      "cell_type": "markdown",
      "metadata": {
        "id": "_Ha2nylvqSv0"
      },
      "source": [
        "##### Hidden layers:0, Activation: ReLU"
      ]
    },
    {
      "cell_type": "code",
      "metadata": {
        "colab": {
          "base_uri": "https://localhost:8080/"
        },
        "id": "yxPKnvx1ntEe",
        "outputId": "fc504bf9-4140-48f0-da56-3e3c47692b41"
      },
      "source": [
        "ReLU0 = NeuralNetGlove(preprocessed_reviews,Y)\n",
        "ReLU0.build_nn(hiddenLayers=0,activationHidden='relu')\n",
        "ReLU0.train_nn(64,15)\n",
        "y_pred = ReLU0.predict(preprocessed_test_reviews)\n",
        "accuracyTest = accuracy_score(test['ratings'],y_pred)\n",
        "accuracyTrain = ReLU0.history.history['accuracy'][-1]\n",
        "print(accuracyTrain)\n",
        "print(accuracyTest)"
      ],
      "execution_count": null,
      "outputs": [
        {
          "output_type": "stream",
          "text": [
            "Model: \"sequential_13\"\n",
            "_________________________________________________________________\n",
            "Layer (type)                 Output Shape              Param #   \n",
            "=================================================================\n",
            "dense_35 (Dense)             (None, 5)                 12505     \n",
            "=================================================================\n",
            "Total params: 12,505\n",
            "Trainable params: 12,505\n",
            "Non-trainable params: 0\n",
            "_________________________________________________________________\n",
            "Epoch 1/15\n",
            "625/625 [==============================] - 2s 3ms/step - loss: 1.2316 - accuracy: 0.6098 - val_loss: 1.3089 - val_accuracy: 0.5720\n",
            "Epoch 2/15\n",
            "625/625 [==============================] - 1s 2ms/step - loss: 1.0329 - accuracy: 0.6821 - val_loss: 1.2425 - val_accuracy: 0.5753\n",
            "Epoch 3/15\n",
            "625/625 [==============================] - 1s 2ms/step - loss: 0.9813 - accuracy: 0.6899 - val_loss: 1.2179 - val_accuracy: 0.5772\n",
            "Epoch 4/15\n",
            "625/625 [==============================] - 1s 2ms/step - loss: 0.9640 - accuracy: 0.6857 - val_loss: 1.1951 - val_accuracy: 0.5799\n",
            "Epoch 5/15\n",
            "625/625 [==============================] - 1s 2ms/step - loss: 0.9504 - accuracy: 0.6859 - val_loss: 1.1940 - val_accuracy: 0.5826\n",
            "Epoch 6/15\n",
            "625/625 [==============================] - 1s 2ms/step - loss: 0.9272 - accuracy: 0.6936 - val_loss: 1.1828 - val_accuracy: 0.5825\n",
            "Epoch 7/15\n",
            "625/625 [==============================] - 1s 2ms/step - loss: 0.9239 - accuracy: 0.6907 - val_loss: 1.1770 - val_accuracy: 0.5845\n",
            "Epoch 8/15\n",
            "625/625 [==============================] - 1s 2ms/step - loss: 0.9140 - accuracy: 0.6924 - val_loss: 1.1685 - val_accuracy: 0.5867\n",
            "Epoch 9/15\n",
            "625/625 [==============================] - 1s 2ms/step - loss: 0.9063 - accuracy: 0.6937 - val_loss: 1.1695 - val_accuracy: 0.5866\n",
            "Epoch 10/15\n",
            "625/625 [==============================] - 1s 2ms/step - loss: 0.8969 - accuracy: 0.6975 - val_loss: 1.1644 - val_accuracy: 0.5884\n",
            "Epoch 11/15\n",
            "625/625 [==============================] - 1s 2ms/step - loss: 0.8988 - accuracy: 0.6957 - val_loss: 1.1578 - val_accuracy: 0.5884\n",
            "Epoch 12/15\n",
            "625/625 [==============================] - 1s 2ms/step - loss: 0.8888 - accuracy: 0.6958 - val_loss: 1.1524 - val_accuracy: 0.5900\n",
            "Epoch 13/15\n",
            "625/625 [==============================] - 1s 2ms/step - loss: 0.8958 - accuracy: 0.6937 - val_loss: 1.1656 - val_accuracy: 0.5864\n",
            "Epoch 14/15\n",
            "625/625 [==============================] - 1s 2ms/step - loss: 0.8885 - accuracy: 0.6943 - val_loss: 1.1438 - val_accuracy: 0.5920\n",
            "Epoch 15/15\n",
            "625/625 [==============================] - 1s 2ms/step - loss: 0.8883 - accuracy: 0.6978 - val_loss: 1.1591 - val_accuracy: 0.5880\n",
            "0.6973249912261963\n",
            "0.5907\n"
          ],
          "name": "stdout"
        }
      ]
    },
    {
      "cell_type": "code",
      "metadata": {
        "colab": {
          "base_uri": "https://localhost:8080/",
          "height": 520
        },
        "id": "g_xV9oW4ntEf",
        "outputId": "64a77f45-bf4d-4d30-db67-8c2f7b2cf55e"
      },
      "source": [
        "report(y_pred,test,Model=ReLU0)"
      ],
      "execution_count": null,
      "outputs": [
        {
          "output_type": "stream",
          "text": [
            "Classification Report : \n",
            "               precision    recall  f1-score   support\n",
            "\n",
            "           1       0.49      0.10      0.17      1271\n",
            "           2       0.14      0.01      0.02       630\n",
            "           3       0.28      0.06      0.10       911\n",
            "           4       0.28      0.04      0.06      1404\n",
            "           5       0.61      0.98      0.75      5784\n",
            "\n",
            "    accuracy                           0.59     10000\n",
            "   macro avg       0.36      0.24      0.22     10000\n",
            "weighted avg       0.49      0.59      0.48     10000\n",
            "\n",
            "Heat Map :\n",
            "\n"
          ],
          "name": "stdout"
        },
        {
          "output_type": "display_data",
          "data": {
            "image/png": "[encoded data removed]",
            "text/plain": [
              "<Figure size 432x288 with 2 Axes>"
            ]
          },
          "metadata": {
            "tags": [],
            "needs_background": "light"
          }
        }
      ]
    },
    {
      "cell_type": "markdown",
      "metadata": {
        "id": "yJzOXQDFqT1C"
      },
      "source": [
        "##### Hidden layers:1, Activation:ReLU"
      ]
    },
    {
      "cell_type": "code",
      "metadata": {
        "colab": {
          "base_uri": "https://localhost:8080/"
        },
        "id": "5vqHJB86ntEf",
        "outputId": "89a71fa6-348a-4a48-d37f-196fd1c4a73e"
      },
      "source": [
        "ReLU1 = NeuralNetGlove(preprocessed_reviews,Y)\n",
        "ReLU1.build_nn(hiddenLayers=1,activationHidden='relu')\n",
        "ReLU1.train_nn(64,15)\n",
        "y_pred = ReLU1.predict(preprocessed_test_reviews)\n",
        "accuracyTest = accuracy_score(test['ratings'],y_pred)\n",
        "accuracyTrain = ReLU1.history.history['accuracy'][-1]\n",
        "print(accuracyTrain)\n",
        "print(accuracyTest)"
      ],
      "execution_count": null,
      "outputs": [
        {
          "output_type": "stream",
          "text": [
            "Model: \"sequential_14\"\n",
            "_________________________________________________________________\n",
            "Layer (type)                 Output Shape              Param #   \n",
            "=================================================================\n",
            "dense_36 (Dense)             (None, 64)                160064    \n",
            "_________________________________________________________________\n",
            "dense_37 (Dense)             (None, 5)                 325       \n",
            "=================================================================\n",
            "Total params: 160,389\n",
            "Trainable params: 160,389\n",
            "Non-trainable params: 0\n",
            "_________________________________________________________________\n",
            "Epoch 1/15\n",
            "625/625 [==============================] - 3s 4ms/step - loss: 1.1022 - accuracy: 0.6682 - val_loss: 1.2359 - val_accuracy: 0.5763\n",
            "Epoch 2/15\n",
            "625/625 [==============================] - 2s 3ms/step - loss: 0.9511 - accuracy: 0.6893 - val_loss: 1.2008 - val_accuracy: 0.5807\n",
            "Epoch 3/15\n",
            "625/625 [==============================] - 2s 3ms/step - loss: 0.9098 - accuracy: 0.6923 - val_loss: 1.1724 - val_accuracy: 0.5862\n",
            "Epoch 4/15\n",
            "625/625 [==============================] - 2s 3ms/step - loss: 0.8701 - accuracy: 0.7002 - val_loss: 1.1606 - val_accuracy: 0.5902\n",
            "Epoch 5/15\n",
            "625/625 [==============================] - 2s 3ms/step - loss: 0.8486 - accuracy: 0.7034 - val_loss: 1.1637 - val_accuracy: 0.5894\n",
            "Epoch 6/15\n",
            "625/625 [==============================] - 2s 3ms/step - loss: 0.8294 - accuracy: 0.7088 - val_loss: 1.1448 - val_accuracy: 0.5893\n",
            "Epoch 7/15\n",
            "625/625 [==============================] - 2s 3ms/step - loss: 0.7993 - accuracy: 0.7203 - val_loss: 1.1626 - val_accuracy: 0.5885\n",
            "Epoch 8/15\n",
            "625/625 [==============================] - 2s 3ms/step - loss: 0.7868 - accuracy: 0.7225 - val_loss: 1.1995 - val_accuracy: 0.5879\n",
            "Epoch 9/15\n",
            "625/625 [==============================] - 2s 3ms/step - loss: 0.7566 - accuracy: 0.7316 - val_loss: 1.1719 - val_accuracy: 0.5927\n",
            "Epoch 10/15\n",
            "625/625 [==============================] - 2s 3ms/step - loss: 0.7376 - accuracy: 0.7398 - val_loss: 1.1850 - val_accuracy: 0.5930\n",
            "Epoch 11/15\n",
            "625/625 [==============================] - 2s 3ms/step - loss: 0.7239 - accuracy: 0.7444 - val_loss: 1.1742 - val_accuracy: 0.5927\n",
            "Epoch 12/15\n",
            "625/625 [==============================] - 2s 3ms/step - loss: 0.7035 - accuracy: 0.7547 - val_loss: 1.1882 - val_accuracy: 0.5914\n",
            "Epoch 13/15\n",
            "625/625 [==============================] - 2s 3ms/step - loss: 0.6999 - accuracy: 0.7535 - val_loss: 1.1898 - val_accuracy: 0.5866\n",
            "Epoch 14/15\n",
            "625/625 [==============================] - 2s 3ms/step - loss: 0.6828 - accuracy: 0.7613 - val_loss: 1.1841 - val_accuracy: 0.5881\n",
            "Epoch 15/15\n",
            "625/625 [==============================] - 2s 3ms/step - loss: 0.6687 - accuracy: 0.7652 - val_loss: 1.2063 - val_accuracy: 0.5901\n",
            "0.7644000053405762\n",
            "0.5914\n"
          ],
          "name": "stdout"
        }
      ]
    },
    {
      "cell_type": "code",
      "metadata": {
        "colab": {
          "base_uri": "https://localhost:8080/",
          "height": 520
        },
        "id": "jyYXCXs6ntEf",
        "outputId": "7c2398b6-b7fb-4444-a93d-dcce34de47e5"
      },
      "source": [
        "report(y_pred,test,Model=ReLU1)"
      ],
      "execution_count": null,
      "outputs": [
        {
          "output_type": "stream",
          "text": [
            "Classification Report : \n",
            "               precision    recall  f1-score   support\n",
            "\n",
            "           1       0.44      0.18      0.26      1271\n",
            "           2       0.14      0.03      0.04       630\n",
            "           3       0.24      0.10      0.14       911\n",
            "           4       0.27      0.07      0.11      1404\n",
            "           5       0.63      0.95      0.76      5784\n",
            "\n",
            "    accuracy                           0.59     10000\n",
            "   macro avg       0.35      0.26      0.26     10000\n",
            "weighted avg       0.49      0.59      0.50     10000\n",
            "\n",
            "Heat Map :\n",
            "\n"
          ],
          "name": "stdout"
        },
        {
          "output_type": "display_data",
          "data": {
            "image/png": "[encoded data removed]",
            "text/plain": [
              "<Figure size 432x288 with 2 Axes>"
            ]
          },
          "metadata": {
            "tags": [],
            "needs_background": "light"
          }
        }
      ]
    },
    {
      "cell_type": "code",
      "metadata": {
        "id": "fsphRwg3ntEf"
      },
      "source": [
        ""
      ],
      "execution_count": null,
      "outputs": []
    },
    {
      "cell_type": "code",
      "metadata": {
        "id": "jbXPiyi2ntEf"
      },
      "source": [
        ""
      ],
      "execution_count": null,
      "outputs": []
    }
  ]
}
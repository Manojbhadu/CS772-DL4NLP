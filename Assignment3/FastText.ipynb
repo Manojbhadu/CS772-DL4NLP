{
  "nbformat": 4,
  "nbformat_minor": 0,
  "metadata": {
    "kernelspec": {
      "display_name": "Python 3",
      "language": "python",
      "name": "python3"
    },
    "language_info": {
      "codemirror_mode": {
        "name": "ipython",
        "version": 3
      },
      "file_extension": ".py",
      "mimetype": "text/x-python",
      "name": "python",
      "nbconvert_exporter": "python",
      "pygments_lexer": "ipython3",
      "version": "3.6.9-final"
    },
    "colab": {
      "name": "FastText.ipynb",
      "provenance": [],
      "collapsed_sections": []
    },
    "widgets": {
      "application/vnd.jupyter.widget-state+json": {
        "a5d9c148e8524233819d75b4d26722c9": {
          "model_module": "@jupyter-widgets/controls",
          "model_name": "TextareaModel",
          "state": {
            "_view_name": "TextareaView",
            "style": "IPY_MODEL_847d2f8550114064ad3ee48072a57d89",
            "rows": null,
            "_dom_classes": [],
            "description": "String:",
            "_model_name": "TextareaModel",
            "placeholder": "Type something",
            "_view_module": "@jupyter-widgets/controls",
            "_model_module_version": "1.5.0",
            "value": "I am happy\n",
            "_view_count": null,
            "disabled": false,
            "_view_module_version": "1.5.0",
            "continuous_update": true,
            "description_tooltip": null,
            "_model_module": "@jupyter-widgets/controls",
            "layout": "IPY_MODEL_c05d7210d14045a5a2a0ede3756a985e"
          }
        },
        "847d2f8550114064ad3ee48072a57d89": {
          "model_module": "@jupyter-widgets/controls",
          "model_name": "DescriptionStyleModel",
          "state": {
            "_view_name": "StyleView",
            "_model_name": "DescriptionStyleModel",
            "description_width": "",
            "_view_module": "@jupyter-widgets/base",
            "_model_module_version": "1.5.0",
            "_view_count": null,
            "_view_module_version": "1.2.0",
            "_model_module": "@jupyter-widgets/controls"
          }
        },
        "c05d7210d14045a5a2a0ede3756a985e": {
          "model_module": "@jupyter-widgets/base",
          "model_name": "LayoutModel",
          "state": {
            "_view_name": "LayoutView",
            "grid_template_rows": null,
            "right": null,
            "justify_content": null,
            "_view_module": "@jupyter-widgets/base",
            "overflow": null,
            "_model_module_version": "1.2.0",
            "_view_count": null,
            "flex_flow": null,
            "width": null,
            "min_width": null,
            "border": null,
            "align_items": null,
            "bottom": null,
            "_model_module": "@jupyter-widgets/base",
            "top": null,
            "grid_column": null,
            "overflow_y": null,
            "overflow_x": null,
            "grid_auto_flow": null,
            "grid_area": null,
            "grid_template_columns": null,
            "flex": null,
            "_model_name": "LayoutModel",
            "justify_items": null,
            "grid_row": null,
            "max_height": null,
            "align_content": null,
            "visibility": null,
            "align_self": null,
            "height": null,
            "min_height": null,
            "padding": null,
            "grid_auto_rows": null,
            "grid_gap": null,
            "max_width": null,
            "order": null,
            "_view_module_version": "1.2.0",
            "grid_template_areas": null,
            "object_position": null,
            "object_fit": null,
            "grid_auto_columns": null,
            "margin": null,
            "display": null,
            "left": null
          }
        },
        "7e76e5cfec504afda7a69da15a917fe7": {
          "model_module": "@jupyter-widgets/controls",
          "model_name": "ButtonModel",
          "state": {
            "_view_name": "ButtonView",
            "style": "IPY_MODEL_9dbc0cd3f9bb47f8a6cb1566d4db5966",
            "_dom_classes": [],
            "description": "Predict!",
            "_model_name": "ButtonModel",
            "button_style": "",
            "_view_module": "@jupyter-widgets/controls",
            "_model_module_version": "1.5.0",
            "tooltip": "",
            "_view_count": null,
            "disabled": false,
            "_view_module_version": "1.5.0",
            "layout": "IPY_MODEL_ce4879d5abcc4d5a9d80c41d9f4539ed",
            "_model_module": "@jupyter-widgets/controls",
            "icon": ""
          }
        },
        "9dbc0cd3f9bb47f8a6cb1566d4db5966": {
          "model_module": "@jupyter-widgets/controls",
          "model_name": "ButtonStyleModel",
          "state": {
            "_view_name": "StyleView",
            "_model_name": "ButtonStyleModel",
            "_view_module": "@jupyter-widgets/base",
            "_model_module_version": "1.5.0",
            "_view_count": null,
            "button_color": null,
            "font_weight": "",
            "_view_module_version": "1.2.0",
            "_model_module": "@jupyter-widgets/controls"
          }
        },
        "ce4879d5abcc4d5a9d80c41d9f4539ed": {
          "model_module": "@jupyter-widgets/base",
          "model_name": "LayoutModel",
          "state": {
            "_view_name": "LayoutView",
            "grid_template_rows": null,
            "right": null,
            "justify_content": null,
            "_view_module": "@jupyter-widgets/base",
            "overflow": null,
            "_model_module_version": "1.2.0",
            "_view_count": null,
            "flex_flow": null,
            "width": null,
            "min_width": null,
            "border": null,
            "align_items": null,
            "bottom": null,
            "_model_module": "@jupyter-widgets/base",
            "top": null,
            "grid_column": null,
            "overflow_y": null,
            "overflow_x": null,
            "grid_auto_flow": null,
            "grid_area": null,
            "grid_template_columns": null,
            "flex": null,
            "_model_name": "LayoutModel",
            "justify_items": null,
            "grid_row": null,
            "max_height": null,
            "align_content": null,
            "visibility": null,
            "align_self": null,
            "height": null,
            "min_height": null,
            "padding": null,
            "grid_auto_rows": null,
            "grid_gap": null,
            "max_width": null,
            "order": null,
            "_view_module_version": "1.2.0",
            "grid_template_areas": null,
            "object_position": null,
            "object_fit": null,
            "grid_auto_columns": null,
            "margin": null,
            "display": null,
            "left": null
          }
        },
        "c678b23199b540a3b0ea139355b289bb": {
          "model_module": "@jupyter-widgets/output",
          "model_name": "OutputModel",
          "state": {
            "_view_name": "OutputView",
            "msg_id": "",
            "_dom_classes": [],
            "_model_name": "OutputModel",
            "outputs": [
              {
                "output_type": "stream",
                "metadata": {
                  "tags": []
                },
                "text": "[5, 5, 5]\n",
                "stream": "stdout"
              }
            ],
            "_view_module": "@jupyter-widgets/output",
            "_model_module_version": "1.0.0",
            "_view_count": null,
            "_view_module_version": "1.0.0",
            "layout": "IPY_MODEL_ce1e045df1e04ad8a85d0034754faed1",
            "_model_module": "@jupyter-widgets/output"
          }
        },
        "ce1e045df1e04ad8a85d0034754faed1": {
          "model_module": "@jupyter-widgets/base",
          "model_name": "LayoutModel",
          "state": {
            "_view_name": "LayoutView",
            "grid_template_rows": null,
            "right": null,
            "justify_content": null,
            "_view_module": "@jupyter-widgets/base",
            "overflow": null,
            "_model_module_version": "1.2.0",
            "_view_count": null,
            "flex_flow": null,
            "width": null,
            "min_width": null,
            "border": null,
            "align_items": null,
            "bottom": null,
            "_model_module": "@jupyter-widgets/base",
            "top": null,
            "grid_column": null,
            "overflow_y": null,
            "overflow_x": null,
            "grid_auto_flow": null,
            "grid_area": null,
            "grid_template_columns": null,
            "flex": null,
            "_model_name": "LayoutModel",
            "justify_items": null,
            "grid_row": null,
            "max_height": null,
            "align_content": null,
            "visibility": null,
            "align_self": null,
            "height": null,
            "min_height": null,
            "padding": null,
            "grid_auto_rows": null,
            "grid_gap": null,
            "max_width": null,
            "order": null,
            "_view_module_version": "1.2.0",
            "grid_template_areas": null,
            "object_position": null,
            "object_fit": null,
            "grid_auto_columns": null,
            "margin": null,
            "display": null,
            "left": null
          }
        }
      }
    }
  },
  "cells": [
    {
      "cell_type": "code",
      "metadata": {
        "id": "ILBxzOb-gG-j"
      },
      "source": [
        "import pandas as pd\n",
        "import numpy as np\n",
        "import tensorflow as tf\n",
        "import nltk\n",
        "from nltk.corpus import stopwords\n",
        "from keras.preprocessing.sequence import pad_sequences\n",
        "import re\n",
        "from keras.preprocessing.text import Tokenizer\n",
        "from keras.models import Sequential\n",
        "from keras.layers import Dense, InputLayer, Activation, Flatten\n",
        "from keras.optimizers import Adam\n",
        "from sklearn.metrics import accuracy_score,classification_report,confusion_matrix\n",
        "import seaborn as sns\n",
        "import gensim\n",
        "import gensim.downloader\n",
        "from nltk.corpus import brown\n",
        "import string"
      ],
      "execution_count": null,
      "outputs": []
    },
    {
      "cell_type": "code",
      "metadata": {
        "colab": {
          "base_uri": "https://localhost:8080/"
        },
        "id": "mZrL1VQFgRr9",
        "outputId": "3d81d20c-d628-4182-8307-19e066bd4490"
      },
      "source": [
        "import nltk\n",
        "nltk.download('brown')\n",
        "import nltk\n",
        "nltk.download('punkt')"
      ],
      "execution_count": null,
      "outputs": [
        {
          "output_type": "stream",
          "text": [
            "[nltk_data] Downloading package brown to /root/nltk_data...\n",
            "[nltk_data]   Package brown is already up-to-date!\n",
            "[nltk_data] Downloading package punkt to /root/nltk_data...\n",
            "[nltk_data]   Unzipping tokenizers/punkt.zip.\n"
          ],
          "name": "stdout"
        },
        {
          "output_type": "execute_result",
          "data": {
            "text/plain": [
              "True"
            ]
          },
          "metadata": {
            "tags": []
          },
          "execution_count": 22
        }
      ]
    },
    {
      "cell_type": "code",
      "metadata": {
        "id": "U-LtUmKJgG-w"
      },
      "source": [
        "sents = brown.sents()\n",
        "cleaned_sents = []\n",
        "for i in sents:\n",
        "    sentence = []\n",
        "    for j in i :\n",
        "        if j not in string.punctuation :\n",
        "            sentence.append(j.lower())\n",
        "    cleaned_sents.append(sentence)\n",
        "\n"
      ],
      "execution_count": null,
      "outputs": []
    },
    {
      "cell_type": "code",
      "metadata": {
        "id": "5-uWwJz1gG-x"
      },
      "source": [
        "model = gensim.models.FastText(sentences=cleaned_sents,size=50)"
      ],
      "execution_count": null,
      "outputs": []
    },
    {
      "cell_type": "code",
      "metadata": {
        "id": "SrVR1QN1gG-y"
      },
      "source": [
        ""
      ],
      "execution_count": null,
      "outputs": []
    },
    {
      "cell_type": "code",
      "metadata": {
        "id": "klDQb9nRgG-z"
      },
      "source": [
        "train = pd.read_csv(\"train.csv\")\n",
        "test = pd.read_csv(\"test.csv\")  "
      ],
      "execution_count": null,
      "outputs": []
    },
    {
      "cell_type": "code",
      "metadata": {
        "colab": {
          "base_uri": "https://localhost:8080/"
        },
        "id": "cvCJgkksgG-z",
        "outputId": "48a4af9d-230b-4dea-dae6-3d7381cd54a0"
      },
      "source": [
        "train['reviews']"
      ],
      "execution_count": null,
      "outputs": [
        {
          "output_type": "execute_result",
          "data": {
            "text/plain": [
              "0        This book was very informative, covering all a...\n",
              "1        I am already a baseball fan and knew a bit abo...\n",
              "2        I didn't like this product it smudged all unde...\n",
              "3        I simply love the product. I appreciate print ...\n",
              "4        It goes on very easily and makes my eyes look ...\n",
              "                               ...                        \n",
              "49995                         it does not work((((((((((((\n",
              "49996    Really worthless, loud motor with absolutely n...\n",
              "49997    Don't waste your money on this. It does nothin...\n",
              "49998    Product does not remove ear wax. No suction, j...\n",
              "49999    If you wear hearing aids these are great for r...\n",
              "Name: reviews, Length: 50000, dtype: object"
            ]
          },
          "metadata": {
            "tags": []
          },
          "execution_count": 8
        }
      ]
    },
    {
      "cell_type": "code",
      "metadata": {
        "id": "lb7PREOvgG-0"
      },
      "source": [
        ""
      ],
      "execution_count": null,
      "outputs": []
    },
    {
      "cell_type": "code",
      "metadata": {
        "id": "3UnY_4qUgG-1"
      },
      "source": [
        "def convert_to_lower(text):\n",
        "    # return the reviews after convering then to lowercase\n",
        "    lower_text = text.copy()\n",
        "    for i in range(len(text)):\n",
        "        lower_text[i] = text[i].lower()\n",
        "    return lower_text"
      ],
      "execution_count": null,
      "outputs": []
    },
    {
      "cell_type": "code",
      "metadata": {
        "id": "ht5db92agG-2"
      },
      "source": [
        "def remove_punctuation(text):\n",
        "    #stop_words = set(stopwords.words('english'))\n",
        "    cleanedText = []\n",
        "    for test_str in text:\n",
        "        res = re.sub(r'[^\\w\\s]', '', test_str) \n",
        "        cleanedText.append(res)\n",
        "    return cleanedText"
      ],
      "execution_count": null,
      "outputs": []
    },
    {
      "cell_type": "code",
      "metadata": {
        "id": "c2ORyG_SgG-2"
      },
      "source": [
        "def remove_stopwords(text):\n",
        "    stop_words = set(stopwords.words('english'))\n",
        "    without_stopwords_text  = text.copy()\n",
        "    for i in range(len(text)):\n",
        "        without_stopwords_text[i] = [w for w in text[i] if w not in stop_words]\n",
        "    return without_stopwords_text"
      ],
      "execution_count": null,
      "outputs": []
    },
    {
      "cell_type": "code",
      "metadata": {
        "id": "4MY0MAmIgG-3"
      },
      "source": [
        "def perform_tokenization(text):\n",
        "    t = Tokenizer()\n",
        "    t.fit_on_texts(text)\n",
        "    encoded = t.texts_to_sequences(text)\n",
        "    return encoded"
      ],
      "execution_count": null,
      "outputs": []
    },
    {
      "cell_type": "code",
      "metadata": {
        "id": "LIX8PIU5gG-4"
      },
      "source": [
        "def get_dicts(train):\n",
        "    tokenizer = Tokenizer()\n",
        "    tokenizer.fit_on_texts(train)\n",
        "    words_to_index = tokenizer.word_index\n",
        "    return words_to_index"
      ],
      "execution_count": null,
      "outputs": []
    },
    {
      "cell_type": "code",
      "metadata": {
        "id": "Ai2ze95ngG-4"
      },
      "source": [
        "# def gloveVector():\n",
        "#     wordMapping = {}\n",
        "#     fileName = ''\n",
        "#     with open(fileName, 'r', encoding='UTF-8') as f:\n",
        "#         for line in f:\n",
        "#             w_line = line.split()\n",
        "#             curr_word = w_line[0]\n",
        "#             wordMapping[curr_word] = np.array(w_line[1:], dtype=np.float64)\n",
        "#     return (wordMapping)\n",
        "\n"
      ],
      "execution_count": null,
      "outputs": []
    },
    {
      "cell_type": "code",
      "metadata": {
        "id": "pYB7I37MgG-5"
      },
      "source": [
        "# word_to_index = get_dicts(train)\n",
        "# wordMap = gloveVector()\n",
        "# vocabSize = len(word_to_index)"
      ],
      "execution_count": null,
      "outputs": []
    },
    {
      "cell_type": "code",
      "metadata": {
        "id": "g8CQxmEbgG-5"
      },
      "source": [
        "MAX_LENGTH = 50"
      ],
      "execution_count": null,
      "outputs": []
    },
    {
      "cell_type": "code",
      "metadata": {
        "id": "Wr6DYAcngG-6"
      },
      "source": [
        "# def embeddingMatrix():\n",
        "#     vocab_len = len(word_to_index)\n",
        "#     embed_vector_len = wordMap['moon'].shape[0]\n",
        "#     emb_matrix = np.zeros((vocab_len, embed_vector_len))\n",
        "#     for word, index in word_to_index.items():\n",
        "#     embedding_vector = wordMap.get(word)\n",
        "#     if embedding_vector is not None:\n",
        "#         emb_matrix[index, :] = embedding_vector\n",
        "#     embedding_layer = Embedding(input_dim=vocab_len, output_dim=embed_vector_len, input_length=MAX_LENGTH, weights = [emb_matrix], trainable=False)\n",
        "#     return embedding_layer\n"
      ],
      "execution_count": null,
      "outputs": []
    },
    {
      "cell_type": "code",
      "metadata": {
        "id": "QC1yWPqVgG-7"
      },
      "source": [
        "def tokens(text):\n",
        "    a = text.copy()\n",
        "    for i in range(len(text)):\n",
        "        a[i] = nltk.word_tokenize(text[i])\n",
        "    return a"
      ],
      "execution_count": null,
      "outputs": []
    },
    {
      "cell_type": "code",
      "metadata": {
        "id": "c6kgxgYCgG-7"
      },
      "source": [
        "def perform_padding(data):\n",
        "  z=[]\n",
        "  for i in data:\n",
        "    k = [r for j in i for r in j]\n",
        "    result = np.zeros(MAX_LENGTH*50)\n",
        "    result[:len(k)] = np.array(k)\n",
        "    z.append(result)\n",
        "  return (np.array(z,dtype='float64'))"
      ],
      "execution_count": null,
      "outputs": []
    },
    {
      "cell_type": "code",
      "metadata": {
        "id": "mqlSN5OhgG-9"
      },
      "source": [
        "\n"
      ],
      "execution_count": null,
      "outputs": []
    },
    {
      "cell_type": "code",
      "metadata": {
        "id": "NnD0JklHgG--"
      },
      "source": [
        "def preprocess_data(data):\n",
        "    reviews = data[\"reviews\"]\n",
        "    reviews = convert_to_lower(reviews)\n",
        "    reviews = remove_punctuation(reviews)\n",
        "    reviews = tokens(reviews)\n",
        "    emb = []\n",
        "    for i in reviews:\n",
        "      tmp=[]\n",
        "      for j in i:\n",
        "        try:\n",
        "          tmp.append(model.wv[j])\n",
        "        except KeyError:\n",
        "          tmp.append(np.zeros((50)))\n",
        "      emb.append(tmp)\n",
        "    padded = perform_padding(emb)    \n",
        "    return padded"
      ],
      "execution_count": null,
      "outputs": []
    },
    {
      "cell_type": "code",
      "metadata": {
        "id": "SLq17TaggG--"
      },
      "source": [
        "preprocessed_reviews = preprocess_data(train)"
      ],
      "execution_count": null,
      "outputs": []
    },
    {
      "cell_type": "code",
      "metadata": {
        "id": "5Y7sqiJEgG-_"
      },
      "source": [
        "preprocessed_test_reviews = preprocess_data(test)"
      ],
      "execution_count": null,
      "outputs": []
    },
    {
      "cell_type": "code",
      "metadata": {
        "id": "QenjHOeAgG-_"
      },
      "source": [
        "def softmax_activation(x):\n",
        "    exp_x = np.exp(x)\n",
        "    return exp_x/np.sum(exp_x)"
      ],
      "execution_count": null,
      "outputs": []
    },
    {
      "cell_type": "code",
      "metadata": {
        "id": "-Rno3j6fgG_A"
      },
      "source": [
        ""
      ],
      "execution_count": null,
      "outputs": []
    },
    {
      "cell_type": "code",
      "metadata": {
        "id": "YjlAkBLHgG_B"
      },
      "source": [
        "class NeuralNetGlove:\n",
        "\n",
        "    def __init__(self, reviews, ratings):\n",
        "\n",
        "        self.reviews = reviews\n",
        "        self.ratings = ratings\n",
        "\n",
        "    def build_nn(self,hiddenLayers,activationHidden):\n",
        "        #add the input and output layer here; you can use either tensorflow or pytorch\n",
        "        self.model = Sequential()\n",
        "        self.model.add(InputLayer(input_shape=(MAX_LENGTH*50,)))\n",
        "        for i in range(hiddenLayers):\n",
        "            self.model.add(Dense(64,activation=activationHidden))\n",
        "        self.model.add(Dense(5,activation='softmax'))\n",
        "        self.model.compile(loss='categorical_crossentropy', optimizer=Adam(0.0001), metrics=['accuracy'])\n",
        "        self.model.summary()\n",
        "        \n",
        "    def train_nn(self,batch_size,epochs):\n",
        "        # write the training loop here; you can use either tensorflow or pytorch\n",
        "        # print validation accuracy\n",
        "        y_train = tf.keras.utils.to_categorical(self.ratings,num_classes=5)\n",
        "        self.history = self.model.fit(self.reviews, y_train, batch_size=batch_size, epochs=epochs, validation_split=0.2)\n",
        "        \n",
        "\n",
        "    def predict(self, reviews):\n",
        "        # return a list containing all the ratings predicted by the trained model\n",
        "        y_pred = self.model.predict(reviews)\n",
        "        pred1 = []\n",
        "        for i in range(len(y_pred)):\n",
        "            pred1.append(np.argmax(y_pred[i])+1)\n",
        "        return pred1"
      ],
      "execution_count": null,
      "outputs": []
    },
    {
      "cell_type": "code",
      "metadata": {
        "id": "W1gJovotgG_B"
      },
      "source": [
        "train_rating_list = train['ratings'].to_list()\n",
        "Y = [str(i-1) for i in train_rating_list]"
      ],
      "execution_count": null,
      "outputs": []
    },
    {
      "cell_type": "code",
      "metadata": {
        "id": "gI3dibaxgG_C"
      },
      "source": [
        ""
      ],
      "execution_count": null,
      "outputs": []
    },
    {
      "cell_type": "code",
      "metadata": {
        "id": "AQgx80GQgG_C"
      },
      "source": [
        ""
      ],
      "execution_count": null,
      "outputs": []
    },
    {
      "cell_type": "code",
      "metadata": {
        "id": "eOdoGVzQgG_D"
      },
      "source": [
        ""
      ],
      "execution_count": null,
      "outputs": []
    },
    {
      "cell_type": "code",
      "metadata": {
        "id": "_pKo2iuRgG_D"
      },
      "source": [
        "###### Code to find the model with best training and test set \n",
        "def bestModelNN():\n",
        "    trainAccuraciesReLU = []\n",
        "    testAccuraciesReLU = []\n",
        "    trainAccuraciesSigmoid = []\n",
        "    testAccuraciesSigmoid = []\n",
        "    \n",
        "    for i in range(0,5):\n",
        "        M = NeuralNetGlove(preprocessed_reviews,Y)\n",
        "        M.build_nn(hiddenLayers=i,activationHidden='sigmoid')\n",
        "        M.train_nn(64,15)\n",
        "        y_pred = M.predict(preprocessed_test_reviews)\n",
        "        accuracyTest = accuracy_score(test['ratings'],y_pred)\n",
        "        accuracyTrain = M.history.history['accuracy'][-1]\n",
        "        trainAccuraciesSigmoid.append(accuracyTrain)\n",
        "        testAccuraciesSigmoid.append(accuracyTest)\n",
        "        del M\n",
        "        \n",
        "    for i in range(0,5):\n",
        "        M = NeuralNetGlove(preprocessed_reviews,Y)\n",
        "        M.build_nn(hiddenLayers=i,activationHidden='relu')\n",
        "        M.train_nn(64,15)\n",
        "        y_pred = M.predict(preprocessed_test_reviews)\n",
        "        accuracyTest = accuracy_score(test['ratings'],y_pred)\n",
        "        accuracyTrain = M.history.history['accuracy'][-1]\n",
        "        trainAccuraciesReLU.append(accuracyTrain)\n",
        "        testAccuraciesReLU.append(accuracyTest)\n",
        "        del M \n",
        "        \n",
        "    print(trainAccuraciesReLU)\n",
        "    print(testAccuraciesReLU)\n",
        "    print(trainAccuraciesSigmoid)\n",
        "    print(testAccuraciesSigmoid)\n",
        "    return trainAccuraciesReLU, testAccuraciesReLU, trainAccuraciesSigmoid, testAccuraciesSigmoid \n",
        "\n"
      ],
      "execution_count": null,
      "outputs": []
    },
    {
      "cell_type": "code",
      "metadata": {
        "id": "lOhzVmACgG_D"
      },
      "source": [
        "##### Develop Report for the best model and prediction for some examples\n",
        "def report(y_pred,test,Model):\n",
        "    Classification_report = classification_report(test['ratings'],y_pred,target_names=['1','2','3','4','5'])\n",
        "    cm  = confusion_matrix(test['ratings'],y_pred)\n",
        "    print(\"Classification Report : \\n\",Classification_report)\n",
        "    print(\"Heat Map :\\n\")\n",
        "    sns.heatmap(cm,cmap=\"Blues\",annot=True,fmt='.4g',xticklabels=['1','2','3','4','5'],yticklabels=['1','2','3','4','5'])\n",
        "    #tried_examples = [['I like it but dont think I would buy again.'], ['Nice looking cleaner but way smaller than 2 liters. Not as advertised.'],['Total waste of money, I used all 10 of these and got 0 results from it.']] \n",
        "    # Create the pandas DataFrame \n",
        "    #df = pd.DataFrame(tried_examples, columns = ['reviews']) \n",
        "    #pre_tried_examples = preprocess_data(df,word_to_index)\n",
        "    #z = Model.predict(pre_tried_examples)\n",
        "    #print(\"Examples :\\n\",df)\n",
        "    #print(\"Predicted Values: \\n\",z)"
      ],
      "execution_count": null,
      "outputs": []
    },
    {
      "cell_type": "code",
      "metadata": {
        "colab": {
          "base_uri": "https://localhost:8080/"
        },
        "id": "QqD1gPptgG_E",
        "outputId": "f24ded1f-1e14-40a1-be07-199d3d184b89"
      },
      "source": [
        "trainAccuraciesReLU, testAccuraciesReLU, trainAccuraciesSigmoid, testAccuraciesSigmoid = bestModelNN()\n"
      ],
      "execution_count": null,
      "outputs": [
        {
          "output_type": "stream",
          "text": [
            "Model: \"sequential\"\n",
            "_________________________________________________________________\n",
            "Layer (type)                 Output Shape              Param #   \n",
            "=================================================================\n",
            "dense (Dense)                (None, 5)                 12505     \n",
            "=================================================================\n",
            "Total params: 12,505\n",
            "Trainable params: 12,505\n",
            "Non-trainable params: 0\n",
            "_________________________________________________________________\n",
            "Epoch 1/15\n",
            "625/625 [==============================] - 3s 3ms/step - loss: 1.4535 - accuracy: 0.5263 - val_loss: 1.3352 - val_accuracy: 0.5629\n",
            "Epoch 2/15\n",
            "625/625 [==============================] - 2s 3ms/step - loss: 1.0525 - accuracy: 0.6766 - val_loss: 1.2693 - val_accuracy: 0.5731\n",
            "Epoch 3/15\n",
            "625/625 [==============================] - 2s 3ms/step - loss: 1.0024 - accuracy: 0.6820 - val_loss: 1.2376 - val_accuracy: 0.5763\n",
            "Epoch 4/15\n",
            "625/625 [==============================] - 2s 3ms/step - loss: 0.9707 - accuracy: 0.6847 - val_loss: 1.2118 - val_accuracy: 0.5798\n",
            "Epoch 5/15\n",
            "625/625 [==============================] - 2s 3ms/step - loss: 0.9543 - accuracy: 0.6872 - val_loss: 1.1992 - val_accuracy: 0.5805\n",
            "Epoch 6/15\n",
            "625/625 [==============================] - 2s 3ms/step - loss: 0.9394 - accuracy: 0.6899 - val_loss: 1.1906 - val_accuracy: 0.5829\n",
            "Epoch 7/15\n",
            "625/625 [==============================] - 2s 3ms/step - loss: 0.9281 - accuracy: 0.6912 - val_loss: 1.1928 - val_accuracy: 0.5830\n",
            "Epoch 8/15\n",
            "625/625 [==============================] - 2s 3ms/step - loss: 0.9207 - accuracy: 0.6927 - val_loss: 1.1850 - val_accuracy: 0.5849\n",
            "Epoch 9/15\n",
            "625/625 [==============================] - 2s 3ms/step - loss: 0.9185 - accuracy: 0.6935 - val_loss: 1.1885 - val_accuracy: 0.5837\n",
            "Epoch 10/15\n",
            "625/625 [==============================] - 2s 3ms/step - loss: 0.9194 - accuracy: 0.6920 - val_loss: 1.1820 - val_accuracy: 0.5838\n",
            "Epoch 11/15\n",
            "625/625 [==============================] - 2s 3ms/step - loss: 0.9177 - accuracy: 0.6907 - val_loss: 1.1791 - val_accuracy: 0.5868\n",
            "Epoch 12/15\n",
            "625/625 [==============================] - 2s 3ms/step - loss: 0.9095 - accuracy: 0.6919 - val_loss: 1.1773 - val_accuracy: 0.5846\n",
            "Epoch 13/15\n",
            "625/625 [==============================] - 2s 3ms/step - loss: 0.9035 - accuracy: 0.6942 - val_loss: 1.1745 - val_accuracy: 0.5851\n",
            "Epoch 14/15\n",
            "625/625 [==============================] - 2s 3ms/step - loss: 0.9011 - accuracy: 0.6939 - val_loss: 1.1743 - val_accuracy: 0.5854\n",
            "Epoch 15/15\n",
            "625/625 [==============================] - 2s 3ms/step - loss: 0.9029 - accuracy: 0.6938 - val_loss: 1.1724 - val_accuracy: 0.5853\n",
            "Model: \"sequential_1\"\n",
            "_________________________________________________________________\n",
            "Layer (type)                 Output Shape              Param #   \n",
            "=================================================================\n",
            "dense_1 (Dense)              (None, 64)                160064    \n",
            "_________________________________________________________________\n",
            "dense_2 (Dense)              (None, 5)                 325       \n",
            "=================================================================\n",
            "Total params: 160,389\n",
            "Trainable params: 160,389\n",
            "Non-trainable params: 0\n",
            "_________________________________________________________________\n",
            "Epoch 1/15\n",
            "625/625 [==============================] - 3s 4ms/step - loss: 1.1192 - accuracy: 0.6297 - val_loss: 1.2516 - val_accuracy: 0.5742\n",
            "Epoch 2/15\n",
            "625/625 [==============================] - 2s 4ms/step - loss: 0.9773 - accuracy: 0.6872 - val_loss: 1.2219 - val_accuracy: 0.5749\n",
            "Epoch 3/15\n",
            "625/625 [==============================] - 2s 4ms/step - loss: 0.9452 - accuracy: 0.6879 - val_loss: 1.1937 - val_accuracy: 0.5784\n",
            "Epoch 4/15\n",
            "625/625 [==============================] - 2s 4ms/step - loss: 0.9301 - accuracy: 0.6895 - val_loss: 1.1969 - val_accuracy: 0.5796\n",
            "Epoch 5/15\n",
            "625/625 [==============================] - 2s 4ms/step - loss: 0.9177 - accuracy: 0.6903 - val_loss: 1.1864 - val_accuracy: 0.5810\n",
            "Epoch 6/15\n",
            "625/625 [==============================] - 3s 4ms/step - loss: 0.9030 - accuracy: 0.6919 - val_loss: 1.1737 - val_accuracy: 0.5822\n",
            "Epoch 7/15\n",
            "625/625 [==============================] - 3s 4ms/step - loss: 0.8944 - accuracy: 0.6938 - val_loss: 1.1817 - val_accuracy: 0.5826\n",
            "Epoch 8/15\n",
            "625/625 [==============================] - 3s 4ms/step - loss: 0.8866 - accuracy: 0.6951 - val_loss: 1.1688 - val_accuracy: 0.5843\n",
            "Epoch 9/15\n",
            "625/625 [==============================] - 2s 4ms/step - loss: 0.8825 - accuracy: 0.6952 - val_loss: 1.1707 - val_accuracy: 0.5833\n",
            "Epoch 10/15\n",
            "625/625 [==============================] - 3s 4ms/step - loss: 0.8653 - accuracy: 0.6982 - val_loss: 1.1540 - val_accuracy: 0.5890\n",
            "Epoch 11/15\n",
            "625/625 [==============================] - 3s 4ms/step - loss: 0.8645 - accuracy: 0.6970 - val_loss: 1.1713 - val_accuracy: 0.5848\n",
            "Epoch 12/15\n",
            "625/625 [==============================] - 3s 4ms/step - loss: 0.8539 - accuracy: 0.7009 - val_loss: 1.1619 - val_accuracy: 0.5871\n",
            "Epoch 13/15\n",
            "625/625 [==============================] - 3s 4ms/step - loss: 0.8512 - accuracy: 0.6981 - val_loss: 1.1574 - val_accuracy: 0.5876\n",
            "Epoch 14/15\n",
            "625/625 [==============================] - 3s 4ms/step - loss: 0.8376 - accuracy: 0.7032 - val_loss: 1.1570 - val_accuracy: 0.5885\n",
            "Epoch 15/15\n",
            "625/625 [==============================] - 3s 4ms/step - loss: 0.8332 - accuracy: 0.7048 - val_loss: 1.1517 - val_accuracy: 0.5899\n",
            "Model: \"sequential_2\"\n",
            "_________________________________________________________________\n",
            "Layer (type)                 Output Shape              Param #   \n",
            "=================================================================\n",
            "dense_3 (Dense)              (None, 64)                160064    \n",
            "_________________________________________________________________\n",
            "dense_4 (Dense)              (None, 64)                4160      \n",
            "_________________________________________________________________\n",
            "dense_5 (Dense)              (None, 5)                 325       \n",
            "=================================================================\n",
            "Total params: 164,549\n",
            "Trainable params: 164,549\n",
            "Non-trainable params: 0\n",
            "_________________________________________________________________\n",
            "Epoch 1/15\n",
            "625/625 [==============================] - 3s 5ms/step - loss: 1.1510 - accuracy: 0.6266 - val_loss: 1.2725 - val_accuracy: 0.5742\n",
            "Epoch 2/15\n",
            "625/625 [==============================] - 3s 4ms/step - loss: 1.0108 - accuracy: 0.6859 - val_loss: 1.2500 - val_accuracy: 0.5742\n",
            "Epoch 3/15\n",
            "625/625 [==============================] - 3s 5ms/step - loss: 0.9892 - accuracy: 0.6816 - val_loss: 1.2274 - val_accuracy: 0.5742\n",
            "Epoch 4/15\n",
            "625/625 [==============================] - 3s 5ms/step - loss: 0.9557 - accuracy: 0.6858 - val_loss: 1.1918 - val_accuracy: 0.5756\n",
            "Epoch 5/15\n",
            "625/625 [==============================] - 3s 5ms/step - loss: 0.9360 - accuracy: 0.6881 - val_loss: 1.1860 - val_accuracy: 0.5780\n",
            "Epoch 6/15\n",
            "625/625 [==============================] - 3s 4ms/step - loss: 0.9253 - accuracy: 0.6906 - val_loss: 1.1714 - val_accuracy: 0.5827\n",
            "Epoch 7/15\n",
            "625/625 [==============================] - 3s 4ms/step - loss: 0.9167 - accuracy: 0.6885 - val_loss: 1.1730 - val_accuracy: 0.5835\n",
            "Epoch 8/15\n",
            "625/625 [==============================] - 3s 4ms/step - loss: 0.9025 - accuracy: 0.6936 - val_loss: 1.1591 - val_accuracy: 0.5867\n",
            "Epoch 9/15\n",
            "625/625 [==============================] - 3s 4ms/step - loss: 0.9022 - accuracy: 0.6919 - val_loss: 1.1708 - val_accuracy: 0.5851\n",
            "Epoch 10/15\n",
            "625/625 [==============================] - 3s 4ms/step - loss: 0.8850 - accuracy: 0.6949 - val_loss: 1.1514 - val_accuracy: 0.5887\n",
            "Epoch 11/15\n",
            "625/625 [==============================] - 3s 4ms/step - loss: 0.8901 - accuracy: 0.6913 - val_loss: 1.1522 - val_accuracy: 0.5894\n",
            "Epoch 12/15\n",
            "625/625 [==============================] - 3s 4ms/step - loss: 0.8744 - accuracy: 0.6985 - val_loss: 1.1550 - val_accuracy: 0.5893\n",
            "Epoch 13/15\n",
            "625/625 [==============================] - 3s 4ms/step - loss: 0.8663 - accuracy: 0.6981 - val_loss: 1.1508 - val_accuracy: 0.5894\n",
            "Epoch 14/15\n",
            "625/625 [==============================] - 3s 4ms/step - loss: 0.8490 - accuracy: 0.7028 - val_loss: 1.1698 - val_accuracy: 0.5879\n",
            "Epoch 15/15\n",
            "625/625 [==============================] - 3s 4ms/step - loss: 0.8552 - accuracy: 0.6991 - val_loss: 1.1493 - val_accuracy: 0.5907\n",
            "Model: \"sequential_3\"\n",
            "_________________________________________________________________\n",
            "Layer (type)                 Output Shape              Param #   \n",
            "=================================================================\n",
            "dense_6 (Dense)              (None, 64)                160064    \n",
            "_________________________________________________________________\n",
            "dense_7 (Dense)              (None, 64)                4160      \n",
            "_________________________________________________________________\n",
            "dense_8 (Dense)              (None, 64)                4160      \n",
            "_________________________________________________________________\n",
            "dense_9 (Dense)              (None, 5)                 325       \n",
            "=================================================================\n",
            "Total params: 168,709\n",
            "Trainable params: 168,709\n",
            "Non-trainable params: 0\n",
            "_________________________________________________________________\n",
            "Epoch 1/15\n",
            "625/625 [==============================] - 3s 5ms/step - loss: 1.2619 - accuracy: 0.5372 - val_loss: 1.2895 - val_accuracy: 0.5742\n",
            "Epoch 2/15\n",
            "625/625 [==============================] - 3s 4ms/step - loss: 1.0243 - accuracy: 0.6866 - val_loss: 1.2867 - val_accuracy: 0.5742\n",
            "Epoch 3/15\n",
            "625/625 [==============================] - 3s 4ms/step - loss: 1.0135 - accuracy: 0.6837 - val_loss: 1.2542 - val_accuracy: 0.5742\n",
            "Epoch 4/15\n",
            "625/625 [==============================] - 3s 4ms/step - loss: 0.9925 - accuracy: 0.6846 - val_loss: 1.2303 - val_accuracy: 0.5742\n",
            "Epoch 5/15\n",
            "625/625 [==============================] - 3s 4ms/step - loss: 0.9673 - accuracy: 0.6857 - val_loss: 1.1985 - val_accuracy: 0.5742\n",
            "Epoch 6/15\n",
            "625/625 [==============================] - 3s 4ms/step - loss: 0.9456 - accuracy: 0.6858 - val_loss: 1.1856 - val_accuracy: 0.5746\n",
            "Epoch 7/15\n",
            "625/625 [==============================] - 3s 4ms/step - loss: 0.9333 - accuracy: 0.6864 - val_loss: 1.1826 - val_accuracy: 0.5786\n",
            "Epoch 8/15\n",
            "625/625 [==============================] - 3s 4ms/step - loss: 0.9248 - accuracy: 0.6857 - val_loss: 1.1717 - val_accuracy: 0.5844\n",
            "Epoch 9/15\n",
            "625/625 [==============================] - 3s 4ms/step - loss: 0.9185 - accuracy: 0.6883 - val_loss: 1.1578 - val_accuracy: 0.5860\n",
            "Epoch 10/15\n",
            "625/625 [==============================] - 3s 4ms/step - loss: 0.9029 - accuracy: 0.6945 - val_loss: 1.1539 - val_accuracy: 0.5876\n",
            "Epoch 11/15\n",
            "625/625 [==============================] - 3s 4ms/step - loss: 0.8872 - accuracy: 0.6970 - val_loss: 1.1476 - val_accuracy: 0.5898\n",
            "Epoch 12/15\n",
            "625/625 [==============================] - 3s 4ms/step - loss: 0.8929 - accuracy: 0.6923 - val_loss: 1.1571 - val_accuracy: 0.5882\n",
            "Epoch 13/15\n",
            "625/625 [==============================] - 3s 4ms/step - loss: 0.8772 - accuracy: 0.6981 - val_loss: 1.1394 - val_accuracy: 0.5925\n",
            "Epoch 14/15\n",
            "625/625 [==============================] - 3s 4ms/step - loss: 0.8724 - accuracy: 0.6997 - val_loss: 1.1407 - val_accuracy: 0.5914\n",
            "Epoch 15/15\n",
            "625/625 [==============================] - 3s 4ms/step - loss: 0.8615 - accuracy: 0.7001 - val_loss: 1.1515 - val_accuracy: 0.5918\n",
            "Model: \"sequential_4\"\n",
            "_________________________________________________________________\n",
            "Layer (type)                 Output Shape              Param #   \n",
            "=================================================================\n",
            "dense_10 (Dense)             (None, 64)                160064    \n",
            "_________________________________________________________________\n",
            "dense_11 (Dense)             (None, 64)                4160      \n",
            "_________________________________________________________________\n",
            "dense_12 (Dense)             (None, 64)                4160      \n",
            "_________________________________________________________________\n",
            "dense_13 (Dense)             (None, 64)                4160      \n",
            "_________________________________________________________________\n",
            "dense_14 (Dense)             (None, 5)                 325       \n",
            "=================================================================\n",
            "Total params: 172,869\n",
            "Trainable params: 172,869\n",
            "Non-trainable params: 0\n",
            "_________________________________________________________________\n",
            "Epoch 1/15\n",
            "625/625 [==============================] - 4s 5ms/step - loss: 1.1822 - accuracy: 0.5548 - val_loss: 1.2977 - val_accuracy: 0.5742\n",
            "Epoch 2/15\n",
            "625/625 [==============================] - 3s 5ms/step - loss: 1.0350 - accuracy: 0.6838 - val_loss: 1.2901 - val_accuracy: 0.5742\n",
            "Epoch 3/15\n",
            "625/625 [==============================] - 3s 4ms/step - loss: 1.0115 - accuracy: 0.6888 - val_loss: 1.2638 - val_accuracy: 0.5742\n",
            "Epoch 4/15\n",
            "625/625 [==============================] - 3s 5ms/step - loss: 0.9995 - accuracy: 0.6862 - val_loss: 1.2476 - val_accuracy: 0.5742\n",
            "Epoch 5/15\n",
            "625/625 [==============================] - 3s 5ms/step - loss: 0.9737 - accuracy: 0.6872 - val_loss: 1.2209 - val_accuracy: 0.5742\n",
            "Epoch 6/15\n",
            "625/625 [==============================] - 3s 4ms/step - loss: 0.9620 - accuracy: 0.6857 - val_loss: 1.1965 - val_accuracy: 0.5742\n",
            "Epoch 7/15\n",
            "625/625 [==============================] - 3s 5ms/step - loss: 0.9410 - accuracy: 0.6901 - val_loss: 1.2017 - val_accuracy: 0.5742\n",
            "Epoch 8/15\n",
            "625/625 [==============================] - 4s 6ms/step - loss: 0.9318 - accuracy: 0.6897 - val_loss: 1.1903 - val_accuracy: 0.5742\n",
            "Epoch 9/15\n",
            "625/625 [==============================] - 5s 7ms/step - loss: 0.9349 - accuracy: 0.6879 - val_loss: 1.1805 - val_accuracy: 0.5775\n",
            "Epoch 10/15\n",
            "625/625 [==============================] - 4s 6ms/step - loss: 0.9231 - accuracy: 0.6888 - val_loss: 1.1694 - val_accuracy: 0.5830\n",
            "Epoch 11/15\n",
            "625/625 [==============================] - 3s 5ms/step - loss: 0.9136 - accuracy: 0.6890 - val_loss: 1.1638 - val_accuracy: 0.5876\n",
            "Epoch 12/15\n",
            "625/625 [==============================] - 3s 5ms/step - loss: 0.9041 - accuracy: 0.6895 - val_loss: 1.1652 - val_accuracy: 0.5878\n",
            "Epoch 13/15\n",
            "625/625 [==============================] - 3s 5ms/step - loss: 0.9003 - accuracy: 0.6880 - val_loss: 1.1499 - val_accuracy: 0.5903\n",
            "Epoch 14/15\n",
            "625/625 [==============================] - 3s 5ms/step - loss: 0.8805 - accuracy: 0.6930 - val_loss: 1.1601 - val_accuracy: 0.5902\n",
            "Epoch 15/15\n",
            "625/625 [==============================] - 3s 5ms/step - loss: 0.8678 - accuracy: 0.6967 - val_loss: 1.1615 - val_accuracy: 0.5903\n",
            "Model: \"sequential_5\"\n",
            "_________________________________________________________________\n",
            "Layer (type)                 Output Shape              Param #   \n",
            "=================================================================\n",
            "dense_15 (Dense)             (None, 5)                 12505     \n",
            "=================================================================\n",
            "Total params: 12,505\n",
            "Trainable params: 12,505\n",
            "Non-trainable params: 0\n",
            "_________________________________________________________________\n",
            "Epoch 1/15\n",
            "625/625 [==============================] - 2s 3ms/step - loss: 1.5222 - accuracy: 0.5071 - val_loss: 1.3573 - val_accuracy: 0.5656\n",
            "Epoch 2/15\n",
            "625/625 [==============================] - 2s 3ms/step - loss: 1.0591 - accuracy: 0.6749 - val_loss: 1.2734 - val_accuracy: 0.5729\n",
            "Epoch 3/15\n",
            "625/625 [==============================] - 2s 3ms/step - loss: 0.9862 - accuracy: 0.6873 - val_loss: 1.2332 - val_accuracy: 0.5744\n",
            "Epoch 4/15\n",
            "625/625 [==============================] - 2s 3ms/step - loss: 0.9604 - accuracy: 0.6917 - val_loss: 1.2148 - val_accuracy: 0.5770\n",
            "Epoch 5/15\n",
            "625/625 [==============================] - 2s 3ms/step - loss: 0.9525 - accuracy: 0.6873 - val_loss: 1.2163 - val_accuracy: 0.5775\n",
            "Epoch 6/15\n",
            "625/625 [==============================] - 2s 3ms/step - loss: 0.9304 - accuracy: 0.6940 - val_loss: 1.2004 - val_accuracy: 0.5808\n",
            "Epoch 7/15\n",
            "625/625 [==============================] - 2s 3ms/step - loss: 0.9260 - accuracy: 0.6913 - val_loss: 1.2091 - val_accuracy: 0.5799\n",
            "Epoch 8/15\n",
            "625/625 [==============================] - 2s 3ms/step - loss: 0.9213 - accuracy: 0.6933 - val_loss: 1.1981 - val_accuracy: 0.5797\n",
            "Epoch 9/15\n",
            "625/625 [==============================] - 2s 3ms/step - loss: 0.9203 - accuracy: 0.6911 - val_loss: 1.1916 - val_accuracy: 0.5819\n",
            "Epoch 10/15\n",
            "625/625 [==============================] - 2s 3ms/step - loss: 0.9177 - accuracy: 0.6915 - val_loss: 1.1864 - val_accuracy: 0.5818\n",
            "Epoch 11/15\n",
            "625/625 [==============================] - 2s 3ms/step - loss: 0.9142 - accuracy: 0.6915 - val_loss: 1.1842 - val_accuracy: 0.5848\n",
            "Epoch 12/15\n",
            "625/625 [==============================] - 2s 3ms/step - loss: 0.9024 - accuracy: 0.6951 - val_loss: 1.1759 - val_accuracy: 0.5829\n",
            "Epoch 13/15\n",
            "625/625 [==============================] - 2s 3ms/step - loss: 0.8999 - accuracy: 0.6952 - val_loss: 1.1824 - val_accuracy: 0.5837\n",
            "Epoch 14/15\n",
            "625/625 [==============================] - 2s 3ms/step - loss: 0.8961 - accuracy: 0.6973 - val_loss: 1.1822 - val_accuracy: 0.5816\n",
            "Epoch 15/15\n",
            "625/625 [==============================] - 2s 3ms/step - loss: 0.8933 - accuracy: 0.6958 - val_loss: 1.1750 - val_accuracy: 0.5839\n",
            "Model: \"sequential_6\"\n",
            "_________________________________________________________________\n",
            "Layer (type)                 Output Shape              Param #   \n",
            "=================================================================\n",
            "dense_16 (Dense)             (None, 64)                160064    \n",
            "_________________________________________________________________\n",
            "dense_17 (Dense)             (None, 5)                 325       \n",
            "=================================================================\n",
            "Total params: 160,389\n",
            "Trainable params: 160,389\n",
            "Non-trainable params: 0\n",
            "_________________________________________________________________\n",
            "Epoch 1/15\n",
            "625/625 [==============================] - 3s 5ms/step - loss: 1.1722 - accuracy: 0.6452 - val_loss: 1.2832 - val_accuracy: 0.5737\n",
            "Epoch 2/15\n",
            "625/625 [==============================] - 3s 4ms/step - loss: 0.9654 - accuracy: 0.6894 - val_loss: 1.2419 - val_accuracy: 0.5765\n",
            "Epoch 3/15\n",
            "625/625 [==============================] - 3s 4ms/step - loss: 0.9164 - accuracy: 0.6940 - val_loss: 1.2204 - val_accuracy: 0.5787\n",
            "Epoch 4/15\n",
            "625/625 [==============================] - 3s 4ms/step - loss: 0.8759 - accuracy: 0.6999 - val_loss: 1.2136 - val_accuracy: 0.5784\n",
            "Epoch 5/15\n",
            "625/625 [==============================] - 3s 4ms/step - loss: 0.8407 - accuracy: 0.7113 - val_loss: 1.2283 - val_accuracy: 0.5792\n",
            "Epoch 6/15\n",
            "625/625 [==============================] - 3s 5ms/step - loss: 0.8190 - accuracy: 0.7146 - val_loss: 1.2077 - val_accuracy: 0.5831\n",
            "Epoch 7/15\n",
            "625/625 [==============================] - 3s 4ms/step - loss: 0.7862 - accuracy: 0.7226 - val_loss: 1.1953 - val_accuracy: 0.5771\n",
            "Epoch 8/15\n",
            "625/625 [==============================] - 3s 5ms/step - loss: 0.7686 - accuracy: 0.7301 - val_loss: 1.2239 - val_accuracy: 0.5759\n",
            "Epoch 9/15\n",
            "625/625 [==============================] - 3s 4ms/step - loss: 0.7347 - accuracy: 0.7414 - val_loss: 1.2176 - val_accuracy: 0.5797\n",
            "Epoch 10/15\n",
            "625/625 [==============================] - 3s 4ms/step - loss: 0.7240 - accuracy: 0.7440 - val_loss: 1.2201 - val_accuracy: 0.5802\n",
            "Epoch 11/15\n",
            "625/625 [==============================] - 3s 4ms/step - loss: 0.6997 - accuracy: 0.7553 - val_loss: 1.2241 - val_accuracy: 0.5795\n",
            "Epoch 12/15\n",
            "625/625 [==============================] - 3s 4ms/step - loss: 0.6841 - accuracy: 0.7612 - val_loss: 1.2485 - val_accuracy: 0.5775\n",
            "Epoch 13/15\n",
            "625/625 [==============================] - 3s 4ms/step - loss: 0.6676 - accuracy: 0.7679 - val_loss: 1.2385 - val_accuracy: 0.5761\n",
            "Epoch 14/15\n",
            "625/625 [==============================] - 3s 4ms/step - loss: 0.6548 - accuracy: 0.7736 - val_loss: 1.2624 - val_accuracy: 0.5772\n",
            "Epoch 15/15\n",
            "625/625 [==============================] - 3s 4ms/step - loss: 0.6362 - accuracy: 0.7788 - val_loss: 1.2613 - val_accuracy: 0.5771\n",
            "Model: \"sequential_7\"\n",
            "_________________________________________________________________\n",
            "Layer (type)                 Output Shape              Param #   \n",
            "=================================================================\n",
            "dense_18 (Dense)             (None, 64)                160064    \n",
            "_________________________________________________________________\n",
            "dense_19 (Dense)             (None, 64)                4160      \n",
            "_________________________________________________________________\n",
            "dense_20 (Dense)             (None, 5)                 325       \n",
            "=================================================================\n",
            "Total params: 164,549\n",
            "Trainable params: 164,549\n",
            "Non-trainable params: 0\n",
            "_________________________________________________________________\n",
            "Epoch 1/15\n",
            "625/625 [==============================] - 4s 5ms/step - loss: 1.0996 - accuracy: 0.6773 - val_loss: 1.2653 - val_accuracy: 0.5739\n",
            "Epoch 2/15\n",
            "625/625 [==============================] - 3s 5ms/step - loss: 0.9652 - accuracy: 0.6844 - val_loss: 1.2306 - val_accuracy: 0.5740\n",
            "Epoch 3/15\n",
            "625/625 [==============================] - 3s 5ms/step - loss: 0.9014 - accuracy: 0.6943 - val_loss: 1.2120 - val_accuracy: 0.5762\n",
            "Epoch 4/15\n",
            "625/625 [==============================] - 3s 4ms/step - loss: 0.8593 - accuracy: 0.7020 - val_loss: 1.2102 - val_accuracy: 0.5793\n",
            "Epoch 5/15\n",
            "625/625 [==============================] - 3s 5ms/step - loss: 0.8355 - accuracy: 0.7075 - val_loss: 1.2079 - val_accuracy: 0.5764\n",
            "Epoch 6/15\n",
            "625/625 [==============================] - 3s 4ms/step - loss: 0.7980 - accuracy: 0.7180 - val_loss: 1.1995 - val_accuracy: 0.5775\n",
            "Epoch 7/15\n",
            "625/625 [==============================] - 3s 4ms/step - loss: 0.7708 - accuracy: 0.7266 - val_loss: 1.2172 - val_accuracy: 0.5793\n",
            "Epoch 8/15\n",
            "625/625 [==============================] - 3s 5ms/step - loss: 0.7488 - accuracy: 0.7348 - val_loss: 1.2197 - val_accuracy: 0.5798\n",
            "Epoch 9/15\n",
            "625/625 [==============================] - 3s 5ms/step - loss: 0.7201 - accuracy: 0.7457 - val_loss: 1.2106 - val_accuracy: 0.5800\n",
            "Epoch 10/15\n",
            "625/625 [==============================] - 3s 5ms/step - loss: 0.7120 - accuracy: 0.7465 - val_loss: 1.2545 - val_accuracy: 0.5811\n",
            "Epoch 11/15\n",
            "625/625 [==============================] - 3s 4ms/step - loss: 0.6792 - accuracy: 0.7605 - val_loss: 1.2452 - val_accuracy: 0.5805\n",
            "Epoch 12/15\n",
            "625/625 [==============================] - 3s 4ms/step - loss: 0.6646 - accuracy: 0.7650 - val_loss: 1.2768 - val_accuracy: 0.5738\n",
            "Epoch 13/15\n",
            "625/625 [==============================] - 3s 5ms/step - loss: 0.6336 - accuracy: 0.7776 - val_loss: 1.2751 - val_accuracy: 0.5720\n",
            "Epoch 14/15\n",
            "625/625 [==============================] - 3s 4ms/step - loss: 0.6106 - accuracy: 0.7859 - val_loss: 1.2881 - val_accuracy: 0.5672\n",
            "Epoch 15/15\n",
            "625/625 [==============================] - 3s 4ms/step - loss: 0.5967 - accuracy: 0.7930 - val_loss: 1.3113 - val_accuracy: 0.5683\n",
            "Model: \"sequential_8\"\n",
            "_________________________________________________________________\n",
            "Layer (type)                 Output Shape              Param #   \n",
            "=================================================================\n",
            "dense_21 (Dense)             (None, 64)                160064    \n",
            "_________________________________________________________________\n",
            "dense_22 (Dense)             (None, 64)                4160      \n",
            "_________________________________________________________________\n",
            "dense_23 (Dense)             (None, 64)                4160      \n",
            "_________________________________________________________________\n",
            "dense_24 (Dense)             (None, 5)                 325       \n",
            "=================================================================\n",
            "Total params: 168,709\n",
            "Trainable params: 168,709\n",
            "Non-trainable params: 0\n",
            "_________________________________________________________________\n",
            "Epoch 1/15\n",
            "625/625 [==============================] - 4s 5ms/step - loss: 1.1137 - accuracy: 0.6742 - val_loss: 1.2493 - val_accuracy: 0.5743\n",
            "Epoch 2/15\n",
            "625/625 [==============================] - 3s 4ms/step - loss: 0.9627 - accuracy: 0.6875 - val_loss: 1.2198 - val_accuracy: 0.5751\n",
            "Epoch 3/15\n",
            "625/625 [==============================] - 3s 4ms/step - loss: 0.9151 - accuracy: 0.6891 - val_loss: 1.2005 - val_accuracy: 0.5782\n",
            "Epoch 4/15\n",
            "625/625 [==============================] - 3s 5ms/step - loss: 0.8746 - accuracy: 0.6964 - val_loss: 1.1980 - val_accuracy: 0.5774\n",
            "Epoch 5/15\n",
            "625/625 [==============================] - 3s 5ms/step - loss: 0.8446 - accuracy: 0.7015 - val_loss: 1.1995 - val_accuracy: 0.5777\n",
            "Epoch 6/15\n",
            "625/625 [==============================] - 3s 5ms/step - loss: 0.8123 - accuracy: 0.7117 - val_loss: 1.1999 - val_accuracy: 0.5774\n",
            "Epoch 7/15\n",
            "625/625 [==============================] - 3s 5ms/step - loss: 0.7836 - accuracy: 0.7216 - val_loss: 1.2290 - val_accuracy: 0.5768\n",
            "Epoch 8/15\n",
            "625/625 [==============================] - 3s 5ms/step - loss: 0.7453 - accuracy: 0.7342 - val_loss: 1.2350 - val_accuracy: 0.5692\n",
            "Epoch 9/15\n",
            "625/625 [==============================] - 3s 5ms/step - loss: 0.7077 - accuracy: 0.7507 - val_loss: 1.2422 - val_accuracy: 0.5682\n",
            "Epoch 10/15\n",
            "625/625 [==============================] - 3s 5ms/step - loss: 0.6915 - accuracy: 0.7540 - val_loss: 1.2639 - val_accuracy: 0.5689\n",
            "Epoch 11/15\n",
            "625/625 [==============================] - 3s 5ms/step - loss: 0.6690 - accuracy: 0.7630 - val_loss: 1.2793 - val_accuracy: 0.5629\n",
            "Epoch 12/15\n",
            "625/625 [==============================] - 3s 5ms/step - loss: 0.6375 - accuracy: 0.7768 - val_loss: 1.3037 - val_accuracy: 0.5691\n",
            "Epoch 13/15\n",
            "625/625 [==============================] - 3s 5ms/step - loss: 0.6174 - accuracy: 0.7843 - val_loss: 1.3155 - val_accuracy: 0.5571\n",
            "Epoch 14/15\n",
            "625/625 [==============================] - 3s 5ms/step - loss: 0.6016 - accuracy: 0.7902 - val_loss: 1.3573 - val_accuracy: 0.5609\n",
            "Epoch 15/15\n",
            "625/625 [==============================] - 3s 5ms/step - loss: 0.5824 - accuracy: 0.7976 - val_loss: 1.3759 - val_accuracy: 0.5519\n",
            "Model: \"sequential_9\"\n",
            "_________________________________________________________________\n",
            "Layer (type)                 Output Shape              Param #   \n",
            "=================================================================\n",
            "dense_25 (Dense)             (None, 64)                160064    \n",
            "_________________________________________________________________\n",
            "dense_26 (Dense)             (None, 64)                4160      \n",
            "_________________________________________________________________\n",
            "dense_27 (Dense)             (None, 64)                4160      \n",
            "_________________________________________________________________\n",
            "dense_28 (Dense)             (None, 64)                4160      \n",
            "_________________________________________________________________\n",
            "dense_29 (Dense)             (None, 5)                 325       \n",
            "=================================================================\n",
            "Total params: 172,869\n",
            "Trainable params: 172,869\n",
            "Non-trainable params: 0\n",
            "_________________________________________________________________\n",
            "Epoch 1/15\n",
            "625/625 [==============================] - 4s 6ms/step - loss: 1.1807 - accuracy: 0.6229 - val_loss: 1.2504 - val_accuracy: 0.5742\n",
            "Epoch 2/15\n",
            "625/625 [==============================] - 3s 5ms/step - loss: 0.9588 - accuracy: 0.6900 - val_loss: 1.2261 - val_accuracy: 0.5746\n",
            "Epoch 3/15\n",
            "625/625 [==============================] - 3s 5ms/step - loss: 0.9198 - accuracy: 0.6865 - val_loss: 1.2035 - val_accuracy: 0.5774\n",
            "Epoch 4/15\n",
            "625/625 [==============================] - 3s 5ms/step - loss: 0.8824 - accuracy: 0.6927 - val_loss: 1.2000 - val_accuracy: 0.5829\n",
            "Epoch 5/15\n",
            "625/625 [==============================] - 3s 5ms/step - loss: 0.8347 - accuracy: 0.7066 - val_loss: 1.1836 - val_accuracy: 0.5828\n",
            "Epoch 6/15\n",
            "625/625 [==============================] - 3s 5ms/step - loss: 0.8007 - accuracy: 0.7168 - val_loss: 1.2045 - val_accuracy: 0.5821\n",
            "Epoch 7/15\n",
            "625/625 [==============================] - 3s 5ms/step - loss: 0.7732 - accuracy: 0.7263 - val_loss: 1.2372 - val_accuracy: 0.5788\n",
            "Epoch 8/15\n",
            "625/625 [==============================] - 3s 5ms/step - loss: 0.7322 - accuracy: 0.7426 - val_loss: 1.2331 - val_accuracy: 0.5717\n",
            "Epoch 9/15\n",
            "625/625 [==============================] - 3s 5ms/step - loss: 0.7076 - accuracy: 0.7485 - val_loss: 1.2552 - val_accuracy: 0.5694\n",
            "Epoch 10/15\n",
            "625/625 [==============================] - 3s 5ms/step - loss: 0.6693 - accuracy: 0.7637 - val_loss: 1.2670 - val_accuracy: 0.5688\n",
            "Epoch 11/15\n",
            "625/625 [==============================] - 3s 5ms/step - loss: 0.6460 - accuracy: 0.7733 - val_loss: 1.3177 - val_accuracy: 0.5663\n",
            "Epoch 12/15\n",
            "625/625 [==============================] - 3s 5ms/step - loss: 0.6316 - accuracy: 0.7764 - val_loss: 1.3210 - val_accuracy: 0.5573\n",
            "Epoch 13/15\n",
            "625/625 [==============================] - 3s 5ms/step - loss: 0.6003 - accuracy: 0.7915 - val_loss: 1.3629 - val_accuracy: 0.5575\n",
            "Epoch 14/15\n",
            "625/625 [==============================] - 3s 5ms/step - loss: 0.5841 - accuracy: 0.7962 - val_loss: 1.3965 - val_accuracy: 0.5556\n",
            "Epoch 15/15\n",
            "625/625 [==============================] - 3s 5ms/step - loss: 0.5662 - accuracy: 0.8000 - val_loss: 1.4111 - val_accuracy: 0.5550\n",
            "[0.6935999989509583, 0.7737500071525574, 0.7868750095367432, 0.7915999889373779, 0.7989749908447266]\n",
            "[0.5887, 0.5857, 0.5741, 0.5642, 0.5596]\n",
            "[0.6939250230789185, 0.7043250203132629, 0.7044000029563904, 0.7004500031471252, 0.6946499943733215]\n",
            "[0.5894, 0.5925, 0.5927, 0.5948, 0.5912]\n"
          ],
          "name": "stdout"
        }
      ]
    },
    {
      "cell_type": "code",
      "metadata": {
        "id": "X5aD2gtbgG_F"
      },
      "source": [
        ""
      ],
      "execution_count": null,
      "outputs": []
    },
    {
      "cell_type": "markdown",
      "metadata": {
        "id": "IwPZPkBLkrqV"
      },
      "source": [
        "### Accuracies Plots"
      ]
    },
    {
      "cell_type": "code",
      "metadata": {
        "id": "ss_yHJ7zgG_G"
      },
      "source": [
        "all_accuracy = pd.DataFrame(columns=['layers','train_accuracy_sigmoid','test_accuracy_sigmoid','train_accuracy_relu','test_accuracy_relu'],index=np.arange(5))"
      ],
      "execution_count": null,
      "outputs": []
    },
    {
      "cell_type": "code",
      "metadata": {
        "colab": {
          "base_uri": "https://localhost:8080/",
          "height": 204
        },
        "id": "eQjZfMfzgG_G",
        "outputId": "e09ca191-6177-44da-aa6f-9d6f7eabb0c5"
      },
      "source": [
        "all_accuracy['layers'] = np.arange(5)\n",
        "all_accuracy['train_accuracy_sigmoid']= trainAccuraciesSigmoid\n",
        "all_accuracy['test_accuracy_sigmoid'] = testAccuraciesSigmoid\n",
        "all_accuracy['train_accuracy_relu'] = trainAccuraciesReLU\n",
        "all_accuracy['test_accuracy_relu'] = testAccuraciesReLU\n",
        "all_accuracy"
      ],
      "execution_count": null,
      "outputs": [
        {
          "output_type": "execute_result",
          "data": {
            "text/html": [
              "<div>\n",
              "<style scoped>\n",
              "    .dataframe tbody tr th:only-of-type {\n",
              "        vertical-align: middle;\n",
              "    }\n",
              "\n",
              "    .dataframe tbody tr th {\n",
              "        vertical-align: top;\n",
              "    }\n",
              "\n",
              "    .dataframe thead th {\n",
              "        text-align: right;\n",
              "    }\n",
              "</style>\n",
              "<table border=\"1\" class=\"dataframe\">\n",
              "  <thead>\n",
              "    <tr style=\"text-align: right;\">\n",
              "      <th></th>\n",
              "      <th>layers</th>\n",
              "      <th>train_accuracy_sigmoid</th>\n",
              "      <th>test_accuracy_sigmoid</th>\n",
              "      <th>train_accuracy_relu</th>\n",
              "      <th>test_accuracy_relu</th>\n",
              "    </tr>\n",
              "  </thead>\n",
              "  <tbody>\n",
              "    <tr>\n",
              "      <th>0</th>\n",
              "      <td>0</td>\n",
              "      <td>0.693925</td>\n",
              "      <td>0.5894</td>\n",
              "      <td>0.693600</td>\n",
              "      <td>0.5887</td>\n",
              "    </tr>\n",
              "    <tr>\n",
              "      <th>1</th>\n",
              "      <td>1</td>\n",
              "      <td>0.704325</td>\n",
              "      <td>0.5925</td>\n",
              "      <td>0.773750</td>\n",
              "      <td>0.5857</td>\n",
              "    </tr>\n",
              "    <tr>\n",
              "      <th>2</th>\n",
              "      <td>2</td>\n",
              "      <td>0.704400</td>\n",
              "      <td>0.5927</td>\n",
              "      <td>0.786875</td>\n",
              "      <td>0.5741</td>\n",
              "    </tr>\n",
              "    <tr>\n",
              "      <th>3</th>\n",
              "      <td>3</td>\n",
              "      <td>0.700450</td>\n",
              "      <td>0.5948</td>\n",
              "      <td>0.791600</td>\n",
              "      <td>0.5642</td>\n",
              "    </tr>\n",
              "    <tr>\n",
              "      <th>4</th>\n",
              "      <td>4</td>\n",
              "      <td>0.694650</td>\n",
              "      <td>0.5912</td>\n",
              "      <td>0.798975</td>\n",
              "      <td>0.5596</td>\n",
              "    </tr>\n",
              "  </tbody>\n",
              "</table>\n",
              "</div>"
            ],
            "text/plain": [
              "   layers  train_accuracy_sigmoid  ...  train_accuracy_relu  test_accuracy_relu\n",
              "0       0                0.693925  ...             0.693600              0.5887\n",
              "1       1                0.704325  ...             0.773750              0.5857\n",
              "2       2                0.704400  ...             0.786875              0.5741\n",
              "3       3                0.700450  ...             0.791600              0.5642\n",
              "4       4                0.694650  ...             0.798975              0.5596\n",
              "\n",
              "[5 rows x 5 columns]"
            ]
          },
          "metadata": {
            "tags": []
          },
          "execution_count": 33
        }
      ]
    },
    {
      "cell_type": "code",
      "metadata": {
        "id": "7uxlxxAjgG_J"
      },
      "source": [
        "import matplotlib.pyplot as plt"
      ],
      "execution_count": null,
      "outputs": []
    },
    {
      "cell_type": "code",
      "metadata": {
        "colab": {
          "base_uri": "https://localhost:8080/",
          "height": 530
        },
        "id": "C_0VSe6UgG_K",
        "outputId": "5b1c37cd-7954-4372-dd9d-69ff55b79d17"
      },
      "source": [
        "plt.figure(figsize=(12,8))\n",
        "plt.plot(all_accuracy['layers'],all_accuracy['train_accuracy_sigmoid'],label='train_accuracy_sigmoid')\n",
        "plt.plot(all_accuracy['layers'],all_accuracy['test_accuracy_sigmoid'],label='test_accuracy_sigmoid')\n",
        "plt.plot(all_accuracy['layers'],all_accuracy['train_accuracy_relu'],label='train_accuracy_relu')\n",
        "plt.plot(all_accuracy['layers'],all_accuracy['test_accuracy_relu'],label='test_accuracy_relu')\n",
        "plt.title('For Fasttext Embeddings')\n",
        "plt.xlabel(\"No of hidden layers\")\n",
        "plt.ylabel(\"Accuracy\")\n",
        "plt.legend()\n"
      ],
      "execution_count": null,
      "outputs": [
        {
          "output_type": "execute_result",
          "data": {
            "text/plain": [
              "<matplotlib.legend.Legend at 0x7f8bfeb30f90>"
            ]
          },
          "metadata": {
            "tags": []
          },
          "execution_count": 36
        },
        {
          "output_type": "display_data",
          "data": {
            "image/png": "[encoded data removed]",
            "text/plain": [
              "<Figure size 864x576 with 1 Axes>"
            ]
          },
          "metadata": {
            "tags": [],
            "needs_background": "light"
          }
        }
      ]
    },
    {
      "cell_type": "code",
      "metadata": {
        "id": "xXjll7j4gG_K"
      },
      "source": [
        ""
      ],
      "execution_count": null,
      "outputs": []
    },
    {
      "cell_type": "markdown",
      "metadata": {
        "id": "i0gwl3YKk-w0"
      },
      "source": [
        "#### Best Model:\n",
        "1. No of Hidden Layers:\n",
        "2. Activation: "
      ]
    },
    {
      "cell_type": "code",
      "metadata": {
        "colab": {
          "base_uri": "https://localhost:8080/"
        },
        "id": "fZ_VjBPngG_L",
        "outputId": "5d551166-8e18-4ddc-b710-a9c6fc125c5a"
      },
      "source": [
        "Best_model = NeuralNetGlove(preprocessed_reviews,Y)\n",
        "Best_model.build_nn(hiddenLayers=1,activationHidden='relu')\n",
        "Best_model.train_nn(64,15)\n",
        "y_pred = Best_model.predict(preprocessed_test_reviews)\n",
        "accuracyTest = accuracy_score(test['ratings'],y_pred)\n",
        "accuracyTrain = Best_model.history.history['accuracy'][-1]\n",
        "print(accuracyTrain)\n",
        "print(accuracyTest)"
      ],
      "execution_count": null,
      "outputs": [
        {
          "output_type": "stream",
          "text": [
            "Model: \"sequential_10\"\n",
            "_________________________________________________________________\n",
            "Layer (type)                 Output Shape              Param #   \n",
            "=================================================================\n",
            "dense_30 (Dense)             (None, 64)                160064    \n",
            "_________________________________________________________________\n",
            "dense_31 (Dense)             (None, 5)                 325       \n",
            "=================================================================\n",
            "Total params: 160,389\n",
            "Trainable params: 160,389\n",
            "Non-trainable params: 0\n",
            "_________________________________________________________________\n",
            "Epoch 1/15\n",
            "625/625 [==============================] - 3s 4ms/step - loss: 1.1305 - accuracy: 0.6572 - val_loss: 1.2702 - val_accuracy: 0.5729\n",
            "Epoch 2/15\n",
            "625/625 [==============================] - 2s 4ms/step - loss: 0.9595 - accuracy: 0.6905 - val_loss: 1.2295 - val_accuracy: 0.5779\n",
            "Epoch 3/15\n",
            "625/625 [==============================] - 3s 4ms/step - loss: 0.9049 - accuracy: 0.6925 - val_loss: 1.2152 - val_accuracy: 0.5806\n",
            "Epoch 4/15\n",
            "625/625 [==============================] - 3s 4ms/step - loss: 0.8663 - accuracy: 0.7015 - val_loss: 1.1978 - val_accuracy: 0.5810\n",
            "Epoch 5/15\n",
            "625/625 [==============================] - 2s 4ms/step - loss: 0.8346 - accuracy: 0.7104 - val_loss: 1.1981 - val_accuracy: 0.5838\n",
            "Epoch 6/15\n",
            "625/625 [==============================] - 2s 4ms/step - loss: 0.8099 - accuracy: 0.7170 - val_loss: 1.1912 - val_accuracy: 0.5841\n",
            "Epoch 7/15\n",
            "625/625 [==============================] - 2s 4ms/step - loss: 0.7827 - accuracy: 0.7257 - val_loss: 1.1942 - val_accuracy: 0.5840\n",
            "Epoch 8/15\n",
            "625/625 [==============================] - 2s 4ms/step - loss: 0.7617 - accuracy: 0.7294 - val_loss: 1.1966 - val_accuracy: 0.5859\n",
            "Epoch 9/15\n",
            "625/625 [==============================] - 2s 4ms/step - loss: 0.7488 - accuracy: 0.7374 - val_loss: 1.2048 - val_accuracy: 0.5847\n",
            "Epoch 10/15\n",
            "625/625 [==============================] - 2s 4ms/step - loss: 0.7246 - accuracy: 0.7438 - val_loss: 1.2122 - val_accuracy: 0.5829\n",
            "Epoch 11/15\n",
            "625/625 [==============================] - 2s 4ms/step - loss: 0.7036 - accuracy: 0.7521 - val_loss: 1.2334 - val_accuracy: 0.5830\n",
            "Epoch 12/15\n",
            "625/625 [==============================] - 3s 4ms/step - loss: 0.6903 - accuracy: 0.7582 - val_loss: 1.2190 - val_accuracy: 0.5843\n",
            "Epoch 13/15\n",
            "625/625 [==============================] - 2s 4ms/step - loss: 0.6797 - accuracy: 0.7628 - val_loss: 1.2447 - val_accuracy: 0.5837\n",
            "Epoch 14/15\n",
            "625/625 [==============================] - 2s 4ms/step - loss: 0.6581 - accuracy: 0.7705 - val_loss: 1.2392 - val_accuracy: 0.5753\n",
            "Epoch 15/15\n",
            "625/625 [==============================] - 3s 4ms/step - loss: 0.6524 - accuracy: 0.7736 - val_loss: 1.2660 - val_accuracy: 0.5772\n",
            "0.7726250290870667\n",
            "0.5812\n"
          ],
          "name": "stdout"
        }
      ]
    },
    {
      "cell_type": "code",
      "metadata": {
        "id": "CmQWGOTMgG_L"
      },
      "source": [
        "\n"
      ],
      "execution_count": null,
      "outputs": []
    },
    {
      "cell_type": "markdown",
      "metadata": {
        "id": "NRQWgpNel_sT"
      },
      "source": [
        "##### Report for best Model"
      ]
    },
    {
      "cell_type": "code",
      "metadata": {
        "colab": {
          "base_uri": "https://localhost:8080/",
          "height": 520
        },
        "id": "FM9fQxNmmGhw",
        "outputId": "94d883f1-3e66-41a0-9d36-8906207b0716"
      },
      "source": [
        "report(y_pred,test,Model=Best_model)"
      ],
      "execution_count": null,
      "outputs": [
        {
          "output_type": "stream",
          "text": [
            "Classification Report : \n",
            "               precision    recall  f1-score   support\n",
            "\n",
            "           1       0.41      0.15      0.22      1271\n",
            "           2       0.23      0.04      0.07       630\n",
            "           3       0.27      0.09      0.13       911\n",
            "           4       0.23      0.10      0.14      1404\n",
            "           5       0.63      0.93      0.75      5784\n",
            "\n",
            "    accuracy                           0.58     10000\n",
            "   macro avg       0.36      0.26      0.26     10000\n",
            "weighted avg       0.49      0.58      0.50     10000\n",
            "\n",
            "Heat Map :\n",
            "\n"
          ],
          "name": "stdout"
        },
        {
          "output_type": "display_data",
          "data": {
            "image/png": "[encoded data removed]",
            "text/plain": [
              "<Figure size 432x288 with 2 Axes>"
            ]
          },
          "metadata": {
            "tags": [],
            "needs_background": "light"
          }
        }
      ]
    },
    {
      "cell_type": "code",
      "metadata": {
        "id": "kxqIy-lAmQ22"
      },
      "source": [
        ""
      ],
      "execution_count": null,
      "outputs": []
    },
    {
      "cell_type": "markdown",
      "metadata": {
        "id": "5Jy99OtPlgZP"
      },
      "source": [
        "#### Prediction GUI"
      ]
    },
    {
      "cell_type": "code",
      "metadata": {
        "id": "C-OTCdZ_gG_M"
      },
      "source": [
        "import ipywidgets as widgets\n",
        "from IPython.display import display"
      ],
      "execution_count": null,
      "outputs": []
    },
    {
      "cell_type": "code",
      "metadata": {
        "id": "ZiYy9jKQgG_M"
      },
      "source": [
        "def preprocess_test(input):\n",
        "  input = input.split()\n",
        "  \n",
        "  input = convert_to_lower(input)\n",
        "  input = tokens(input)\n",
        "  emb=[]\n",
        "  for i in input:\n",
        "    try:\n",
        "      emb.append(model.wv[i])\n",
        "    except KeyError:\n",
        "      emb.append(np.zeros((50)))\n",
        "  padded = perform_padding(emb)    \n",
        "  return padded\n"
      ],
      "execution_count": null,
      "outputs": []
    },
    {
      "cell_type": "code",
      "metadata": {
        "colab": {
          "base_uri": "https://localhost:8080/",
          "height": 116,
          "referenced_widgets": [
            "a5d9c148e8524233819d75b4d26722c9",
            "847d2f8550114064ad3ee48072a57d89",
            "c05d7210d14045a5a2a0ede3756a985e",
            "7e76e5cfec504afda7a69da15a917fe7",
            "9dbc0cd3f9bb47f8a6cb1566d4db5966",
            "ce4879d5abcc4d5a9d80c41d9f4539ed",
            "c678b23199b540a3b0ea139355b289bb",
            "ce1e045df1e04ad8a85d0034754faed1"
          ]
        },
        "id": "9muOdOAZgG_M",
        "outputId": "86518879-7d8d-4e6b-87fc-1bf4303f8a98"
      },
      "source": [
        "k = widgets.Textarea(\n",
        "    value=\"\",\n",
        "    placeholder='Type something',\n",
        "    description='String:',\n",
        "    disabled=False)\n",
        "button = widgets.Button(description=\"Predict!\")\n",
        "output = widgets.Output()\n",
        "display(k,button, output)\n",
        "def on_button_clicked(b):\n",
        "    output.clear_output()\n",
        "    if k.value == \"\":\n",
        "      output.clear_output()\n",
        "    else :\n",
        "        with output:\n",
        "        text = preprocess_test(k.value)\n",
        "        tmp=[]\n",
        "        for i in text:\n",
        "          for j in i:\n",
        "            tmp.append(j)\n",
        "        text_ = np.zeros(2500)\n",
        "        text_[:len(tmp)]=tmp\n",
        "\n",
        "        prediction = Best_model.predict(np.array([text_]))\n",
        "        print(\"Predicted Sentiment:\",prediction[0])\n",
        "    \n",
        "button.on_click(on_button_clicked)"
      ],
      "execution_count": null,
      "outputs": [
        {
          "output_type": "display_data",
          "data": {
            "application/vnd.jupyter.widget-view+json": {
              "model_id": "a5d9c148e8524233819d75b4d26722c9",
              "version_minor": 0,
              "version_major": 2
            },
            "text/plain": [
              "Textarea(value='', description='String:', placeholder='Type something')"
            ]
          },
          "metadata": {
            "tags": []
          }
        },
        {
          "output_type": "display_data",
          "data": {
            "application/vnd.jupyter.widget-view+json": {
              "model_id": "7e76e5cfec504afda7a69da15a917fe7",
              "version_minor": 0,
              "version_major": 2
            },
            "text/plain": [
              "Button(description='Predict!', style=ButtonStyle())"
            ]
          },
          "metadata": {
            "tags": []
          }
        },
        {
          "output_type": "display_data",
          "data": {
            "application/vnd.jupyter.widget-view+json": {
              "model_id": "c678b23199b540a3b0ea139355b289bb",
              "version_minor": 0,
              "version_major": 2
            },
            "text/plain": [
              "Output()"
            ]
          },
          "metadata": {
            "tags": []
          }
        }
      ]
    },
    {
      "cell_type": "code",
      "metadata": {
        "id": "ZRfNeTD9gG_N"
      },
      "source": [
        ""
      ],
      "execution_count": null,
      "outputs": []
    },
    {
      "cell_type": "code",
      "metadata": {
        "id": "CW2enRRvgG_O"
      },
      "source": [
        ""
      ],
      "execution_count": null,
      "outputs": []
    },
    {
      "cell_type": "markdown",
      "metadata": {
        "id": "tcZquTIMmUn8"
      },
      "source": [
        "### Different Models\n"
      ]
    },
    {
      "cell_type": "markdown",
      "metadata": {
        "id": "3bIyJ3e1mkpo"
      },
      "source": [
        "### 1. Hidden Layers:0 , activation: Sigmoid"
      ]
    },
    {
      "cell_type": "code",
      "metadata": {
        "colab": {
          "base_uri": "https://localhost:8080/"
        },
        "id": "EehZH2p0gG_P",
        "outputId": "ac37a885-20c4-44b9-9c61-e0ece441fa54"
      },
      "source": [
        "Sigmoid0 = NeuralNetGlove(preprocessed_reviews,Y)\n",
        "Sigmoid0.build_nn(hiddenLayers=0,activationHidden='sigmoid')\n",
        "Sigmoid0.train_nn(64,15)\n",
        "y_pred = Sigmoid0.predict(preprocessed_test_reviews)\n",
        "accuracyTest = accuracy_score(test['ratings'],y_pred)\n",
        "accuracyTrain = Sigmoid0.history.history['accuracy'][-1]\n",
        "print(accuracyTrain)\n",
        "print(accuracyTest)"
      ],
      "execution_count": null,
      "outputs": [
        {
          "output_type": "stream",
          "text": [
            "Model: \"sequential_11\"\n",
            "_________________________________________________________________\n",
            "Layer (type)                 Output Shape              Param #   \n",
            "=================================================================\n",
            "dense_32 (Dense)             (None, 5)                 12505     \n",
            "=================================================================\n",
            "Total params: 12,505\n",
            "Trainable params: 12,505\n",
            "Non-trainable params: 0\n",
            "_________________________________________________________________\n",
            "Epoch 1/15\n",
            "625/625 [==============================] - 2s 3ms/step - loss: 1.5922 - accuracy: 0.4781 - val_loss: 1.3504 - val_accuracy: 0.5649\n",
            "Epoch 2/15\n",
            "625/625 [==============================] - 2s 3ms/step - loss: 1.0591 - accuracy: 0.6754 - val_loss: 1.2651 - val_accuracy: 0.5722\n",
            "Epoch 3/15\n",
            "625/625 [==============================] - 2s 3ms/step - loss: 0.9956 - accuracy: 0.6844 - val_loss: 1.2328 - val_accuracy: 0.5739\n",
            "Epoch 4/15\n",
            "625/625 [==============================] - 2s 3ms/step - loss: 0.9670 - accuracy: 0.6870 - val_loss: 1.2284 - val_accuracy: 0.5766\n",
            "Epoch 5/15\n",
            "625/625 [==============================] - 2s 3ms/step - loss: 0.9515 - accuracy: 0.6890 - val_loss: 1.2088 - val_accuracy: 0.5783\n",
            "Epoch 6/15\n",
            "625/625 [==============================] - 2s 3ms/step - loss: 0.9382 - accuracy: 0.6905 - val_loss: 1.2077 - val_accuracy: 0.5787\n",
            "Epoch 7/15\n",
            "625/625 [==============================] - 2s 3ms/step - loss: 0.9347 - accuracy: 0.6882 - val_loss: 1.2000 - val_accuracy: 0.5789\n",
            "Epoch 8/15\n",
            "625/625 [==============================] - 2s 3ms/step - loss: 0.9186 - accuracy: 0.6925 - val_loss: 1.1829 - val_accuracy: 0.5830\n",
            "Epoch 9/15\n",
            "625/625 [==============================] - 2s 3ms/step - loss: 0.9179 - accuracy: 0.6924 - val_loss: 1.1770 - val_accuracy: 0.5826\n",
            "Epoch 10/15\n",
            "625/625 [==============================] - 2s 3ms/step - loss: 0.9143 - accuracy: 0.6959 - val_loss: 1.1884 - val_accuracy: 0.5816\n",
            "Epoch 11/15\n",
            "625/625 [==============================] - 2s 3ms/step - loss: 0.9132 - accuracy: 0.6893 - val_loss: 1.1811 - val_accuracy: 0.5828\n",
            "Epoch 12/15\n",
            "625/625 [==============================] - 2s 3ms/step - loss: 0.9063 - accuracy: 0.6930 - val_loss: 1.1814 - val_accuracy: 0.5825\n",
            "Epoch 13/15\n",
            "625/625 [==============================] - 2s 3ms/step - loss: 0.9021 - accuracy: 0.6943 - val_loss: 1.1780 - val_accuracy: 0.5851\n",
            "Epoch 14/15\n",
            "625/625 [==============================] - 2s 3ms/step - loss: 0.9034 - accuracy: 0.6926 - val_loss: 1.1688 - val_accuracy: 0.5843\n",
            "Epoch 15/15\n",
            "625/625 [==============================] - 2s 3ms/step - loss: 0.8981 - accuracy: 0.6939 - val_loss: 1.1728 - val_accuracy: 0.5846\n",
            "0.6937999725341797\n",
            "0.5876\n"
          ],
          "name": "stdout"
        }
      ]
    },
    {
      "cell_type": "code",
      "metadata": {
        "colab": {
          "base_uri": "https://localhost:8080/",
          "height": 520
        },
        "id": "RZ6LQsqcgG_P",
        "outputId": "d5b7b8e7-8917-4c63-ac75-96b9b6b045af"
      },
      "source": [
        "report(y_pred,test,Model=Sigmoid0)"
      ],
      "execution_count": null,
      "outputs": [
        {
          "output_type": "stream",
          "text": [
            "Classification Report : \n",
            "               precision    recall  f1-score   support\n",
            "\n",
            "           1       0.49      0.08      0.14      1271\n",
            "           2       0.23      0.02      0.03       630\n",
            "           3       0.30      0.06      0.10       911\n",
            "           4       0.22      0.01      0.03      1404\n",
            "           5       0.60      0.98      0.75      5784\n",
            "\n",
            "    accuracy                           0.59     10000\n",
            "   macro avg       0.37      0.23      0.21     10000\n",
            "weighted avg       0.48      0.59      0.46     10000\n",
            "\n",
            "Heat Map :\n",
            "\n"
          ],
          "name": "stdout"
        },
        {
          "output_type": "display_data",
          "data": {
            "image/png": "[encoded data removed]",
            "text/plain": [
              "<Figure size 432x288 with 2 Axes>"
            ]
          },
          "metadata": {
            "tags": [],
            "needs_background": "light"
          }
        }
      ]
    },
    {
      "cell_type": "markdown",
      "metadata": {
        "id": "oNyBmTz8mvMR"
      },
      "source": [
        "### 2. Hidden Layer:1 Activation: Sigmoid"
      ]
    },
    {
      "cell_type": "code",
      "metadata": {
        "colab": {
          "base_uri": "https://localhost:8080/"
        },
        "id": "LAXouqwmgG_P",
        "outputId": "a172c02f-dff0-4834-887d-7d27b1ea7617"
      },
      "source": [
        "Sigmoid1 = NeuralNetGlove(preprocessed_reviews,Y)\n",
        "Sigmoid1.build_nn(hiddenLayers=1,activationHidden='sigmoid')\n",
        "Sigmoid1.train_nn(64,15)\n",
        "y_pred = Sigmoid1.predict(preprocessed_test_reviews)\n",
        "accuracyTest = accuracy_score(test['ratings'],y_pred)\n",
        "accuracyTrain = Sigmoid1.history.history['accuracy'][-1]\n",
        "print(accuracyTrain)\n",
        "print(accuracyTest)"
      ],
      "execution_count": null,
      "outputs": [
        {
          "output_type": "stream",
          "text": [
            "Model: \"sequential_12\"\n",
            "_________________________________________________________________\n",
            "Layer (type)                 Output Shape              Param #   \n",
            "=================================================================\n",
            "dense_33 (Dense)             (None, 64)                160064    \n",
            "_________________________________________________________________\n",
            "dense_34 (Dense)             (None, 5)                 325       \n",
            "=================================================================\n",
            "Total params: 160,389\n",
            "Trainable params: 160,389\n",
            "Non-trainable params: 0\n",
            "_________________________________________________________________\n",
            "Epoch 1/15\n",
            "625/625 [==============================] - 4s 5ms/step - loss: 1.1816 - accuracy: 0.6053 - val_loss: 1.2486 - val_accuracy: 0.5744\n",
            "Epoch 2/15\n",
            "625/625 [==============================] - 3s 4ms/step - loss: 0.9748 - accuracy: 0.6901 - val_loss: 1.2192 - val_accuracy: 0.5752\n",
            "Epoch 3/15\n",
            "625/625 [==============================] - 3s 4ms/step - loss: 0.9451 - accuracy: 0.6900 - val_loss: 1.2055 - val_accuracy: 0.5771\n",
            "Epoch 4/15\n",
            "625/625 [==============================] - 3s 4ms/step - loss: 0.9270 - accuracy: 0.6913 - val_loss: 1.1937 - val_accuracy: 0.5807\n",
            "Epoch 5/15\n",
            "625/625 [==============================] - 3s 4ms/step - loss: 0.9153 - accuracy: 0.6900 - val_loss: 1.1821 - val_accuracy: 0.5823\n",
            "Epoch 6/15\n",
            "625/625 [==============================] - 3s 4ms/step - loss: 0.8999 - accuracy: 0.6946 - val_loss: 1.1882 - val_accuracy: 0.5820\n",
            "Epoch 7/15\n",
            "625/625 [==============================] - 3s 4ms/step - loss: 0.9076 - accuracy: 0.6877 - val_loss: 1.1679 - val_accuracy: 0.5848\n",
            "Epoch 8/15\n",
            "625/625 [==============================] - 3s 5ms/step - loss: 0.8802 - accuracy: 0.6987 - val_loss: 1.1698 - val_accuracy: 0.5841\n",
            "Epoch 9/15\n",
            "625/625 [==============================] - 3s 4ms/step - loss: 0.8661 - accuracy: 0.7033 - val_loss: 1.1742 - val_accuracy: 0.5829\n",
            "Epoch 10/15\n",
            "625/625 [==============================] - 3s 4ms/step - loss: 0.8619 - accuracy: 0.7005 - val_loss: 1.1674 - val_accuracy: 0.5855\n",
            "Epoch 11/15\n",
            "625/625 [==============================] - 3s 4ms/step - loss: 0.8543 - accuracy: 0.7018 - val_loss: 1.1560 - val_accuracy: 0.5858\n",
            "Epoch 12/15\n",
            "625/625 [==============================] - 3s 4ms/step - loss: 0.8481 - accuracy: 0.7034 - val_loss: 1.1633 - val_accuracy: 0.5869\n",
            "Epoch 13/15\n",
            "625/625 [==============================] - 3s 4ms/step - loss: 0.8411 - accuracy: 0.7042 - val_loss: 1.1652 - val_accuracy: 0.5869\n",
            "Epoch 14/15\n",
            "625/625 [==============================] - 3s 4ms/step - loss: 0.8378 - accuracy: 0.7046 - val_loss: 1.1543 - val_accuracy: 0.5883\n",
            "Epoch 15/15\n",
            "625/625 [==============================] - 3s 5ms/step - loss: 0.8290 - accuracy: 0.7078 - val_loss: 1.1633 - val_accuracy: 0.5856\n",
            "0.7060499787330627\n",
            "0.5889\n"
          ],
          "name": "stdout"
        }
      ]
    },
    {
      "cell_type": "code",
      "metadata": {
        "colab": {
          "base_uri": "https://localhost:8080/",
          "height": 520
        },
        "id": "9qWnOJk8gG_P",
        "outputId": "2951916a-a944-4093-fe63-6f7fc0ac039d"
      },
      "source": [
        "report(y_pred,test,Model=Sigmoid1)"
      ],
      "execution_count": null,
      "outputs": [
        {
          "output_type": "stream",
          "text": [
            "Classification Report : \n",
            "               precision    recall  f1-score   support\n",
            "\n",
            "           1       0.46      0.10      0.17      1271\n",
            "           2       0.16      0.01      0.02       630\n",
            "           3       0.31      0.04      0.08       911\n",
            "           4       0.25      0.03      0.05      1404\n",
            "           5       0.60      0.98      0.75      5784\n",
            "\n",
            "    accuracy                           0.59     10000\n",
            "   macro avg       0.36      0.23      0.21     10000\n",
            "weighted avg       0.48      0.59      0.47     10000\n",
            "\n",
            "Heat Map :\n",
            "\n"
          ],
          "name": "stdout"
        },
        {
          "output_type": "display_data",
          "data": {
            "image/png": "[encoded data removed]",
            "text/plain": [
              "<Figure size 432x288 with 2 Axes>"
            ]
          },
          "metadata": {
            "tags": [],
            "needs_background": "light"
          }
        }
      ]
    },
    {
      "cell_type": "code",
      "metadata": {
        "id": "jsXwWDuFgG_Q"
      },
      "source": [
        ""
      ],
      "execution_count": null,
      "outputs": []
    },
    {
      "cell_type": "markdown",
      "metadata": {
        "id": "ts-IdGu1m8Ra"
      },
      "source": [
        "### 3. Hidden Layer: 0, Activation: ReLU"
      ]
    },
    {
      "cell_type": "code",
      "metadata": {
        "colab": {
          "base_uri": "https://localhost:8080/"
        },
        "id": "uBSpCBN4gG_Q",
        "outputId": "4c4730b7-c5df-47f3-bfb4-99431efa5135"
      },
      "source": [
        "ReLU0 = NeuralNetGlove(preprocessed_reviews,Y)\n",
        "ReLU0.build_nn(hiddenLayers=0,activationHidden='relu')\n",
        "ReLU0.train_nn(64,15)\n",
        "y_pred = ReLU0.predict(preprocessed_test_reviews)\n",
        "accuracyTest = accuracy_score(test['ratings'],y_pred)\n",
        "accuracyTrain = ReLU0.history.history['accuracy'][-1]\n",
        "print(accuracyTrain)\n",
        "print(accuracyTest)"
      ],
      "execution_count": null,
      "outputs": [
        {
          "output_type": "stream",
          "text": [
            "Model: \"sequential_13\"\n",
            "_________________________________________________________________\n",
            "Layer (type)                 Output Shape              Param #   \n",
            "=================================================================\n",
            "dense_35 (Dense)             (None, 5)                 12505     \n",
            "=================================================================\n",
            "Total params: 12,505\n",
            "Trainable params: 12,505\n",
            "Non-trainable params: 0\n",
            "_________________________________________________________________\n",
            "Epoch 1/15\n",
            "625/625 [==============================] - 2s 3ms/step - loss: 1.4305 - accuracy: 0.5261 - val_loss: 1.3452 - val_accuracy: 0.5696\n",
            "Epoch 2/15\n",
            "625/625 [==============================] - 2s 3ms/step - loss: 1.0466 - accuracy: 0.6788 - val_loss: 1.2721 - val_accuracy: 0.5742\n",
            "Epoch 3/15\n",
            "625/625 [==============================] - 2s 3ms/step - loss: 0.9989 - accuracy: 0.6840 - val_loss: 1.2437 - val_accuracy: 0.5768\n",
            "Epoch 4/15\n",
            "625/625 [==============================] - 2s 3ms/step - loss: 0.9761 - accuracy: 0.6845 - val_loss: 1.2165 - val_accuracy: 0.5784\n",
            "Epoch 5/15\n",
            "625/625 [==============================] - 2s 3ms/step - loss: 0.9539 - accuracy: 0.6878 - val_loss: 1.2194 - val_accuracy: 0.5794\n",
            "Epoch 6/15\n",
            "625/625 [==============================] - 2s 3ms/step - loss: 0.9376 - accuracy: 0.6912 - val_loss: 1.2036 - val_accuracy: 0.5809\n",
            "Epoch 7/15\n",
            "625/625 [==============================] - 2s 3ms/step - loss: 0.9313 - accuracy: 0.6914 - val_loss: 1.1961 - val_accuracy: 0.5822\n",
            "Epoch 8/15\n",
            "625/625 [==============================] - 2s 3ms/step - loss: 0.9237 - accuracy: 0.6928 - val_loss: 1.1941 - val_accuracy: 0.5835\n",
            "Epoch 9/15\n",
            "625/625 [==============================] - 2s 3ms/step - loss: 0.9184 - accuracy: 0.6920 - val_loss: 1.1837 - val_accuracy: 0.5868\n",
            "Epoch 10/15\n",
            "625/625 [==============================] - 2s 3ms/step - loss: 0.9123 - accuracy: 0.6948 - val_loss: 1.1862 - val_accuracy: 0.5834\n",
            "Epoch 11/15\n",
            "625/625 [==============================] - 2s 3ms/step - loss: 0.9056 - accuracy: 0.6958 - val_loss: 1.1868 - val_accuracy: 0.5840\n",
            "Epoch 12/15\n",
            "625/625 [==============================] - 2s 3ms/step - loss: 0.9106 - accuracy: 0.6937 - val_loss: 1.1805 - val_accuracy: 0.5878\n",
            "Epoch 13/15\n",
            "625/625 [==============================] - 2s 3ms/step - loss: 0.9022 - accuracy: 0.6944 - val_loss: 1.1780 - val_accuracy: 0.5861\n",
            "Epoch 14/15\n",
            "625/625 [==============================] - 2s 3ms/step - loss: 0.9012 - accuracy: 0.6946 - val_loss: 1.1723 - val_accuracy: 0.5882\n",
            "Epoch 15/15\n",
            "625/625 [==============================] - 2s 3ms/step - loss: 0.9072 - accuracy: 0.6930 - val_loss: 1.1870 - val_accuracy: 0.5843\n",
            "0.6945250034332275\n",
            "0.5858\n"
          ],
          "name": "stdout"
        }
      ]
    },
    {
      "cell_type": "code",
      "metadata": {
        "colab": {
          "base_uri": "https://localhost:8080/",
          "height": 520
        },
        "id": "nmTZVKiXgG_Q",
        "outputId": "0b9d169f-239a-4351-aa23-039d6f7f0fd8"
      },
      "source": [
        "report(y_pred,test,Model=ReLU0)"
      ],
      "execution_count": null,
      "outputs": [
        {
          "output_type": "stream",
          "text": [
            "Classification Report : \n",
            "               precision    recall  f1-score   support\n",
            "\n",
            "           1       0.48      0.07      0.13      1271\n",
            "           2       0.23      0.02      0.03       630\n",
            "           3       0.27      0.04      0.06       911\n",
            "           4       0.21      0.01      0.03      1404\n",
            "           5       0.60      0.99      0.74      5784\n",
            "\n",
            "    accuracy                           0.59     10000\n",
            "   macro avg       0.36      0.23      0.20     10000\n",
            "weighted avg       0.48      0.59      0.46     10000\n",
            "\n",
            "Heat Map :\n",
            "\n"
          ],
          "name": "stdout"
        },
        {
          "output_type": "display_data",
          "data": {
            "image/png": "[encoded data removed]",
            "text/plain": [
              "<Figure size 432x288 with 2 Axes>"
            ]
          },
          "metadata": {
            "tags": [],
            "needs_background": "light"
          }
        }
      ]
    },
    {
      "cell_type": "code",
      "metadata": {
        "id": "ZwUCgCDQgG_Q"
      },
      "source": [
        ""
      ],
      "execution_count": null,
      "outputs": []
    },
    {
      "cell_type": "markdown",
      "metadata": {
        "id": "fi1n1BJdnG-I"
      },
      "source": [
        "### 4. Hiddden Layer:1 Activation: ReLU"
      ]
    },
    {
      "cell_type": "code",
      "metadata": {
        "colab": {
          "base_uri": "https://localhost:8080/"
        },
        "id": "1ifmzpRMgG_Q",
        "outputId": "b5df5623-835b-4e12-a14f-fbbc4f99afeb"
      },
      "source": [
        "ReLU1 = NeuralNetGlove(preprocessed_reviews,Y)\n",
        "ReLU1.build_nn(hiddenLayers=1,activationHidden='relu')\n",
        "ReLU1.train_nn(64,15)\n",
        "y_pred = ReLU1.predict(preprocessed_test_reviews)\n",
        "accuracyTest = accuracy_score(test['ratings'],y_pred)\n",
        "accuracyTrain = ReLU1.history.history['accuracy'][-1]\n",
        "print(accuracyTrain)\n",
        "print(accuracyTest)"
      ],
      "execution_count": null,
      "outputs": [
        {
          "output_type": "stream",
          "text": [
            "Model: \"sequential_15\"\n",
            "_________________________________________________________________\n",
            "Layer (type)                 Output Shape              Param #   \n",
            "=================================================================\n",
            "dense_37 (Dense)             (None, 64)                160064    \n",
            "_________________________________________________________________\n",
            "dense_38 (Dense)             (None, 5)                 325       \n",
            "=================================================================\n",
            "Total params: 160,389\n",
            "Trainable params: 160,389\n",
            "Non-trainable params: 0\n",
            "_________________________________________________________________\n",
            "Epoch 1/15\n",
            "625/625 [==============================] - 3s 5ms/step - loss: 1.1980 - accuracy: 0.6328 - val_loss: 1.2785 - val_accuracy: 0.5751\n",
            "Epoch 2/15\n",
            "625/625 [==============================] - 3s 4ms/step - loss: 0.9730 - accuracy: 0.6879 - val_loss: 1.2337 - val_accuracy: 0.5772\n",
            "Epoch 3/15\n",
            "625/625 [==============================] - 3s 4ms/step - loss: 0.9130 - accuracy: 0.6941 - val_loss: 1.2261 - val_accuracy: 0.5805\n",
            "Epoch 4/15\n",
            "625/625 [==============================] - 3s 4ms/step - loss: 0.8712 - accuracy: 0.7038 - val_loss: 1.2084 - val_accuracy: 0.5815\n",
            "Epoch 5/15\n",
            "625/625 [==============================] - 3s 5ms/step - loss: 0.8374 - accuracy: 0.7099 - val_loss: 1.2188 - val_accuracy: 0.5797\n",
            "Epoch 6/15\n",
            "625/625 [==============================] - 3s 5ms/step - loss: 0.8171 - accuracy: 0.7165 - val_loss: 1.2373 - val_accuracy: 0.5799\n",
            "Epoch 7/15\n",
            "625/625 [==============================] - 3s 5ms/step - loss: 0.7916 - accuracy: 0.7219 - val_loss: 1.2010 - val_accuracy: 0.5813\n",
            "Epoch 8/15\n",
            "625/625 [==============================] - 3s 5ms/step - loss: 0.7633 - accuracy: 0.7314 - val_loss: 1.2236 - val_accuracy: 0.5787\n",
            "Epoch 9/15\n",
            "625/625 [==============================] - 3s 5ms/step - loss: 0.7511 - accuracy: 0.7361 - val_loss: 1.2192 - val_accuracy: 0.5795\n",
            "Epoch 10/15\n",
            "625/625 [==============================] - 3s 5ms/step - loss: 0.7299 - accuracy: 0.7442 - val_loss: 1.2321 - val_accuracy: 0.5817\n",
            "Epoch 11/15\n",
            "625/625 [==============================] - 3s 5ms/step - loss: 0.7159 - accuracy: 0.7468 - val_loss: 1.2255 - val_accuracy: 0.5791\n",
            "Epoch 12/15\n",
            "625/625 [==============================] - 3s 5ms/step - loss: 0.6914 - accuracy: 0.7561 - val_loss: 1.2417 - val_accuracy: 0.5777\n",
            "Epoch 13/15\n",
            "625/625 [==============================] - 3s 5ms/step - loss: 0.6812 - accuracy: 0.7634 - val_loss: 1.2627 - val_accuracy: 0.5767\n",
            "Epoch 14/15\n",
            "625/625 [==============================] - 3s 5ms/step - loss: 0.6648 - accuracy: 0.7683 - val_loss: 1.2579 - val_accuracy: 0.5782\n",
            "Epoch 15/15\n",
            "625/625 [==============================] - 3s 5ms/step - loss: 0.6408 - accuracy: 0.7796 - val_loss: 1.2631 - val_accuracy: 0.5730\n",
            "0.771399974822998\n",
            "0.5804\n"
          ],
          "name": "stdout"
        }
      ]
    },
    {
      "cell_type": "code",
      "metadata": {
        "colab": {
          "base_uri": "https://localhost:8080/",
          "height": 520
        },
        "id": "iOY2E1UMnOBu",
        "outputId": "57660392-8151-4932-8a2a-1bc80dd12f81"
      },
      "source": [
        "report(y_pred,test,Model=ReLU1)"
      ],
      "execution_count": null,
      "outputs": [
        {
          "output_type": "stream",
          "text": [
            "Classification Report : \n",
            "               precision    recall  f1-score   support\n",
            "\n",
            "           1       0.46      0.10      0.17      1271\n",
            "           2       0.21      0.01      0.02       630\n",
            "           3       0.23      0.02      0.04       911\n",
            "           4       0.22      0.01      0.02      1404\n",
            "           5       0.60      0.99      0.74      5784\n",
            "\n",
            "    accuracy                           0.59     10000\n",
            "   macro avg       0.34      0.23      0.20     10000\n",
            "weighted avg       0.47      0.59      0.46     10000\n",
            "\n",
            "Heat Map :\n",
            "\n"
          ],
          "name": "stdout"
        },
        {
          "output_type": "display_data",
          "data": {
            "image/png": "[encoded data removed]",
            "text/plain": [
              "<Figure size 432x288 with 2 Axes>"
            ]
          },
          "metadata": {
            "tags": [],
            "needs_background": "light"
          }
        }
      ]
    },
    {
      "cell_type": "code",
      "metadata": {
        "id": "KbcUE7BsnZnk"
      },
      "source": [
        ""
      ],
      "execution_count": null,
      "outputs": []
    }
  ]
}
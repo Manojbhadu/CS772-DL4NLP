{
 "cells": [
  {
   "cell_type": "code",
   "execution_count": 1,
   "metadata": {
    "id": "I12c8m4J7VtG"
   },
   "outputs": [],
   "source": [
    "import pandas as pd\n",
    "import numpy as np\n",
    "import tensorflow as tf\n",
    "import nltk\n",
    "from nltk.corpus import stopwords\n",
    "from keras.preprocessing.sequence import pad_sequences\n",
    "import re\n",
    "from keras.preprocessing.text import Tokenizer\n",
    "from keras.models import Sequential\n",
    "from keras.layers import Dense, InputLayer, Activation, Flatten, Embedding, LSTM,GRU, Bidirectional, SimpleRNN\n",
    "from keras.initializers import Constant\n",
    "from keras.optimizers import Adam\n",
    "from sklearn.metrics import accuracy_score,classification_report,confusion_matrix\n",
    "import seaborn as sns\n",
    "import gensim\n",
    "import gensim.downloader\n",
    "from nltk.corpus import brown\n",
    "import string"
   ]
  },
  {
   "cell_type": "code",
   "execution_count": 2,
   "metadata": {
    "colab": {
     "base_uri": "https://localhost:8080/"
    },
    "id": "or_xnXj47bSk",
    "outputId": "87466f26-a224-4d29-c1ef-5c59e9537d1e"
   },
   "outputs": [
    {
     "name": "stderr",
     "output_type": "stream",
     "text": [
      "[nltk_data] Downloading package brown to /home/piyush/nltk_data...\n",
      "[nltk_data]   Package brown is already up-to-date!\n",
      "[nltk_data] Downloading package punkt to /home/piyush/nltk_data...\n",
      "[nltk_data]   Package punkt is already up-to-date!\n"
     ]
    },
    {
     "data": {
      "text/plain": [
       "True"
      ]
     },
     "execution_count": 2,
     "metadata": {},
     "output_type": "execute_result"
    }
   ],
   "source": [
    "import nltk\n",
    "nltk.download('brown')\n",
    "nltk.download('punkt')"
   ]
  },
  {
   "cell_type": "code",
   "execution_count": 3,
   "metadata": {
    "id": "RA88Qin47mim"
   },
   "outputs": [],
   "source": [
    "sents = brown.sents()\n",
    "cleaned_sents = []\n",
    "for i in sents:\n",
    "    sentence = []\n",
    "    for j in i :\n",
    "        if j not in string.punctuation :\n",
    "            sentence.append(j.lower())\n",
    "    cleaned_sents.append(sentence)"
   ]
  },
  {
   "cell_type": "code",
   "execution_count": 4,
   "metadata": {
    "id": "dNKsgAZw7pBv"
   },
   "outputs": [],
   "source": [
    "model = gensim.models.Word2Vec(cleaned_sents,size=50,window=7,min_count=1)"
   ]
  },
  {
   "cell_type": "code",
   "execution_count": 5,
   "metadata": {
    "id": "jii8drzu7t0C"
   },
   "outputs": [],
   "source": [
    "train = pd.read_csv(\"./train.csv\")\n",
    "test = pd.read_csv(\"./test.csv\")  "
   ]
  },
  {
   "cell_type": "code",
   "execution_count": 6,
   "metadata": {
    "id": "3LEkE2gW79M3"
   },
   "outputs": [],
   "source": [
    "def convert_to_lower(text):\n",
    "    # return the reviews after convering then to lowercase\n",
    "    lower_text = text.copy()\n",
    "    for i in range(len(text)):\n",
    "        lower_text[i] = text[i].lower()\n",
    "    return lower_text"
   ]
  },
  {
   "cell_type": "code",
   "execution_count": 7,
   "metadata": {
    "id": "vCoZIT5D8LNW"
   },
   "outputs": [],
   "source": [
    "def remove_punctuation(text):\n",
    "    #stop_words = set(stopwords.words('english'))\n",
    "    without_punctuation_text  = text.copy()\n",
    "    for i in range(len(text)):\n",
    "        without_punctuation_text[i] = [w for w in text[i] if w.isalpha()]\n",
    "    return without_punctuation_text"
   ]
  },
  {
   "cell_type": "code",
   "execution_count": 8,
   "metadata": {
    "id": "79MyWmLA8L5e"
   },
   "outputs": [],
   "source": [
    "def perform_tokenization(text):\n",
    "    tokenize_text = text.copy()\n",
    "    for i in range(len(text)):\n",
    "        tokenize_text[i] = nltk.word_tokenize(text[i])\n",
    "    return tokenize_text"
   ]
  },
  {
   "cell_type": "code",
   "execution_count": 9,
   "metadata": {
    "id": "cjRYpCYE8OIB"
   },
   "outputs": [],
   "source": [
    "def get_dicts(train):\n",
    "    reviews = train[\"reviews\"]\n",
    "    reviews = convert_to_lower(reviews)\n",
    "    reviews = perform_tokenization(reviews)\n",
    "    reviews = remove_punctuation(reviews)\n",
    "    return reviews"
   ]
  },
  {
   "cell_type": "code",
   "execution_count": 10,
   "metadata": {
    "id": "_pZ_Ql8j8okK"
   },
   "outputs": [],
   "source": [
    "review = get_dicts(train)"
   ]
  },
  {
   "cell_type": "code",
   "execution_count": 11,
   "metadata": {
    "id": "jNohIEB68uaV"
   },
   "outputs": [],
   "source": [
    "review = review.to_list()\n"
   ]
  },
  {
   "cell_type": "code",
   "execution_count": 12,
   "metadata": {
    "id": "C6bGccvzC5jj"
   },
   "outputs": [],
   "source": [
    "max_length=50\n",
    "Embedding_dimension=50"
   ]
  },
  {
   "cell_type": "code",
   "execution_count": 13,
   "metadata": {
    "id": "yUZXOSWx9JlM"
   },
   "outputs": [],
   "source": [
    "tokenizer_obj = Tokenizer()\n",
    "tokenizer_obj.fit_on_texts(review) \n",
    "sequences = tokenizer_obj.texts_to_sequences(review)\n",
    "word_index = tokenizer_obj.word_index\n",
    "review_pad = pad_sequences(sequences, maxlen=max_length) "
   ]
  },
  {
   "cell_type": "code",
   "execution_count": 14,
   "metadata": {
    "id": "KnRhFg329POP"
   },
   "outputs": [],
   "source": [
    "num_words = len(word_index)+1\n",
    "embedding_matrix = np.zeros ((num_words, Embedding_dimension))\n",
    "for word, i in word_index.items():\n",
    "  try:\n",
    "    embedding_vector = model.wv[word]\n",
    "    embedding_matrix[i] = embedding_vector\n",
    "  except:\n",
    "    continue "
   ]
  },
  {
   "cell_type": "code",
   "execution_count": 15,
   "metadata": {},
   "outputs": [],
   "source": [
    "train_rating_list = train['ratings'].to_list()\n",
    "Y = [str(i-1) for i in train_rating_list]\n",
    "y_train = tf.keras.utils.to_categorical(Y,num_classes=5)"
   ]
  },
  {
   "cell_type": "code",
   "execution_count": 16,
   "metadata": {},
   "outputs": [],
   "source": [
    "def preprocess_test(test_reviews):\n",
    "  reviews = test_reviews\n",
    "  reviews = convert_to_lower(reviews)\n",
    "  reviews = perform_tokenization(reviews)\n",
    "  reviews = remove_punctuation(reviews)\n",
    "  return reviews"
   ]
  },
  {
   "cell_type": "code",
   "execution_count": 17,
   "metadata": {},
   "outputs": [],
   "source": [
    "test_review = preprocess_test(test['reviews'])\n",
    "test_review = test_review.to_list()\n",
    "sequences_test = tokenizer_obj.texts_to_sequences(test_review)\n",
    "test_review_pad = pad_sequences(sequences_test, maxlen=max_length) "
   ]
  },
  {
   "cell_type": "code",
   "execution_count": 18,
   "metadata": {},
   "outputs": [],
   "source": [
    "y_test = test['ratings']"
   ]
  },
  {
   "cell_type": "code",
   "execution_count": 19,
   "metadata": {},
   "outputs": [],
   "source": [
    "def predict(model, test_reviews):\n",
    "        y_pred = model.predict(test_reviews)\n",
    "        pred1 = []\n",
    "        for i in range(len(y_pred)):\n",
    "            pred1.append(np.argmax(y_pred[i])+1)\n",
    "        return pred1"
   ]
  },
  {
   "cell_type": "code",
   "execution_count": 20,
   "metadata": {},
   "outputs": [],
   "source": [
    "def report(y_pred,y_test,Model):\n",
    "    \n",
    "    Classification_report = classification_report(y_test,y_pred,target_names=['1','2','3','4','5'])\n",
    "    cm  = confusion_matrix(test['ratings'],y_pred)\n",
    "    print(\"Classification Report : \\n\",Classification_report)\n",
    "    print(\"Heat Map :\\n\")\n",
    "    sns.heatmap(cm,cmap=\"Blues\",annot=True,fmt='.4g',xticklabels=['1','2','3','4','5'],yticklabels=['1','2','3','4','5'])"
   ]
  },
  {
   "cell_type": "code",
   "execution_count": 21,
   "metadata": {
    "id": "Vr1_dmnoF9Pl"
   },
   "outputs": [],
   "source": [
    "def lstmModel():\n",
    "    model = Sequential()\n",
    "    embedding_layer = Embedding(num_words,Embedding_dimension,embeddings_initializer=Constant(embedding_matrix), input_length = max_length, trainable=False)\n",
    "    model.add(embedding_layer)\n",
    "    model.add(LSTM(units=64, dropout=0.2,recurrent_dropout=0.2))\n",
    "    model.add (Dense (64, activation='sigmoid'))\n",
    "    model.add (Dense (5, activation='softmax'))\n",
    "    model.compile(loss='categorical_crossentropy', optimizer='adam', metrics=['accuracy'])\n",
    "    return model"
   ]
  },
  {
   "cell_type": "code",
   "execution_count": 22,
   "metadata": {
    "colab": {
     "base_uri": "https://localhost:8080/"
    },
    "id": "wyoLWrJnGMzS",
    "outputId": "909f4669-fa96-4474-e489-ebc312bc3fdf",
    "scrolled": true
   },
   "outputs": [
    {
     "name": "stdout",
     "output_type": "stream",
     "text": [
      "Epoch 1/15\n",
      "586/586 [==============================] - 28s 48ms/step - loss: 0.9722 - accuracy: 0.6855 - val_loss: 1.0604 - val_accuracy: 0.6030\n",
      "Epoch 2/15\n",
      "586/586 [==============================] - 37s 63ms/step - loss: 0.8679 - accuracy: 0.6995 - val_loss: 0.9977 - val_accuracy: 0.6305\n",
      "Epoch 3/15\n",
      "586/586 [==============================] - 29s 49ms/step - loss: 0.8383 - accuracy: 0.7066 - val_loss: 1.0269 - val_accuracy: 0.6206\n",
      "Epoch 4/15\n",
      "586/586 [==============================] - 31s 53ms/step - loss: 0.8198 - accuracy: 0.7118 - val_loss: 0.9874 - val_accuracy: 0.6381\n",
      "Epoch 5/15\n",
      "586/586 [==============================] - 26s 45ms/step - loss: 0.8056 - accuracy: 0.7140 - val_loss: 0.9881 - val_accuracy: 0.6371\n",
      "Epoch 6/15\n",
      "586/586 [==============================] - 26s 45ms/step - loss: 0.7920 - accuracy: 0.7181 - val_loss: 0.9401 - val_accuracy: 0.6502\n",
      "Epoch 7/15\n",
      "586/586 [==============================] - 25s 42ms/step - loss: 0.7838 - accuracy: 0.7206 - val_loss: 0.9899 - val_accuracy: 0.6405\n",
      "Epoch 8/15\n",
      "586/586 [==============================] - 26s 45ms/step - loss: 0.7735 - accuracy: 0.7234 - val_loss: 0.9227 - val_accuracy: 0.6567\n",
      "Epoch 9/15\n",
      "586/586 [==============================] - 25s 43ms/step - loss: 0.7672 - accuracy: 0.7247 - val_loss: 0.9913 - val_accuracy: 0.6406\n",
      "Epoch 10/15\n",
      "586/586 [==============================] - 25s 43ms/step - loss: 0.7574 - accuracy: 0.7276 - val_loss: 0.9361 - val_accuracy: 0.6558\n",
      "Epoch 11/15\n",
      "586/586 [==============================] - 25s 43ms/step - loss: 0.7514 - accuracy: 0.7304 - val_loss: 0.9479 - val_accuracy: 0.6528\n",
      "Epoch 12/15\n",
      "586/586 [==============================] - 25s 43ms/step - loss: 0.7429 - accuracy: 0.7322 - val_loss: 0.9250 - val_accuracy: 0.6582\n",
      "Epoch 13/15\n",
      "586/586 [==============================] - 25s 43ms/step - loss: 0.7390 - accuracy: 0.7333 - val_loss: 0.9220 - val_accuracy: 0.6536\n",
      "Epoch 14/15\n",
      "586/586 [==============================] - 25s 43ms/step - loss: 0.7312 - accuracy: 0.7359 - val_loss: 0.9297 - val_accuracy: 0.6556\n",
      "Epoch 15/15\n",
      "586/586 [==============================] - 25s 43ms/step - loss: 0.7266 - accuracy: 0.7382 - val_loss: 0.9161 - val_accuracy: 0.6606\n"
     ]
    },
    {
     "data": {
      "text/plain": [
       "<tensorflow.python.keras.callbacks.History at 0x7f2073cfdcc0>"
      ]
     },
     "execution_count": 22,
     "metadata": {},
     "output_type": "execute_result"
    }
   ],
   "source": [
    "lstm  = lstmModel()\n",
    "lstm.fit(review_pad, y_train, batch_size=64, epochs=15, validation_split=0.25)\n"
   ]
  },
  {
   "cell_type": "code",
   "execution_count": 23,
   "metadata": {
    "id": "7V6q9e3MJB8q"
   },
   "outputs": [],
   "source": [
    "y_pred = predict(lstm, test_review_pad)"
   ]
  },
  {
   "cell_type": "code",
   "execution_count": 24,
   "metadata": {
    "id": "EsUmxfLdLfk2"
   },
   "outputs": [
    {
     "name": "stdout",
     "output_type": "stream",
     "text": [
      "Classification Report : \n",
      "               precision    recall  f1-score   support\n",
      "\n",
      "           1       0.57      0.49      0.52      1271\n",
      "           2       0.22      0.03      0.06       630\n",
      "           3       0.32      0.31      0.31       911\n",
      "           4       0.39      0.15      0.22      1404\n",
      "           5       0.73      0.94      0.82      5784\n",
      "\n",
      "    accuracy                           0.65     10000\n",
      "   macro avg       0.45      0.38      0.39     10000\n",
      "weighted avg       0.59      0.65      0.61     10000\n",
      "\n",
      "Heat Map :\n",
      "\n"
     ]
    },
    {
     "data": {
      "image/png": "[encoded data removed]",
      "text/plain": [
       "<Figure size 432x288 with 2 Axes>"
      ]
     },
     "metadata": {
      "needs_background": "light"
     },
     "output_type": "display_data"
    }
   ],
   "source": [
    "\n",
    "report(y_pred, y_test, lstm)"
   ]
  },
  {
   "cell_type": "code",
   "execution_count": 25,
   "metadata": {
    "colab": {
     "base_uri": "https://localhost:8080/"
    },
    "id": "n5D6WxvcLtAr",
    "outputId": "3ae3b44b-30de-453d-92cd-21820f71a9f4"
   },
   "outputs": [],
   "source": [
    "def bilstmModel():\n",
    "    model = Sequential()\n",
    "    embedding_layer = Embedding(num_words,Embedding_dimension,embeddings_initializer=Constant(embedding_matrix), input_length = max_length, trainable=False)\n",
    "    model.add(embedding_layer)\n",
    "    model.add(Bidirectional(LSTM(units=64, dropout=0.2,recurrent_dropout=0.2)))\n",
    "    model.add (Dense (64, activation='sigmoid'))\n",
    "    model.add (Dense (5, activation='softmax'))\n",
    "    model.compile(loss='categorical_crossentropy', optimizer='adam', metrics=['accuracy'])\n",
    "    return model"
   ]
  },
  {
   "cell_type": "code",
   "execution_count": 26,
   "metadata": {
    "id": "UcHyo1gBMKXB"
   },
   "outputs": [
    {
     "name": "stdout",
     "output_type": "stream",
     "text": [
      "Epoch 1/15\n",
      "586/586 [==============================] - 34s 58ms/step - loss: 0.9276 - accuracy: 0.6942 - val_loss: 1.0402 - val_accuracy: 0.6110\n",
      "Epoch 2/15\n",
      "586/586 [==============================] - 33s 57ms/step - loss: 0.8557 - accuracy: 0.7022 - val_loss: 1.0076 - val_accuracy: 0.6315\n",
      "Epoch 3/15\n",
      "586/586 [==============================] - 39s 67ms/step - loss: 0.8284 - accuracy: 0.7106 - val_loss: 0.9853 - val_accuracy: 0.6335\n",
      "Epoch 4/15\n",
      "586/586 [==============================] - 36s 62ms/step - loss: 0.8071 - accuracy: 0.7153 - val_loss: 0.9602 - val_accuracy: 0.6419\n",
      "Epoch 5/15\n",
      "586/586 [==============================] - 33s 57ms/step - loss: 0.7951 - accuracy: 0.7171 - val_loss: 1.0016 - val_accuracy: 0.6365\n",
      "Epoch 6/15\n",
      "586/586 [==============================] - 40s 69ms/step - loss: 0.7813 - accuracy: 0.7209 - val_loss: 0.9431 - val_accuracy: 0.6465\n",
      "Epoch 7/15\n",
      "586/586 [==============================] - 35s 60ms/step - loss: 0.7713 - accuracy: 0.7233 - val_loss: 0.9355 - val_accuracy: 0.6489\n",
      "Epoch 8/15\n",
      "586/586 [==============================] - 42s 71ms/step - loss: 0.7633 - accuracy: 0.7267 - val_loss: 0.9480 - val_accuracy: 0.6505\n",
      "Epoch 9/15\n",
      "586/586 [==============================] - 42s 72ms/step - loss: 0.7527 - accuracy: 0.7285 - val_loss: 0.9200 - val_accuracy: 0.6526\n",
      "Epoch 10/15\n",
      "586/586 [==============================] - 39s 66ms/step - loss: 0.7460 - accuracy: 0.7313 - val_loss: 0.9278 - val_accuracy: 0.6524\n",
      "Epoch 11/15\n",
      "586/586 [==============================] - 36s 61ms/step - loss: 0.7379 - accuracy: 0.7332 - val_loss: 0.9139 - val_accuracy: 0.6576\n",
      "Epoch 12/15\n",
      "586/586 [==============================] - 34s 58ms/step - loss: 0.7319 - accuracy: 0.7334 - val_loss: 0.9351 - val_accuracy: 0.6538\n",
      "Epoch 13/15\n",
      "586/586 [==============================] - 34s 58ms/step - loss: 0.7256 - accuracy: 0.7366 - val_loss: 0.9162 - val_accuracy: 0.6594\n",
      "Epoch 14/15\n",
      "586/586 [==============================] - 36s 62ms/step - loss: 0.7182 - accuracy: 0.7378 - val_loss: 0.9143 - val_accuracy: 0.6581\n",
      "Epoch 15/15\n",
      "586/586 [==============================] - 35s 60ms/step - loss: 0.7149 - accuracy: 0.7386 - val_loss: 0.9644 - val_accuracy: 0.6535\n"
     ]
    },
    {
     "data": {
      "text/plain": [
       "<tensorflow.python.keras.callbacks.History at 0x7f20482505c0>"
      ]
     },
     "execution_count": 26,
     "metadata": {},
     "output_type": "execute_result"
    }
   ],
   "source": [
    "bilstm  = bilstmModel()\n",
    "bilstm.fit(review_pad, y_train, batch_size=64, epochs=15, validation_split=0.25)"
   ]
  },
  {
   "cell_type": "code",
   "execution_count": 27,
   "metadata": {
    "id": "WZk3DHLSO6yB"
   },
   "outputs": [
    {
     "name": "stdout",
     "output_type": "stream",
     "text": [
      "Classification Report : \n",
      "               precision    recall  f1-score   support\n",
      "\n",
      "           1       0.57      0.45      0.50      1271\n",
      "           2       0.33      0.01      0.02       630\n",
      "           3       0.35      0.28      0.31       911\n",
      "           4       0.41      0.14      0.21      1404\n",
      "           5       0.71      0.96      0.82      5784\n",
      "\n",
      "    accuracy                           0.66     10000\n",
      "   macro avg       0.47      0.37      0.37     10000\n",
      "weighted avg       0.59      0.66      0.60     10000\n",
      "\n",
      "Heat Map :\n",
      "\n"
     ]
    },
    {
     "data": {
      "image/png": "[encoded data removed]",
      "text/plain": [
       "<Figure size 432x288 with 2 Axes>"
      ]
     },
     "metadata": {
      "needs_background": "light"
     },
     "output_type": "display_data"
    }
   ],
   "source": [
    "y_pred = predict(bilstm, test_review_pad)\n",
    "report(y_pred, y_test, bilstm)"
   ]
  },
  {
   "cell_type": "code",
   "execution_count": 28,
   "metadata": {
    "id": "egDw41FpOgp0"
   },
   "outputs": [],
   "source": [
    "def gruModel():\n",
    "    model = Sequential()\n",
    "    embedding_layer = Embedding(num_words,Embedding_dimension,embeddings_initializer=Constant(embedding_matrix), input_length = max_length, trainable=False)\n",
    "    model.add(embedding_layer)\n",
    "    model.add(GRU(units= 64,dropout=0.2,recurrent_dropout=0.2))\n",
    "    model.add (Dense (64, activation='sigmoid'))\n",
    "    model.add (Dense (5, activation='softmax'))\n",
    "    model.compile(loss='categorical_crossentropy', optimizer='adam', metrics=['accuracy'])\n",
    "    return model\n"
   ]
  },
  {
   "cell_type": "code",
   "execution_count": 29,
   "metadata": {
    "id": "opPWqbT2O5-Y"
   },
   "outputs": [
    {
     "name": "stdout",
     "output_type": "stream",
     "text": [
      "Epoch 1/15\n",
      "586/586 [==============================] - 22s 38ms/step - loss: 0.9458 - accuracy: 0.6932 - val_loss: 1.0643 - val_accuracy: 0.6075\n",
      "Epoch 2/15\n",
      "586/586 [==============================] - 22s 38ms/step - loss: 0.8561 - accuracy: 0.7039 - val_loss: 0.9974 - val_accuracy: 0.6298\n",
      "Epoch 3/15\n",
      "586/586 [==============================] - 22s 37ms/step - loss: 0.8266 - accuracy: 0.7095 - val_loss: 0.9518 - val_accuracy: 0.6437\n",
      "Epoch 4/15\n",
      "586/586 [==============================] - 22s 37ms/step - loss: 0.8095 - accuracy: 0.7141 - val_loss: 0.9470 - val_accuracy: 0.6476\n",
      "Epoch 5/15\n",
      "586/586 [==============================] - 22s 37ms/step - loss: 0.7959 - accuracy: 0.7171 - val_loss: 0.9365 - val_accuracy: 0.6502\n",
      "Epoch 6/15\n",
      "586/586 [==============================] - 21s 37ms/step - loss: 0.7857 - accuracy: 0.7202 - val_loss: 0.9243 - val_accuracy: 0.6562\n",
      "Epoch 7/15\n",
      "586/586 [==============================] - 22s 37ms/step - loss: 0.7770 - accuracy: 0.7230 - val_loss: 0.9311 - val_accuracy: 0.6506\n",
      "Epoch 8/15\n",
      "586/586 [==============================] - 22s 37ms/step - loss: 0.7692 - accuracy: 0.7261 - val_loss: 0.9110 - val_accuracy: 0.6598\n",
      "Epoch 9/15\n",
      "586/586 [==============================] - 21s 36ms/step - loss: 0.7602 - accuracy: 0.7277 - val_loss: 0.9121 - val_accuracy: 0.6590\n",
      "Epoch 10/15\n",
      "586/586 [==============================] - 21s 36ms/step - loss: 0.7575 - accuracy: 0.7277 - val_loss: 0.9061 - val_accuracy: 0.6612\n",
      "Epoch 11/15\n",
      "586/586 [==============================] - 21s 36ms/step - loss: 0.7513 - accuracy: 0.7295 - val_loss: 0.9372 - val_accuracy: 0.6534\n",
      "Epoch 12/15\n",
      "586/586 [==============================] - 21s 36ms/step - loss: 0.7453 - accuracy: 0.7300 - val_loss: 0.9210 - val_accuracy: 0.6571\n",
      "Epoch 13/15\n",
      "586/586 [==============================] - 21s 36ms/step - loss: 0.7394 - accuracy: 0.7338 - val_loss: 0.9052 - val_accuracy: 0.6609\n",
      "Epoch 14/15\n",
      "586/586 [==============================] - 21s 35ms/step - loss: 0.7386 - accuracy: 0.7320 - val_loss: 0.9375 - val_accuracy: 0.6553\n",
      "Epoch 15/15\n",
      "586/586 [==============================] - 20s 35ms/step - loss: 0.7308 - accuracy: 0.7349 - val_loss: 0.8994 - val_accuracy: 0.6642\n"
     ]
    },
    {
     "data": {
      "text/plain": [
       "<tensorflow.python.keras.callbacks.History at 0x7f1fe354db38>"
      ]
     },
     "execution_count": 29,
     "metadata": {},
     "output_type": "execute_result"
    }
   ],
   "source": [
    "gru  = gruModel()\n",
    "gru.fit(review_pad, y_train, batch_size=64, epochs=15, validation_split=0.25)"
   ]
  },
  {
   "cell_type": "code",
   "execution_count": 30,
   "metadata": {
    "id": "hZDhiUxkO0xD"
   },
   "outputs": [
    {
     "name": "stdout",
     "output_type": "stream",
     "text": [
      "Classification Report : \n",
      "               precision    recall  f1-score   support\n",
      "\n",
      "           1       0.52      0.58      0.55      1271\n",
      "           2       0.18      0.01      0.03       630\n",
      "           3       0.34      0.25      0.29       911\n",
      "           4       0.39      0.18      0.25      1404\n",
      "           5       0.75      0.93      0.83      5784\n",
      "\n",
      "    accuracy                           0.66     10000\n",
      "   macro avg       0.44      0.39      0.39     10000\n",
      "weighted avg       0.60      0.66      0.61     10000\n",
      "\n",
      "Heat Map :\n",
      "\n"
     ]
    },
    {
     "data": {
      "image/png": "[encoded data removed]",
      "text/plain": [
       "<Figure size 432x288 with 2 Axes>"
      ]
     },
     "metadata": {
      "needs_background": "light"
     },
     "output_type": "display_data"
    }
   ],
   "source": [
    "y_pred = predict(gru, test_review_pad)\n",
    "report(y_pred, y_test, gru)"
   ]
  },
  {
   "cell_type": "code",
   "execution_count": 31,
   "metadata": {
    "id": "6z5HEsBjPbHF"
   },
   "outputs": [],
   "source": [
    "def bigruModel():\n",
    "    model = Sequential()\n",
    "    embedding_layer = Embedding(num_words,Embedding_dimension,embeddings_initializer=Constant(embedding_matrix), input_length = max_length, trainable=False)\n",
    "    model.add(embedding_layer)\n",
    "    model.add(Bidirectional(GRU(units= 64,dropout=0.2,recurrent_dropout=0.2)))\n",
    "    model.add (Dense (64, activation='sigmoid'))\n",
    "    model.add (Dense (5, activation='softmax'))\n",
    "    model.compile(loss='categorical_crossentropy', optimizer='adam', metrics=['accuracy'])\n",
    "    return model"
   ]
  },
  {
   "cell_type": "code",
   "execution_count": 32,
   "metadata": {
    "colab": {
     "base_uri": "https://localhost:8080/",
     "height": 520
    },
    "id": "Qb73ktrKPdWB",
    "outputId": "e164d3d1-dd51-4998-a805-4b9681bf4179"
   },
   "outputs": [
    {
     "name": "stdout",
     "output_type": "stream",
     "text": [
      "Epoch 1/15\n",
      "586/586 [==============================] - 30s 50ms/step - loss: 0.9695 - accuracy: 0.6862 - val_loss: 1.0842 - val_accuracy: 0.6039\n",
      "Epoch 2/15\n",
      "586/586 [==============================] - 28s 48ms/step - loss: 0.8565 - accuracy: 0.7039 - val_loss: 1.0138 - val_accuracy: 0.6237\n",
      "Epoch 3/15\n",
      "586/586 [==============================] - 28s 48ms/step - loss: 0.8235 - accuracy: 0.7106 - val_loss: 0.9771 - val_accuracy: 0.6372\n",
      "Epoch 4/15\n",
      "586/586 [==============================] - 29s 50ms/step - loss: 0.8069 - accuracy: 0.7160 - val_loss: 0.9585 - val_accuracy: 0.6437\n",
      "Epoch 5/15\n",
      "586/586 [==============================] - 28s 48ms/step - loss: 0.7984 - accuracy: 0.7174 - val_loss: 0.9603 - val_accuracy: 0.6426\n",
      "Epoch 6/15\n",
      "586/586 [==============================] - 29s 49ms/step - loss: 0.7810 - accuracy: 0.7204 - val_loss: 0.9323 - val_accuracy: 0.6508\n",
      "Epoch 7/15\n",
      "586/586 [==============================] - 29s 50ms/step - loss: 0.7757 - accuracy: 0.7238 - val_loss: 0.9145 - val_accuracy: 0.6570\n",
      "Epoch 8/15\n",
      "586/586 [==============================] - 29s 50ms/step - loss: 0.7682 - accuracy: 0.7258 - val_loss: 0.9309 - val_accuracy: 0.6490\n",
      "Epoch 9/15\n",
      "586/586 [==============================] - 40s 68ms/step - loss: 0.7618 - accuracy: 0.7269 - val_loss: 0.9444 - val_accuracy: 0.6441\n",
      "Epoch 10/15\n",
      "586/586 [==============================] - 44s 76ms/step - loss: 0.7561 - accuracy: 0.7294 - val_loss: 0.9312 - val_accuracy: 0.6574\n",
      "Epoch 11/15\n",
      "586/586 [==============================] - 43s 74ms/step - loss: 0.7489 - accuracy: 0.7306 - val_loss: 0.9052 - val_accuracy: 0.6578\n",
      "Epoch 12/15\n",
      "586/586 [==============================] - 40s 68ms/step - loss: 0.7436 - accuracy: 0.7306 - val_loss: 0.9240 - val_accuracy: 0.6573\n",
      "Epoch 13/15\n",
      "586/586 [==============================] - 42s 71ms/step - loss: 0.7360 - accuracy: 0.7330 - val_loss: 0.9182 - val_accuracy: 0.6582\n",
      "Epoch 14/15\n",
      "586/586 [==============================] - 30s 51ms/step - loss: 0.7326 - accuracy: 0.7334 - val_loss: 0.9212 - val_accuracy: 0.6593\n",
      "Epoch 15/15\n",
      "586/586 [==============================] - 37s 64ms/step - loss: 0.7318 - accuracy: 0.7354 - val_loss: 0.9045 - val_accuracy: 0.6603\n"
     ]
    },
    {
     "data": {
      "text/plain": [
       "<tensorflow.python.keras.callbacks.History at 0x7f1fe373ee48>"
      ]
     },
     "execution_count": 32,
     "metadata": {},
     "output_type": "execute_result"
    }
   ],
   "source": [
    "bigru  = bigruModel()\n",
    "bigru.fit(review_pad, y_train, batch_size=64, epochs=15, validation_split=0.25)"
   ]
  },
  {
   "cell_type": "code",
   "execution_count": 33,
   "metadata": {
    "id": "xCdfsVcCPsgR"
   },
   "outputs": [
    {
     "name": "stdout",
     "output_type": "stream",
     "text": [
      "Classification Report : \n",
      "               precision    recall  f1-score   support\n",
      "\n",
      "           1       0.54      0.53      0.54      1271\n",
      "           2       0.15      0.02      0.04       630\n",
      "           3       0.33      0.34      0.33       911\n",
      "           4       0.39      0.17      0.24      1404\n",
      "           5       0.76      0.93      0.83      5784\n",
      "\n",
      "    accuracy                           0.66     10000\n",
      "   macro avg       0.43      0.40      0.40     10000\n",
      "weighted avg       0.60      0.66      0.62     10000\n",
      "\n",
      "Heat Map :\n",
      "\n"
     ]
    },
    {
     "data": {
      "image/png": "[encoded data removed]",
      "text/plain": [
       "<Figure size 432x288 with 2 Axes>"
      ]
     },
     "metadata": {
      "needs_background": "light"
     },
     "output_type": "display_data"
    }
   ],
   "source": [
    "y_pred = predict(bigru, test_review_pad)\n",
    "report(y_pred, y_test, bigru)"
   ]
  },
  {
   "cell_type": "code",
   "execution_count": 34,
   "metadata": {},
   "outputs": [],
   "source": [
    "def rnnModel():\n",
    "    model = Sequential()\n",
    "    embedding_layer = Embedding(num_words,Embedding_dimension,embeddings_initializer=Constant(embedding_matrix), input_length = max_length, trainable=False)\n",
    "    model.add(embedding_layer)\n",
    "    model.add(SimpleRNN(units= 64,dropout=0.2,recurrent_dropout=0.2))\n",
    "    model.add (Dense (64, activation='sigmoid'))\n",
    "    model.add (Dense (5, activation='softmax'))\n",
    "    model.compile(loss='categorical_crossentropy', optimizer='adam', metrics=['accuracy'])\n",
    "    return model"
   ]
  },
  {
   "cell_type": "code",
   "execution_count": 35,
   "metadata": {},
   "outputs": [
    {
     "name": "stdout",
     "output_type": "stream",
     "text": [
      "Epoch 1/15\n",
      "586/586 [==============================] - 9s 15ms/step - loss: 1.0427 - accuracy: 0.6782 - val_loss: 1.2568 - val_accuracy: 0.5833\n",
      "Epoch 2/15\n",
      "586/586 [==============================] - 11s 18ms/step - loss: 0.9989 - accuracy: 0.6904 - val_loss: 1.2167 - val_accuracy: 0.5833\n",
      "Epoch 3/15\n",
      "586/586 [==============================] - 23s 39ms/step - loss: 0.9929 - accuracy: 0.6907 - val_loss: 1.2697 - val_accuracy: 0.5833\n",
      "Epoch 4/15\n",
      "586/586 [==============================] - 15s 26ms/step - loss: 1.0086 - accuracy: 0.6905 - val_loss: 1.2494 - val_accuracy: 0.5833\n",
      "Epoch 5/15\n",
      "586/586 [==============================] - 15s 25ms/step - loss: 1.0039 - accuracy: 0.6901 - val_loss: 1.2808 - val_accuracy: 0.5833\n",
      "Epoch 6/15\n",
      "586/586 [==============================] - 15s 25ms/step - loss: 1.0164 - accuracy: 0.6907 - val_loss: 1.2614 - val_accuracy: 0.5833\n",
      "Epoch 7/15\n",
      "586/586 [==============================] - 14s 24ms/step - loss: 1.0082 - accuracy: 0.6907 - val_loss: 1.2413 - val_accuracy: 0.5833\n",
      "Epoch 8/15\n",
      "586/586 [==============================] - 9s 16ms/step - loss: 0.9792 - accuracy: 0.6907 - val_loss: 1.2312 - val_accuracy: 0.5833\n",
      "Epoch 9/15\n",
      "586/586 [==============================] - 9s 16ms/step - loss: 0.9666 - accuracy: 0.6907 - val_loss: 1.2042 - val_accuracy: 0.5833\n",
      "Epoch 10/15\n",
      "586/586 [==============================] - 10s 17ms/step - loss: 0.9771 - accuracy: 0.6907 - val_loss: 1.1796 - val_accuracy: 0.5833\n",
      "Epoch 11/15\n",
      "586/586 [==============================] - 10s 18ms/step - loss: 0.9585 - accuracy: 0.6910 - val_loss: 1.1563 - val_accuracy: 0.5833\n",
      "Epoch 12/15\n",
      "586/586 [==============================] - 10s 17ms/step - loss: 0.9510 - accuracy: 0.6904 - val_loss: 1.1882 - val_accuracy: 0.5854\n",
      "Epoch 13/15\n",
      "586/586 [==============================] - 10s 17ms/step - loss: 0.9495 - accuracy: 0.6912 - val_loss: 1.1716 - val_accuracy: 0.5833\n",
      "Epoch 14/15\n",
      "586/586 [==============================] - 9s 16ms/step - loss: 0.9416 - accuracy: 0.6914 - val_loss: 1.1676 - val_accuracy: 0.5840\n",
      "Epoch 15/15\n",
      "586/586 [==============================] - 13s 22ms/step - loss: 0.9412 - accuracy: 0.6909 - val_loss: 1.1099 - val_accuracy: 0.5862\n"
     ]
    },
    {
     "data": {
      "text/plain": [
       "<tensorflow.python.keras.callbacks.History at 0x7f1fe01bf6d8>"
      ]
     },
     "execution_count": 35,
     "metadata": {},
     "output_type": "execute_result"
    }
   ],
   "source": [
    "rnn  = rnnModel()\n",
    "rnn.fit(review_pad, y_train, batch_size=64, epochs=15, validation_split=0.25)\n"
   ]
  },
  {
   "cell_type": "code",
   "execution_count": 36,
   "metadata": {},
   "outputs": [
    {
     "name": "stderr",
     "output_type": "stream",
     "text": [
      "/home/piyush/.local/lib/python3.6/site-packages/sklearn/metrics/classification.py:1437: UndefinedMetricWarning: Precision and F-score are ill-defined and being set to 0.0 in labels with no predicted samples.\n",
      "  'precision', 'predicted', average, warn_for)\n"
     ]
    },
    {
     "name": "stdout",
     "output_type": "stream",
     "text": [
      "Classification Report : \n",
      "               precision    recall  f1-score   support\n",
      "\n",
      "           1       0.53      0.03      0.05      1271\n",
      "           2       0.00      0.00      0.00       630\n",
      "           3       0.00      0.00      0.00       911\n",
      "           4       0.00      0.00      0.00      1404\n",
      "           5       0.58      1.00      0.73      5784\n",
      "\n",
      "    accuracy                           0.58     10000\n",
      "   macro avg       0.22      0.21      0.16     10000\n",
      "weighted avg       0.40      0.58      0.43     10000\n",
      "\n",
      "Heat Map :\n",
      "\n"
     ]
    },
    {
     "data": {
      "image/png": "[encoded data removed]",
      "text/plain": [
       "<Figure size 432x288 with 2 Axes>"
      ]
     },
     "metadata": {
      "needs_background": "light"
     },
     "output_type": "display_data"
    }
   ],
   "source": [
    "y_pred = predict(rnn, test_review_pad)\n",
    "report(y_pred, y_test, rnn)"
   ]
  },
  {
   "cell_type": "code",
   "execution_count": null,
   "metadata": {},
   "outputs": [],
   "source": [
    "gru.save(\"bestModel.h5\")"
   ]
  }
 ],
 "metadata": {
  "colab": {
   "collapsed_sections": [],
   "name": "Pretrained_lstm.ipynb",
   "provenance": []
  },
  "kernelspec": {
   "display_name": "Python 3",
   "language": "python",
   "name": "python3"
  },
  "language_info": {
   "codemirror_mode": {
    "name": "ipython",
    "version": 3
   },
   "file_extension": ".py",
   "mimetype": "text/x-python",
   "name": "python",
   "nbconvert_exporter": "python",
   "pygments_lexer": "ipython3",
   "version": "3.6.9"
  }
 },
 "nbformat": 4,
 "nbformat_minor": 1
}

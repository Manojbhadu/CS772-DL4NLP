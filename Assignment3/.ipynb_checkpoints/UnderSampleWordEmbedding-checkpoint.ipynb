{
 "cells": [
  {
   "cell_type": "code",
   "execution_count": 1,
   "metadata": {
    "id": "I12c8m4J7VtG"
   },
   "outputs": [],
   "source": [
    "import pandas as pd\n",
    "import numpy as np\n",
    "import tensorflow as tf\n",
    "import nltk\n",
    "from nltk.corpus import stopwords\n",
    "from keras.preprocessing.sequence import pad_sequences\n",
    "import re\n",
    "from keras.preprocessing.text import Tokenizer\n",
    "from keras.models import Sequential\n",
    "from keras.layers import Dense, InputLayer, Activation, Flatten, Embedding, LSTM,GRU, Bidirectional, SimpleRNN\n",
    "from keras.initializers import Constant\n",
    "from keras.optimizers import Adam\n",
    "from sklearn.metrics import accuracy_score,classification_report,confusion_matrix\n",
    "import seaborn as sns\n",
    "import gensim\n",
    "import gensim.downloader\n",
    "from nltk.corpus import brown\n",
    "import string"
   ]
  },
  {
   "cell_type": "code",
   "execution_count": 2,
   "metadata": {
    "colab": {
     "base_uri": "https://localhost:8080/"
    },
    "id": "or_xnXj47bSk",
    "outputId": "87466f26-a224-4d29-c1ef-5c59e9537d1e"
   },
   "outputs": [
    {
     "name": "stderr",
     "output_type": "stream",
     "text": [
      "[nltk_data] Downloading package brown to /home/piyush/nltk_data...\n",
      "[nltk_data]   Package brown is already up-to-date!\n",
      "[nltk_data] Downloading package punkt to /home/piyush/nltk_data...\n",
      "[nltk_data]   Package punkt is already up-to-date!\n"
     ]
    },
    {
     "data": {
      "text/plain": [
       "True"
      ]
     },
     "execution_count": 2,
     "metadata": {},
     "output_type": "execute_result"
    }
   ],
   "source": [
    "import nltk\n",
    "nltk.download('brown')\n",
    "nltk.download('punkt')"
   ]
  },
  {
   "cell_type": "code",
   "execution_count": 3,
   "metadata": {
    "id": "RA88Qin47mim"
   },
   "outputs": [],
   "source": [
    "sents = brown.sents()\n",
    "cleaned_sents = []\n",
    "for i in sents:\n",
    "    sentence = []\n",
    "    for j in i :\n",
    "        if j not in string.punctuation :\n",
    "            sentence.append(j.lower())\n",
    "    cleaned_sents.append(sentence)"
   ]
  },
  {
   "cell_type": "code",
   "execution_count": 4,
   "metadata": {
    "id": "dNKsgAZw7pBv"
   },
   "outputs": [],
   "source": [
    "model = gensim.models.Word2Vec(cleaned_sents,size=50,window=7,min_count=1)"
   ]
  },
  {
   "cell_type": "code",
   "execution_count": 5,
   "metadata": {
    "id": "jii8drzu7t0C"
   },
   "outputs": [],
   "source": [
    "train = pd.read_csv(\"./train.csv\")\n",
    "test = pd.read_csv(\"./test.csv\")  "
   ]
  },
  {
   "cell_type": "code",
   "execution_count": 6,
   "metadata": {},
   "outputs": [],
   "source": [
    "def class_counts(ratings):    \n",
    "    # find # of elements of each class\n",
    "    cnts = ratings.value_counts()\n",
    "    class1_count = cnts[1]\n",
    "    class2_count = cnts[2]\n",
    "    class3_count = cnts[3]\n",
    "    class4_count = cnts[4]\n",
    "    class5_count = cnts[5]\n",
    "    \n",
    "    return class1_count, class2_count, class3_count, class4_count, class5_count\n",
    "\n",
    "def minority_class_count(ratings):\n",
    "    return min(class_counts(ratings))\n"
   ]
  },
  {
   "cell_type": "code",
   "execution_count": 7,
   "metadata": {},
   "outputs": [],
   "source": [
    "class1_data = train[train['ratings']==1]\n",
    "class2_data = train[train['ratings']==2]\n",
    "class3_data = train[train['ratings']==3]\n",
    "class4_data = train[train['ratings']==4]\n",
    "class5_data = train[train['ratings']==5]\n",
    "\n",
    "minority_class_cnt = minority_class_count(train['ratings'])\n",
    "class1_data = class1_data.sample(minority_class_cnt, random_state=1)\n",
    "class2_data = class2_data.sample(minority_class_cnt, random_state=1)\n",
    "class3_data = class3_data.sample(minority_class_cnt, random_state=1)\n",
    "class4_data = class4_data.sample(minority_class_cnt, random_state=1)\n",
    "class5_data = class5_data.sample(minority_class_cnt, random_state=1)\n",
    "\n",
    "train = pd.concat([class1_data, class2_data, class3_data, class4_data, class5_data], axis=0)"
   ]
  },
  {
   "cell_type": "code",
   "execution_count": null,
   "metadata": {},
   "outputs": [],
   "source": []
  },
  {
   "cell_type": "code",
   "execution_count": 8,
   "metadata": {
    "id": "3LEkE2gW79M3"
   },
   "outputs": [],
   "source": [
    "def convert_to_lower(text):\n",
    "    # return the reviews after convering then to lowercase\n",
    "    lower_text = text.copy()\n",
    "    for i in range(len(text)):\n",
    "        lower_text[i] = text[i].lower()\n",
    "    return lower_text"
   ]
  },
  {
   "cell_type": "code",
   "execution_count": 9,
   "metadata": {
    "id": "vCoZIT5D8LNW"
   },
   "outputs": [],
   "source": [
    "def remove_punctuation(text):\n",
    "    #stop_words = set(stopwords.words('english'))\n",
    "    without_punctuation_text  = text.copy()\n",
    "    for i in range(len(text)):\n",
    "        without_punctuation_text[i] = [w for w in text[i] if w.isalpha()]\n",
    "    return without_punctuation_text"
   ]
  },
  {
   "cell_type": "code",
   "execution_count": 10,
   "metadata": {
    "id": "79MyWmLA8L5e"
   },
   "outputs": [],
   "source": [
    "def perform_tokenization(text):\n",
    "    tokenize_text = text.copy()\n",
    "    for i in range(len(text)):\n",
    "        tokenize_text[i] = nltk.word_tokenize(text[i])\n",
    "    return tokenize_text"
   ]
  },
  {
   "cell_type": "code",
   "execution_count": 11,
   "metadata": {
    "id": "cjRYpCYE8OIB"
   },
   "outputs": [],
   "source": [
    "def get_dicts(train):\n",
    "    reviews = train[\"reviews\"].to_list()\n",
    "    reviews = convert_to_lower(reviews)\n",
    "    reviews = perform_tokenization(reviews)\n",
    "    reviews = remove_punctuation(reviews)\n",
    "    return reviews"
   ]
  },
  {
   "cell_type": "code",
   "execution_count": 12,
   "metadata": {
    "id": "_pZ_Ql8j8okK"
   },
   "outputs": [],
   "source": [
    "review = get_dicts(train)"
   ]
  },
  {
   "cell_type": "code",
   "execution_count": null,
   "metadata": {
    "id": "jNohIEB68uaV"
   },
   "outputs": [],
   "source": [
    "\n"
   ]
  },
  {
   "cell_type": "code",
   "execution_count": 13,
   "metadata": {
    "id": "C6bGccvzC5jj"
   },
   "outputs": [],
   "source": [
    "max_length=50\n",
    "Embedding_dimension=50"
   ]
  },
  {
   "cell_type": "code",
   "execution_count": 14,
   "metadata": {
    "id": "yUZXOSWx9JlM"
   },
   "outputs": [],
   "source": [
    "tokenizer_obj = Tokenizer()\n",
    "tokenizer_obj.fit_on_texts(review) \n",
    "sequences = tokenizer_obj.texts_to_sequences(review)\n",
    "word_index = tokenizer_obj.word_index\n",
    "review_pad = pad_sequences(sequences, maxlen=max_length) "
   ]
  },
  {
   "cell_type": "code",
   "execution_count": 15,
   "metadata": {
    "id": "KnRhFg329POP"
   },
   "outputs": [],
   "source": [
    "num_words = len(word_index)+1\n",
    "embedding_matrix = np.zeros ((num_words, Embedding_dimension))\n",
    "for word, i in word_index.items():\n",
    "  try:\n",
    "    embedding_vector = model.wv[word]\n",
    "    embedding_matrix[i] = embedding_vector\n",
    "  except:\n",
    "    continue "
   ]
  },
  {
   "cell_type": "code",
   "execution_count": 16,
   "metadata": {},
   "outputs": [],
   "source": [
    "train_rating_list = train['ratings'].to_list()\n",
    "Y = [str(i-1) for i in train_rating_list]\n",
    "y_train = tf.keras.utils.to_categorical(Y,num_classes=5)"
   ]
  },
  {
   "cell_type": "code",
   "execution_count": 17,
   "metadata": {},
   "outputs": [],
   "source": [
    "def preprocess_test(test_reviews):\n",
    "  reviews = test_reviews\n",
    "  reviews = convert_to_lower(reviews)\n",
    "  reviews = perform_tokenization(reviews)\n",
    "  reviews = remove_punctuation(reviews)\n",
    "  return reviews"
   ]
  },
  {
   "cell_type": "code",
   "execution_count": 18,
   "metadata": {},
   "outputs": [],
   "source": [
    "test_review = preprocess_test(test['reviews'])\n",
    "test_review = test_review.to_list()\n",
    "sequences_test = tokenizer_obj.texts_to_sequences(test_review)\n",
    "test_review_pad = pad_sequences(sequences_test, maxlen=max_length) "
   ]
  },
  {
   "cell_type": "code",
   "execution_count": 19,
   "metadata": {},
   "outputs": [],
   "source": [
    "y_test = test['ratings']"
   ]
  },
  {
   "cell_type": "code",
   "execution_count": 20,
   "metadata": {},
   "outputs": [],
   "source": [
    "def predict(model, test_reviews):\n",
    "        y_pred = model.predict(test_reviews)\n",
    "        pred1 = []\n",
    "        for i in range(len(y_pred)):\n",
    "            pred1.append(np.argmax(y_pred[i])+1)\n",
    "        return pred1"
   ]
  },
  {
   "cell_type": "code",
   "execution_count": 21,
   "metadata": {},
   "outputs": [],
   "source": [
    "def report(y_pred,y_test,Model,modelName):\n",
    "    print(\"For model = \",modelName)\n",
    "    Classification_report = classification_report(y_test,y_pred,target_names=['1','2','3','4','5'])\n",
    "    cm  = confusion_matrix(test['ratings'],y_pred)\n",
    "    print(\"Classification Report : \\n\",Classification_report)\n",
    "    print(\"Heat Map :\\n\")\n",
    "    sns.heatmap(cm,cmap=\"Blues\",annot=True,fmt='.4g',xticklabels=['1','2','3','4','5'],yticklabels=['1','2','3','4','5'])"
   ]
  },
  {
   "cell_type": "code",
   "execution_count": 22,
   "metadata": {
    "id": "Vr1_dmnoF9Pl"
   },
   "outputs": [],
   "source": [
    "def lstmModel():\n",
    "    model = Sequential()\n",
    "    embedding_layer = Embedding(num_words,Embedding_dimension,embeddings_initializer=Constant(embedding_matrix), input_length = max_length, trainable=False)\n",
    "    model.add(embedding_layer)\n",
    "    model.add(LSTM(units=64, dropout=0.2,recurrent_dropout=0.2))\n",
    "    model.add (Dense (64, activation='sigmoid'))\n",
    "    model.add (Dense (5, activation='softmax'))\n",
    "    model.compile(loss='categorical_crossentropy', optimizer='adam', metrics=['accuracy'])\n",
    "    return model"
   ]
  },
  {
   "cell_type": "code",
   "execution_count": 23,
   "metadata": {
    "colab": {
     "base_uri": "https://localhost:8080/"
    },
    "id": "wyoLWrJnGMzS",
    "outputId": "909f4669-fa96-4474-e489-ebc312bc3fdf",
    "scrolled": true
   },
   "outputs": [
    {
     "name": "stdout",
     "output_type": "stream",
     "text": [
      "Epoch 1/15\n",
      "133/133 [==============================] - 8s 61ms/step - loss: 1.3798 - accuracy: 0.2987 - val_loss: 5.2323 - val_accuracy: 7.0621e-04\n",
      "Epoch 2/15\n",
      "133/133 [==============================] - 9s 70ms/step - loss: 1.3068 - accuracy: 0.3594 - val_loss: 5.6188 - val_accuracy: 0.0844\n",
      "Epoch 3/15\n",
      "133/133 [==============================] - 9s 69ms/step - loss: 1.2681 - accuracy: 0.4043 - val_loss: 5.9445 - val_accuracy: 0.1338\n",
      "Epoch 4/15\n",
      "133/133 [==============================] - 7s 49ms/step - loss: 1.2451 - accuracy: 0.4163 - val_loss: 6.2876 - val_accuracy: 0.0823\n",
      "Epoch 5/15\n",
      "133/133 [==============================] - 7s 54ms/step - loss: 1.2227 - accuracy: 0.4293 - val_loss: 6.5218 - val_accuracy: 0.0621\n",
      "Epoch 6/15\n",
      "133/133 [==============================] - 6s 46ms/step - loss: 1.2099 - accuracy: 0.4319 - val_loss: 6.7324 - val_accuracy: 0.0915\n",
      "Epoch 7/15\n",
      "133/133 [==============================] - 8s 61ms/step - loss: 1.1924 - accuracy: 0.4497 - val_loss: 6.8900 - val_accuracy: 0.1084\n",
      "Epoch 8/15\n",
      "133/133 [==============================] - 6s 49ms/step - loss: 1.1862 - accuracy: 0.4434 - val_loss: 7.0384 - val_accuracy: 0.0922\n",
      "Epoch 9/15\n",
      "133/133 [==============================] - 7s 51ms/step - loss: 1.1646 - accuracy: 0.4712 - val_loss: 7.1751 - val_accuracy: 0.0713\n",
      "Epoch 10/15\n",
      "133/133 [==============================] - 6s 46ms/step - loss: 1.1579 - accuracy: 0.4690 - val_loss: 7.3206 - val_accuracy: 0.0982\n",
      "Epoch 11/15\n",
      "133/133 [==============================] - 7s 50ms/step - loss: 1.1430 - accuracy: 0.4776 - val_loss: 7.4216 - val_accuracy: 0.0780\n",
      "Epoch 12/15\n",
      "133/133 [==============================] - 6s 42ms/step - loss: 1.1369 - accuracy: 0.4773 - val_loss: 7.5269 - val_accuracy: 0.0805\n",
      "Epoch 13/15\n",
      "133/133 [==============================] - 6s 42ms/step - loss: 1.1292 - accuracy: 0.4843 - val_loss: 7.5801 - val_accuracy: 0.0939\n",
      "Epoch 14/15\n",
      "133/133 [==============================] - 8s 57ms/step - loss: 1.1221 - accuracy: 0.4981 - val_loss: 7.7460 - val_accuracy: 0.0551\n",
      "Epoch 15/15\n",
      "133/133 [==============================] - 7s 49ms/step - loss: 1.1031 - accuracy: 0.5002 - val_loss: 7.8359 - val_accuracy: 0.0989\n"
     ]
    },
    {
     "data": {
      "text/plain": [
       "<tensorflow.python.keras.callbacks.History at 0x7f2da444b278>"
      ]
     },
     "execution_count": 23,
     "metadata": {},
     "output_type": "execute_result"
    }
   ],
   "source": [
    "lstm  = lstmModel()\n",
    "lstm.fit(review_pad, y_train, batch_size=64, epochs=15, validation_split=0.25)\n"
   ]
  },
  {
   "cell_type": "code",
   "execution_count": 24,
   "metadata": {
    "id": "7V6q9e3MJB8q"
   },
   "outputs": [],
   "source": [
    "y_pred = predict(lstm, test_review_pad)"
   ]
  },
  {
   "cell_type": "code",
   "execution_count": 25,
   "metadata": {
    "id": "EsUmxfLdLfk2"
   },
   "outputs": [
    {
     "name": "stdout",
     "output_type": "stream",
     "text": [
      "For model =  LSTM Model\n",
      "Classification Report : \n",
      "               precision    recall  f1-score   support\n",
      "\n",
      "           1       0.31      0.58      0.41      1271\n",
      "           2       0.11      0.38      0.17       630\n",
      "           3       0.22      0.36      0.28       911\n",
      "           4       0.15      0.43      0.22      1404\n",
      "           5       0.00      0.00      0.00      5784\n",
      "\n",
      "    accuracy                           0.19     10000\n",
      "   macro avg       0.16      0.35      0.22     10000\n",
      "weighted avg       0.09      0.19      0.12     10000\n",
      "\n",
      "Heat Map :\n",
      "\n"
     ]
    },
    {
     "name": "stderr",
     "output_type": "stream",
     "text": [
      "/home/piyush/.local/lib/python3.6/site-packages/sklearn/metrics/classification.py:1437: UndefinedMetricWarning: Precision and F-score are ill-defined and being set to 0.0 in labels with no predicted samples.\n",
      "  'precision', 'predicted', average, warn_for)\n"
     ]
    },
    {
     "data": {
      "image/png": "[encoded data removed]",
      "text/plain": [
       "<Figure size 432x288 with 2 Axes>"
      ]
     },
     "metadata": {
      "needs_background": "light"
     },
     "output_type": "display_data"
    }
   ],
   "source": [
    "report(y_pred, y_test, lstm,\"LSTM Model\")"
   ]
  },
  {
   "cell_type": "code",
   "execution_count": 26,
   "metadata": {
    "colab": {
     "base_uri": "https://localhost:8080/"
    },
    "id": "n5D6WxvcLtAr",
    "outputId": "3ae3b44b-30de-453d-92cd-21820f71a9f4"
   },
   "outputs": [],
   "source": [
    "def bilstmModel():\n",
    "    model = Sequential()\n",
    "    embedding_layer = Embedding(num_words,Embedding_dimension,embeddings_initializer=Constant(embedding_matrix), input_length = max_length, trainable=False)\n",
    "    model.add(embedding_layer)\n",
    "    model.add(Bidirectional(LSTM(units=64, dropout=0.2,recurrent_dropout=0.2)))\n",
    "    model.add (Dense (64, activation='sigmoid'))\n",
    "    model.add (Dense (5, activation='softmax'))\n",
    "    model.compile(loss='categorical_crossentropy', optimizer='adam', metrics=['accuracy'])\n",
    "    return model"
   ]
  },
  {
   "cell_type": "code",
   "execution_count": 27,
   "metadata": {
    "id": "UcHyo1gBMKXB"
   },
   "outputs": [
    {
     "name": "stdout",
     "output_type": "stream",
     "text": [
      "Epoch 1/15\n",
      "133/133 [==============================] - 8s 62ms/step - loss: 1.4135 - accuracy: 0.2702 - val_loss: 4.9039 - val_accuracy: 0.0000e+00\n",
      "Epoch 2/15\n",
      "133/133 [==============================] - 7s 54ms/step - loss: 1.3448 - accuracy: 0.3285 - val_loss: 5.0354 - val_accuracy: 0.0611\n",
      "Epoch 3/15\n",
      "133/133 [==============================] - 7s 54ms/step - loss: 1.3005 - accuracy: 0.3672 - val_loss: 5.2355 - val_accuracy: 0.0646\n",
      "Epoch 4/15\n",
      "133/133 [==============================] - 8s 58ms/step - loss: 1.2681 - accuracy: 0.3917 - val_loss: 5.4996 - val_accuracy: 0.0667\n",
      "Epoch 5/15\n",
      "133/133 [==============================] - 7s 56ms/step - loss: 1.2459 - accuracy: 0.4083 - val_loss: 5.6711 - val_accuracy: 0.0632\n",
      "Epoch 6/15\n",
      "133/133 [==============================] - 8s 59ms/step - loss: 1.2214 - accuracy: 0.4278 - val_loss: 5.7396 - val_accuracy: 0.0590\n",
      "Epoch 7/15\n",
      "133/133 [==============================] - 8s 60ms/step - loss: 1.2145 - accuracy: 0.4266 - val_loss: 5.7891 - val_accuracy: 0.1292\n",
      "Epoch 8/15\n",
      "133/133 [==============================] - 8s 57ms/step - loss: 1.1970 - accuracy: 0.4437 - val_loss: 6.1094 - val_accuracy: 0.1038\n",
      "Epoch 9/15\n",
      "133/133 [==============================] - 8s 57ms/step - loss: 1.1908 - accuracy: 0.4435 - val_loss: 6.1315 - val_accuracy: 0.0971\n",
      "Epoch 10/15\n",
      "133/133 [==============================] - 8s 58ms/step - loss: 1.1757 - accuracy: 0.4554 - val_loss: 6.2678 - val_accuracy: 0.1028\n",
      "Epoch 11/15\n",
      "133/133 [==============================] - 10s 72ms/step - loss: 1.1648 - accuracy: 0.4669 - val_loss: 6.3760 - val_accuracy: 0.1133\n",
      "Epoch 12/15\n",
      "133/133 [==============================] - 9s 70ms/step - loss: 1.1496 - accuracy: 0.4710 - val_loss: 6.4750 - val_accuracy: 0.0989\n",
      "Epoch 13/15\n",
      "133/133 [==============================] - 9s 64ms/step - loss: 1.1440 - accuracy: 0.4723 - val_loss: 6.4344 - val_accuracy: 0.1119\n",
      "Epoch 14/15\n",
      "133/133 [==============================] - 8s 57ms/step - loss: 1.1344 - accuracy: 0.4790 - val_loss: 6.6339 - val_accuracy: 0.1098\n",
      "Epoch 15/15\n",
      "133/133 [==============================] - 8s 57ms/step - loss: 1.1251 - accuracy: 0.4883 - val_loss: 6.8204 - val_accuracy: 0.1056\n"
     ]
    },
    {
     "data": {
      "text/plain": [
       "<tensorflow.python.keras.callbacks.History at 0x7f2d60159da0>"
      ]
     },
     "execution_count": 27,
     "metadata": {},
     "output_type": "execute_result"
    }
   ],
   "source": [
    "bilstm  = bilstmModel()\n",
    "bilstm.fit(review_pad, y_train, batch_size=64, epochs=15, validation_split=0.25)"
   ]
  },
  {
   "cell_type": "code",
   "execution_count": 28,
   "metadata": {
    "id": "WZk3DHLSO6yB"
   },
   "outputs": [
    {
     "name": "stdout",
     "output_type": "stream",
     "text": [
      "For model =  Bi-LSTM Model\n",
      "Classification Report : \n",
      "               precision    recall  f1-score   support\n",
      "\n",
      "           1       0.29      0.68      0.41      1271\n",
      "           2       0.12      0.28      0.16       630\n",
      "           3       0.24      0.34      0.28       911\n",
      "           4       0.14      0.43      0.22      1404\n",
      "           5       0.00      0.00      0.00      5784\n",
      "\n",
      "    accuracy                           0.20     10000\n",
      "   macro avg       0.16      0.35      0.21     10000\n",
      "weighted avg       0.09      0.20      0.12     10000\n",
      "\n",
      "Heat Map :\n",
      "\n"
     ]
    },
    {
     "data": {
      "image/png": "[encoded data removed]",
      "text/plain": [
       "<Figure size 432x288 with 2 Axes>"
      ]
     },
     "metadata": {
      "needs_background": "light"
     },
     "output_type": "display_data"
    }
   ],
   "source": [
    "y_pred = predict(bilstm, test_review_pad)\n",
    "report(y_pred, y_test, bilstm,\"Bi-LSTM Model\")"
   ]
  },
  {
   "cell_type": "code",
   "execution_count": 29,
   "metadata": {
    "id": "egDw41FpOgp0"
   },
   "outputs": [],
   "source": [
    "def gruModel():\n",
    "    model = Sequential()\n",
    "    embedding_layer = Embedding(num_words,Embedding_dimension,embeddings_initializer=Constant(embedding_matrix), input_length = max_length, trainable=False)\n",
    "    model.add(embedding_layer)\n",
    "    model.add(GRU(units= 64,dropout=0.2,recurrent_dropout=0.2))\n",
    "    model.add (Dense (64, activation='sigmoid'))\n",
    "    model.add (Dense (5, activation='softmax'))\n",
    "    model.compile(loss='categorical_crossentropy', optimizer='adam', metrics=['accuracy'])\n",
    "    return model\n"
   ]
  },
  {
   "cell_type": "code",
   "execution_count": 30,
   "metadata": {
    "id": "opPWqbT2O5-Y"
   },
   "outputs": [
    {
     "name": "stdout",
     "output_type": "stream",
     "text": [
      "Epoch 1/15\n",
      "133/133 [==============================] - 5s 40ms/step - loss: 1.3914 - accuracy: 0.2845 - val_loss: 5.1949 - val_accuracy: 0.0000e+00\n",
      "Epoch 2/15\n",
      "133/133 [==============================] - 6s 45ms/step - loss: 1.3302 - accuracy: 0.3431 - val_loss: 5.4774 - val_accuracy: 0.0636\n",
      "Epoch 3/15\n",
      "133/133 [==============================] - 6s 42ms/step - loss: 1.2808 - accuracy: 0.3756 - val_loss: 5.8834 - val_accuracy: 0.0632\n",
      "Epoch 4/15\n",
      "133/133 [==============================] - 5s 38ms/step - loss: 1.2497 - accuracy: 0.4133 - val_loss: 6.2494 - val_accuracy: 0.0985\n",
      "Epoch 5/15\n",
      "133/133 [==============================] - 4s 33ms/step - loss: 1.2303 - accuracy: 0.4238 - val_loss: 6.3280 - val_accuracy: 0.0703\n",
      "Epoch 6/15\n",
      "133/133 [==============================] - 4s 32ms/step - loss: 1.2088 - accuracy: 0.4357 - val_loss: 6.4865 - val_accuracy: 0.1172\n",
      "Epoch 7/15\n",
      "133/133 [==============================] - 4s 32ms/step - loss: 1.1934 - accuracy: 0.4501 - val_loss: 6.8119 - val_accuracy: 0.0865\n",
      "Epoch 8/15\n",
      "133/133 [==============================] - 4s 33ms/step - loss: 1.1795 - accuracy: 0.4594 - val_loss: 6.8444 - val_accuracy: 0.0879\n",
      "Epoch 9/15\n",
      "133/133 [==============================] - 4s 33ms/step - loss: 1.1692 - accuracy: 0.4691 - val_loss: 7.0302 - val_accuracy: 0.0763\n",
      "Epoch 10/15\n",
      "133/133 [==============================] - 4s 33ms/step - loss: 1.1653 - accuracy: 0.4697 - val_loss: 7.1637 - val_accuracy: 0.0869\n",
      "Epoch 11/15\n",
      "133/133 [==============================] - 4s 33ms/step - loss: 1.1561 - accuracy: 0.4726 - val_loss: 7.2795 - val_accuracy: 0.0992\n",
      "Epoch 12/15\n",
      "133/133 [==============================] - 4s 33ms/step - loss: 1.1451 - accuracy: 0.4791 - val_loss: 7.3298 - val_accuracy: 0.0886\n",
      "Epoch 13/15\n",
      "133/133 [==============================] - 4s 33ms/step - loss: 1.1367 - accuracy: 0.4803 - val_loss: 7.4415 - val_accuracy: 0.1158\n",
      "Epoch 14/15\n",
      "133/133 [==============================] - 4s 33ms/step - loss: 1.1292 - accuracy: 0.4936 - val_loss: 7.5946 - val_accuracy: 0.1042\n",
      "Epoch 15/15\n",
      "133/133 [==============================] - 4s 33ms/step - loss: 1.1169 - accuracy: 0.4932 - val_loss: 7.6634 - val_accuracy: 0.1123\n"
     ]
    },
    {
     "data": {
      "text/plain": [
       "<tensorflow.python.keras.callbacks.History at 0x7f2d212c1668>"
      ]
     },
     "execution_count": 30,
     "metadata": {},
     "output_type": "execute_result"
    }
   ],
   "source": [
    "gru  = gruModel()\n",
    "gru.fit(review_pad, y_train, batch_size=64, epochs=15, validation_split=0.25)"
   ]
  },
  {
   "cell_type": "code",
   "execution_count": 31,
   "metadata": {
    "id": "hZDhiUxkO0xD"
   },
   "outputs": [
    {
     "name": "stdout",
     "output_type": "stream",
     "text": [
      "For model =  GRU Model\n",
      "Classification Report : \n",
      "               precision    recall  f1-score   support\n",
      "\n",
      "           1       0.30      0.70      0.42      1271\n",
      "           2       0.13      0.23      0.17       630\n",
      "           3       0.24      0.36      0.29       911\n",
      "           4       0.14      0.47      0.22      1404\n",
      "           5       0.00      0.00      0.00      5784\n",
      "\n",
      "    accuracy                           0.20     10000\n",
      "   macro avg       0.16      0.35      0.22     10000\n",
      "weighted avg       0.09      0.20      0.12     10000\n",
      "\n",
      "Heat Map :\n",
      "\n"
     ]
    },
    {
     "data": {
      "image/png": "[encoded data removed]",
      "text/plain": [
       "<Figure size 432x288 with 2 Axes>"
      ]
     },
     "metadata": {
      "needs_background": "light"
     },
     "output_type": "display_data"
    }
   ],
   "source": [
    "y_pred = predict(gru, test_review_pad)\n",
    "report(y_pred, y_test, gru,\"GRU Model\")"
   ]
  },
  {
   "cell_type": "code",
   "execution_count": 32,
   "metadata": {
    "id": "6z5HEsBjPbHF"
   },
   "outputs": [],
   "source": [
    "def bigruModel():\n",
    "    model = Sequential()\n",
    "    embedding_layer = Embedding(num_words,Embedding_dimension,embeddings_initializer=Constant(embedding_matrix), input_length = max_length, trainable=False)\n",
    "    model.add(embedding_layer)\n",
    "    model.add(Bidirectional(GRU(units= 64,dropout=0.2,recurrent_dropout=0.2)))\n",
    "    model.add (Dense (64, activation='sigmoid'))\n",
    "    model.add (Dense (5, activation='softmax'))\n",
    "    model.compile(loss='categorical_crossentropy', optimizer='adam', metrics=['accuracy'])\n",
    "    return model"
   ]
  },
  {
   "cell_type": "code",
   "execution_count": 33,
   "metadata": {
    "colab": {
     "base_uri": "https://localhost:8080/",
     "height": 520
    },
    "id": "Qb73ktrKPdWB",
    "outputId": "e164d3d1-dd51-4998-a805-4b9681bf4179"
   },
   "outputs": [
    {
     "name": "stdout",
     "output_type": "stream",
     "text": [
      "Epoch 1/15\n",
      "133/133 [==============================] - 8s 63ms/step - loss: 1.3970 - accuracy: 0.2812 - val_loss: 5.3226 - val_accuracy: 0.0018\n",
      "Epoch 2/15\n",
      "133/133 [==============================] - 7s 56ms/step - loss: 1.3218 - accuracy: 0.3495 - val_loss: 5.4878 - val_accuracy: 0.0858\n",
      "Epoch 3/15\n",
      "133/133 [==============================] - 7s 52ms/step - loss: 1.2671 - accuracy: 0.4034 - val_loss: 5.8223 - val_accuracy: 0.0346\n",
      "Epoch 4/15\n",
      "133/133 [==============================] - 7s 50ms/step - loss: 1.2403 - accuracy: 0.4185 - val_loss: 6.1275 - val_accuracy: 0.1006\n",
      "Epoch 5/15\n",
      "133/133 [==============================] - 7s 51ms/step - loss: 1.2257 - accuracy: 0.4248 - val_loss: 6.2603 - val_accuracy: 0.0953\n",
      "Epoch 6/15\n",
      "133/133 [==============================] - 7s 50ms/step - loss: 1.2034 - accuracy: 0.4438 - val_loss: 6.4242 - val_accuracy: 0.0904\n",
      "Epoch 7/15\n",
      "133/133 [==============================] - 8s 58ms/step - loss: 1.1986 - accuracy: 0.4505 - val_loss: 6.6427 - val_accuracy: 0.1020\n",
      "Epoch 8/15\n",
      "133/133 [==============================] - 7s 54ms/step - loss: 1.1830 - accuracy: 0.4525 - val_loss: 6.7619 - val_accuracy: 0.1038\n",
      "Epoch 9/15\n",
      "133/133 [==============================] - 7s 53ms/step - loss: 1.1699 - accuracy: 0.4666 - val_loss: 6.8805 - val_accuracy: 0.0745\n",
      "Epoch 10/15\n",
      "133/133 [==============================] - 8s 57ms/step - loss: 1.1694 - accuracy: 0.4625 - val_loss: 7.0952 - val_accuracy: 0.0844\n",
      "Epoch 11/15\n",
      "133/133 [==============================] - 7s 49ms/step - loss: 1.1543 - accuracy: 0.4723 - val_loss: 7.2577 - val_accuracy: 0.1285\n",
      "Epoch 12/15\n",
      "133/133 [==============================] - 7s 54ms/step - loss: 1.1478 - accuracy: 0.4779 - val_loss: 7.3916 - val_accuracy: 0.0752\n",
      "Epoch 13/15\n",
      "133/133 [==============================] - 8s 58ms/step - loss: 1.1399 - accuracy: 0.4780 - val_loss: 7.4723 - val_accuracy: 0.1144\n",
      "Epoch 14/15\n",
      "133/133 [==============================] - 9s 64ms/step - loss: 1.1293 - accuracy: 0.4878 - val_loss: 7.5672 - val_accuracy: 0.0717\n",
      "Epoch 15/15\n",
      "133/133 [==============================] - 8s 57ms/step - loss: 1.1227 - accuracy: 0.4898 - val_loss: 7.6571 - val_accuracy: 0.1045\n"
     ]
    },
    {
     "data": {
      "text/plain": [
       "<tensorflow.python.keras.callbacks.History at 0x7f2d2033a630>"
      ]
     },
     "execution_count": 33,
     "metadata": {},
     "output_type": "execute_result"
    }
   ],
   "source": [
    "bigru  = bigruModel()\n",
    "bigru.fit(review_pad, y_train, batch_size=64, epochs=15, validation_split=0.25)"
   ]
  },
  {
   "cell_type": "code",
   "execution_count": 34,
   "metadata": {
    "id": "xCdfsVcCPsgR"
   },
   "outputs": [
    {
     "name": "stdout",
     "output_type": "stream",
     "text": [
      "For model =  Bidirectional GRU Model\n",
      "Classification Report : \n",
      "               precision    recall  f1-score   support\n",
      "\n",
      "           1       0.31      0.63      0.42      1271\n",
      "           2       0.13      0.21      0.16       630\n",
      "           3       0.21      0.44      0.29       911\n",
      "           4       0.14      0.45      0.22      1404\n",
      "           5       0.00      0.00      0.00      5784\n",
      "\n",
      "    accuracy                           0.20     10000\n",
      "   macro avg       0.16      0.35      0.22     10000\n",
      "weighted avg       0.09      0.20      0.12     10000\n",
      "\n",
      "Heat Map :\n",
      "\n"
     ]
    },
    {
     "data": {
      "image/png": "[encoded data removed]",
      "text/plain": [
       "<Figure size 432x288 with 2 Axes>"
      ]
     },
     "metadata": {
      "needs_background": "light"
     },
     "output_type": "display_data"
    }
   ],
   "source": [
    "y_pred = predict(bigru, test_review_pad)\n",
    "report(y_pred, y_test, bigru,\"Bidirectional GRU Model\")"
   ]
  },
  {
   "cell_type": "code",
   "execution_count": 35,
   "metadata": {},
   "outputs": [],
   "source": [
    "def rnnModel():\n",
    "    model = Sequential()\n",
    "    embedding_layer = Embedding(num_words,Embedding_dimension,embeddings_initializer=Constant(embedding_matrix), input_length = max_length, trainable=False)\n",
    "    model.add(embedding_layer)\n",
    "    model.add(SimpleRNN(units= 64,dropout=0.2,recurrent_dropout=0.2))\n",
    "    model.add (Dense (64, activation='sigmoid'))\n",
    "    model.add (Dense (5, activation='softmax'))\n",
    "    model.compile(loss='categorical_crossentropy', optimizer='adam', metrics=['accuracy'])\n",
    "    return model"
   ]
  },
  {
   "cell_type": "code",
   "execution_count": 36,
   "metadata": {},
   "outputs": [
    {
     "name": "stdout",
     "output_type": "stream",
     "text": [
      "Epoch 1/15\n",
      "133/133 [==============================] - 2s 18ms/step - loss: 1.4198 - accuracy: 0.2773 - val_loss: 5.0370 - val_accuracy: 0.0000e+00\n",
      "Epoch 2/15\n",
      "133/133 [==============================] - 2s 16ms/step - loss: 1.3751 - accuracy: 0.2914 - val_loss: 5.6193 - val_accuracy: 7.0621e-04\n",
      "Epoch 3/15\n",
      "133/133 [==============================] - 2s 15ms/step - loss: 1.3692 - accuracy: 0.3010 - val_loss: 5.8452 - val_accuracy: 0.0823\n",
      "Epoch 4/15\n",
      "133/133 [==============================] - 2s 15ms/step - loss: 1.3553 - accuracy: 0.3161 - val_loss: 6.1919 - val_accuracy: 0.0487\n",
      "Epoch 5/15\n",
      "133/133 [==============================] - 3s 19ms/step - loss: 1.3561 - accuracy: 0.3166 - val_loss: 6.3931 - val_accuracy: 0.0512\n",
      "Epoch 6/15\n",
      "133/133 [==============================] - 3s 20ms/step - loss: 1.3417 - accuracy: 0.3372 - val_loss: 6.4329 - val_accuracy: 0.0272\n",
      "Epoch 7/15\n",
      "133/133 [==============================] - 2s 16ms/step - loss: 1.3446 - accuracy: 0.3337 - val_loss: 6.6625 - val_accuracy: 0.0293\n",
      "Epoch 8/15\n",
      "133/133 [==============================] - 2s 14ms/step - loss: 1.3421 - accuracy: 0.3428 - val_loss: 6.9221 - val_accuracy: 0.0547\n",
      "Epoch 9/15\n",
      "133/133 [==============================] - 2s 17ms/step - loss: 1.3382 - accuracy: 0.3426 - val_loss: 7.1595 - val_accuracy: 0.0798\n",
      "Epoch 10/15\n",
      "133/133 [==============================] - 2s 16ms/step - loss: 1.3325 - accuracy: 0.3444 - val_loss: 7.2990 - val_accuracy: 0.0770\n",
      "Epoch 11/15\n",
      "133/133 [==============================] - 2s 15ms/step - loss: 1.3330 - accuracy: 0.3430 - val_loss: 7.2666 - val_accuracy: 0.0318\n",
      "Epoch 12/15\n",
      "133/133 [==============================] - 2s 15ms/step - loss: 1.3249 - accuracy: 0.3531 - val_loss: 7.4860 - val_accuracy: 0.0681\n",
      "Epoch 13/15\n",
      "133/133 [==============================] - 2s 14ms/step - loss: 1.3206 - accuracy: 0.3577 - val_loss: 7.6949 - val_accuracy: 0.0611\n",
      "Epoch 14/15\n",
      "133/133 [==============================] - 2s 15ms/step - loss: 1.3217 - accuracy: 0.3511 - val_loss: 7.4613 - val_accuracy: 0.0657\n",
      "Epoch 15/15\n",
      "133/133 [==============================] - 2s 15ms/step - loss: 1.3186 - accuracy: 0.3519 - val_loss: 7.6248 - val_accuracy: 0.0742\n"
     ]
    },
    {
     "data": {
      "text/plain": [
       "<tensorflow.python.keras.callbacks.History at 0x7f2cfc5e8ef0>"
      ]
     },
     "execution_count": 36,
     "metadata": {},
     "output_type": "execute_result"
    }
   ],
   "source": [
    "rnn  = rnnModel()\n",
    "rnn.fit(review_pad, y_train, batch_size=64, epochs=15, validation_split=0.25)\n"
   ]
  },
  {
   "cell_type": "code",
   "execution_count": 37,
   "metadata": {},
   "outputs": [
    {
     "name": "stdout",
     "output_type": "stream",
     "text": [
      "For model =  RNN Model\n",
      "Classification Report : \n",
      "               precision    recall  f1-score   support\n",
      "\n",
      "           1       0.24      0.55      0.33      1271\n",
      "           2       0.08      0.08      0.08       630\n",
      "           3       0.12      0.49      0.19       911\n",
      "           4       0.17      0.31      0.22      1404\n",
      "           5       0.00      0.00      0.00      5784\n",
      "\n",
      "    accuracy                           0.16     10000\n",
      "   macro avg       0.12      0.29      0.16     10000\n",
      "weighted avg       0.07      0.16      0.09     10000\n",
      "\n",
      "Heat Map :\n",
      "\n"
     ]
    },
    {
     "data": {
      "image/png": "[encoded data removed]",
      "text/plain": [
       "<Figure size 432x288 with 2 Axes>"
      ]
     },
     "metadata": {
      "needs_background": "light"
     },
     "output_type": "display_data"
    }
   ],
   "source": [
    "y_pred = predict(rnn, test_review_pad)\n",
    "report(y_pred, y_test, rnn,\"RNN Model\")"
   ]
  },
  {
   "cell_type": "code",
   "execution_count": null,
   "metadata": {},
   "outputs": [],
   "source": []
  }
 ],
 "metadata": {
  "celltoolbar": "Raw Cell Format",
  "colab": {
   "collapsed_sections": [],
   "name": "Pretrained_lstm.ipynb",
   "provenance": []
  },
  "kernelspec": {
   "display_name": "Python 3",
   "language": "python",
   "name": "python3"
  },
  "language_info": {
   "codemirror_mode": {
    "name": "ipython",
    "version": 3
   },
   "file_extension": ".py",
   "mimetype": "text/x-python",
   "name": "python",
   "nbconvert_exporter": "python",
   "pygments_lexer": "ipython3",
   "version": "3.6.9"
  }
 },
 "nbformat": 4,
 "nbformat_minor": 1
}

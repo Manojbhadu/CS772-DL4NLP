{
  "nbformat": 4,
  "nbformat_minor": 0,
  "metadata": {
    "colab": {
      "name": "Transformer.ipynb",
      "provenance": [],
      "collapsed_sections": []
    },
    "kernelspec": {
      "name": "python3",
      "display_name": "Python 3",
      "language": "python"
    },
    "language_info": {
      "name": "python",
      "version": "3.6.9"
    },
    "accelerator": "GPU",
    "widgets": {
      "application/vnd.jupyter.widget-state+json": {
        "e3b27d5b058f4aab9ec209123f27c8c5": {
          "model_module": "@jupyter-widgets/controls",
          "model_name": "HBoxModel",
          "state": {
            "_view_name": "HBoxView",
            "_dom_classes": [],
            "_model_name": "HBoxModel",
            "_view_module": "@jupyter-widgets/controls",
            "_model_module_version": "1.5.0",
            "_view_count": null,
            "_view_module_version": "1.5.0",
            "box_style": "",
            "layout": "IPY_MODEL_88d0d1cd47b945dbb96fc176746e90a7",
            "_model_module": "@jupyter-widgets/controls",
            "children": [
              "IPY_MODEL_04832828dcf34031aac2444a1e59af2b",
              "IPY_MODEL_ddb52ec2ceb84573b7a9d9e58ae1215f"
            ]
          }
        },
        "88d0d1cd47b945dbb96fc176746e90a7": {
          "model_module": "@jupyter-widgets/base",
          "model_name": "LayoutModel",
          "state": {
            "_view_name": "LayoutView",
            "grid_template_rows": null,
            "right": null,
            "justify_content": null,
            "_view_module": "@jupyter-widgets/base",
            "overflow": null,
            "_model_module_version": "1.2.0",
            "_view_count": null,
            "flex_flow": null,
            "width": null,
            "min_width": null,
            "border": null,
            "align_items": null,
            "bottom": null,
            "_model_module": "@jupyter-widgets/base",
            "top": null,
            "grid_column": null,
            "overflow_y": null,
            "overflow_x": null,
            "grid_auto_flow": null,
            "grid_area": null,
            "grid_template_columns": null,
            "flex": null,
            "_model_name": "LayoutModel",
            "justify_items": null,
            "grid_row": null,
            "max_height": null,
            "align_content": null,
            "visibility": null,
            "align_self": null,
            "height": null,
            "min_height": null,
            "padding": null,
            "grid_auto_rows": null,
            "grid_gap": null,
            "max_width": null,
            "order": null,
            "_view_module_version": "1.2.0",
            "grid_template_areas": null,
            "object_position": null,
            "object_fit": null,
            "grid_auto_columns": null,
            "margin": null,
            "display": null,
            "left": null
          }
        },
        "04832828dcf34031aac2444a1e59af2b": {
          "model_module": "@jupyter-widgets/controls",
          "model_name": "FloatProgressModel",
          "state": {
            "_view_name": "ProgressView",
            "style": "IPY_MODEL_4a71dd88c495487f818f35820ab41bb5",
            "_dom_classes": [],
            "description": "Downloading: 100%",
            "_model_name": "FloatProgressModel",
            "bar_style": "success",
            "max": 213450,
            "_view_module": "@jupyter-widgets/controls",
            "_model_module_version": "1.5.0",
            "value": 213450,
            "_view_count": null,
            "_view_module_version": "1.5.0",
            "orientation": "horizontal",
            "min": 0,
            "description_tooltip": null,
            "_model_module": "@jupyter-widgets/controls",
            "layout": "IPY_MODEL_1a0c0ace8fb1450c9ca203620c33ed39"
          }
        },
        "ddb52ec2ceb84573b7a9d9e58ae1215f": {
          "model_module": "@jupyter-widgets/controls",
          "model_name": "HTMLModel",
          "state": {
            "_view_name": "HTMLView",
            "style": "IPY_MODEL_83afc971c41f435682943d8bd17e007d",
            "_dom_classes": [],
            "description": "",
            "_model_name": "HTMLModel",
            "placeholder": "​",
            "_view_module": "@jupyter-widgets/controls",
            "_model_module_version": "1.5.0",
            "value": " 213k/213k [00:00&lt;00:00, 290kB/s]",
            "_view_count": null,
            "_view_module_version": "1.5.0",
            "description_tooltip": null,
            "_model_module": "@jupyter-widgets/controls",
            "layout": "IPY_MODEL_531d6f82940144808a6c9ca63881178c"
          }
        },
        "4a71dd88c495487f818f35820ab41bb5": {
          "model_module": "@jupyter-widgets/controls",
          "model_name": "ProgressStyleModel",
          "state": {
            "_view_name": "StyleView",
            "_model_name": "ProgressStyleModel",
            "description_width": "initial",
            "_view_module": "@jupyter-widgets/base",
            "_model_module_version": "1.5.0",
            "_view_count": null,
            "_view_module_version": "1.2.0",
            "bar_color": null,
            "_model_module": "@jupyter-widgets/controls"
          }
        },
        "1a0c0ace8fb1450c9ca203620c33ed39": {
          "model_module": "@jupyter-widgets/base",
          "model_name": "LayoutModel",
          "state": {
            "_view_name": "LayoutView",
            "grid_template_rows": null,
            "right": null,
            "justify_content": null,
            "_view_module": "@jupyter-widgets/base",
            "overflow": null,
            "_model_module_version": "1.2.0",
            "_view_count": null,
            "flex_flow": null,
            "width": null,
            "min_width": null,
            "border": null,
            "align_items": null,
            "bottom": null,
            "_model_module": "@jupyter-widgets/base",
            "top": null,
            "grid_column": null,
            "overflow_y": null,
            "overflow_x": null,
            "grid_auto_flow": null,
            "grid_area": null,
            "grid_template_columns": null,
            "flex": null,
            "_model_name": "LayoutModel",
            "justify_items": null,
            "grid_row": null,
            "max_height": null,
            "align_content": null,
            "visibility": null,
            "align_self": null,
            "height": null,
            "min_height": null,
            "padding": null,
            "grid_auto_rows": null,
            "grid_gap": null,
            "max_width": null,
            "order": null,
            "_view_module_version": "1.2.0",
            "grid_template_areas": null,
            "object_position": null,
            "object_fit": null,
            "grid_auto_columns": null,
            "margin": null,
            "display": null,
            "left": null
          }
        },
        "83afc971c41f435682943d8bd17e007d": {
          "model_module": "@jupyter-widgets/controls",
          "model_name": "DescriptionStyleModel",
          "state": {
            "_view_name": "StyleView",
            "_model_name": "DescriptionStyleModel",
            "description_width": "",
            "_view_module": "@jupyter-widgets/base",
            "_model_module_version": "1.5.0",
            "_view_count": null,
            "_view_module_version": "1.2.0",
            "_model_module": "@jupyter-widgets/controls"
          }
        },
        "531d6f82940144808a6c9ca63881178c": {
          "model_module": "@jupyter-widgets/base",
          "model_name": "LayoutModel",
          "state": {
            "_view_name": "LayoutView",
            "grid_template_rows": null,
            "right": null,
            "justify_content": null,
            "_view_module": "@jupyter-widgets/base",
            "overflow": null,
            "_model_module_version": "1.2.0",
            "_view_count": null,
            "flex_flow": null,
            "width": null,
            "min_width": null,
            "border": null,
            "align_items": null,
            "bottom": null,
            "_model_module": "@jupyter-widgets/base",
            "top": null,
            "grid_column": null,
            "overflow_y": null,
            "overflow_x": null,
            "grid_auto_flow": null,
            "grid_area": null,
            "grid_template_columns": null,
            "flex": null,
            "_model_name": "LayoutModel",
            "justify_items": null,
            "grid_row": null,
            "max_height": null,
            "align_content": null,
            "visibility": null,
            "align_self": null,
            "height": null,
            "min_height": null,
            "padding": null,
            "grid_auto_rows": null,
            "grid_gap": null,
            "max_width": null,
            "order": null,
            "_view_module_version": "1.2.0",
            "grid_template_areas": null,
            "object_position": null,
            "object_fit": null,
            "grid_auto_columns": null,
            "margin": null,
            "display": null,
            "left": null
          }
        },
        "a710f04dfa2641819ab2690dc4191a45": {
          "model_module": "@jupyter-widgets/controls",
          "model_name": "HBoxModel",
          "state": {
            "_view_name": "HBoxView",
            "_dom_classes": [],
            "_model_name": "HBoxModel",
            "_view_module": "@jupyter-widgets/controls",
            "_model_module_version": "1.5.0",
            "_view_count": null,
            "_view_module_version": "1.5.0",
            "box_style": "",
            "layout": "IPY_MODEL_796c1b249e0743cb9566f21aadbcc8aa",
            "_model_module": "@jupyter-widgets/controls",
            "children": [
              "IPY_MODEL_f9d172def0084407ad3dab76ec83eb95",
              "IPY_MODEL_e1d3cc86b9084af6a82d68869d1291ef"
            ]
          }
        },
        "796c1b249e0743cb9566f21aadbcc8aa": {
          "model_module": "@jupyter-widgets/base",
          "model_name": "LayoutModel",
          "state": {
            "_view_name": "LayoutView",
            "grid_template_rows": null,
            "right": null,
            "justify_content": null,
            "_view_module": "@jupyter-widgets/base",
            "overflow": null,
            "_model_module_version": "1.2.0",
            "_view_count": null,
            "flex_flow": null,
            "width": null,
            "min_width": null,
            "border": null,
            "align_items": null,
            "bottom": null,
            "_model_module": "@jupyter-widgets/base",
            "top": null,
            "grid_column": null,
            "overflow_y": null,
            "overflow_x": null,
            "grid_auto_flow": null,
            "grid_area": null,
            "grid_template_columns": null,
            "flex": null,
            "_model_name": "LayoutModel",
            "justify_items": null,
            "grid_row": null,
            "max_height": null,
            "align_content": null,
            "visibility": null,
            "align_self": null,
            "height": null,
            "min_height": null,
            "padding": null,
            "grid_auto_rows": null,
            "grid_gap": null,
            "max_width": null,
            "order": null,
            "_view_module_version": "1.2.0",
            "grid_template_areas": null,
            "object_position": null,
            "object_fit": null,
            "grid_auto_columns": null,
            "margin": null,
            "display": null,
            "left": null
          }
        },
        "f9d172def0084407ad3dab76ec83eb95": {
          "model_module": "@jupyter-widgets/controls",
          "model_name": "FloatProgressModel",
          "state": {
            "_view_name": "ProgressView",
            "style": "IPY_MODEL_ba0519879a8940f496312ab292554e11",
            "_dom_classes": [],
            "description": "Downloading: 100%",
            "_model_name": "FloatProgressModel",
            "bar_style": "success",
            "max": 29,
            "_view_module": "@jupyter-widgets/controls",
            "_model_module_version": "1.5.0",
            "value": 29,
            "_view_count": null,
            "_view_module_version": "1.5.0",
            "orientation": "horizontal",
            "min": 0,
            "description_tooltip": null,
            "_model_module": "@jupyter-widgets/controls",
            "layout": "IPY_MODEL_0dd974d0ed934c88921082812ae2f37b"
          }
        },
        "e1d3cc86b9084af6a82d68869d1291ef": {
          "model_module": "@jupyter-widgets/controls",
          "model_name": "HTMLModel",
          "state": {
            "_view_name": "HTMLView",
            "style": "IPY_MODEL_61748e704d8f4de39fe88f217ff0b47e",
            "_dom_classes": [],
            "description": "",
            "_model_name": "HTMLModel",
            "placeholder": "​",
            "_view_module": "@jupyter-widgets/controls",
            "_model_module_version": "1.5.0",
            "value": " 29.0/29.0 [00:00&lt;00:00, 83.2B/s]",
            "_view_count": null,
            "_view_module_version": "1.5.0",
            "description_tooltip": null,
            "_model_module": "@jupyter-widgets/controls",
            "layout": "IPY_MODEL_4a947721bd3b4fb08ccdcc7a2c3d5926"
          }
        },
        "ba0519879a8940f496312ab292554e11": {
          "model_module": "@jupyter-widgets/controls",
          "model_name": "ProgressStyleModel",
          "state": {
            "_view_name": "StyleView",
            "_model_name": "ProgressStyleModel",
            "description_width": "initial",
            "_view_module": "@jupyter-widgets/base",
            "_model_module_version": "1.5.0",
            "_view_count": null,
            "_view_module_version": "1.2.0",
            "bar_color": null,
            "_model_module": "@jupyter-widgets/controls"
          }
        },
        "0dd974d0ed934c88921082812ae2f37b": {
          "model_module": "@jupyter-widgets/base",
          "model_name": "LayoutModel",
          "state": {
            "_view_name": "LayoutView",
            "grid_template_rows": null,
            "right": null,
            "justify_content": null,
            "_view_module": "@jupyter-widgets/base",
            "overflow": null,
            "_model_module_version": "1.2.0",
            "_view_count": null,
            "flex_flow": null,
            "width": null,
            "min_width": null,
            "border": null,
            "align_items": null,
            "bottom": null,
            "_model_module": "@jupyter-widgets/base",
            "top": null,
            "grid_column": null,
            "overflow_y": null,
            "overflow_x": null,
            "grid_auto_flow": null,
            "grid_area": null,
            "grid_template_columns": null,
            "flex": null,
            "_model_name": "LayoutModel",
            "justify_items": null,
            "grid_row": null,
            "max_height": null,
            "align_content": null,
            "visibility": null,
            "align_self": null,
            "height": null,
            "min_height": null,
            "padding": null,
            "grid_auto_rows": null,
            "grid_gap": null,
            "max_width": null,
            "order": null,
            "_view_module_version": "1.2.0",
            "grid_template_areas": null,
            "object_position": null,
            "object_fit": null,
            "grid_auto_columns": null,
            "margin": null,
            "display": null,
            "left": null
          }
        },
        "61748e704d8f4de39fe88f217ff0b47e": {
          "model_module": "@jupyter-widgets/controls",
          "model_name": "DescriptionStyleModel",
          "state": {
            "_view_name": "StyleView",
            "_model_name": "DescriptionStyleModel",
            "description_width": "",
            "_view_module": "@jupyter-widgets/base",
            "_model_module_version": "1.5.0",
            "_view_count": null,
            "_view_module_version": "1.2.0",
            "_model_module": "@jupyter-widgets/controls"
          }
        },
        "4a947721bd3b4fb08ccdcc7a2c3d5926": {
          "model_module": "@jupyter-widgets/base",
          "model_name": "LayoutModel",
          "state": {
            "_view_name": "LayoutView",
            "grid_template_rows": null,
            "right": null,
            "justify_content": null,
            "_view_module": "@jupyter-widgets/base",
            "overflow": null,
            "_model_module_version": "1.2.0",
            "_view_count": null,
            "flex_flow": null,
            "width": null,
            "min_width": null,
            "border": null,
            "align_items": null,
            "bottom": null,
            "_model_module": "@jupyter-widgets/base",
            "top": null,
            "grid_column": null,
            "overflow_y": null,
            "overflow_x": null,
            "grid_auto_flow": null,
            "grid_area": null,
            "grid_template_columns": null,
            "flex": null,
            "_model_name": "LayoutModel",
            "justify_items": null,
            "grid_row": null,
            "max_height": null,
            "align_content": null,
            "visibility": null,
            "align_self": null,
            "height": null,
            "min_height": null,
            "padding": null,
            "grid_auto_rows": null,
            "grid_gap": null,
            "max_width": null,
            "order": null,
            "_view_module_version": "1.2.0",
            "grid_template_areas": null,
            "object_position": null,
            "object_fit": null,
            "grid_auto_columns": null,
            "margin": null,
            "display": null,
            "left": null
          }
        },
        "d5a68f2ff6c14a819947770f0241415e": {
          "model_module": "@jupyter-widgets/controls",
          "model_name": "HBoxModel",
          "state": {
            "_view_name": "HBoxView",
            "_dom_classes": [],
            "_model_name": "HBoxModel",
            "_view_module": "@jupyter-widgets/controls",
            "_model_module_version": "1.5.0",
            "_view_count": null,
            "_view_module_version": "1.5.0",
            "box_style": "",
            "layout": "IPY_MODEL_bd9e766564e04eeabe4c7d41725343a7",
            "_model_module": "@jupyter-widgets/controls",
            "children": [
              "IPY_MODEL_b2de497f09ad4c3f911bc68ed46fc86e",
              "IPY_MODEL_ae3599e5aa464f6b800b4c7ebde012bd"
            ]
          }
        },
        "bd9e766564e04eeabe4c7d41725343a7": {
          "model_module": "@jupyter-widgets/base",
          "model_name": "LayoutModel",
          "state": {
            "_view_name": "LayoutView",
            "grid_template_rows": null,
            "right": null,
            "justify_content": null,
            "_view_module": "@jupyter-widgets/base",
            "overflow": null,
            "_model_module_version": "1.2.0",
            "_view_count": null,
            "flex_flow": null,
            "width": null,
            "min_width": null,
            "border": null,
            "align_items": null,
            "bottom": null,
            "_model_module": "@jupyter-widgets/base",
            "top": null,
            "grid_column": null,
            "overflow_y": null,
            "overflow_x": null,
            "grid_auto_flow": null,
            "grid_area": null,
            "grid_template_columns": null,
            "flex": null,
            "_model_name": "LayoutModel",
            "justify_items": null,
            "grid_row": null,
            "max_height": null,
            "align_content": null,
            "visibility": null,
            "align_self": null,
            "height": null,
            "min_height": null,
            "padding": null,
            "grid_auto_rows": null,
            "grid_gap": null,
            "max_width": null,
            "order": null,
            "_view_module_version": "1.2.0",
            "grid_template_areas": null,
            "object_position": null,
            "object_fit": null,
            "grid_auto_columns": null,
            "margin": null,
            "display": null,
            "left": null
          }
        },
        "b2de497f09ad4c3f911bc68ed46fc86e": {
          "model_module": "@jupyter-widgets/controls",
          "model_name": "FloatProgressModel",
          "state": {
            "_view_name": "ProgressView",
            "style": "IPY_MODEL_b80ef2bd3e0245be83c1b21924632b71",
            "_dom_classes": [],
            "description": "Downloading: 100%",
            "_model_name": "FloatProgressModel",
            "bar_style": "success",
            "max": 435797,
            "_view_module": "@jupyter-widgets/controls",
            "_model_module_version": "1.5.0",
            "value": 435797,
            "_view_count": null,
            "_view_module_version": "1.5.0",
            "orientation": "horizontal",
            "min": 0,
            "description_tooltip": null,
            "_model_module": "@jupyter-widgets/controls",
            "layout": "IPY_MODEL_df6de609652a421d84e5a6da24f3d263"
          }
        },
        "ae3599e5aa464f6b800b4c7ebde012bd": {
          "model_module": "@jupyter-widgets/controls",
          "model_name": "HTMLModel",
          "state": {
            "_view_name": "HTMLView",
            "style": "IPY_MODEL_af8befd3997f49439bd95da58fb0fdf3",
            "_dom_classes": [],
            "description": "",
            "_model_name": "HTMLModel",
            "placeholder": "​",
            "_view_module": "@jupyter-widgets/controls",
            "_model_module_version": "1.5.0",
            "value": " 436k/436k [00:00&lt;00:00, 3.01MB/s]",
            "_view_count": null,
            "_view_module_version": "1.5.0",
            "description_tooltip": null,
            "_model_module": "@jupyter-widgets/controls",
            "layout": "IPY_MODEL_5535602f318e4580b8533781324bc869"
          }
        },
        "b80ef2bd3e0245be83c1b21924632b71": {
          "model_module": "@jupyter-widgets/controls",
          "model_name": "ProgressStyleModel",
          "state": {
            "_view_name": "StyleView",
            "_model_name": "ProgressStyleModel",
            "description_width": "initial",
            "_view_module": "@jupyter-widgets/base",
            "_model_module_version": "1.5.0",
            "_view_count": null,
            "_view_module_version": "1.2.0",
            "bar_color": null,
            "_model_module": "@jupyter-widgets/controls"
          }
        },
        "df6de609652a421d84e5a6da24f3d263": {
          "model_module": "@jupyter-widgets/base",
          "model_name": "LayoutModel",
          "state": {
            "_view_name": "LayoutView",
            "grid_template_rows": null,
            "right": null,
            "justify_content": null,
            "_view_module": "@jupyter-widgets/base",
            "overflow": null,
            "_model_module_version": "1.2.0",
            "_view_count": null,
            "flex_flow": null,
            "width": null,
            "min_width": null,
            "border": null,
            "align_items": null,
            "bottom": null,
            "_model_module": "@jupyter-widgets/base",
            "top": null,
            "grid_column": null,
            "overflow_y": null,
            "overflow_x": null,
            "grid_auto_flow": null,
            "grid_area": null,
            "grid_template_columns": null,
            "flex": null,
            "_model_name": "LayoutModel",
            "justify_items": null,
            "grid_row": null,
            "max_height": null,
            "align_content": null,
            "visibility": null,
            "align_self": null,
            "height": null,
            "min_height": null,
            "padding": null,
            "grid_auto_rows": null,
            "grid_gap": null,
            "max_width": null,
            "order": null,
            "_view_module_version": "1.2.0",
            "grid_template_areas": null,
            "object_position": null,
            "object_fit": null,
            "grid_auto_columns": null,
            "margin": null,
            "display": null,
            "left": null
          }
        },
        "af8befd3997f49439bd95da58fb0fdf3": {
          "model_module": "@jupyter-widgets/controls",
          "model_name": "DescriptionStyleModel",
          "state": {
            "_view_name": "StyleView",
            "_model_name": "DescriptionStyleModel",
            "description_width": "",
            "_view_module": "@jupyter-widgets/base",
            "_model_module_version": "1.5.0",
            "_view_count": null,
            "_view_module_version": "1.2.0",
            "_model_module": "@jupyter-widgets/controls"
          }
        },
        "5535602f318e4580b8533781324bc869": {
          "model_module": "@jupyter-widgets/base",
          "model_name": "LayoutModel",
          "state": {
            "_view_name": "LayoutView",
            "grid_template_rows": null,
            "right": null,
            "justify_content": null,
            "_view_module": "@jupyter-widgets/base",
            "overflow": null,
            "_model_module_version": "1.2.0",
            "_view_count": null,
            "flex_flow": null,
            "width": null,
            "min_width": null,
            "border": null,
            "align_items": null,
            "bottom": null,
            "_model_module": "@jupyter-widgets/base",
            "top": null,
            "grid_column": null,
            "overflow_y": null,
            "overflow_x": null,
            "grid_auto_flow": null,
            "grid_area": null,
            "grid_template_columns": null,
            "flex": null,
            "_model_name": "LayoutModel",
            "justify_items": null,
            "grid_row": null,
            "max_height": null,
            "align_content": null,
            "visibility": null,
            "align_self": null,
            "height": null,
            "min_height": null,
            "padding": null,
            "grid_auto_rows": null,
            "grid_gap": null,
            "max_width": null,
            "order": null,
            "_view_module_version": "1.2.0",
            "grid_template_areas": null,
            "object_position": null,
            "object_fit": null,
            "grid_auto_columns": null,
            "margin": null,
            "display": null,
            "left": null
          }
        },
        "106aa5a9887c49889644b638865e7cb4": {
          "model_module": "@jupyter-widgets/controls",
          "model_name": "HBoxModel",
          "state": {
            "_view_name": "HBoxView",
            "_dom_classes": [],
            "_model_name": "HBoxModel",
            "_view_module": "@jupyter-widgets/controls",
            "_model_module_version": "1.5.0",
            "_view_count": null,
            "_view_module_version": "1.5.0",
            "box_style": "",
            "layout": "IPY_MODEL_6f6bc370408f4699b3259f3e15a2866b",
            "_model_module": "@jupyter-widgets/controls",
            "children": [
              "IPY_MODEL_cce3dff2ddee420ba92c489d019d49ac",
              "IPY_MODEL_79b1999ba0dd4bfea5c926e79ba8856d"
            ]
          }
        },
        "6f6bc370408f4699b3259f3e15a2866b": {
          "model_module": "@jupyter-widgets/base",
          "model_name": "LayoutModel",
          "state": {
            "_view_name": "LayoutView",
            "grid_template_rows": null,
            "right": null,
            "justify_content": null,
            "_view_module": "@jupyter-widgets/base",
            "overflow": null,
            "_model_module_version": "1.2.0",
            "_view_count": null,
            "flex_flow": null,
            "width": null,
            "min_width": null,
            "border": null,
            "align_items": null,
            "bottom": null,
            "_model_module": "@jupyter-widgets/base",
            "top": null,
            "grid_column": null,
            "overflow_y": null,
            "overflow_x": null,
            "grid_auto_flow": null,
            "grid_area": null,
            "grid_template_columns": null,
            "flex": null,
            "_model_name": "LayoutModel",
            "justify_items": null,
            "grid_row": null,
            "max_height": null,
            "align_content": null,
            "visibility": null,
            "align_self": null,
            "height": null,
            "min_height": null,
            "padding": null,
            "grid_auto_rows": null,
            "grid_gap": null,
            "max_width": null,
            "order": null,
            "_view_module_version": "1.2.0",
            "grid_template_areas": null,
            "object_position": null,
            "object_fit": null,
            "grid_auto_columns": null,
            "margin": null,
            "display": null,
            "left": null
          }
        },
        "cce3dff2ddee420ba92c489d019d49ac": {
          "model_module": "@jupyter-widgets/controls",
          "model_name": "FloatProgressModel",
          "state": {
            "_view_name": "ProgressView",
            "style": "IPY_MODEL_1737313186784f91b981c16da4e5d7de",
            "_dom_classes": [],
            "description": "Downloading: 100%",
            "_model_name": "FloatProgressModel",
            "bar_style": "success",
            "max": 570,
            "_view_module": "@jupyter-widgets/controls",
            "_model_module_version": "1.5.0",
            "value": 570,
            "_view_count": null,
            "_view_module_version": "1.5.0",
            "orientation": "horizontal",
            "min": 0,
            "description_tooltip": null,
            "_model_module": "@jupyter-widgets/controls",
            "layout": "IPY_MODEL_8986afea2a244062a70a3117969825ab"
          }
        },
        "79b1999ba0dd4bfea5c926e79ba8856d": {
          "model_module": "@jupyter-widgets/controls",
          "model_name": "HTMLModel",
          "state": {
            "_view_name": "HTMLView",
            "style": "IPY_MODEL_8ded2fc2dae7458687437eb4e6ab0827",
            "_dom_classes": [],
            "description": "",
            "_model_name": "HTMLModel",
            "placeholder": "​",
            "_view_module": "@jupyter-widgets/controls",
            "_model_module_version": "1.5.0",
            "value": " 570/570 [00:10&lt;00:00, 56.7B/s]",
            "_view_count": null,
            "_view_module_version": "1.5.0",
            "description_tooltip": null,
            "_model_module": "@jupyter-widgets/controls",
            "layout": "IPY_MODEL_024431de6fb440e1bdad1b37582ec9a3"
          }
        },
        "1737313186784f91b981c16da4e5d7de": {
          "model_module": "@jupyter-widgets/controls",
          "model_name": "ProgressStyleModel",
          "state": {
            "_view_name": "StyleView",
            "_model_name": "ProgressStyleModel",
            "description_width": "initial",
            "_view_module": "@jupyter-widgets/base",
            "_model_module_version": "1.5.0",
            "_view_count": null,
            "_view_module_version": "1.2.0",
            "bar_color": null,
            "_model_module": "@jupyter-widgets/controls"
          }
        },
        "8986afea2a244062a70a3117969825ab": {
          "model_module": "@jupyter-widgets/base",
          "model_name": "LayoutModel",
          "state": {
            "_view_name": "LayoutView",
            "grid_template_rows": null,
            "right": null,
            "justify_content": null,
            "_view_module": "@jupyter-widgets/base",
            "overflow": null,
            "_model_module_version": "1.2.0",
            "_view_count": null,
            "flex_flow": null,
            "width": null,
            "min_width": null,
            "border": null,
            "align_items": null,
            "bottom": null,
            "_model_module": "@jupyter-widgets/base",
            "top": null,
            "grid_column": null,
            "overflow_y": null,
            "overflow_x": null,
            "grid_auto_flow": null,
            "grid_area": null,
            "grid_template_columns": null,
            "flex": null,
            "_model_name": "LayoutModel",
            "justify_items": null,
            "grid_row": null,
            "max_height": null,
            "align_content": null,
            "visibility": null,
            "align_self": null,
            "height": null,
            "min_height": null,
            "padding": null,
            "grid_auto_rows": null,
            "grid_gap": null,
            "max_width": null,
            "order": null,
            "_view_module_version": "1.2.0",
            "grid_template_areas": null,
            "object_position": null,
            "object_fit": null,
            "grid_auto_columns": null,
            "margin": null,
            "display": null,
            "left": null
          }
        },
        "8ded2fc2dae7458687437eb4e6ab0827": {
          "model_module": "@jupyter-widgets/controls",
          "model_name": "DescriptionStyleModel",
          "state": {
            "_view_name": "StyleView",
            "_model_name": "DescriptionStyleModel",
            "description_width": "",
            "_view_module": "@jupyter-widgets/base",
            "_model_module_version": "1.5.0",
            "_view_count": null,
            "_view_module_version": "1.2.0",
            "_model_module": "@jupyter-widgets/controls"
          }
        },
        "024431de6fb440e1bdad1b37582ec9a3": {
          "model_module": "@jupyter-widgets/base",
          "model_name": "LayoutModel",
          "state": {
            "_view_name": "LayoutView",
            "grid_template_rows": null,
            "right": null,
            "justify_content": null,
            "_view_module": "@jupyter-widgets/base",
            "overflow": null,
            "_model_module_version": "1.2.0",
            "_view_count": null,
            "flex_flow": null,
            "width": null,
            "min_width": null,
            "border": null,
            "align_items": null,
            "bottom": null,
            "_model_module": "@jupyter-widgets/base",
            "top": null,
            "grid_column": null,
            "overflow_y": null,
            "overflow_x": null,
            "grid_auto_flow": null,
            "grid_area": null,
            "grid_template_columns": null,
            "flex": null,
            "_model_name": "LayoutModel",
            "justify_items": null,
            "grid_row": null,
            "max_height": null,
            "align_content": null,
            "visibility": null,
            "align_self": null,
            "height": null,
            "min_height": null,
            "padding": null,
            "grid_auto_rows": null,
            "grid_gap": null,
            "max_width": null,
            "order": null,
            "_view_module_version": "1.2.0",
            "grid_template_areas": null,
            "object_position": null,
            "object_fit": null,
            "grid_auto_columns": null,
            "margin": null,
            "display": null,
            "left": null
          }
        },
        "884c7b26dbda4ba395ee27e629d185fb": {
          "model_module": "@jupyter-widgets/controls",
          "model_name": "HBoxModel",
          "state": {
            "_view_name": "HBoxView",
            "_dom_classes": [],
            "_model_name": "HBoxModel",
            "_view_module": "@jupyter-widgets/controls",
            "_model_module_version": "1.5.0",
            "_view_count": null,
            "_view_module_version": "1.5.0",
            "box_style": "",
            "layout": "IPY_MODEL_9935bcf44f594341aa6a22be69e69649",
            "_model_module": "@jupyter-widgets/controls",
            "children": [
              "IPY_MODEL_2e7bcaf7b1414e17b1ba9143330d3952",
              "IPY_MODEL_733336c8ce0e4a06afca663e639a5cce"
            ]
          }
        },
        "9935bcf44f594341aa6a22be69e69649": {
          "model_module": "@jupyter-widgets/base",
          "model_name": "LayoutModel",
          "state": {
            "_view_name": "LayoutView",
            "grid_template_rows": null,
            "right": null,
            "justify_content": null,
            "_view_module": "@jupyter-widgets/base",
            "overflow": null,
            "_model_module_version": "1.2.0",
            "_view_count": null,
            "flex_flow": null,
            "width": null,
            "min_width": null,
            "border": null,
            "align_items": null,
            "bottom": null,
            "_model_module": "@jupyter-widgets/base",
            "top": null,
            "grid_column": null,
            "overflow_y": null,
            "overflow_x": null,
            "grid_auto_flow": null,
            "grid_area": null,
            "grid_template_columns": null,
            "flex": null,
            "_model_name": "LayoutModel",
            "justify_items": null,
            "grid_row": null,
            "max_height": null,
            "align_content": null,
            "visibility": null,
            "align_self": null,
            "height": null,
            "min_height": null,
            "padding": null,
            "grid_auto_rows": null,
            "grid_gap": null,
            "max_width": null,
            "order": null,
            "_view_module_version": "1.2.0",
            "grid_template_areas": null,
            "object_position": null,
            "object_fit": null,
            "grid_auto_columns": null,
            "margin": null,
            "display": null,
            "left": null
          }
        },
        "2e7bcaf7b1414e17b1ba9143330d3952": {
          "model_module": "@jupyter-widgets/controls",
          "model_name": "FloatProgressModel",
          "state": {
            "_view_name": "ProgressView",
            "style": "IPY_MODEL_7f17a81ec95b4b38a75960c680765a7e",
            "_dom_classes": [],
            "description": "Downloading: 100%",
            "_model_name": "FloatProgressModel",
            "bar_style": "success",
            "max": 526681800,
            "_view_module": "@jupyter-widgets/controls",
            "_model_module_version": "1.5.0",
            "value": 526681800,
            "_view_count": null,
            "_view_module_version": "1.5.0",
            "orientation": "horizontal",
            "min": 0,
            "description_tooltip": null,
            "_model_module": "@jupyter-widgets/controls",
            "layout": "IPY_MODEL_67ba67ded5d1443497a303ace028fe05"
          }
        },
        "733336c8ce0e4a06afca663e639a5cce": {
          "model_module": "@jupyter-widgets/controls",
          "model_name": "HTMLModel",
          "state": {
            "_view_name": "HTMLView",
            "style": "IPY_MODEL_d72d3eda803b415cb6fe7a2ea1bd2298",
            "_dom_classes": [],
            "description": "",
            "_model_name": "HTMLModel",
            "placeholder": "​",
            "_view_module": "@jupyter-widgets/controls",
            "_model_module_version": "1.5.0",
            "value": " 527M/527M [00:09&lt;00:00, 55.0MB/s]",
            "_view_count": null,
            "_view_module_version": "1.5.0",
            "description_tooltip": null,
            "_model_module": "@jupyter-widgets/controls",
            "layout": "IPY_MODEL_ecc415cca87c4aceabf07fd2ad36d22b"
          }
        },
        "7f17a81ec95b4b38a75960c680765a7e": {
          "model_module": "@jupyter-widgets/controls",
          "model_name": "ProgressStyleModel",
          "state": {
            "_view_name": "StyleView",
            "_model_name": "ProgressStyleModel",
            "description_width": "initial",
            "_view_module": "@jupyter-widgets/base",
            "_model_module_version": "1.5.0",
            "_view_count": null,
            "_view_module_version": "1.2.0",
            "bar_color": null,
            "_model_module": "@jupyter-widgets/controls"
          }
        },
        "67ba67ded5d1443497a303ace028fe05": {
          "model_module": "@jupyter-widgets/base",
          "model_name": "LayoutModel",
          "state": {
            "_view_name": "LayoutView",
            "grid_template_rows": null,
            "right": null,
            "justify_content": null,
            "_view_module": "@jupyter-widgets/base",
            "overflow": null,
            "_model_module_version": "1.2.0",
            "_view_count": null,
            "flex_flow": null,
            "width": null,
            "min_width": null,
            "border": null,
            "align_items": null,
            "bottom": null,
            "_model_module": "@jupyter-widgets/base",
            "top": null,
            "grid_column": null,
            "overflow_y": null,
            "overflow_x": null,
            "grid_auto_flow": null,
            "grid_area": null,
            "grid_template_columns": null,
            "flex": null,
            "_model_name": "LayoutModel",
            "justify_items": null,
            "grid_row": null,
            "max_height": null,
            "align_content": null,
            "visibility": null,
            "align_self": null,
            "height": null,
            "min_height": null,
            "padding": null,
            "grid_auto_rows": null,
            "grid_gap": null,
            "max_width": null,
            "order": null,
            "_view_module_version": "1.2.0",
            "grid_template_areas": null,
            "object_position": null,
            "object_fit": null,
            "grid_auto_columns": null,
            "margin": null,
            "display": null,
            "left": null
          }
        },
        "d72d3eda803b415cb6fe7a2ea1bd2298": {
          "model_module": "@jupyter-widgets/controls",
          "model_name": "DescriptionStyleModel",
          "state": {
            "_view_name": "StyleView",
            "_model_name": "DescriptionStyleModel",
            "description_width": "",
            "_view_module": "@jupyter-widgets/base",
            "_model_module_version": "1.5.0",
            "_view_count": null,
            "_view_module_version": "1.2.0",
            "_model_module": "@jupyter-widgets/controls"
          }
        },
        "ecc415cca87c4aceabf07fd2ad36d22b": {
          "model_module": "@jupyter-widgets/base",
          "model_name": "LayoutModel",
          "state": {
            "_view_name": "LayoutView",
            "grid_template_rows": null,
            "right": null,
            "justify_content": null,
            "_view_module": "@jupyter-widgets/base",
            "overflow": null,
            "_model_module_version": "1.2.0",
            "_view_count": null,
            "flex_flow": null,
            "width": null,
            "min_width": null,
            "border": null,
            "align_items": null,
            "bottom": null,
            "_model_module": "@jupyter-widgets/base",
            "top": null,
            "grid_column": null,
            "overflow_y": null,
            "overflow_x": null,
            "grid_auto_flow": null,
            "grid_area": null,
            "grid_template_columns": null,
            "flex": null,
            "_model_name": "LayoutModel",
            "justify_items": null,
            "grid_row": null,
            "max_height": null,
            "align_content": null,
            "visibility": null,
            "align_self": null,
            "height": null,
            "min_height": null,
            "padding": null,
            "grid_auto_rows": null,
            "grid_gap": null,
            "max_width": null,
            "order": null,
            "_view_module_version": "1.2.0",
            "grid_template_areas": null,
            "object_position": null,
            "object_fit": null,
            "grid_auto_columns": null,
            "margin": null,
            "display": null,
            "left": null
          }
        }
      }
    }
  },
  "cells": [
    {
      "cell_type": "code",
      "metadata": {
        "colab": {
          "base_uri": "https://localhost:8080/"
        },
        "id": "WMf9ui7EDzT0",
        "outputId": "ca9e001e-62c1-4d2e-cf6d-e5d91826973d"
      },
      "source": [
        "!pip install transformers"
      ],
      "execution_count": 31,
      "outputs": [
        {
          "output_type": "stream",
          "name": "stdout",
          "text": [
            "Requirement already satisfied: transformers in /usr/local/lib/python3.6/dist-packages (4.5.1)\n",
            "Requirement already satisfied: regex!=2019.12.17 in /usr/local/lib/python3.6/dist-packages (from transformers) (2020.7.14)\n",
            "Requirement already satisfied: tqdm>=4.27 in /usr/local/lib/python3.6/dist-packages (from transformers) (4.48.2)\n",
            "Requirement already satisfied: tokenizers<0.11,>=0.10.1 in /usr/local/lib/python3.6/dist-packages (from transformers) (0.10.2)\n",
            "Requirement already satisfied: filelock in /usr/local/lib/python3.6/dist-packages (from transformers) (3.0.12)\n",
            "Requirement already satisfied: numpy>=1.17 in /home/piyush/.local/lib/python3.6/site-packages (from transformers) (1.17.4)\n",
            "Requirement already satisfied: dataclasses; python_version < \"3.7\" in /usr/local/lib/python3.6/dist-packages (from transformers) (0.8)\n",
            "Requirement already satisfied: requests in /home/piyush/.local/lib/python3.6/site-packages (from transformers) (2.22.0)\n",
            "Requirement already satisfied: sacremoses in /usr/local/lib/python3.6/dist-packages (from transformers) (0.0.45)\n",
            "Requirement already satisfied: importlib-metadata; python_version < \"3.8\" in /home/piyush/.local/lib/python3.6/site-packages (from transformers) (0.23)\n",
            "Requirement already satisfied: packaging in /usr/local/lib/python3.6/dist-packages (from transformers) (20.4)\n",
            "Requirement already satisfied: certifi>=2017.4.17 in /usr/local/lib/python3.6/dist-packages (from requests->transformers) (2020.6.20)\n",
            "Requirement already satisfied: urllib3!=1.25.0,!=1.25.1,<1.26,>=1.21.1 in /usr/lib/python3/dist-packages (from requests->transformers) (1.22)\n",
            "Requirement already satisfied: idna<2.9,>=2.5 in /usr/lib/python3/dist-packages (from requests->transformers) (2.6)\n",
            "Requirement already satisfied: chardet<3.1.0,>=3.0.2 in /usr/lib/python3/dist-packages (from requests->transformers) (3.0.4)\n",
            "Requirement already satisfied: six in /home/piyush/.local/lib/python3.6/site-packages (from sacremoses->transformers) (1.13.0)\n",
            "Requirement already satisfied: click in /usr/local/lib/python3.6/dist-packages (from sacremoses->transformers) (7.1.2)\n",
            "Requirement already satisfied: joblib in /home/piyush/.local/lib/python3.6/site-packages (from sacremoses->transformers) (0.13.2)\n",
            "Requirement already satisfied: zipp>=0.5 in /home/piyush/.local/lib/python3.6/site-packages (from importlib-metadata; python_version < \"3.8\"->transformers) (0.6.0)\n",
            "Requirement already satisfied: pyparsing>=2.0.2 in /home/piyush/.local/lib/python3.6/site-packages (from packaging->transformers) (2.4.2)\n",
            "Requirement already satisfied: more-itertools in /home/piyush/.local/lib/python3.6/site-packages (from zipp>=0.5->importlib-metadata; python_version < \"3.8\"->transformers) (7.2.0)\n",
            "\u001b[33mWARNING: You are using pip version 19.3.1; however, version 21.1.1 is available.\n",
            "You should consider upgrading via the 'pip install --upgrade pip' command.\u001b[0m\n"
          ]
        }
      ]
    },
    {
      "cell_type": "code",
      "metadata": {
        "colab": {
          "base_uri": "https://localhost:8080/",
          "height": 198
        },
        "id": "Y-BbYRXoFcRY",
        "outputId": "90529273-2ead-4e93-ec78-312b781bbbc0"
      },
      "source": [
        "import pandas as pd\n",
        "\n",
        "df = pd.read_csv('train.csv')\n",
        "df['ratings'] = df['ratings'] - 1 \n",
        "df = df.sample(frac = 1)\n",
        "df.head()"
      ],
      "execution_count": 32,
      "outputs": [
        {
          "output_type": "execute_result",
          "data": {
            "text/plain": [
              "       Unnamed: 0                                            reviews  ratings\n",
              "24230       24230  Awesome price for a great product, can't beat ...        4\n",
              "18402       18402  fast absorbing hand cream.but it has petrolium...        3\n",
              "35879       35879  I love it.  Can't believe what you miss with b...        4\n",
              "14746       14746  Gets rid of the dead skin better than just a t...        3\n",
              "1448         1448  these are just what i needed for my 1977 kawas...        4"
            ],
            "text/html": "<div>\n<style scoped>\n    .dataframe tbody tr th:only-of-type {\n        vertical-align: middle;\n    }\n\n    .dataframe tbody tr th {\n        vertical-align: top;\n    }\n\n    .dataframe thead th {\n        text-align: right;\n    }\n</style>\n<table border=\"1\" class=\"dataframe\">\n  <thead>\n    <tr style=\"text-align: right;\">\n      <th></th>\n      <th>Unnamed: 0</th>\n      <th>reviews</th>\n      <th>ratings</th>\n    </tr>\n  </thead>\n  <tbody>\n    <tr>\n      <th>24230</th>\n      <td>24230</td>\n      <td>Awesome price for a great product, can't beat ...</td>\n      <td>4</td>\n    </tr>\n    <tr>\n      <th>18402</th>\n      <td>18402</td>\n      <td>fast absorbing hand cream.but it has petrolium...</td>\n      <td>3</td>\n    </tr>\n    <tr>\n      <th>35879</th>\n      <td>35879</td>\n      <td>I love it.  Can't believe what you miss with b...</td>\n      <td>4</td>\n    </tr>\n    <tr>\n      <th>14746</th>\n      <td>14746</td>\n      <td>Gets rid of the dead skin better than just a t...</td>\n      <td>3</td>\n    </tr>\n    <tr>\n      <th>1448</th>\n      <td>1448</td>\n      <td>these are just what i needed for my 1977 kawas...</td>\n      <td>4</td>\n    </tr>\n  </tbody>\n</table>\n</div>"
          },
          "metadata": {},
          "execution_count": 32
        }
      ]
    },
    {
      "cell_type": "code",
      "metadata": {
        "colab": {
          "base_uri": "https://localhost:8080/",
          "height": 198
        },
        "id": "BkBuWuFOFSBP",
        "outputId": "6547649d-0843-4951-e35e-23af8ef721a9"
      },
      "source": [
        "df = df[['reviews', 'ratings']].head(1000)\n",
        "df.head()"
      ],
      "execution_count": 33,
      "outputs": [
        {
          "output_type": "execute_result",
          "data": {
            "text/plain": [
              "                                                 reviews  ratings\n",
              "24230  Awesome price for a great product, can't beat ...        4\n",
              "18402  fast absorbing hand cream.but it has petrolium...        3\n",
              "35879  I love it.  Can't believe what you miss with b...        4\n",
              "14746  Gets rid of the dead skin better than just a t...        3\n",
              "1448   these are just what i needed for my 1977 kawas...        4"
            ],
            "text/html": "<div>\n<style scoped>\n    .dataframe tbody tr th:only-of-type {\n        vertical-align: middle;\n    }\n\n    .dataframe tbody tr th {\n        vertical-align: top;\n    }\n\n    .dataframe thead th {\n        text-align: right;\n    }\n</style>\n<table border=\"1\" class=\"dataframe\">\n  <thead>\n    <tr style=\"text-align: right;\">\n      <th></th>\n      <th>reviews</th>\n      <th>ratings</th>\n    </tr>\n  </thead>\n  <tbody>\n    <tr>\n      <th>24230</th>\n      <td>Awesome price for a great product, can't beat ...</td>\n      <td>4</td>\n    </tr>\n    <tr>\n      <th>18402</th>\n      <td>fast absorbing hand cream.but it has petrolium...</td>\n      <td>3</td>\n    </tr>\n    <tr>\n      <th>35879</th>\n      <td>I love it.  Can't believe what you miss with b...</td>\n      <td>4</td>\n    </tr>\n    <tr>\n      <th>14746</th>\n      <td>Gets rid of the dead skin better than just a t...</td>\n      <td>3</td>\n    </tr>\n    <tr>\n      <th>1448</th>\n      <td>these are just what i needed for my 1977 kawas...</td>\n      <td>4</td>\n    </tr>\n  </tbody>\n</table>\n</div>"
          },
          "metadata": {},
          "execution_count": 33
        }
      ]
    },
    {
      "cell_type": "code",
      "metadata": {
        "id": "GOPnR7fCFbia"
      },
      "source": [
        "from transformers import BertTokenizer"
      ],
      "execution_count": 34,
      "outputs": []
    },
    {
      "cell_type": "code",
      "metadata": {
        "colab": {
          "base_uri": "https://localhost:8080/",
          "height": 167,
          "referenced_widgets": [
            "e3b27d5b058f4aab9ec209123f27c8c5",
            "88d0d1cd47b945dbb96fc176746e90a7",
            "04832828dcf34031aac2444a1e59af2b",
            "ddb52ec2ceb84573b7a9d9e58ae1215f",
            "4a71dd88c495487f818f35820ab41bb5",
            "1a0c0ace8fb1450c9ca203620c33ed39",
            "83afc971c41f435682943d8bd17e007d",
            "531d6f82940144808a6c9ca63881178c",
            "a710f04dfa2641819ab2690dc4191a45",
            "796c1b249e0743cb9566f21aadbcc8aa",
            "f9d172def0084407ad3dab76ec83eb95",
            "e1d3cc86b9084af6a82d68869d1291ef",
            "ba0519879a8940f496312ab292554e11",
            "0dd974d0ed934c88921082812ae2f37b",
            "61748e704d8f4de39fe88f217ff0b47e",
            "4a947721bd3b4fb08ccdcc7a2c3d5926",
            "d5a68f2ff6c14a819947770f0241415e",
            "bd9e766564e04eeabe4c7d41725343a7",
            "b2de497f09ad4c3f911bc68ed46fc86e",
            "ae3599e5aa464f6b800b4c7ebde012bd",
            "b80ef2bd3e0245be83c1b21924632b71",
            "df6de609652a421d84e5a6da24f3d263",
            "af8befd3997f49439bd95da58fb0fdf3",
            "5535602f318e4580b8533781324bc869"
          ]
        },
        "id": "EWbfeOibG8fY",
        "outputId": "40b1d70a-a704-44e1-eba0-2265db8f67e5"
      },
      "source": [
        "tokenizer = BertTokenizer.from_pretrained('bert-base-cased')"
      ],
      "execution_count": 35,
      "outputs": []
    },
    {
      "cell_type": "code",
      "metadata": {
        "id": "BYrHN7HWHBOm"
      },
      "source": [
        "def tokenize(sentence):\n",
        "    tokens = tokenizer.encode_plus(sentence, max_length=128,\n",
        "                                   truncation=True, padding='max_length',\n",
        "                                   add_special_tokens=True, return_token_type_ids=False,\n",
        "                                   return_tensors='tf')\n",
        "    return tokens['input_ids'], tokens['attention_mask']"
      ],
      "execution_count": 36,
      "outputs": []
    },
    {
      "cell_type": "code",
      "metadata": {
        "id": "pkEjDbkiHP1J"
      },
      "source": [
        "\n",
        "import numpy as np"
      ],
      "execution_count": 37,
      "outputs": []
    },
    {
      "cell_type": "code",
      "metadata": {
        "id": "1XFmWs5nHStZ"
      },
      "source": [
        "\n",
        "Xids = np.zeros((len(df), 128))\n",
        "Xmask = np.zeros((len(df), 128))"
      ],
      "execution_count": 38,
      "outputs": []
    },
    {
      "cell_type": "code",
      "metadata": {
        "id": "p0OnRblMHZqb"
      },
      "source": [
        "for i, sequence in enumerate(df['reviews']):\n",
        "    tokens = tokenize(sequence)\n",
        "    Xids[i, :], Xmask[i, :] = tokens[0], tokens[1]"
      ],
      "execution_count": 39,
      "outputs": []
    },
    {
      "cell_type": "code",
      "metadata": {
        "id": "BfZHirAIHgDf"
      },
      "source": [
        "arr = df['ratings'].values"
      ],
      "execution_count": 40,
      "outputs": []
    },
    {
      "cell_type": "code",
      "metadata": {
        "colab": {
          "base_uri": "https://localhost:8080/"
        },
        "id": "rcnFUsEwHl-2",
        "outputId": "b91ac3ec-d48f-4eb1-a661-a727898e14f5"
      },
      "source": [
        "arr\n"
      ],
      "execution_count": 41,
      "outputs": [
        {
          "output_type": "execute_result",
          "data": {
            "text/plain": [
              "array([4, 3, 4, 3, 4, 0, 4, 4, 3, 4, 4, 4, 4, 4, 4, 4, 3, 4, 3, 4, 4, 4,\n",
              "       1, 4, 2, 2, 1, 4, 4, 4, 4, 4, 2, 4, 4, 4, 4, 4, 4, 3, 2, 4, 4, 0,\n",
              "       4, 4, 4, 4, 4, 4, 1, 0, 4, 1, 4, 4, 3, 4, 4, 3, 4, 4, 4, 3, 4, 4,\n",
              "       4, 4, 4, 4, 4, 4, 3, 4, 4, 4, 2, 4, 4, 4, 2, 4, 4, 4, 3, 4, 0, 4,\n",
              "       4, 4, 4, 4, 3, 4, 4, 0, 4, 4, 4, 4, 4, 4, 1, 2, 4, 4, 4, 3, 3, 4,\n",
              "       4, 4, 3, 4, 3, 3, 3, 4, 4, 4, 2, 4, 4, 4, 4, 4, 4, 3, 4, 4, 4, 0,\n",
              "       4, 4, 4, 4, 0, 4, 0, 4, 4, 1, 4, 4, 4, 4, 4, 4, 4, 4, 4, 4, 4, 4,\n",
              "       4, 4, 4, 4, 2, 0, 4, 4, 3, 4, 4, 3, 0, 4, 4, 2, 4, 2, 3, 4, 3, 0,\n",
              "       4, 4, 4, 3, 4, 0, 4, 0, 4, 1, 0, 4, 4, 4, 3, 4, 4, 4, 4, 2, 4, 2,\n",
              "       4, 2, 4, 4, 4, 4, 4, 4, 4, 4, 4, 4, 4, 4, 4, 1, 4, 4, 4, 4, 4, 4,\n",
              "       4, 4, 4, 4, 4, 4, 4, 4, 3, 0, 4, 3, 4, 4, 4, 4, 4, 4, 0, 4, 4, 4,\n",
              "       1, 4, 1, 4, 4, 4, 1, 4, 4, 4, 4, 4, 3, 4, 3, 1, 0, 1, 4, 0, 4, 4,\n",
              "       4, 2, 3, 4, 4, 4, 2, 4, 3, 0, 4, 4, 0, 4, 2, 4, 4, 4, 3, 4, 4, 3,\n",
              "       4, 4, 4, 1, 4, 4, 4, 3, 4, 2, 3, 0, 4, 4, 3, 4, 4, 4, 4, 2, 4, 0,\n",
              "       4, 4, 3, 4, 3, 3, 2, 4, 4, 3, 2, 4, 4, 4, 0, 4, 4, 3, 4, 4, 3, 4,\n",
              "       4, 4, 4, 4, 4, 0, 4, 4, 4, 4, 3, 3, 4, 4, 4, 4, 4, 4, 3, 4, 4, 4,\n",
              "       4, 3, 4, 4, 3, 3, 0, 1, 4, 3, 4, 4, 4, 3, 4, 0, 2, 4, 2, 4, 4, 4,\n",
              "       1, 4, 2, 4, 4, 4, 4, 4, 4, 4, 4, 4, 4, 4, 4, 1, 4, 2, 4, 4, 2, 4,\n",
              "       2, 4, 1, 4, 3, 1, 4, 4, 3, 4, 4, 4, 2, 4, 4, 0, 4, 1, 4, 4, 4, 4,\n",
              "       3, 2, 4, 4, 4, 4, 1, 4, 4, 4, 4, 4, 4, 4, 4, 4, 4, 4, 0, 4, 4, 4,\n",
              "       2, 1, 0, 3, 4, 4, 4, 0, 4, 4, 4, 0, 4, 4, 4, 4, 4, 4, 0, 0, 4, 4,\n",
              "       4, 2, 4, 4, 4, 4, 4, 4, 4, 2, 2, 3, 1, 4, 4, 4, 4, 4, 3, 4, 4, 3,\n",
              "       4, 4, 0, 4, 3, 1, 4, 3, 4, 3, 3, 4, 4, 3, 4, 1, 4, 4, 4, 4, 3, 4,\n",
              "       4, 1, 4, 4, 4, 2, 4, 4, 1, 4, 2, 4, 4, 4, 4, 4, 4, 4, 3, 3, 3, 4,\n",
              "       3, 4, 3, 4, 4, 4, 4, 4, 4, 3, 4, 4, 3, 3, 4, 2, 0, 0, 4, 3, 4, 3,\n",
              "       4, 4, 3, 4, 4, 4, 4, 4, 4, 4, 3, 4, 4, 3, 1, 3, 4, 0, 4, 4, 4, 4,\n",
              "       3, 1, 4, 4, 0, 3, 4, 4, 2, 4, 4, 1, 4, 4, 4, 3, 4, 4, 4, 4, 4, 4,\n",
              "       4, 4, 4, 2, 3, 4, 4, 2, 1, 2, 4, 4, 4, 4, 4, 1, 1, 0, 4, 4, 0, 1,\n",
              "       4, 4, 4, 4, 4, 3, 4, 3, 0, 2, 3, 4, 0, 4, 4, 4, 3, 4, 4, 4, 4, 0,\n",
              "       2, 4, 4, 4, 4, 4, 2, 4, 4, 4, 4, 4, 4, 4, 4, 2, 4, 4, 2, 4, 4, 3,\n",
              "       3, 4, 4, 4, 4, 3, 4, 4, 0, 4, 4, 4, 4, 4, 4, 2, 4, 1, 4, 4, 4, 4,\n",
              "       4, 3, 4, 4, 4, 4, 3, 4, 0, 4, 4, 3, 4, 3, 4, 2, 4, 3, 3, 4, 4, 0,\n",
              "       4, 4, 4, 0, 4, 3, 4, 1, 4, 4, 2, 4, 4, 4, 4, 4, 4, 4, 4, 4, 0, 0,\n",
              "       4, 4, 1, 4, 4, 0, 4, 4, 4, 4, 4, 3, 4, 1, 4, 4, 4, 4, 4, 4, 4, 4,\n",
              "       3, 0, 4, 4, 0, 4, 0, 2, 4, 1, 3, 4, 4, 0, 4, 4, 4, 3, 1, 4, 0, 4,\n",
              "       3, 4, 2, 4, 3, 1, 4, 4, 2, 4, 1, 4, 4, 4, 4, 0, 4, 4, 4, 0, 3, 3,\n",
              "       4, 4, 0, 4, 4, 4, 4, 3, 2, 4, 3, 4, 4, 1, 4, 4, 3, 4, 0, 3, 1, 4,\n",
              "       4, 4, 4, 4, 4, 4, 4, 3, 4, 4, 0, 4, 4, 4, 3, 3, 4, 0, 4, 4, 4, 1,\n",
              "       3, 0, 4, 2, 4, 4, 4, 0, 1, 4, 4, 3, 4, 4, 4, 4, 4, 3, 4, 4, 4, 4,\n",
              "       3, 4, 4, 2, 4, 4, 4, 4, 4, 3, 1, 0, 4, 4, 4, 3, 1, 4, 4, 4, 4, 4,\n",
              "       4, 0, 3, 4, 4, 4, 4, 4, 4, 4, 3, 3, 4, 4, 4, 1, 4, 4, 4, 4, 4, 4,\n",
              "       0, 4, 4, 0, 4, 4, 4, 3, 4, 0, 0, 4, 4, 4, 4, 3, 0, 4, 4, 4, 3, 4,\n",
              "       4, 2, 4, 3, 3, 4, 0, 4, 4, 4, 1, 4, 4, 4, 4, 4, 4, 4, 0, 4, 4, 0,\n",
              "       4, 4, 4, 4, 3, 4, 4, 4, 4, 4, 4, 4, 3, 4, 1, 4, 1, 4, 4, 4, 4, 1,\n",
              "       4, 4, 4, 4, 4, 4, 4, 4, 4, 4, 1, 4, 4, 3, 4, 4, 4, 4, 4, 4, 2, 4,\n",
              "       4, 3, 3, 4, 4, 4, 4, 4, 4, 4])"
            ]
          },
          "metadata": {},
          "execution_count": 41
        }
      ]
    },
    {
      "cell_type": "code",
      "metadata": {
        "id": "VPwpFWVyHrJ-"
      },
      "source": [
        "labels = np.zeros((arr.size, arr.max()+1))"
      ],
      "execution_count": 42,
      "outputs": []
    },
    {
      "cell_type": "code",
      "metadata": {
        "id": "oLarJvm1Hwdj"
      },
      "source": [
        "labels[np.arange(arr.size), arr] = 1\n"
      ],
      "execution_count": 43,
      "outputs": []
    },
    {
      "cell_type": "code",
      "metadata": {
        "colab": {
          "base_uri": "https://localhost:8080/"
        },
        "id": "XYWJvz4xH3rr",
        "outputId": "f6e31c8a-7c9b-4963-9ae8-4035c3a46573"
      },
      "source": [
        "labels"
      ],
      "execution_count": 44,
      "outputs": [
        {
          "output_type": "execute_result",
          "data": {
            "text/plain": [
              "array([[0., 0., 0., 0., 1.],\n",
              "       [0., 0., 0., 1., 0.],\n",
              "       [0., 0., 0., 0., 1.],\n",
              "       ...,\n",
              "       [0., 0., 0., 0., 1.],\n",
              "       [0., 0., 0., 0., 1.],\n",
              "       [0., 0., 0., 0., 1.]])"
            ]
          },
          "metadata": {},
          "execution_count": 44
        }
      ]
    },
    {
      "cell_type": "code",
      "metadata": {
        "id": "nduCCJFcKQKL"
      },
      "source": [
        "import tensorflow as tf"
      ],
      "execution_count": 45,
      "outputs": []
    },
    {
      "cell_type": "code",
      "metadata": {
        "colab": {
          "base_uri": "https://localhost:8080/"
        },
        "id": "Rt4Qn9Q3KTsQ",
        "outputId": "a3c2b185-f5f0-4922-ca45-b17ee44fbb41"
      },
      "source": [
        "tf.config.experimental.list_physical_devices('GPU')"
      ],
      "execution_count": 46,
      "outputs": [
        {
          "output_type": "execute_result",
          "data": {
            "text/plain": [
              "[]"
            ]
          },
          "metadata": {},
          "execution_count": 46
        }
      ]
    },
    {
      "cell_type": "code",
      "metadata": {
        "id": "93hwqGmrKW4U"
      },
      "source": [
        "data = tf.data.Dataset.from_tensor_slices((Xids, Xmask, labels))"
      ],
      "execution_count": 47,
      "outputs": []
    },
    {
      "cell_type": "code",
      "metadata": {
        "id": "W6CB3vAjLakh"
      },
      "source": [
        "SHUFFLE = 100000\n",
        "BATCH_SIZE = 16"
      ],
      "execution_count": 48,
      "outputs": []
    },
    {
      "cell_type": "code",
      "metadata": {
        "id": "ZaNTzQulLc8I"
      },
      "source": [
        "def map_func(input_ids, masks, labels):\n",
        "    return {'input_ids': input_ids, 'attention_mask': masks}, labels"
      ],
      "execution_count": 49,
      "outputs": []
    },
    {
      "cell_type": "code",
      "metadata": {
        "id": "3MAnzQquLfyF"
      },
      "source": [
        "\n",
        "data = data.map(map_func)"
      ],
      "execution_count": 50,
      "outputs": []
    },
    {
      "cell_type": "code",
      "metadata": {
        "id": "5OJljw6jLiil"
      },
      "source": [
        "data = data.shuffle(SHUFFLE).batch(BATCH_SIZE) #, drop_remainder=True)"
      ],
      "execution_count": 51,
      "outputs": []
    },
    {
      "cell_type": "code",
      "metadata": {
        "colab": {
          "base_uri": "https://localhost:8080/"
        },
        "id": "1sjimwSOLln5",
        "outputId": "46654c3d-1ffc-4257-8b40-32a889f523f4"
      },
      "source": [
        "SIZE = Xids.shape[0]/BATCH_SIZE\n",
        "SIZE"
      ],
      "execution_count": 52,
      "outputs": [
        {
          "output_type": "execute_result",
          "data": {
            "text/plain": [
              "62.5"
            ]
          },
          "metadata": {},
          "execution_count": 52
        }
      ]
    },
    {
      "cell_type": "code",
      "metadata": {
        "id": "q9I8x3BGLn31"
      },
      "source": [
        "\n",
        "SPLIT = 0.8\n",
        "\n",
        "train = data.take(int(SIZE*SPLIT))\n",
        "val = data.skip(int(SIZE*SPLIT))\n",
        "\n",
        "del data"
      ],
      "execution_count": 53,
      "outputs": []
    },
    {
      "cell_type": "code",
      "metadata": {
        "id": "q_m6DRyMLu9I"
      },
      "source": [
        "from transformers import TFAutoModel\n"
      ],
      "execution_count": 54,
      "outputs": []
    },
    {
      "cell_type": "code",
      "metadata": {
        "colab": {
          "base_uri": "https://localhost:8080/",
          "height": 228,
          "referenced_widgets": [
            "106aa5a9887c49889644b638865e7cb4",
            "6f6bc370408f4699b3259f3e15a2866b",
            "cce3dff2ddee420ba92c489d019d49ac",
            "79b1999ba0dd4bfea5c926e79ba8856d",
            "1737313186784f91b981c16da4e5d7de",
            "8986afea2a244062a70a3117969825ab",
            "8ded2fc2dae7458687437eb4e6ab0827",
            "024431de6fb440e1bdad1b37582ec9a3",
            "884c7b26dbda4ba395ee27e629d185fb",
            "9935bcf44f594341aa6a22be69e69649",
            "2e7bcaf7b1414e17b1ba9143330d3952",
            "733336c8ce0e4a06afca663e639a5cce",
            "7f17a81ec95b4b38a75960c680765a7e",
            "67ba67ded5d1443497a303ace028fe05",
            "d72d3eda803b415cb6fe7a2ea1bd2298",
            "ecc415cca87c4aceabf07fd2ad36d22b"
          ]
        },
        "id": "08Sy-GUTLydi",
        "outputId": "4ca04be8-b53c-4358-a1ea-6929c6a18185"
      },
      "source": [
        "bert = TFAutoModel.from_pretrained('bert-base-cased')  #, output_hidden_states=False\n"
      ],
      "execution_count": 55,
      "outputs": [
        {
          "output_type": "stream",
          "name": "stderr",
          "text": [
            "Some layers from the model checkpoint at bert-base-cased were not used when initializing TFBertModel: ['mlm___cls', 'nsp___cls']\n",
            "- This IS expected if you are initializing TFBertModel from the checkpoint of a model trained on another task or with another architecture (e.g. initializing a BertForSequenceClassification model from a BertForPreTraining model).\n",
            "- This IS NOT expected if you are initializing TFBertModel from the checkpoint of a model that you expect to be exactly identical (initializing a BertForSequenceClassification model from a BertForSequenceClassification model).\n",
            "All the layers of TFBertModel were initialized from the model checkpoint at bert-base-cased.\n",
            "If your task is similar to the task the model of the checkpoint was trained on, you can already use TFBertModel for predictions without further training.\n"
          ]
        }
      ]
    },
    {
      "cell_type": "code",
      "metadata": {
        "colab": {
          "base_uri": "https://localhost:8080/"
        },
        "id": "pizZtuOnL0ws",
        "outputId": "2fc2a656-2a78-4453-9c05-75205fcd814c"
      },
      "source": [
        "bert.summary()"
      ],
      "execution_count": 56,
      "outputs": [
        {
          "output_type": "stream",
          "name": "stdout",
          "text": [
            "Model: \"tf_bert_model_1\"\n_________________________________________________________________\nLayer (type)                 Output Shape              Param #   \n=================================================================\nbert (TFBertMainLayer)       multiple                  108310272 \n=================================================================\nTotal params: 108,310,272\nTrainable params: 108,310,272\nNon-trainable params: 0\n_________________________________________________________________\n"
          ]
        }
      ]
    },
    {
      "cell_type": "code",
      "metadata": {
        "id": "5ofgymXxL6Tb"
      },
      "source": [
        "# two input layers, we ensure layer name variables match to dictionary keys in TF dataset\n",
        "input_ids = tf.keras.layers.Input(shape=(128,), name='input_ids', dtype='int32')\n",
        "mask = tf.keras.layers.Input(shape=(128,), name='attention_mask', dtype='int32')\n",
        "\n",
        "# we access the transformer model within our bert object using the bert attribute (eg bert.bert instead of bert)\n",
        "embeddings = bert.bert(input_ids, attention_mask=mask)[0]  # access final activations with [0]\n",
        "\n",
        "# convert bert embeddings into 5 output classes\n",
        "x = tf.keras.layers.LSTM(32, dropout=.3, recurrent_dropout=.3, return_sequences=True)(embeddings)\n",
        "x = tf.keras.layers.LSTM(16, dropout=.4, recurrent_dropout=.4, return_sequences=False)(x)\n",
        "# normalize\n",
        "#x = tf.keras.layers.BatchNormalization()(x)\n",
        "#x = tf.keras.layers.Dense(64, activation='relu')(x)\n",
        "y = tf.keras.layers.Dense(5, activation='softmax', name='outputs')(x)"
      ],
      "execution_count": 57,
      "outputs": []
    },
    {
      "cell_type": "code",
      "metadata": {
        "colab": {
          "base_uri": "https://localhost:8080/"
        },
        "id": "S3IH8VefMB5O",
        "outputId": "d8b16b9f-4676-42e9-f53b-16ac6a5de191"
      },
      "source": [
        "model = tf.keras.Model(inputs=[input_ids, mask], outputs=y)\n",
        "\n",
        "# (optional) freeze bert layer\n",
        "model.layers[2].trainable = False\n",
        "\n",
        "# print out model summary\n",
        "model.summary()"
      ],
      "execution_count": 58,
      "outputs": [
        {
          "output_type": "stream",
          "name": "stdout",
          "text": [
            "Model: \"functional_3\"\n__________________________________________________________________________________________________\nLayer (type)                    Output Shape         Param #     Connected to                     \n==================================================================================================\ninput_ids (InputLayer)          [(None, 128)]        0                                            \n__________________________________________________________________________________________________\nattention_mask (InputLayer)     [(None, 128)]        0                                            \n__________________________________________________________________________________________________\nbert (TFBertMainLayer)          TFBaseModelOutputWit 108310272   input_ids[0][0]                  \n                                                                 attention_mask[0][0]             \n__________________________________________________________________________________________________\nlstm (LSTM)                     (None, 128, 32)      102528      bert[0][0]                       \n__________________________________________________________________________________________________\nlstm_1 (LSTM)                   (None, 16)           3136        lstm[0][0]                       \n__________________________________________________________________________________________________\noutputs (Dense)                 (None, 5)            85          lstm_1[0][0]                     \n==================================================================================================\nTotal params: 108,416,021\nTrainable params: 105,749\nNon-trainable params: 108,310,272\n__________________________________________________________________________________________________\n"
          ]
        }
      ]
    },
    {
      "cell_type": "code",
      "metadata": {
        "id": "9iZSrPU7MIKu"
      },
      "source": [
        "optimizer = tf.keras.optimizers.Adam(lr=0.01, decay=1e-6)\n",
        "loss = tf.keras.losses.CategoricalCrossentropy()\n",
        "acc = tf.keras.metrics.CategoricalAccuracy('accuracy')\n",
        "\n",
        "model.compile(optimizer=optimizer, loss=loss, metrics=[acc])"
      ],
      "execution_count": 59,
      "outputs": []
    },
    {
      "cell_type": "code",
      "metadata": {
        "colab": {
          "base_uri": "https://localhost:8080/"
        },
        "id": "Dapk5E-aMPFl",
        "outputId": "04418e00-33da-4b27-83f6-a9a60d20c4d9"
      },
      "source": [
        "history = model.fit(\n",
        "    train,\n",
        "    validation_data=val,\n",
        "    epochs=2\n",
        "    )"
      ],
      "execution_count": 60,
      "outputs": [
        {
          "output_type": "stream",
          "name": "stdout",
          "text": [
            "Epoch 1/2\n",
            "50/50 [==============================] - 198s 4s/step - loss: 1.0404 - accuracy: 0.6875 - val_loss: 1.0078 - val_accuracy: 0.6850\n",
            "Epoch 2/2\n",
            "50/50 [==============================] - 195s 4s/step - loss: 0.9607 - accuracy: 0.6875 - val_loss: 0.8228 - val_accuracy: 0.7150\n"
          ]
        }
      ]
    },
    {
      "cell_type": "code",
      "metadata": {
        "colab": {
          "base_uri": "https://localhost:8080/"
        },
        "id": "DRdwL7ReMVXF",
        "outputId": "348a11d9-024b-4d4b-cfa0-6b9fd91113af"
      },
      "source": [
        "model.get_config()"
      ],
      "execution_count": 61,
      "outputs": [
        {
          "output_type": "execute_result",
          "data": {
            "text/plain": [
              "{'name': 'functional_3',\n",
              " 'layers': [{'class_name': 'InputLayer',\n",
              "   'config': {'batch_input_shape': (None, 128),\n",
              "    'dtype': 'int32',\n",
              "    'sparse': False,\n",
              "    'ragged': False,\n",
              "    'name': 'input_ids'},\n",
              "   'name': 'input_ids',\n",
              "   'inbound_nodes': []},\n",
              "  {'class_name': 'InputLayer',\n",
              "   'config': {'batch_input_shape': (None, 128),\n",
              "    'dtype': 'int32',\n",
              "    'sparse': False,\n",
              "    'ragged': False,\n",
              "    'name': 'attention_mask'},\n",
              "   'name': 'attention_mask',\n",
              "   'inbound_nodes': []},\n",
              "  {'class_name': 'Custom>TFBertMainLayer',\n",
              "   'config': {'name': 'bert',\n",
              "    'trainable': False,\n",
              "    'dtype': 'float32',\n",
              "    'config': {'return_dict': True,\n",
              "     'output_hidden_states': False,\n",
              "     'output_attentions': False,\n",
              "     'torchscript': False,\n",
              "     'use_bfloat16': False,\n",
              "     'pruned_heads': {},\n",
              "     'tie_word_embeddings': True,\n",
              "     'is_encoder_decoder': False,\n",
              "     'is_decoder': False,\n",
              "     'add_cross_attention': False,\n",
              "     'tie_encoder_decoder': False,\n",
              "     'max_length': 20,\n",
              "     'min_length': 0,\n",
              "     'do_sample': False,\n",
              "     'early_stopping': False,\n",
              "     'num_beams': 1,\n",
              "     'num_beam_groups': 1,\n",
              "     'diversity_penalty': 0.0,\n",
              "     'temperature': 1.0,\n",
              "     'top_k': 50,\n",
              "     'top_p': 1.0,\n",
              "     'repetition_penalty': 1.0,\n",
              "     'length_penalty': 1.0,\n",
              "     'no_repeat_ngram_size': 0,\n",
              "     'encoder_no_repeat_ngram_size': 0,\n",
              "     'bad_words_ids': None,\n",
              "     'num_return_sequences': 1,\n",
              "     'chunk_size_feed_forward': 0,\n",
              "     'output_scores': False,\n",
              "     'return_dict_in_generate': False,\n",
              "     'forced_bos_token_id': None,\n",
              "     'forced_eos_token_id': None,\n",
              "     'remove_invalid_values': False,\n",
              "     'architectures': ['BertForMaskedLM'],\n",
              "     'finetuning_task': None,\n",
              "     'id2label': {0: 'LABEL_0', 1: 'LABEL_1'},\n",
              "     'label2id': {'LABEL_0': 0, 'LABEL_1': 1},\n",
              "     'tokenizer_class': None,\n",
              "     'prefix': None,\n",
              "     'bos_token_id': None,\n",
              "     'pad_token_id': 0,\n",
              "     'eos_token_id': None,\n",
              "     'sep_token_id': None,\n",
              "     'decoder_start_token_id': None,\n",
              "     'task_specific_params': None,\n",
              "     '_name_or_path': 'bert-base-cased',\n",
              "     'model_type': 'bert',\n",
              "     'vocab_size': 28996,\n",
              "     'hidden_size': 768,\n",
              "     'num_hidden_layers': 12,\n",
              "     'num_attention_heads': 12,\n",
              "     'hidden_act': 'gelu',\n",
              "     'intermediate_size': 3072,\n",
              "     'hidden_dropout_prob': 0.1,\n",
              "     'attention_probs_dropout_prob': 0.1,\n",
              "     'max_position_embeddings': 512,\n",
              "     'type_vocab_size': 2,\n",
              "     'initializer_range': 0.02,\n",
              "     'layer_norm_eps': 1e-12,\n",
              "     'gradient_checkpointing': False,\n",
              "     'position_embedding_type': 'absolute',\n",
              "     'use_cache': True,\n",
              "     'transformers_version': '4.5.1'}},\n",
              "   'name': 'bert',\n",
              "   'inbound_nodes': [[['input_ids',\n",
              "      0,\n",
              "      0,\n",
              "      {'attention_mask': ['attention_mask', 0, 0]}]]]},\n",
              "  {'class_name': 'LSTM',\n",
              "   'config': {'name': 'lstm',\n",
              "    'trainable': True,\n",
              "    'dtype': 'float32',\n",
              "    'return_sequences': True,\n",
              "    'return_state': False,\n",
              "    'go_backwards': False,\n",
              "    'stateful': False,\n",
              "    'unroll': False,\n",
              "    'time_major': False,\n",
              "    'units': 32,\n",
              "    'activation': 'tanh',\n",
              "    'recurrent_activation': 'sigmoid',\n",
              "    'use_bias': True,\n",
              "    'kernel_initializer': {'class_name': 'GlorotUniform',\n",
              "     'config': {'seed': None}},\n",
              "    'recurrent_initializer': {'class_name': 'Orthogonal',\n",
              "     'config': {'gain': 1.0, 'seed': None}},\n",
              "    'bias_initializer': {'class_name': 'Zeros', 'config': {}},\n",
              "    'unit_forget_bias': True,\n",
              "    'kernel_regularizer': None,\n",
              "    'recurrent_regularizer': None,\n",
              "    'bias_regularizer': None,\n",
              "    'activity_regularizer': None,\n",
              "    'kernel_constraint': None,\n",
              "    'recurrent_constraint': None,\n",
              "    'bias_constraint': None,\n",
              "    'dropout': 0.3,\n",
              "    'recurrent_dropout': 0.3,\n",
              "    'implementation': 1},\n",
              "   'name': 'lstm',\n",
              "   'inbound_nodes': [[['bert', 0, 0, {}]]]},\n",
              "  {'class_name': 'LSTM',\n",
              "   'config': {'name': 'lstm_1',\n",
              "    'trainable': True,\n",
              "    'dtype': 'float32',\n",
              "    'return_sequences': False,\n",
              "    'return_state': False,\n",
              "    'go_backwards': False,\n",
              "    'stateful': False,\n",
              "    'unroll': False,\n",
              "    'time_major': False,\n",
              "    'units': 16,\n",
              "    'activation': 'tanh',\n",
              "    'recurrent_activation': 'sigmoid',\n",
              "    'use_bias': True,\n",
              "    'kernel_initializer': {'class_name': 'GlorotUniform',\n",
              "     'config': {'seed': None}},\n",
              "    'recurrent_initializer': {'class_name': 'Orthogonal',\n",
              "     'config': {'gain': 1.0, 'seed': None}},\n",
              "    'bias_initializer': {'class_name': 'Zeros', 'config': {}},\n",
              "    'unit_forget_bias': True,\n",
              "    'kernel_regularizer': None,\n",
              "    'recurrent_regularizer': None,\n",
              "    'bias_regularizer': None,\n",
              "    'activity_regularizer': None,\n",
              "    'kernel_constraint': None,\n",
              "    'recurrent_constraint': None,\n",
              "    'bias_constraint': None,\n",
              "    'dropout': 0.4,\n",
              "    'recurrent_dropout': 0.4,\n",
              "    'implementation': 1},\n",
              "   'name': 'lstm_1',\n",
              "   'inbound_nodes': [[['lstm', 0, 0, {}]]]},\n",
              "  {'class_name': 'Dense',\n",
              "   'config': {'name': 'outputs',\n",
              "    'trainable': True,\n",
              "    'dtype': 'float32',\n",
              "    'units': 5,\n",
              "    'activation': 'softmax',\n",
              "    'use_bias': True,\n",
              "    'kernel_initializer': {'class_name': 'GlorotUniform',\n",
              "     'config': {'seed': None}},\n",
              "    'bias_initializer': {'class_name': 'Zeros', 'config': {}},\n",
              "    'kernel_regularizer': None,\n",
              "    'bias_regularizer': None,\n",
              "    'activity_regularizer': None,\n",
              "    'kernel_constraint': None,\n",
              "    'bias_constraint': None},\n",
              "   'name': 'outputs',\n",
              "   'inbound_nodes': [[['lstm_1', 0, 0, {}]]]}],\n",
              " 'input_layers': [['input_ids', 0, 0], ['attention_mask', 0, 0]],\n",
              " 'output_layers': [['outputs', 0, 0]]}"
            ]
          },
          "metadata": {},
          "execution_count": 61
        }
      ]
    },
    {
      "cell_type": "code",
      "metadata": {
        "id": "x3FQNtC0Of64"
      },
      "source": [
        "model.save('model.h5')\n"
      ],
      "execution_count": 62,
      "outputs": []
    },
    {
      "cell_type": "markdown",
      "metadata": {
        "id": "Z52JWDyPP3py"
      },
      "source": [
        "Testing\n"
      ]
    },
    {
      "cell_type": "code",
      "metadata": {
        "id": "CUq8U0zrPu2J"
      },
      "source": [
        "from transformers import BertTokenizer\n",
        "\n",
        "tokenizer = BertTokenizer.from_pretrained('bert-base-cased')\n",
        "\n",
        "def prep_data(text):\n",
        "    tokens = tokenizer.encode_plus(text, max_length=128,\n",
        "                                   truncation=True, padding='max_length',\n",
        "                                   add_special_tokens=True, return_token_type_ids=False,\n",
        "                                   return_tensors='tf')\n",
        "    # tokenizer returns int32 tensors, we need to return float64, so we use tf.cast\n",
        "    return {'input_ids': tf.cast(tokens['input_ids'], tf.float64),\n",
        "            'attention_mask': tf.cast(tokens['attention_mask'], tf.float64)}"
      ],
      "execution_count": 63,
      "outputs": []
    },
    {
      "cell_type": "code",
      "metadata": {
        "id": "jQlCfNLhOmRE"
      },
      "source": [
        "test = pd.read_csv('test.csv')\n",
        "test = test.sample(frac = 1)\n",
        "test = test[:1000]"
      ],
      "execution_count": 93,
      "outputs": []
    },
    {
      "cell_type": "code",
      "metadata": {
        "colab": {
          "base_uri": "https://localhost:8080/",
          "height": 198
        },
        "id": "CKiZQBftPKtj",
        "outputId": "26163540-8846-4864-cfb3-716986548810"
      },
      "source": [
        "test"
      ],
      "execution_count": 94,
      "outputs": [
        {
          "output_type": "execute_result",
          "data": {
            "text/plain": [
              "      Unnamed: 0                                            reviews  ratings\n",
              "8396        8396  I couldn't get past the smell of this unfortun...        2\n",
              "6242        6242  I liked the product but after two weeks water ...        2\n",
              "1444        1444  Packaging looked so bad it felt like I was buy...        1\n",
              "1747        1747  Serves it's purpose ok, and it was super cheap...        4\n",
              "6729        6729  Definitely works. A must buy for anyone going ...        5\n",
              "...          ...                                                ...      ...\n",
              "8417        8417  I will continue to purchase this awakening pro...        5\n",
              "1601        1601  Super cute design, but extremely hard to bend ...        3\n",
              "8461        8461  I SEE THICKER LASHES AND WHERE I HAD A \"BALD\" ...        5\n",
              "1066        1066  This has really been helping with my restless ...        5\n",
              "5382        5382  It relieves discomfort in my feet and the pain...        4\n",
              "\n",
              "[1000 rows x 3 columns]"
            ],
            "text/html": "<div>\n<style scoped>\n    .dataframe tbody tr th:only-of-type {\n        vertical-align: middle;\n    }\n\n    .dataframe tbody tr th {\n        vertical-align: top;\n    }\n\n    .dataframe thead th {\n        text-align: right;\n    }\n</style>\n<table border=\"1\" class=\"dataframe\">\n  <thead>\n    <tr style=\"text-align: right;\">\n      <th></th>\n      <th>Unnamed: 0</th>\n      <th>reviews</th>\n      <th>ratings</th>\n    </tr>\n  </thead>\n  <tbody>\n    <tr>\n      <th>8396</th>\n      <td>8396</td>\n      <td>I couldn't get past the smell of this unfortun...</td>\n      <td>2</td>\n    </tr>\n    <tr>\n      <th>6242</th>\n      <td>6242</td>\n      <td>I liked the product but after two weeks water ...</td>\n      <td>2</td>\n    </tr>\n    <tr>\n      <th>1444</th>\n      <td>1444</td>\n      <td>Packaging looked so bad it felt like I was buy...</td>\n      <td>1</td>\n    </tr>\n    <tr>\n      <th>1747</th>\n      <td>1747</td>\n      <td>Serves it's purpose ok, and it was super cheap...</td>\n      <td>4</td>\n    </tr>\n    <tr>\n      <th>6729</th>\n      <td>6729</td>\n      <td>Definitely works. A must buy for anyone going ...</td>\n      <td>5</td>\n    </tr>\n    <tr>\n      <th>1649</th>\n      <td>1649</td>\n      <td>I these so much! I wear them out and about on ...</td>\n      <td>5</td>\n    </tr>\n    <tr>\n      <th>1141</th>\n      <td>1141</td>\n      <td>I love these wipes but I only buy them at Walm...</td>\n      <td>5</td>\n    </tr>\n    <tr>\n      <th>4743</th>\n      <td>4743</td>\n      <td>Smells so so good and lathers up so nice. Feel...</td>\n      <td>5</td>\n    </tr>\n    <tr>\n      <th>3853</th>\n      <td>3853</td>\n      <td>Love these! Great colors and for some reason t...</td>\n      <td>5</td>\n    </tr>\n    <tr>\n      <th>4370</th>\n      <td>4370</td>\n      <td>Very light, but seems to work well. Not greasy.</td>\n      <td>5</td>\n    </tr>\n    <tr>\n      <th>7669</th>\n      <td>7669</td>\n      <td>Great deal and the little girls in my salon lo...</td>\n      <td>5</td>\n    </tr>\n    <tr>\n      <th>9107</th>\n      <td>9107</td>\n      <td>I am very unhappy because this product burned ...</td>\n      <td>1</td>\n    </tr>\n    <tr>\n      <th>5161</th>\n      <td>5161</td>\n      <td>Very fond of these soaps - have to catch one w...</td>\n      <td>5</td>\n    </tr>\n    <tr>\n      <th>8204</th>\n      <td>8204</td>\n      <td>Smoothed out my skin with just a few uses! I'm...</td>\n      <td>5</td>\n    </tr>\n    <tr>\n      <th>5027</th>\n      <td>5027</td>\n      <td>Love this soap.  The bits of real panther, I m...</td>\n      <td>5</td>\n    </tr>\n    <tr>\n      <th>4612</th>\n      <td>4612</td>\n      <td>This soap has grit in it, great for feet but n...</td>\n      <td>3</td>\n    </tr>\n    <tr>\n      <th>3996</th>\n      <td>3996</td>\n      <td>For the price these are wonderful lip liners. ...</td>\n      <td>5</td>\n    </tr>\n    <tr>\n      <th>674</th>\n      <td>674</td>\n      <td>Excellent quality! Really smooth. i love it. t...</td>\n      <td>5</td>\n    </tr>\n    <tr>\n      <th>4993</th>\n      <td>4993</td>\n      <td>Love this soap.  Much less expensive than the ...</td>\n      <td>5</td>\n    </tr>\n    <tr>\n      <th>3424</th>\n      <td>3424</td>\n      <td>Sturdy, good quality, and it doesn't wear down.</td>\n      <td>5</td>\n    </tr>\n    <tr>\n      <th>3460</th>\n      <td>3460</td>\n      <td>Just like the photo.  In excellent shape when ...</td>\n      <td>5</td>\n    </tr>\n    <tr>\n      <th>6959</th>\n      <td>6959</td>\n      <td>very pleased with the product, the quantity an...</td>\n      <td>5</td>\n    </tr>\n    <tr>\n      <th>8294</th>\n      <td>8294</td>\n      <td>Does not work for hair longer than shoulder le...</td>\n      <td>1</td>\n    </tr>\n    <tr>\n      <th>9347</th>\n      <td>9347</td>\n      <td>Best Product Ever.  My hair is healthier and h...</td>\n      <td>5</td>\n    </tr>\n    <tr>\n      <th>7272</th>\n      <td>7272</td>\n      <td>Not much power.  Doesn't do any better or wors...</td>\n      <td>3</td>\n    </tr>\n    <tr>\n      <th>3696</th>\n      <td>3696</td>\n      <td>Very pretty and versatile colors.  Liners go o...</td>\n      <td>5</td>\n    </tr>\n    <tr>\n      <th>426</th>\n      <td>426</td>\n      <td>This is that awful $ .25 machine gold color. I...</td>\n      <td>2</td>\n    </tr>\n    <tr>\n      <th>3759</th>\n      <td>3759</td>\n      <td>THESE ARE PERFECT AND A GREAT BUY! I AM SO HAP...</td>\n      <td>5</td>\n    </tr>\n    <tr>\n      <th>6444</th>\n      <td>6444</td>\n      <td>i love the pigments, but i wished it had a mor...</td>\n      <td>5</td>\n    </tr>\n    <tr>\n      <th>8974</th>\n      <td>8974</td>\n      <td>Works as expected. Does have super long cord t...</td>\n      <td>4</td>\n    </tr>\n    <tr>\n      <th>...</th>\n      <td>...</td>\n      <td>...</td>\n      <td>...</td>\n    </tr>\n    <tr>\n      <th>6424</th>\n      <td>6424</td>\n      <td>Very thick and easy to work with. Purchased two.</td>\n      <td>5</td>\n    </tr>\n    <tr>\n      <th>7321</th>\n      <td>7321</td>\n      <td>Works great, if you let the remover do the wor...</td>\n      <td>5</td>\n    </tr>\n    <tr>\n      <th>1915</th>\n      <td>1915</td>\n      <td>smaller than what I expected, the deal was too...</td>\n      <td>3</td>\n    </tr>\n    <tr>\n      <th>5235</th>\n      <td>5235</td>\n      <td>I love it and it smells wonderful.  Little scr...</td>\n      <td>5</td>\n    </tr>\n    <tr>\n      <th>9951</th>\n      <td>9951</td>\n      <td>Good solid product. Found all 3 of these tweez...</td>\n      <td>5</td>\n    </tr>\n    <tr>\n      <th>2395</th>\n      <td>2395</td>\n      <td>So far I like this eye cream. I haven't used i...</td>\n      <td>4</td>\n    </tr>\n    <tr>\n      <th>7464</th>\n      <td>7464</td>\n      <td>Ordered this for my mother in law. She says it...</td>\n      <td>5</td>\n    </tr>\n    <tr>\n      <th>7597</th>\n      <td>7597</td>\n      <td>For the price it's worth it. I tried it and my...</td>\n      <td>5</td>\n    </tr>\n    <tr>\n      <th>4342</th>\n      <td>4342</td>\n      <td>Thought these were self moisturized. Too hard ...</td>\n      <td>3</td>\n    </tr>\n    <tr>\n      <th>9465</th>\n      <td>9465</td>\n      <td>Love this lotion!  Great smelling and makes my...</td>\n      <td>5</td>\n    </tr>\n    <tr>\n      <th>4755</th>\n      <td>4755</td>\n      <td>Love it!  Nothing better than high end shea bu...</td>\n      <td>5</td>\n    </tr>\n    <tr>\n      <th>5374</th>\n      <td>5374</td>\n      <td>I hate the feel, smell.  It's sticky and did n...</td>\n      <td>1</td>\n    </tr>\n    <tr>\n      <th>9359</th>\n      <td>9359</td>\n      <td>I bought it for my sister and she really loved...</td>\n      <td>5</td>\n    </tr>\n    <tr>\n      <th>7088</th>\n      <td>7088</td>\n      <td>Very strong, no instructions to dilute, and di...</td>\n      <td>3</td>\n    </tr>\n    <tr>\n      <th>9143</th>\n      <td>9143</td>\n      <td>DO NOT BUY\\nAbsolutely worthless - did not wor...</td>\n      <td>1</td>\n    </tr>\n    <tr>\n      <th>8263</th>\n      <td>8263</td>\n      <td>Very pretty little bottles. These are just wha...</td>\n      <td>5</td>\n    </tr>\n    <tr>\n      <th>5095</th>\n      <td>5095</td>\n      <td>Received one as a gift and like it so much I c...</td>\n      <td>5</td>\n    </tr>\n    <tr>\n      <th>8010</th>\n      <td>8010</td>\n      <td>Nothing fancy. Does what it's made to do and s...</td>\n      <td>5</td>\n    </tr>\n    <tr>\n      <th>1475</th>\n      <td>1475</td>\n      <td>Wow amazing ,never knew it could work just as ...</td>\n      <td>5</td>\n    </tr>\n    <tr>\n      <th>2830</th>\n      <td>2830</td>\n      <td>Just started adding to my morning smoothie. De...</td>\n      <td>4</td>\n    </tr>\n    <tr>\n      <th>6370</th>\n      <td>6370</td>\n      <td>This product made my face to oily. And my face...</td>\n      <td>3</td>\n    </tr>\n    <tr>\n      <th>8098</th>\n      <td>8098</td>\n      <td>I choosed watermelon color , and its more like...</td>\n      <td>5</td>\n    </tr>\n    <tr>\n      <th>6004</th>\n      <td>6004</td>\n      <td>Holds thick hair really well, and doesn't look...</td>\n      <td>5</td>\n    </tr>\n    <tr>\n      <th>3935</th>\n      <td>3935</td>\n      <td>Love it !!!!! Very satisfied with the quality ...</td>\n      <td>5</td>\n    </tr>\n    <tr>\n      <th>5506</th>\n      <td>5506</td>\n      <td>Excellent product. I used it in my hair and my...</td>\n      <td>5</td>\n    </tr>\n    <tr>\n      <th>8417</th>\n      <td>8417</td>\n      <td>I will continue to purchase this awakening pro...</td>\n      <td>5</td>\n    </tr>\n    <tr>\n      <th>1601</th>\n      <td>1601</td>\n      <td>Super cute design, but extremely hard to bend ...</td>\n      <td>3</td>\n    </tr>\n    <tr>\n      <th>8461</th>\n      <td>8461</td>\n      <td>I SEE THICKER LASHES AND WHERE I HAD A \"BALD\" ...</td>\n      <td>5</td>\n    </tr>\n    <tr>\n      <th>1066</th>\n      <td>1066</td>\n      <td>This has really been helping with my restless ...</td>\n      <td>5</td>\n    </tr>\n    <tr>\n      <th>5382</th>\n      <td>5382</td>\n      <td>It relieves discomfort in my feet and the pain...</td>\n      <td>4</td>\n    </tr>\n  </tbody>\n</table>\n<p>1000 rows × 3 columns</p>\n</div>"
          },
          "metadata": {},
          "execution_count": 94
        }
      ]
    },
    {
      "cell_type": "code",
      "metadata": {
        "colab": {
          "base_uri": "https://localhost:8080/",
          "height": 198
        },
        "id": "Msh8deE6PMax",
        "outputId": "d390f029-2418-4f4b-8d82-a80b02c3c85f"
      },
      "source": [
        "test['Predicted'] = None\n",
        "\n",
        "for i, row in test.iterrows():\n",
        "    # get token tensors\n",
        "    tokens = prep_data(row['reviews'])\n",
        "    # get probabilities\n",
        "    probs = model.predict(tokens)\n",
        "    # find argmax for winning class\n",
        "    pred = np.argmax(probs) + 1\n",
        "    # add to dataframe\n",
        "    test.at[i, 'Predicted'] = pred\n",
        "\n",
        "test.head()"
      ],
      "execution_count": 95,
      "outputs": [
        {
          "output_type": "execute_result",
          "data": {
            "text/plain": [
              "      Unnamed: 0                                            reviews  ratings  \\\n",
              "8396        8396  I couldn't get past the smell of this unfortun...        2   \n",
              "6242        6242  I liked the product but after two weeks water ...        2   \n",
              "1444        1444  Packaging looked so bad it felt like I was buy...        1   \n",
              "1747        1747  Serves it's purpose ok, and it was super cheap...        4   \n",
              "6729        6729  Definitely works. A must buy for anyone going ...        5   \n",
              "\n",
              "     Predicted  \n",
              "8396         1  \n",
              "6242         1  \n",
              "1444         1  \n",
              "1747         5  \n",
              "6729         5  "
            ],
            "text/html": "<div>\n<style scoped>\n    .dataframe tbody tr th:only-of-type {\n        vertical-align: middle;\n    }\n\n    .dataframe tbody tr th {\n        vertical-align: top;\n    }\n\n    .dataframe thead th {\n        text-align: right;\n    }\n</style>\n<table border=\"1\" class=\"dataframe\">\n  <thead>\n    <tr style=\"text-align: right;\">\n      <th></th>\n      <th>Unnamed: 0</th>\n      <th>reviews</th>\n      <th>ratings</th>\n      <th>Predicted</th>\n    </tr>\n  </thead>\n  <tbody>\n    <tr>\n      <th>8396</th>\n      <td>8396</td>\n      <td>I couldn't get past the smell of this unfortun...</td>\n      <td>2</td>\n      <td>1</td>\n    </tr>\n    <tr>\n      <th>6242</th>\n      <td>6242</td>\n      <td>I liked the product but after two weeks water ...</td>\n      <td>2</td>\n      <td>1</td>\n    </tr>\n    <tr>\n      <th>1444</th>\n      <td>1444</td>\n      <td>Packaging looked so bad it felt like I was buy...</td>\n      <td>1</td>\n      <td>1</td>\n    </tr>\n    <tr>\n      <th>1747</th>\n      <td>1747</td>\n      <td>Serves it's purpose ok, and it was super cheap...</td>\n      <td>4</td>\n      <td>5</td>\n    </tr>\n    <tr>\n      <th>6729</th>\n      <td>6729</td>\n      <td>Definitely works. A must buy for anyone going ...</td>\n      <td>5</td>\n      <td>5</td>\n    </tr>\n  </tbody>\n</table>\n</div>"
          },
          "metadata": {},
          "execution_count": 95
        }
      ]
    },
    {
      "cell_type": "code",
      "execution_count": 96,
      "metadata": {},
      "outputs": [
        {
          "output_type": "execute_result",
          "data": {
            "text/plain": [
              "      Unnamed: 0                                            reviews  ratings  \\\n",
              "8396        8396  I couldn't get past the smell of this unfortun...        2   \n",
              "6242        6242  I liked the product but after two weeks water ...        2   \n",
              "1444        1444  Packaging looked so bad it felt like I was buy...        1   \n",
              "1747        1747  Serves it's purpose ok, and it was super cheap...        4   \n",
              "6729        6729  Definitely works. A must buy for anyone going ...        5   \n",
              "...          ...                                                ...      ...   \n",
              "8417        8417  I will continue to purchase this awakening pro...        5   \n",
              "1601        1601  Super cute design, but extremely hard to bend ...        3   \n",
              "8461        8461  I SEE THICKER LASHES AND WHERE I HAD A \"BALD\" ...        5   \n",
              "1066        1066  This has really been helping with my restless ...        5   \n",
              "5382        5382  It relieves discomfort in my feet and the pain...        4   \n",
              "\n",
              "     Predicted  \n",
              "8396         1  \n",
              "6242         1  \n",
              "1444         1  \n",
              "1747         5  \n",
              "6729         5  \n",
              "...        ...  \n",
              "8417         5  \n",
              "1601         5  \n",
              "8461         1  \n",
              "1066         5  \n",
              "5382         5  \n",
              "\n",
              "[1000 rows x 4 columns]"
            ],
            "text/html": "<div>\n<style scoped>\n    .dataframe tbody tr th:only-of-type {\n        vertical-align: middle;\n    }\n\n    .dataframe tbody tr th {\n        vertical-align: top;\n    }\n\n    .dataframe thead th {\n        text-align: right;\n    }\n</style>\n<table border=\"1\" class=\"dataframe\">\n  <thead>\n    <tr style=\"text-align: right;\">\n      <th></th>\n      <th>Unnamed: 0</th>\n      <th>reviews</th>\n      <th>ratings</th>\n      <th>Predicted</th>\n    </tr>\n  </thead>\n  <tbody>\n    <tr>\n      <th>8396</th>\n      <td>8396</td>\n      <td>I couldn't get past the smell of this unfortun...</td>\n      <td>2</td>\n      <td>1</td>\n    </tr>\n    <tr>\n      <th>6242</th>\n      <td>6242</td>\n      <td>I liked the product but after two weeks water ...</td>\n      <td>2</td>\n      <td>1</td>\n    </tr>\n    <tr>\n      <th>1444</th>\n      <td>1444</td>\n      <td>Packaging looked so bad it felt like I was buy...</td>\n      <td>1</td>\n      <td>1</td>\n    </tr>\n    <tr>\n      <th>1747</th>\n      <td>1747</td>\n      <td>Serves it's purpose ok, and it was super cheap...</td>\n      <td>4</td>\n      <td>5</td>\n    </tr>\n    <tr>\n      <th>6729</th>\n      <td>6729</td>\n      <td>Definitely works. A must buy for anyone going ...</td>\n      <td>5</td>\n      <td>5</td>\n    </tr>\n    <tr>\n      <th>1649</th>\n      <td>1649</td>\n      <td>I these so much! I wear them out and about on ...</td>\n      <td>5</td>\n      <td>5</td>\n    </tr>\n    <tr>\n      <th>1141</th>\n      <td>1141</td>\n      <td>I love these wipes but I only buy them at Walm...</td>\n      <td>5</td>\n      <td>5</td>\n    </tr>\n    <tr>\n      <th>4743</th>\n      <td>4743</td>\n      <td>Smells so so good and lathers up so nice. Feel...</td>\n      <td>5</td>\n      <td>5</td>\n    </tr>\n    <tr>\n      <th>3853</th>\n      <td>3853</td>\n      <td>Love these! Great colors and for some reason t...</td>\n      <td>5</td>\n      <td>5</td>\n    </tr>\n    <tr>\n      <th>4370</th>\n      <td>4370</td>\n      <td>Very light, but seems to work well. Not greasy.</td>\n      <td>5</td>\n      <td>1</td>\n    </tr>\n    <tr>\n      <th>7669</th>\n      <td>7669</td>\n      <td>Great deal and the little girls in my salon lo...</td>\n      <td>5</td>\n      <td>5</td>\n    </tr>\n    <tr>\n      <th>9107</th>\n      <td>9107</td>\n      <td>I am very unhappy because this product burned ...</td>\n      <td>1</td>\n      <td>1</td>\n    </tr>\n    <tr>\n      <th>5161</th>\n      <td>5161</td>\n      <td>Very fond of these soaps - have to catch one w...</td>\n      <td>5</td>\n      <td>5</td>\n    </tr>\n    <tr>\n      <th>8204</th>\n      <td>8204</td>\n      <td>Smoothed out my skin with just a few uses! I'm...</td>\n      <td>5</td>\n      <td>5</td>\n    </tr>\n    <tr>\n      <th>5027</th>\n      <td>5027</td>\n      <td>Love this soap.  The bits of real panther, I m...</td>\n      <td>5</td>\n      <td>5</td>\n    </tr>\n    <tr>\n      <th>4612</th>\n      <td>4612</td>\n      <td>This soap has grit in it, great for feet but n...</td>\n      <td>3</td>\n      <td>5</td>\n    </tr>\n    <tr>\n      <th>3996</th>\n      <td>3996</td>\n      <td>For the price these are wonderful lip liners. ...</td>\n      <td>5</td>\n      <td>5</td>\n    </tr>\n    <tr>\n      <th>674</th>\n      <td>674</td>\n      <td>Excellent quality! Really smooth. i love it. t...</td>\n      <td>5</td>\n      <td>5</td>\n    </tr>\n    <tr>\n      <th>4993</th>\n      <td>4993</td>\n      <td>Love this soap.  Much less expensive than the ...</td>\n      <td>5</td>\n      <td>5</td>\n    </tr>\n    <tr>\n      <th>3424</th>\n      <td>3424</td>\n      <td>Sturdy, good quality, and it doesn't wear down.</td>\n      <td>5</td>\n      <td>5</td>\n    </tr>\n    <tr>\n      <th>3460</th>\n      <td>3460</td>\n      <td>Just like the photo.  In excellent shape when ...</td>\n      <td>5</td>\n      <td>5</td>\n    </tr>\n    <tr>\n      <th>6959</th>\n      <td>6959</td>\n      <td>very pleased with the product, the quantity an...</td>\n      <td>5</td>\n      <td>5</td>\n    </tr>\n    <tr>\n      <th>8294</th>\n      <td>8294</td>\n      <td>Does not work for hair longer than shoulder le...</td>\n      <td>1</td>\n      <td>1</td>\n    </tr>\n    <tr>\n      <th>9347</th>\n      <td>9347</td>\n      <td>Best Product Ever.  My hair is healthier and h...</td>\n      <td>5</td>\n      <td>5</td>\n    </tr>\n    <tr>\n      <th>7272</th>\n      <td>7272</td>\n      <td>Not much power.  Doesn't do any better or wors...</td>\n      <td>3</td>\n      <td>1</td>\n    </tr>\n    <tr>\n      <th>3696</th>\n      <td>3696</td>\n      <td>Very pretty and versatile colors.  Liners go o...</td>\n      <td>5</td>\n      <td>5</td>\n    </tr>\n    <tr>\n      <th>426</th>\n      <td>426</td>\n      <td>This is that awful $ .25 machine gold color. I...</td>\n      <td>2</td>\n      <td>5</td>\n    </tr>\n    <tr>\n      <th>3759</th>\n      <td>3759</td>\n      <td>THESE ARE PERFECT AND A GREAT BUY! I AM SO HAP...</td>\n      <td>5</td>\n      <td>5</td>\n    </tr>\n    <tr>\n      <th>6444</th>\n      <td>6444</td>\n      <td>i love the pigments, but i wished it had a mor...</td>\n      <td>5</td>\n      <td>5</td>\n    </tr>\n    <tr>\n      <th>8974</th>\n      <td>8974</td>\n      <td>Works as expected. Does have super long cord t...</td>\n      <td>4</td>\n      <td>5</td>\n    </tr>\n    <tr>\n      <th>...</th>\n      <td>...</td>\n      <td>...</td>\n      <td>...</td>\n      <td>...</td>\n    </tr>\n    <tr>\n      <th>6424</th>\n      <td>6424</td>\n      <td>Very thick and easy to work with. Purchased two.</td>\n      <td>5</td>\n      <td>5</td>\n    </tr>\n    <tr>\n      <th>7321</th>\n      <td>7321</td>\n      <td>Works great, if you let the remover do the wor...</td>\n      <td>5</td>\n      <td>5</td>\n    </tr>\n    <tr>\n      <th>1915</th>\n      <td>1915</td>\n      <td>smaller than what I expected, the deal was too...</td>\n      <td>3</td>\n      <td>5</td>\n    </tr>\n    <tr>\n      <th>5235</th>\n      <td>5235</td>\n      <td>I love it and it smells wonderful.  Little scr...</td>\n      <td>5</td>\n      <td>5</td>\n    </tr>\n    <tr>\n      <th>9951</th>\n      <td>9951</td>\n      <td>Good solid product. Found all 3 of these tweez...</td>\n      <td>5</td>\n      <td>5</td>\n    </tr>\n    <tr>\n      <th>2395</th>\n      <td>2395</td>\n      <td>So far I like this eye cream. I haven't used i...</td>\n      <td>4</td>\n      <td>5</td>\n    </tr>\n    <tr>\n      <th>7464</th>\n      <td>7464</td>\n      <td>Ordered this for my mother in law. She says it...</td>\n      <td>5</td>\n      <td>5</td>\n    </tr>\n    <tr>\n      <th>7597</th>\n      <td>7597</td>\n      <td>For the price it's worth it. I tried it and my...</td>\n      <td>5</td>\n      <td>5</td>\n    </tr>\n    <tr>\n      <th>4342</th>\n      <td>4342</td>\n      <td>Thought these were self moisturized. Too hard ...</td>\n      <td>3</td>\n      <td>5</td>\n    </tr>\n    <tr>\n      <th>9465</th>\n      <td>9465</td>\n      <td>Love this lotion!  Great smelling and makes my...</td>\n      <td>5</td>\n      <td>5</td>\n    </tr>\n    <tr>\n      <th>4755</th>\n      <td>4755</td>\n      <td>Love it!  Nothing better than high end shea bu...</td>\n      <td>5</td>\n      <td>5</td>\n    </tr>\n    <tr>\n      <th>5374</th>\n      <td>5374</td>\n      <td>I hate the feel, smell.  It's sticky and did n...</td>\n      <td>1</td>\n      <td>1</td>\n    </tr>\n    <tr>\n      <th>9359</th>\n      <td>9359</td>\n      <td>I bought it for my sister and she really loved...</td>\n      <td>5</td>\n      <td>5</td>\n    </tr>\n    <tr>\n      <th>7088</th>\n      <td>7088</td>\n      <td>Very strong, no instructions to dilute, and di...</td>\n      <td>3</td>\n      <td>1</td>\n    </tr>\n    <tr>\n      <th>9143</th>\n      <td>9143</td>\n      <td>DO NOT BUY\\nAbsolutely worthless - did not wor...</td>\n      <td>1</td>\n      <td>1</td>\n    </tr>\n    <tr>\n      <th>8263</th>\n      <td>8263</td>\n      <td>Very pretty little bottles. These are just wha...</td>\n      <td>5</td>\n      <td>5</td>\n    </tr>\n    <tr>\n      <th>5095</th>\n      <td>5095</td>\n      <td>Received one as a gift and like it so much I c...</td>\n      <td>5</td>\n      <td>5</td>\n    </tr>\n    <tr>\n      <th>8010</th>\n      <td>8010</td>\n      <td>Nothing fancy. Does what it's made to do and s...</td>\n      <td>5</td>\n      <td>5</td>\n    </tr>\n    <tr>\n      <th>1475</th>\n      <td>1475</td>\n      <td>Wow amazing ,never knew it could work just as ...</td>\n      <td>5</td>\n      <td>5</td>\n    </tr>\n    <tr>\n      <th>2830</th>\n      <td>2830</td>\n      <td>Just started adding to my morning smoothie. De...</td>\n      <td>4</td>\n      <td>5</td>\n    </tr>\n    <tr>\n      <th>6370</th>\n      <td>6370</td>\n      <td>This product made my face to oily. And my face...</td>\n      <td>3</td>\n      <td>1</td>\n    </tr>\n    <tr>\n      <th>8098</th>\n      <td>8098</td>\n      <td>I choosed watermelon color , and its more like...</td>\n      <td>5</td>\n      <td>5</td>\n    </tr>\n    <tr>\n      <th>6004</th>\n      <td>6004</td>\n      <td>Holds thick hair really well, and doesn't look...</td>\n      <td>5</td>\n      <td>5</td>\n    </tr>\n    <tr>\n      <th>3935</th>\n      <td>3935</td>\n      <td>Love it !!!!! Very satisfied with the quality ...</td>\n      <td>5</td>\n      <td>5</td>\n    </tr>\n    <tr>\n      <th>5506</th>\n      <td>5506</td>\n      <td>Excellent product. I used it in my hair and my...</td>\n      <td>5</td>\n      <td>5</td>\n    </tr>\n    <tr>\n      <th>8417</th>\n      <td>8417</td>\n      <td>I will continue to purchase this awakening pro...</td>\n      <td>5</td>\n      <td>5</td>\n    </tr>\n    <tr>\n      <th>1601</th>\n      <td>1601</td>\n      <td>Super cute design, but extremely hard to bend ...</td>\n      <td>3</td>\n      <td>5</td>\n    </tr>\n    <tr>\n      <th>8461</th>\n      <td>8461</td>\n      <td>I SEE THICKER LASHES AND WHERE I HAD A \"BALD\" ...</td>\n      <td>5</td>\n      <td>1</td>\n    </tr>\n    <tr>\n      <th>1066</th>\n      <td>1066</td>\n      <td>This has really been helping with my restless ...</td>\n      <td>5</td>\n      <td>5</td>\n    </tr>\n    <tr>\n      <th>5382</th>\n      <td>5382</td>\n      <td>It relieves discomfort in my feet and the pain...</td>\n      <td>4</td>\n      <td>5</td>\n    </tr>\n  </tbody>\n</table>\n<p>1000 rows × 4 columns</p>\n</div>"
          },
          "metadata": {},
          "execution_count": 96
        }
      ],
      "source": [
        "test"
      ]
    },
    {
      "cell_type": "code",
      "metadata": {
        "colab": {
          "base_uri": "https://localhost:8080/"
        },
        "id": "8cZrf8tmfqIO",
        "outputId": "b5770692-408c-412e-bce8-bf33e9d45766"
      },
      "source": [
        "!pip install seaborn\n",
        "!pip install sns"
      ],
      "execution_count": 97,
      "outputs": [
        {
          "output_type": "stream",
          "name": "stdout",
          "text": [
            "Requirement already satisfied: seaborn in /usr/local/lib/python3.6/dist-packages (0.10.1)\n",
            "Requirement already satisfied: numpy>=1.13.3 in /home/piyush/.local/lib/python3.6/site-packages (from seaborn) (1.17.4)\n",
            "Requirement already satisfied: matplotlib>=2.1.2 in /home/piyush/.local/lib/python3.6/site-packages (from seaborn) (3.1.1)\n",
            "Requirement already satisfied: pandas>=0.22.0 in /home/piyush/.local/lib/python3.6/site-packages (from seaborn) (0.25.0)\n",
            "Requirement already satisfied: scipy>=1.0.1 in /home/piyush/.local/lib/python3.6/site-packages (from seaborn) (1.4.1)\n",
            "Requirement already satisfied: pyparsing!=2.0.4,!=2.1.2,!=2.1.6,>=2.0.1 in /home/piyush/.local/lib/python3.6/site-packages (from matplotlib>=2.1.2->seaborn) (2.4.2)\n",
            "Requirement already satisfied: python-dateutil>=2.1 in /home/piyush/.local/lib/python3.6/site-packages (from matplotlib>=2.1.2->seaborn) (2.8.0)\n",
            "Requirement already satisfied: kiwisolver>=1.0.1 in /home/piyush/.local/lib/python3.6/site-packages (from matplotlib>=2.1.2->seaborn) (1.1.0)\n",
            "Requirement already satisfied: cycler>=0.10 in /home/piyush/.local/lib/python3.6/site-packages (from matplotlib>=2.1.2->seaborn) (0.10.0)\n",
            "Requirement already satisfied: pytz>=2017.2 in /home/piyush/.local/lib/python3.6/site-packages (from pandas>=0.22.0->seaborn) (2019.2)\n",
            "Requirement already satisfied: six>=1.5 in /home/piyush/.local/lib/python3.6/site-packages (from python-dateutil>=2.1->matplotlib>=2.1.2->seaborn) (1.13.0)\n",
            "Requirement already satisfied: setuptools in /home/piyush/.local/lib/python3.6/site-packages (from kiwisolver>=1.0.1->matplotlib>=2.1.2->seaborn) (41.6.0)\n",
            "\u001b[33mWARNING: You are using pip version 19.3.1; however, version 21.1.1 is available.\n",
            "You should consider upgrading via the 'pip install --upgrade pip' command.\u001b[0m\n",
            "Requirement already satisfied: sns in /usr/local/lib/python3.6/dist-packages (0.1)\n",
            "\u001b[33mWARNING: You are using pip version 19.3.1; however, version 21.1.1 is available.\n",
            "You should consider upgrading via the 'pip install --upgrade pip' command.\u001b[0m\n"
          ]
        }
      ]
    },
    {
      "cell_type": "code",
      "metadata": {
        "id": "WLFT80Jna1cB"
      },
      "source": [
        "from sklearn.metrics import accuracy_score,classification_report,confusion_matrix\n",
        "import sns \n",
        "import seaborn"
      ],
      "execution_count": 98,
      "outputs": []
    },
    {
      "cell_type": "code",
      "metadata": {
        "id": "-DCclJVSPkte"
      },
      "source": [
        "def report(y_pred,y_test):\n",
        "    Classification_report = classification_report(y_test,y_pred,target_names=['1','2','3','4','5'])\n",
        "    cm  = confusion_matrix(test['ratings'],y_pred)\n",
        "    print(\"Classification Report : \\n\",Classification_report)\n",
        "    print(\"Heat Map :\\n\")\n",
        "    seaborn.heatmap(cm,cmap=\"Blues\",annot=True,fmt='.4g',xticklabels=['1','2','3','4','5'],yticklabels=['1','2','3','4','5'])"
      ],
      "execution_count": 99,
      "outputs": []
    },
    {
      "cell_type": "code",
      "metadata": {
        "colab": {
          "base_uri": "https://localhost:8080/",
          "height": 537
        },
        "id": "JCTU73arc2MU",
        "outputId": "307080e8-ea39-4170-9fb0-13b4ba519dbf"
      },
      "source": [
        "report(test[\"Predicted\"].to_list(), test[\"ratings\"].to_list())"
      ],
      "execution_count": 100,
      "outputs": [
        {
          "output_type": "stream",
          "name": "stderr",
          "text": [
            "/home/piyush/.local/lib/python3.6/site-packages/sklearn/metrics/classification.py:1437: UndefinedMetricWarning: Precision and F-score are ill-defined and being set to 0.0 in labels with no predicted samples.\n",
            "  'precision', 'predicted', average, warn_for)\n",
            "Classification Report : \n",
            "               precision    recall  f1-score   support\n",
            "\n",
            "           1       0.43      0.77      0.55       128\n",
            "           2       0.00      0.00      0.00        65\n",
            "           3       0.00      0.00      0.00       102\n",
            "           4       0.00      0.00      0.00       140\n",
            "           5       0.70      0.95      0.80       565\n",
            "\n",
            "    accuracy                           0.63      1000\n",
            "   macro avg       0.22      0.34      0.27      1000\n",
            "weighted avg       0.45      0.63      0.52      1000\n",
            "\n",
            "Heat Map :\n",
            "\n"
          ]
        },
        {
          "output_type": "display_data",
          "data": {
            "text/plain": "<Figure size 432x288 with 2 Axes>",
            "image/svg+xml": "<?xml version=\"1.0\" encoding=\"utf-8\" standalone=\"no\"?>\n<!DOCTYPE svg PUBLIC \"-//W3C//DTD SVG 1.1//EN\"\n  \"http://www.w3.org/Graphics/SVG/1.1/DTD/svg11.dtd\">\n<!-- Created with matplotlib (https://matplotlib.org/) -->\n<svg height=\"253.357187pt\" version=\"1.1\" viewBox=\"0 0 352.617625 253.357187\" width=\"352.617625pt\" xmlns=\"http://www.w3.org/2000/svg\" xmlns:xlink=\"http://www.w3.org/1999/xlink\">\n <defs>\n  <style type=\"text/css\">\n*{stroke-linecap:butt;stroke-linejoin:round;}\n  </style>\n </defs>\n <g id=\"figure_1\">\n  <g id=\"patch_1\">\n   <path d=\"M -0 253.357187 \nL 352.617625 253.357187 \nL 352.617625 0 \nL -0 0 \nz\n\" style=\"fill:none;\"/>\n  </g>\n  <g id=\"axes_1\">\n   <g id=\"patch_2\">\n    <path d=\"M 23.878125 229.479062 \nL 291.718125 229.479062 \nL 291.718125 12.039062 \nL 23.878125 12.039062 \nz\n\" style=\"fill:#ffffff;\"/>\n   </g>\n   <g id=\"QuadMesh_1\">\n    <path clip-path=\"url(#pbf52a99fcb)\" d=\"M 23.878125 -15.140938 \nL 77.446125 -15.140938 \nL 77.446125 39.219062 \nL 23.878125 39.219062 \nL 23.878125 -15.140938 \n\" style=\"fill:#d3e4f3;\"/>\n    <path clip-path=\"url(#pbf52a99fcb)\" d=\"M 77.446125 -15.140938 \nL 131.014125 -15.140938 \nL 131.014125 39.219062 \nL 77.446125 39.219062 \nL 77.446125 -15.140938 \n\" style=\"fill:#f7fbff;\"/>\n    <path clip-path=\"url(#pbf52a99fcb)\" d=\"M 131.014125 -15.140938 \nL 184.582125 -15.140938 \nL 184.582125 39.219062 \nL 131.014125 39.219062 \nL 131.014125 -15.140938 \n\" style=\"fill:#f7fbff;\"/>\n    <path clip-path=\"url(#pbf52a99fcb)\" d=\"M 184.582125 -15.140938 \nL 238.150125 -15.140938 \nL 238.150125 39.219062 \nL 184.582125 39.219062 \nL 184.582125 -15.140938 \n\" style=\"fill:#f7fbff;\"/>\n    <path clip-path=\"url(#pbf52a99fcb)\" d=\"M 238.150125 -15.140938 \nL 291.718125 -15.140938 \nL 291.718125 39.219062 \nL 238.150125 39.219062 \nL 238.150125 -15.140938 \n\" style=\"fill:#ecf4fb;\"/>\n    <path clip-path=\"url(#pbf52a99fcb)\" d=\"M 23.878125 39.219062 \nL 77.446125 39.219062 \nL 77.446125 93.579062 \nL 23.878125 93.579062 \nL 23.878125 39.219062 \n\" style=\"fill:#e7f1fa;\"/>\n    <path clip-path=\"url(#pbf52a99fcb)\" d=\"M 77.446125 39.219062 \nL 131.014125 39.219062 \nL 131.014125 93.579062 \nL 77.446125 93.579062 \nL 77.446125 39.219062 \n\" style=\"fill:#f7fbff;\"/>\n    <path clip-path=\"url(#pbf52a99fcb)\" d=\"M 131.014125 39.219062 \nL 184.582125 39.219062 \nL 184.582125 93.579062 \nL 131.014125 93.579062 \nL 131.014125 39.219062 \n\" style=\"fill:#f7fbff;\"/>\n    <path clip-path=\"url(#pbf52a99fcb)\" d=\"M 184.582125 39.219062 \nL 238.150125 39.219062 \nL 238.150125 93.579062 \nL 184.582125 93.579062 \nL 184.582125 39.219062 \n\" style=\"fill:#f7fbff;\"/>\n    <path clip-path=\"url(#pbf52a99fcb)\" d=\"M 238.150125 39.219062 \nL 291.718125 39.219062 \nL 291.718125 93.579062 \nL 238.150125 93.579062 \nL 238.150125 39.219062 \n\" style=\"fill:#eff6fc;\"/>\n    <path clip-path=\"url(#pbf52a99fcb)\" d=\"M 23.878125 93.579062 \nL 77.446125 93.579062 \nL 77.446125 147.939062 \nL 23.878125 147.939062 \nL 23.878125 93.579062 \n\" style=\"fill:#e7f0fa;\"/>\n    <path clip-path=\"url(#pbf52a99fcb)\" d=\"M 77.446125 93.579062 \nL 131.014125 93.579062 \nL 131.014125 147.939062 \nL 77.446125 147.939062 \nL 77.446125 93.579062 \n\" style=\"fill:#f7fbff;\"/>\n    <path clip-path=\"url(#pbf52a99fcb)\" d=\"M 131.014125 93.579062 \nL 184.582125 93.579062 \nL 184.582125 147.939062 \nL 131.014125 147.939062 \nL 131.014125 93.579062 \n\" style=\"fill:#f7fbff;\"/>\n    <path clip-path=\"url(#pbf52a99fcb)\" d=\"M 184.582125 93.579062 \nL 238.150125 93.579062 \nL 238.150125 147.939062 \nL 184.582125 147.939062 \nL 184.582125 93.579062 \n\" style=\"fill:#f7fbff;\"/>\n    <path clip-path=\"url(#pbf52a99fcb)\" d=\"M 238.150125 93.579062 \nL 291.718125 93.579062 \nL 291.718125 147.939062 \nL 238.150125 147.939062 \nL 238.150125 93.579062 \n\" style=\"fill:#e3eef8;\"/>\n    <path clip-path=\"url(#pbf52a99fcb)\" d=\"M 23.878125 147.939062 \nL 77.446125 147.939062 \nL 77.446125 202.299062 \nL 23.878125 202.299062 \nL 23.878125 147.939062 \n\" style=\"fill:#f2f7fd;\"/>\n    <path clip-path=\"url(#pbf52a99fcb)\" d=\"M 77.446125 147.939062 \nL 131.014125 147.939062 \nL 131.014125 202.299062 \nL 77.446125 202.299062 \nL 77.446125 147.939062 \n\" style=\"fill:#f7fbff;\"/>\n    <path clip-path=\"url(#pbf52a99fcb)\" d=\"M 131.014125 147.939062 \nL 184.582125 147.939062 \nL 184.582125 202.299062 \nL 131.014125 202.299062 \nL 131.014125 147.939062 \n\" style=\"fill:#f7fbff;\"/>\n    <path clip-path=\"url(#pbf52a99fcb)\" d=\"M 184.582125 147.939062 \nL 238.150125 147.939062 \nL 238.150125 202.299062 \nL 184.582125 202.299062 \nL 184.582125 147.939062 \n\" style=\"fill:#f7fbff;\"/>\n    <path clip-path=\"url(#pbf52a99fcb)\" d=\"M 238.150125 147.939062 \nL 291.718125 147.939062 \nL 291.718125 202.299062 \nL 238.150125 202.299062 \nL 238.150125 147.939062 \n\" style=\"fill:#caddf0;\"/>\n    <path clip-path=\"url(#pbf52a99fcb)\" d=\"M 23.878125 202.299062 \nL 77.446125 202.299062 \nL 77.446125 256.659063 \nL 23.878125 256.659063 \nL 23.878125 202.299062 \n\" style=\"fill:#edf4fc;\"/>\n    <path clip-path=\"url(#pbf52a99fcb)\" d=\"M 77.446125 202.299062 \nL 131.014125 202.299062 \nL 131.014125 256.659063 \nL 77.446125 256.659063 \nL 77.446125 202.299062 \n\" style=\"fill:#f7fbff;\"/>\n    <path clip-path=\"url(#pbf52a99fcb)\" d=\"M 131.014125 202.299062 \nL 184.582125 202.299062 \nL 184.582125 256.659063 \nL 131.014125 256.659063 \nL 131.014125 202.299062 \n\" style=\"fill:#f7fbff;\"/>\n    <path clip-path=\"url(#pbf52a99fcb)\" d=\"M 184.582125 202.299062 \nL 238.150125 202.299062 \nL 238.150125 256.659063 \nL 184.582125 256.659063 \nL 184.582125 202.299062 \n\" style=\"fill:#f7fbff;\"/>\n    <path clip-path=\"url(#pbf52a99fcb)\" d=\"M 238.150125 202.299062 \nL 291.718125 202.299062 \nL 291.718125 256.659063 \nL 238.150125 256.659063 \nL 238.150125 202.299062 \n\" style=\"fill:#08306b;\"/>\n   </g>\n   <g id=\"matplotlib.axis_1\">\n    <g id=\"xtick_1\">\n     <g id=\"line2d_1\">\n      <defs>\n       <path d=\"M 0 0 \nL 0 3.5 \n\" id=\"m92725b9f4f\" style=\"stroke:#000000;stroke-width:0.8;\"/>\n      </defs>\n      <g>\n       <use style=\"stroke:#000000;stroke-width:0.8;\" x=\"50.662125\" xlink:href=\"#m92725b9f4f\" y=\"229.479062\"/>\n      </g>\n     </g>\n     <g id=\"text_1\">\n      <!-- 1 -->\n      <defs>\n       <path d=\"M 12.40625 8.296875 \nL 28.515625 8.296875 \nL 28.515625 63.921875 \nL 10.984375 60.40625 \nL 10.984375 69.390625 \nL 28.421875 72.90625 \nL 38.28125 72.90625 \nL 38.28125 8.296875 \nL 54.390625 8.296875 \nL 54.390625 0 \nL 12.40625 0 \nz\n\" id=\"DejaVuSans-49\"/>\n      </defs>\n      <g transform=\"translate(47.480875 244.0775)scale(0.1 -0.1)\">\n       <use xlink:href=\"#DejaVuSans-49\"/>\n      </g>\n     </g>\n    </g>\n    <g id=\"xtick_2\">\n     <g id=\"line2d_2\">\n      <g>\n       <use style=\"stroke:#000000;stroke-width:0.8;\" x=\"104.230125\" xlink:href=\"#m92725b9f4f\" y=\"229.479062\"/>\n      </g>\n     </g>\n     <g id=\"text_2\">\n      <!-- 2 -->\n      <defs>\n       <path d=\"M 19.1875 8.296875 \nL 53.609375 8.296875 \nL 53.609375 0 \nL 7.328125 0 \nL 7.328125 8.296875 \nQ 12.9375 14.109375 22.625 23.890625 \nQ 32.328125 33.6875 34.8125 36.53125 \nQ 39.546875 41.84375 41.421875 45.53125 \nQ 43.3125 49.21875 43.3125 52.78125 \nQ 43.3125 58.59375 39.234375 62.25 \nQ 35.15625 65.921875 28.609375 65.921875 \nQ 23.96875 65.921875 18.8125 64.3125 \nQ 13.671875 62.703125 7.8125 59.421875 \nL 7.8125 69.390625 \nQ 13.765625 71.78125 18.9375 73 \nQ 24.125 74.21875 28.421875 74.21875 \nQ 39.75 74.21875 46.484375 68.546875 \nQ 53.21875 62.890625 53.21875 53.421875 \nQ 53.21875 48.921875 51.53125 44.890625 \nQ 49.859375 40.875 45.40625 35.40625 \nQ 44.1875 33.984375 37.640625 27.21875 \nQ 31.109375 20.453125 19.1875 8.296875 \nz\n\" id=\"DejaVuSans-50\"/>\n      </defs>\n      <g transform=\"translate(101.048875 244.0775)scale(0.1 -0.1)\">\n       <use xlink:href=\"#DejaVuSans-50\"/>\n      </g>\n     </g>\n    </g>\n    <g id=\"xtick_3\">\n     <g id=\"line2d_3\">\n      <g>\n       <use style=\"stroke:#000000;stroke-width:0.8;\" x=\"157.798125\" xlink:href=\"#m92725b9f4f\" y=\"229.479062\"/>\n      </g>\n     </g>\n     <g id=\"text_3\">\n      <!-- 3 -->\n      <defs>\n       <path d=\"M 40.578125 39.3125 \nQ 47.65625 37.796875 51.625 33 \nQ 55.609375 28.21875 55.609375 21.1875 \nQ 55.609375 10.40625 48.1875 4.484375 \nQ 40.765625 -1.421875 27.09375 -1.421875 \nQ 22.515625 -1.421875 17.65625 -0.515625 \nQ 12.796875 0.390625 7.625 2.203125 \nL 7.625 11.71875 \nQ 11.71875 9.328125 16.59375 8.109375 \nQ 21.484375 6.890625 26.8125 6.890625 \nQ 36.078125 6.890625 40.9375 10.546875 \nQ 45.796875 14.203125 45.796875 21.1875 \nQ 45.796875 27.640625 41.28125 31.265625 \nQ 36.765625 34.90625 28.71875 34.90625 \nL 20.21875 34.90625 \nL 20.21875 43.015625 \nL 29.109375 43.015625 \nQ 36.375 43.015625 40.234375 45.921875 \nQ 44.09375 48.828125 44.09375 54.296875 \nQ 44.09375 59.90625 40.109375 62.90625 \nQ 36.140625 65.921875 28.71875 65.921875 \nQ 24.65625 65.921875 20.015625 65.03125 \nQ 15.375 64.15625 9.8125 62.3125 \nL 9.8125 71.09375 \nQ 15.4375 72.65625 20.34375 73.4375 \nQ 25.25 74.21875 29.59375 74.21875 \nQ 40.828125 74.21875 47.359375 69.109375 \nQ 53.90625 64.015625 53.90625 55.328125 \nQ 53.90625 49.265625 50.4375 45.09375 \nQ 46.96875 40.921875 40.578125 39.3125 \nz\n\" id=\"DejaVuSans-51\"/>\n      </defs>\n      <g transform=\"translate(154.616875 244.0775)scale(0.1 -0.1)\">\n       <use xlink:href=\"#DejaVuSans-51\"/>\n      </g>\n     </g>\n    </g>\n    <g id=\"xtick_4\">\n     <g id=\"line2d_4\">\n      <g>\n       <use style=\"stroke:#000000;stroke-width:0.8;\" x=\"211.366125\" xlink:href=\"#m92725b9f4f\" y=\"229.479062\"/>\n      </g>\n     </g>\n     <g id=\"text_4\">\n      <!-- 4 -->\n      <defs>\n       <path d=\"M 37.796875 64.3125 \nL 12.890625 25.390625 \nL 37.796875 25.390625 \nz\nM 35.203125 72.90625 \nL 47.609375 72.90625 \nL 47.609375 25.390625 \nL 58.015625 25.390625 \nL 58.015625 17.1875 \nL 47.609375 17.1875 \nL 47.609375 0 \nL 37.796875 0 \nL 37.796875 17.1875 \nL 4.890625 17.1875 \nL 4.890625 26.703125 \nz\n\" id=\"DejaVuSans-52\"/>\n      </defs>\n      <g transform=\"translate(208.184875 244.0775)scale(0.1 -0.1)\">\n       <use xlink:href=\"#DejaVuSans-52\"/>\n      </g>\n     </g>\n    </g>\n    <g id=\"xtick_5\">\n     <g id=\"line2d_5\">\n      <g>\n       <use style=\"stroke:#000000;stroke-width:0.8;\" x=\"264.934125\" xlink:href=\"#m92725b9f4f\" y=\"229.479062\"/>\n      </g>\n     </g>\n     <g id=\"text_5\">\n      <!-- 5 -->\n      <defs>\n       <path d=\"M 10.796875 72.90625 \nL 49.515625 72.90625 \nL 49.515625 64.59375 \nL 19.828125 64.59375 \nL 19.828125 46.734375 \nQ 21.96875 47.46875 24.109375 47.828125 \nQ 26.265625 48.1875 28.421875 48.1875 \nQ 40.625 48.1875 47.75 41.5 \nQ 54.890625 34.8125 54.890625 23.390625 \nQ 54.890625 11.625 47.5625 5.09375 \nQ 40.234375 -1.421875 26.90625 -1.421875 \nQ 22.3125 -1.421875 17.546875 -0.640625 \nQ 12.796875 0.140625 7.71875 1.703125 \nL 7.71875 11.625 \nQ 12.109375 9.234375 16.796875 8.0625 \nQ 21.484375 6.890625 26.703125 6.890625 \nQ 35.15625 6.890625 40.078125 11.328125 \nQ 45.015625 15.765625 45.015625 23.390625 \nQ 45.015625 31 40.078125 35.4375 \nQ 35.15625 39.890625 26.703125 39.890625 \nQ 22.75 39.890625 18.8125 39.015625 \nQ 14.890625 38.140625 10.796875 36.28125 \nz\n\" id=\"DejaVuSans-53\"/>\n      </defs>\n      <g transform=\"translate(261.752875 244.0775)scale(0.1 -0.1)\">\n       <use xlink:href=\"#DejaVuSans-53\"/>\n      </g>\n     </g>\n    </g>\n   </g>\n   <g id=\"matplotlib.axis_2\">\n    <g id=\"ytick_1\">\n     <g id=\"line2d_6\">\n      <defs>\n       <path d=\"M 0 0 \nL -3.5 0 \n\" id=\"m048c9498aa\" style=\"stroke:#000000;stroke-width:0.8;\"/>\n      </defs>\n      <g>\n       <use style=\"stroke:#000000;stroke-width:0.8;\" x=\"23.878125\" xlink:href=\"#m048c9498aa\" y=\"12.039062\"/>\n      </g>\n     </g>\n     <g id=\"text_6\">\n      <!-- 1 -->\n      <g transform=\"translate(14.798438 14.602344)rotate(-90)scale(0.1 -0.1)\">\n       <use xlink:href=\"#DejaVuSans-49\"/>\n      </g>\n     </g>\n    </g>\n    <g id=\"ytick_2\">\n     <g id=\"line2d_7\">\n      <g>\n       <use style=\"stroke:#000000;stroke-width:0.8;\" x=\"23.878125\" xlink:href=\"#m048c9498aa\" y=\"66.399062\"/>\n      </g>\n     </g>\n     <g id=\"text_7\">\n      <!-- 2 -->\n      <g transform=\"translate(14.798438 68.962344)rotate(-90)scale(0.1 -0.1)\">\n       <use xlink:href=\"#DejaVuSans-50\"/>\n      </g>\n     </g>\n    </g>\n    <g id=\"ytick_3\">\n     <g id=\"line2d_8\">\n      <g>\n       <use style=\"stroke:#000000;stroke-width:0.8;\" x=\"23.878125\" xlink:href=\"#m048c9498aa\" y=\"120.759062\"/>\n      </g>\n     </g>\n     <g id=\"text_8\">\n      <!-- 3 -->\n      <g transform=\"translate(14.798438 123.322344)rotate(-90)scale(0.1 -0.1)\">\n       <use xlink:href=\"#DejaVuSans-51\"/>\n      </g>\n     </g>\n    </g>\n    <g id=\"ytick_4\">\n     <g id=\"line2d_9\">\n      <g>\n       <use style=\"stroke:#000000;stroke-width:0.8;\" x=\"23.878125\" xlink:href=\"#m048c9498aa\" y=\"175.119062\"/>\n      </g>\n     </g>\n     <g id=\"text_9\">\n      <!-- 4 -->\n      <g transform=\"translate(14.798438 177.682344)rotate(-90)scale(0.1 -0.1)\">\n       <use xlink:href=\"#DejaVuSans-52\"/>\n      </g>\n     </g>\n    </g>\n    <g id=\"ytick_5\">\n     <g id=\"line2d_10\">\n      <g>\n       <use style=\"stroke:#000000;stroke-width:0.8;\" x=\"23.878125\" xlink:href=\"#m048c9498aa\" y=\"229.479062\"/>\n      </g>\n     </g>\n     <g id=\"text_10\">\n      <!-- 5 -->\n      <g transform=\"translate(14.798438 232.042344)rotate(-90)scale(0.1 -0.1)\">\n       <use xlink:href=\"#DejaVuSans-53\"/>\n      </g>\n     </g>\n    </g>\n   </g>\n   <g id=\"text_11\">\n    <!-- 98 -->\n    <defs>\n     <path d=\"M 10.984375 1.515625 \nL 10.984375 10.5 \nQ 14.703125 8.734375 18.5 7.8125 \nQ 22.3125 6.890625 25.984375 6.890625 \nQ 35.75 6.890625 40.890625 13.453125 \nQ 46.046875 20.015625 46.78125 33.40625 \nQ 43.953125 29.203125 39.59375 26.953125 \nQ 35.25 24.703125 29.984375 24.703125 \nQ 19.046875 24.703125 12.671875 31.3125 \nQ 6.296875 37.9375 6.296875 49.421875 \nQ 6.296875 60.640625 12.9375 67.421875 \nQ 19.578125 74.21875 30.609375 74.21875 \nQ 43.265625 74.21875 49.921875 64.515625 \nQ 56.59375 54.828125 56.59375 36.375 \nQ 56.59375 19.140625 48.40625 8.859375 \nQ 40.234375 -1.421875 26.421875 -1.421875 \nQ 22.703125 -1.421875 18.890625 -0.6875 \nQ 15.09375 0.046875 10.984375 1.515625 \nz\nM 30.609375 32.421875 \nQ 37.25 32.421875 41.125 36.953125 \nQ 45.015625 41.5 45.015625 49.421875 \nQ 45.015625 57.28125 41.125 61.84375 \nQ 37.25 66.40625 30.609375 66.40625 \nQ 23.96875 66.40625 20.09375 61.84375 \nQ 16.21875 57.28125 16.21875 49.421875 \nQ 16.21875 41.5 20.09375 36.953125 \nQ 23.96875 32.421875 30.609375 32.421875 \nz\n\" id=\"DejaVuSans-57\"/>\n     <path d=\"M 31.78125 34.625 \nQ 24.75 34.625 20.71875 30.859375 \nQ 16.703125 27.09375 16.703125 20.515625 \nQ 16.703125 13.921875 20.71875 10.15625 \nQ 24.75 6.390625 31.78125 6.390625 \nQ 38.8125 6.390625 42.859375 10.171875 \nQ 46.921875 13.96875 46.921875 20.515625 \nQ 46.921875 27.09375 42.890625 30.859375 \nQ 38.875 34.625 31.78125 34.625 \nz\nM 21.921875 38.8125 \nQ 15.578125 40.375 12.03125 44.71875 \nQ 8.5 49.078125 8.5 55.328125 \nQ 8.5 64.0625 14.71875 69.140625 \nQ 20.953125 74.21875 31.78125 74.21875 \nQ 42.671875 74.21875 48.875 69.140625 \nQ 55.078125 64.0625 55.078125 55.328125 \nQ 55.078125 49.078125 51.53125 44.71875 \nQ 48 40.375 41.703125 38.8125 \nQ 48.828125 37.15625 52.796875 32.3125 \nQ 56.78125 27.484375 56.78125 20.515625 \nQ 56.78125 9.90625 50.3125 4.234375 \nQ 43.84375 -1.421875 31.78125 -1.421875 \nQ 19.734375 -1.421875 13.25 4.234375 \nQ 6.78125 9.90625 6.78125 20.515625 \nQ 6.78125 27.484375 10.78125 32.3125 \nQ 14.796875 37.15625 21.921875 38.8125 \nz\nM 18.3125 54.390625 \nQ 18.3125 48.734375 21.84375 45.5625 \nQ 25.390625 42.390625 31.78125 42.390625 \nQ 38.140625 42.390625 41.71875 45.5625 \nQ 45.3125 48.734375 45.3125 54.390625 \nQ 45.3125 60.0625 41.71875 63.234375 \nQ 38.140625 66.40625 31.78125 66.40625 \nQ 25.390625 66.40625 21.84375 63.234375 \nQ 18.3125 60.0625 18.3125 54.390625 \nz\n\" id=\"DejaVuSans-56\"/>\n    </defs>\n    <g style=\"fill:#262626;\" transform=\"translate(44.299625 14.798437)scale(0.1 -0.1)\">\n     <use xlink:href=\"#DejaVuSans-57\"/>\n     <use x=\"63.623047\" xlink:href=\"#DejaVuSans-56\"/>\n    </g>\n   </g>\n   <g id=\"text_12\">\n    <!-- 0 -->\n    <defs>\n     <path d=\"M 31.78125 66.40625 \nQ 24.171875 66.40625 20.328125 58.90625 \nQ 16.5 51.421875 16.5 36.375 \nQ 16.5 21.390625 20.328125 13.890625 \nQ 24.171875 6.390625 31.78125 6.390625 \nQ 39.453125 6.390625 43.28125 13.890625 \nQ 47.125 21.390625 47.125 36.375 \nQ 47.125 51.421875 43.28125 58.90625 \nQ 39.453125 66.40625 31.78125 66.40625 \nz\nM 31.78125 74.21875 \nQ 44.046875 74.21875 50.515625 64.515625 \nQ 56.984375 54.828125 56.984375 36.375 \nQ 56.984375 17.96875 50.515625 8.265625 \nQ 44.046875 -1.421875 31.78125 -1.421875 \nQ 19.53125 -1.421875 13.0625 8.265625 \nQ 6.59375 17.96875 6.59375 36.375 \nQ 6.59375 54.828125 13.0625 64.515625 \nQ 19.53125 74.21875 31.78125 74.21875 \nz\n\" id=\"DejaVuSans-48\"/>\n    </defs>\n    <g style=\"fill:#262626;\" transform=\"translate(101.048875 14.798437)scale(0.1 -0.1)\">\n     <use xlink:href=\"#DejaVuSans-48\"/>\n    </g>\n   </g>\n   <g id=\"text_13\">\n    <!-- 0 -->\n    <g style=\"fill:#262626;\" transform=\"translate(154.616875 14.798437)scale(0.1 -0.1)\">\n     <use xlink:href=\"#DejaVuSans-48\"/>\n    </g>\n   </g>\n   <g id=\"text_14\">\n    <!-- 0 -->\n    <g style=\"fill:#262626;\" transform=\"translate(208.184875 14.798437)scale(0.1 -0.1)\">\n     <use xlink:href=\"#DejaVuSans-48\"/>\n    </g>\n   </g>\n   <g id=\"text_15\">\n    <!-- 30 -->\n    <g style=\"fill:#262626;\" transform=\"translate(258.571625 14.798437)scale(0.1 -0.1)\">\n     <use xlink:href=\"#DejaVuSans-51\"/>\n     <use x=\"63.623047\" xlink:href=\"#DejaVuSans-48\"/>\n    </g>\n   </g>\n   <g id=\"text_16\">\n    <!-- 42 -->\n    <g style=\"fill:#262626;\" transform=\"translate(44.299625 69.158437)scale(0.1 -0.1)\">\n     <use xlink:href=\"#DejaVuSans-52\"/>\n     <use x=\"63.623047\" xlink:href=\"#DejaVuSans-50\"/>\n    </g>\n   </g>\n   <g id=\"text_17\">\n    <!-- 0 -->\n    <g style=\"fill:#262626;\" transform=\"translate(101.048875 69.158437)scale(0.1 -0.1)\">\n     <use xlink:href=\"#DejaVuSans-48\"/>\n    </g>\n   </g>\n   <g id=\"text_18\">\n    <!-- 0 -->\n    <g style=\"fill:#262626;\" transform=\"translate(154.616875 69.158437)scale(0.1 -0.1)\">\n     <use xlink:href=\"#DejaVuSans-48\"/>\n    </g>\n   </g>\n   <g id=\"text_19\">\n    <!-- 0 -->\n    <g style=\"fill:#262626;\" transform=\"translate(208.184875 69.158437)scale(0.1 -0.1)\">\n     <use xlink:href=\"#DejaVuSans-48\"/>\n    </g>\n   </g>\n   <g id=\"text_20\">\n    <!-- 23 -->\n    <g style=\"fill:#262626;\" transform=\"translate(258.571625 69.158437)scale(0.1 -0.1)\">\n     <use xlink:href=\"#DejaVuSans-50\"/>\n     <use x=\"63.623047\" xlink:href=\"#DejaVuSans-51\"/>\n    </g>\n   </g>\n   <g id=\"text_21\">\n    <!-- 46 -->\n    <defs>\n     <path d=\"M 33.015625 40.375 \nQ 26.375 40.375 22.484375 35.828125 \nQ 18.609375 31.296875 18.609375 23.390625 \nQ 18.609375 15.53125 22.484375 10.953125 \nQ 26.375 6.390625 33.015625 6.390625 \nQ 39.65625 6.390625 43.53125 10.953125 \nQ 47.40625 15.53125 47.40625 23.390625 \nQ 47.40625 31.296875 43.53125 35.828125 \nQ 39.65625 40.375 33.015625 40.375 \nz\nM 52.59375 71.296875 \nL 52.59375 62.3125 \nQ 48.875 64.0625 45.09375 64.984375 \nQ 41.3125 65.921875 37.59375 65.921875 \nQ 27.828125 65.921875 22.671875 59.328125 \nQ 17.53125 52.734375 16.796875 39.40625 \nQ 19.671875 43.65625 24.015625 45.921875 \nQ 28.375 48.1875 33.59375 48.1875 \nQ 44.578125 48.1875 50.953125 41.515625 \nQ 57.328125 34.859375 57.328125 23.390625 \nQ 57.328125 12.15625 50.6875 5.359375 \nQ 44.046875 -1.421875 33.015625 -1.421875 \nQ 20.359375 -1.421875 13.671875 8.265625 \nQ 6.984375 17.96875 6.984375 36.375 \nQ 6.984375 53.65625 15.1875 63.9375 \nQ 23.390625 74.21875 37.203125 74.21875 \nQ 40.921875 74.21875 44.703125 73.484375 \nQ 48.484375 72.75 52.59375 71.296875 \nz\n\" id=\"DejaVuSans-54\"/>\n    </defs>\n    <g style=\"fill:#262626;\" transform=\"translate(44.299625 123.518437)scale(0.1 -0.1)\">\n     <use xlink:href=\"#DejaVuSans-52\"/>\n     <use x=\"63.623047\" xlink:href=\"#DejaVuSans-54\"/>\n    </g>\n   </g>\n   <g id=\"text_22\">\n    <!-- 0 -->\n    <g style=\"fill:#262626;\" transform=\"translate(101.048875 123.518437)scale(0.1 -0.1)\">\n     <use xlink:href=\"#DejaVuSans-48\"/>\n    </g>\n   </g>\n   <g id=\"text_23\">\n    <!-- 0 -->\n    <g style=\"fill:#262626;\" transform=\"translate(154.616875 123.518437)scale(0.1 -0.1)\">\n     <use xlink:href=\"#DejaVuSans-48\"/>\n    </g>\n   </g>\n   <g id=\"text_24\">\n    <!-- 0 -->\n    <g style=\"fill:#262626;\" transform=\"translate(208.184875 123.518437)scale(0.1 -0.1)\">\n     <use xlink:href=\"#DejaVuSans-48\"/>\n    </g>\n   </g>\n   <g id=\"text_25\">\n    <!-- 56 -->\n    <g style=\"fill:#262626;\" transform=\"translate(258.571625 123.518437)scale(0.1 -0.1)\">\n     <use xlink:href=\"#DejaVuSans-53\"/>\n     <use x=\"63.623047\" xlink:href=\"#DejaVuSans-54\"/>\n    </g>\n   </g>\n   <g id=\"text_26\">\n    <!-- 15 -->\n    <g style=\"fill:#262626;\" transform=\"translate(44.299625 177.878437)scale(0.1 -0.1)\">\n     <use xlink:href=\"#DejaVuSans-49\"/>\n     <use x=\"63.623047\" xlink:href=\"#DejaVuSans-53\"/>\n    </g>\n   </g>\n   <g id=\"text_27\">\n    <!-- 0 -->\n    <g style=\"fill:#262626;\" transform=\"translate(101.048875 177.878437)scale(0.1 -0.1)\">\n     <use xlink:href=\"#DejaVuSans-48\"/>\n    </g>\n   </g>\n   <g id=\"text_28\">\n    <!-- 0 -->\n    <g style=\"fill:#262626;\" transform=\"translate(154.616875 177.878437)scale(0.1 -0.1)\">\n     <use xlink:href=\"#DejaVuSans-48\"/>\n    </g>\n   </g>\n   <g id=\"text_29\">\n    <!-- 0 -->\n    <g style=\"fill:#262626;\" transform=\"translate(208.184875 177.878437)scale(0.1 -0.1)\">\n     <use xlink:href=\"#DejaVuSans-48\"/>\n    </g>\n   </g>\n   <g id=\"text_30\">\n    <!-- 125 -->\n    <g style=\"fill:#262626;\" transform=\"translate(255.390375 177.878437)scale(0.1 -0.1)\">\n     <use xlink:href=\"#DejaVuSans-49\"/>\n     <use x=\"63.623047\" xlink:href=\"#DejaVuSans-50\"/>\n     <use x=\"127.246094\" xlink:href=\"#DejaVuSans-53\"/>\n    </g>\n   </g>\n   <g id=\"text_31\">\n    <!-- 29 -->\n    <g style=\"fill:#262626;\" transform=\"translate(44.299625 232.238437)scale(0.1 -0.1)\">\n     <use xlink:href=\"#DejaVuSans-50\"/>\n     <use x=\"63.623047\" xlink:href=\"#DejaVuSans-57\"/>\n    </g>\n   </g>\n   <g id=\"text_32\">\n    <!-- 0 -->\n    <g style=\"fill:#262626;\" transform=\"translate(101.048875 232.238437)scale(0.1 -0.1)\">\n     <use xlink:href=\"#DejaVuSans-48\"/>\n    </g>\n   </g>\n   <g id=\"text_33\">\n    <!-- 0 -->\n    <g style=\"fill:#262626;\" transform=\"translate(154.616875 232.238437)scale(0.1 -0.1)\">\n     <use xlink:href=\"#DejaVuSans-48\"/>\n    </g>\n   </g>\n   <g id=\"text_34\">\n    <!-- 0 -->\n    <g style=\"fill:#262626;\" transform=\"translate(208.184875 232.238437)scale(0.1 -0.1)\">\n     <use xlink:href=\"#DejaVuSans-48\"/>\n    </g>\n   </g>\n   <g id=\"text_35\">\n    <!-- 536 -->\n    <g style=\"fill:#ffffff;\" transform=\"translate(255.390375 232.238437)scale(0.1 -0.1)\">\n     <use xlink:href=\"#DejaVuSans-53\"/>\n     <use x=\"63.623047\" xlink:href=\"#DejaVuSans-51\"/>\n     <use x=\"127.246094\" xlink:href=\"#DejaVuSans-54\"/>\n    </g>\n   </g>\n  </g>\n  <g id=\"axes_2\">\n   <g id=\"patch_3\">\n    <path clip-path=\"url(#p2bd8f63063)\" d=\"M 308.458125 229.479062 \nL 308.458125 228.629687 \nL 308.458125 12.888437 \nL 308.458125 12.039062 \nL 319.330125 12.039062 \nL 319.330125 12.888437 \nL 319.330125 228.629687 \nL 319.330125 229.479062 \nz\n\" style=\"fill:#ffffff;stroke:#ffffff;stroke-linejoin:miter;stroke-width:0.01;\"/>\n   </g>\n   <image height=\"217\" id=\"imagec2f3157272\" transform=\"scale(1 -1)translate(0 -217)\" width=\"11\" x=\"308\" xlink:href=\"data:image/png;base64,\niVBORw0KGgoAAAANSUhEUgAAAAsAAADZCAYAAAD2WsoCAAAABHNCSVQICAgIfAhkiAAAARtJREFUaIHtmDEOQyEMQ6nE/Y/bofqEru3GG55kEJ2tyHEch9/X+zNnW/z12ZaxrQNs6wDbeq1TNmkAFlA6VjmExjoWDwVwLlLZo+FJN4n5TRqosrWwaNwh8ZWysBtKd3zyX/P/g4n5PRoZ0g0x+a0L68UXUyMjRYvpbHFGNEJeMnDcFo3SKpvmB5VNNQB4gJRhm8LiK2OtHqIG46ydY1QZgb07GGIkZv71wupN0Yz0gA73DHO23RHmFw+9lnVefHnfKVt6wzO/+IyP8EaI+UMqV60ndApnZqQ77h8wVCMiGMVXwTi8QbTd7F810RsaOMP8ITqf742McYd4Ax76CM6MRg0AZg2iTfEqE/D5anjeQDrfcedV9sZtNfgF3i7dE92gvEIAAAAASUVORK5CYII=\" y=\"-12\"/>\n   <g id=\"matplotlib.axis_3\"/>\n   <g id=\"matplotlib.axis_4\">\n    <g id=\"ytick_6\">\n     <g id=\"line2d_11\">\n      <defs>\n       <path d=\"M 0 0 \nL 3.5 0 \n\" id=\"m2a7116b2ff\" style=\"stroke:#000000;stroke-width:0.8;\"/>\n      </defs>\n      <g>\n       <use style=\"stroke:#000000;stroke-width:0.8;\" x=\"319.330125\" xlink:href=\"#m2a7116b2ff\" y=\"229.479062\"/>\n      </g>\n     </g>\n     <g id=\"text_36\">\n      <!-- 0 -->\n      <g transform=\"translate(326.330125 233.278281)scale(0.1 -0.1)\">\n       <use xlink:href=\"#DejaVuSans-48\"/>\n      </g>\n     </g>\n    </g>\n    <g id=\"ytick_7\">\n     <g id=\"line2d_12\">\n      <g>\n       <use style=\"stroke:#000000;stroke-width:0.8;\" x=\"319.330125\" xlink:href=\"#m2a7116b2ff\" y=\"188.911898\"/>\n      </g>\n     </g>\n     <g id=\"text_37\">\n      <!-- 100 -->\n      <g transform=\"translate(326.330125 192.711117)scale(0.1 -0.1)\">\n       <use xlink:href=\"#DejaVuSans-49\"/>\n       <use x=\"63.623047\" xlink:href=\"#DejaVuSans-48\"/>\n       <use x=\"127.246094\" xlink:href=\"#DejaVuSans-48\"/>\n      </g>\n     </g>\n    </g>\n    <g id=\"ytick_8\">\n     <g id=\"line2d_13\">\n      <g>\n       <use style=\"stroke:#000000;stroke-width:0.8;\" x=\"319.330125\" xlink:href=\"#m2a7116b2ff\" y=\"148.344734\"/>\n      </g>\n     </g>\n     <g id=\"text_38\">\n      <!-- 200 -->\n      <g transform=\"translate(326.330125 152.143953)scale(0.1 -0.1)\">\n       <use xlink:href=\"#DejaVuSans-50\"/>\n       <use x=\"63.623047\" xlink:href=\"#DejaVuSans-48\"/>\n       <use x=\"127.246094\" xlink:href=\"#DejaVuSans-48\"/>\n      </g>\n     </g>\n    </g>\n    <g id=\"ytick_9\">\n     <g id=\"line2d_14\">\n      <g>\n       <use style=\"stroke:#000000;stroke-width:0.8;\" x=\"319.330125\" xlink:href=\"#m2a7116b2ff\" y=\"107.77757\"/>\n      </g>\n     </g>\n     <g id=\"text_39\">\n      <!-- 300 -->\n      <g transform=\"translate(326.330125 111.576789)scale(0.1 -0.1)\">\n       <use xlink:href=\"#DejaVuSans-51\"/>\n       <use x=\"63.623047\" xlink:href=\"#DejaVuSans-48\"/>\n       <use x=\"127.246094\" xlink:href=\"#DejaVuSans-48\"/>\n      </g>\n     </g>\n    </g>\n    <g id=\"ytick_10\">\n     <g id=\"line2d_15\">\n      <g>\n       <use style=\"stroke:#000000;stroke-width:0.8;\" x=\"319.330125\" xlink:href=\"#m2a7116b2ff\" y=\"67.210406\"/>\n      </g>\n     </g>\n     <g id=\"text_40\">\n      <!-- 400 -->\n      <g transform=\"translate(326.330125 71.009625)scale(0.1 -0.1)\">\n       <use xlink:href=\"#DejaVuSans-52\"/>\n       <use x=\"63.623047\" xlink:href=\"#DejaVuSans-48\"/>\n       <use x=\"127.246094\" xlink:href=\"#DejaVuSans-48\"/>\n      </g>\n     </g>\n    </g>\n    <g id=\"ytick_11\">\n     <g id=\"line2d_16\">\n      <g>\n       <use style=\"stroke:#000000;stroke-width:0.8;\" x=\"319.330125\" xlink:href=\"#m2a7116b2ff\" y=\"26.643242\"/>\n      </g>\n     </g>\n     <g id=\"text_41\">\n      <!-- 500 -->\n      <g transform=\"translate(326.330125 30.44246)scale(0.1 -0.1)\">\n       <use xlink:href=\"#DejaVuSans-53\"/>\n       <use x=\"63.623047\" xlink:href=\"#DejaVuSans-48\"/>\n       <use x=\"127.246094\" xlink:href=\"#DejaVuSans-48\"/>\n      </g>\n     </g>\n    </g>\n   </g>\n   <g id=\"patch_4\">\n    <path d=\"M 308.458125 229.479062 \nL 308.458125 228.629687 \nL 308.458125 12.888437 \nL 308.458125 12.039062 \nL 319.330125 12.039062 \nL 319.330125 12.888437 \nL 319.330125 228.629687 \nL 319.330125 229.479062 \nz\n\" style=\"fill:none;\"/>\n   </g>\n  </g>\n </g>\n <defs>\n  <clipPath id=\"pbf52a99fcb\">\n   <rect height=\"217.44\" width=\"267.84\" x=\"23.878125\" y=\"12.039062\"/>\n  </clipPath>\n  <clipPath id=\"p2bd8f63063\">\n   <rect height=\"217.44\" width=\"10.872\" x=\"308.458125\" y=\"12.039062\"/>\n  </clipPath>\n </defs>\n</svg>\n",
            "image/png": "[encoded data removed]"
          },
          "metadata": {
            "needs_background": "light"
          }
        }
      ]
    },
    {
      "cell_type": "code",
      "metadata": {
        "colab": {
          "base_uri": "https://localhost:8080/"
        },
        "id": "rt0LWh7ufAes",
        "outputId": "dc9d302e-e9cf-4383-92ec-7db8375784ca"
      },
      "source": [
        "import tensorflow as tf\n",
        "\n",
        "model = tf.keras.models.load_model(\"model.h5\")\n",
        "\n",
        "# view model architecture to confirm we have save and loaded correctly\n",
        "model.summary()"
      ],
      "execution_count": 71,
      "outputs": [
        {
          "output_type": "stream",
          "text": [
            "Model: \"model\"\n",
            "__________________________________________________________________________________________________\n",
            "Layer (type)                    Output Shape         Param #     Connected to                     \n",
            "==================================================================================================\n",
            "input_ids (InputLayer)          [(None, 128)]        0                                            \n",
            "__________________________________________________________________________________________________\n",
            "attention_mask (InputLayer)     [(None, 128)]        0                                            \n",
            "__________________________________________________________________________________________________\n",
            "bert (TFBertMainLayer)          TFBaseModelOutputWit 108310272   input_ids[0][0]                  \n",
            "                                                                 attention_mask[0][0]             \n",
            "__________________________________________________________________________________________________\n",
            "dropout_37 (Dropout)            (None, 128, 768)     0           bert[0][0]                       \n",
            "__________________________________________________________________________________________________\n",
            "global_max_pooling1d (GlobalMax (None, 768)          0           dropout_37[0][0]                 \n",
            "__________________________________________________________________________________________________\n",
            "outputs (Dense)                 (None, 5)            3845        global_max_pooling1d[0][0]       \n",
            "==================================================================================================\n",
            "Total params: 108,314,117\n",
            "Trainable params: 3,845\n",
            "Non-trainable params: 108,310,272\n",
            "__________________________________________________________________________________________________\n"
          ],
          "name": "stdout"
        }
      ]
    },
    {
      "cell_type": "code",
      "metadata": {
        "id": "NN1T0hJ5qylM"
      },
      "source": [],
      "execution_count": null,
      "outputs": []
    }
  ]
}
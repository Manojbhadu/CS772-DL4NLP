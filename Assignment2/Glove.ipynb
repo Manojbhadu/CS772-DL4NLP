{
  "nbformat": 4,
  "nbformat_minor": 0,
  "metadata": {
    "kernelspec": {
      "display_name": "Python 3",
      "language": "python",
      "name": "python3"
    },
    "language_info": {
      "codemirror_mode": {
        "name": "ipython",
        "version": 3
      },
      "file_extension": ".py",
      "mimetype": "text/x-python",
      "name": "python",
      "nbconvert_exporter": "python",
      "pygments_lexer": "ipython3",
      "version": "3.6.9-final"
    },
    "colab": {
      "name": "Glove.ipynb",
      "provenance": [],
      "collapsed_sections": []
    },
    "widgets": {
      "application/vnd.jupyter.widget-state+json": {
        "0115a40b12b74e8fa40e420debba519c": {
          "model_module": "@jupyter-widgets/controls",
          "model_name": "TextareaModel",
          "state": {
            "_view_name": "TextareaView",
            "style": "IPY_MODEL_3d95b3d220ad482f9448c785856a20cf",
            "rows": null,
            "_dom_classes": [],
            "description": "String:",
            "_model_name": "TextareaModel",
            "placeholder": "Type something",
            "_view_module": "@jupyter-widgets/controls",
            "_model_module_version": "1.5.0",
            "value": "the movie was terrible",
            "_view_count": null,
            "disabled": false,
            "_view_module_version": "1.5.0",
            "continuous_update": true,
            "description_tooltip": null,
            "_model_module": "@jupyter-widgets/controls",
            "layout": "IPY_MODEL_d1b2b1400d6c45f6851f0ae28282c551"
          }
        },
        "3d95b3d220ad482f9448c785856a20cf": {
          "model_module": "@jupyter-widgets/controls",
          "model_name": "DescriptionStyleModel",
          "state": {
            "_view_name": "StyleView",
            "_model_name": "DescriptionStyleModel",
            "description_width": "",
            "_view_module": "@jupyter-widgets/base",
            "_model_module_version": "1.5.0",
            "_view_count": null,
            "_view_module_version": "1.2.0",
            "_model_module": "@jupyter-widgets/controls"
          }
        },
        "d1b2b1400d6c45f6851f0ae28282c551": {
          "model_module": "@jupyter-widgets/base",
          "model_name": "LayoutModel",
          "state": {
            "_view_name": "LayoutView",
            "grid_template_rows": null,
            "right": null,
            "justify_content": null,
            "_view_module": "@jupyter-widgets/base",
            "overflow": null,
            "_model_module_version": "1.2.0",
            "_view_count": null,
            "flex_flow": null,
            "width": null,
            "min_width": null,
            "border": null,
            "align_items": null,
            "bottom": null,
            "_model_module": "@jupyter-widgets/base",
            "top": null,
            "grid_column": null,
            "overflow_y": null,
            "overflow_x": null,
            "grid_auto_flow": null,
            "grid_area": null,
            "grid_template_columns": null,
            "flex": null,
            "_model_name": "LayoutModel",
            "justify_items": null,
            "grid_row": null,
            "max_height": null,
            "align_content": null,
            "visibility": null,
            "align_self": null,
            "height": null,
            "min_height": null,
            "padding": null,
            "grid_auto_rows": null,
            "grid_gap": null,
            "max_width": null,
            "order": null,
            "_view_module_version": "1.2.0",
            "grid_template_areas": null,
            "object_position": null,
            "object_fit": null,
            "grid_auto_columns": null,
            "margin": null,
            "display": null,
            "left": null
          }
        },
        "67338f262b4c42768e7af0318a2b3081": {
          "model_module": "@jupyter-widgets/controls",
          "model_name": "ButtonModel",
          "state": {
            "_view_name": "ButtonView",
            "style": "IPY_MODEL_f45a021f3cab4085ae6f7127ad19b875",
            "_dom_classes": [],
            "description": "Predict!",
            "_model_name": "ButtonModel",
            "button_style": "",
            "_view_module": "@jupyter-widgets/controls",
            "_model_module_version": "1.5.0",
            "tooltip": "",
            "_view_count": null,
            "disabled": false,
            "_view_module_version": "1.5.0",
            "layout": "IPY_MODEL_1b797b7f41684576aeae7684bd847a95",
            "_model_module": "@jupyter-widgets/controls",
            "icon": ""
          }
        },
        "f45a021f3cab4085ae6f7127ad19b875": {
          "model_module": "@jupyter-widgets/controls",
          "model_name": "ButtonStyleModel",
          "state": {
            "_view_name": "StyleView",
            "_model_name": "ButtonStyleModel",
            "_view_module": "@jupyter-widgets/base",
            "_model_module_version": "1.5.0",
            "_view_count": null,
            "button_color": null,
            "font_weight": "",
            "_view_module_version": "1.2.0",
            "_model_module": "@jupyter-widgets/controls"
          }
        },
        "1b797b7f41684576aeae7684bd847a95": {
          "model_module": "@jupyter-widgets/base",
          "model_name": "LayoutModel",
          "state": {
            "_view_name": "LayoutView",
            "grid_template_rows": null,
            "right": null,
            "justify_content": null,
            "_view_module": "@jupyter-widgets/base",
            "overflow": null,
            "_model_module_version": "1.2.0",
            "_view_count": null,
            "flex_flow": null,
            "width": null,
            "min_width": null,
            "border": null,
            "align_items": null,
            "bottom": null,
            "_model_module": "@jupyter-widgets/base",
            "top": null,
            "grid_column": null,
            "overflow_y": null,
            "overflow_x": null,
            "grid_auto_flow": null,
            "grid_area": null,
            "grid_template_columns": null,
            "flex": null,
            "_model_name": "LayoutModel",
            "justify_items": null,
            "grid_row": null,
            "max_height": null,
            "align_content": null,
            "visibility": null,
            "align_self": null,
            "height": null,
            "min_height": null,
            "padding": null,
            "grid_auto_rows": null,
            "grid_gap": null,
            "max_width": null,
            "order": null,
            "_view_module_version": "1.2.0",
            "grid_template_areas": null,
            "object_position": null,
            "object_fit": null,
            "grid_auto_columns": null,
            "margin": null,
            "display": null,
            "left": null
          }
        },
        "923ebe2951894a8398f7660316b48ad3": {
          "model_module": "@jupyter-widgets/output",
          "model_name": "OutputModel",
          "state": {
            "_view_name": "OutputView",
            "msg_id": "",
            "_dom_classes": [],
            "_model_name": "OutputModel",
            "outputs": [
              {
                "output_type": "stream",
                "metadata": {
                  "tags": []
                },
                "text": "Predicted Sentiment: 1\n",
                "stream": "stdout"
              }
            ],
            "_view_module": "@jupyter-widgets/output",
            "_model_module_version": "1.0.0",
            "_view_count": null,
            "_view_module_version": "1.0.0",
            "layout": "IPY_MODEL_4c0e0cd576104cb8bd28c0fb6a85287d",
            "_model_module": "@jupyter-widgets/output"
          }
        },
        "4c0e0cd576104cb8bd28c0fb6a85287d": {
          "model_module": "@jupyter-widgets/base",
          "model_name": "LayoutModel",
          "state": {
            "_view_name": "LayoutView",
            "grid_template_rows": null,
            "right": null,
            "justify_content": null,
            "_view_module": "@jupyter-widgets/base",
            "overflow": null,
            "_model_module_version": "1.2.0",
            "_view_count": null,
            "flex_flow": null,
            "width": null,
            "min_width": null,
            "border": null,
            "align_items": null,
            "bottom": null,
            "_model_module": "@jupyter-widgets/base",
            "top": null,
            "grid_column": null,
            "overflow_y": null,
            "overflow_x": null,
            "grid_auto_flow": null,
            "grid_area": null,
            "grid_template_columns": null,
            "flex": null,
            "_model_name": "LayoutModel",
            "justify_items": null,
            "grid_row": null,
            "max_height": null,
            "align_content": null,
            "visibility": null,
            "align_self": null,
            "height": null,
            "min_height": null,
            "padding": null,
            "grid_auto_rows": null,
            "grid_gap": null,
            "max_width": null,
            "order": null,
            "_view_module_version": "1.2.0",
            "grid_template_areas": null,
            "object_position": null,
            "object_fit": null,
            "grid_auto_columns": null,
            "margin": null,
            "display": null,
            "left": null
          }
        }
      }
    }
  },
  "cells": [
    {
      "cell_type": "code",
      "metadata": {
        "id": "HWxaiMA7KahS"
      },
      "source": [
        "import pandas as pd\n",
        "import numpy as np\n",
        "import tensorflow as tf\n",
        "import nltk\n",
        "from nltk.corpus import stopwords\n",
        "from keras.preprocessing.sequence import pad_sequences\n",
        "import re\n",
        "from keras.preprocessing.text import Tokenizer\n",
        "from keras.models import Sequential\n",
        "from keras.layers import Dense, InputLayer, Activation, Flatten\n",
        "from keras.optimizers import Adam\n",
        "from sklearn.metrics import accuracy_score,classification_report,confusion_matrix\n",
        "import seaborn as sns\n",
        "import gensim\n",
        "import gensim.downloader"
      ],
      "execution_count": null,
      "outputs": []
    },
    {
      "cell_type": "code",
      "metadata": {
        "colab": {
          "base_uri": "https://localhost:8080/"
        },
        "id": "c9KlIsZALGHS",
        "outputId": "359f6d3d-a83d-456e-bf0f-959b8caab319"
      },
      "source": [
        "import nltk\n",
        "nltk.download('punkt')"
      ],
      "execution_count": null,
      "outputs": [
        {
          "output_type": "stream",
          "text": [
            "[nltk_data] Downloading package punkt to /root/nltk_data...\n",
            "[nltk_data]   Unzipping tokenizers/punkt.zip.\n"
          ],
          "name": "stdout"
        },
        {
          "output_type": "execute_result",
          "data": {
            "text/plain": [
              "True"
            ]
          },
          "metadata": {
            "tags": []
          },
          "execution_count": 3
        }
      ]
    },
    {
      "cell_type": "code",
      "metadata": {
        "colab": {
          "base_uri": "https://localhost:8080/"
        },
        "id": "Y1MgpOegKahV",
        "outputId": "f780f74c-5b4e-48cc-adc9-226d1fab6bde"
      },
      "source": [
        "print(list(gensim.downloader.info()['models'].keys()))"
      ],
      "execution_count": null,
      "outputs": [
        {
          "output_type": "stream",
          "text": [
            "['fasttext-wiki-news-subwords-300', 'conceptnet-numberbatch-17-06-300', 'word2vec-ruscorpora-300', 'word2vec-google-news-300', 'glove-wiki-gigaword-50', 'glove-wiki-gigaword-100', 'glove-wiki-gigaword-200', 'glove-wiki-gigaword-300', 'glove-twitter-25', 'glove-twitter-50', 'glove-twitter-100', 'glove-twitter-200', '__testing_word2vec-matrix-synopsis']\n"
          ],
          "name": "stdout"
        }
      ]
    },
    {
      "cell_type": "code",
      "metadata": {
        "id": "6xayVW4DKahW",
        "colab": {
          "base_uri": "https://localhost:8080/"
        },
        "outputId": "e345cd9c-a350-4eec-f382-b3c6f8f0b80a"
      },
      "source": [
        "# word2vec_vectors_emb = gensim.downloader.load('word2vec-google-news-300')\n",
        "# fasttext_vectors_emb = gensim.downloader.load('fasttext-wiki-news-subwords-300')\n",
        "glove_vectors_emb = gensim.downloader.load('glove-wiki-gigaword-50')"
      ],
      "execution_count": null,
      "outputs": [
        {
          "output_type": "stream",
          "text": [
            "[==================================================] 100.0% 66.0/66.0MB downloaded\n"
          ],
          "name": "stdout"
        }
      ]
    },
    {
      "cell_type": "code",
      "metadata": {
        "id": "Bk3dIYA0KahW"
      },
      "source": [
        "train = pd.read_csv(\"train.csv\")\n",
        "test = pd.read_csv(\"test.csv\")  "
      ],
      "execution_count": null,
      "outputs": []
    },
    {
      "cell_type": "code",
      "metadata": {
        "id": "5lswgxaCM6kF"
      },
      "source": [
        ""
      ],
      "execution_count": null,
      "outputs": []
    },
    {
      "cell_type": "code",
      "metadata": {
        "id": "9Vsac8JtL__L"
      },
      "source": [
        "def undersample(train):\n",
        "    sizes = [len(train[train['ratings']==i]) for i in range(1,6)]\n",
        "    minority_rating = np.argmin(sizes) + 1\n",
        "    minority_class_len = np.min(sizes)\n",
        "    a = []\n",
        "    for i in range(1,6):\n",
        "        s = train[train['ratings']==i].index\n",
        "        random_indices = np.random.choice(s,minority_class_len,replace=False)\n",
        "        a.extend(random_indices)\n",
        "    balanced_train = train.loc[a]\n",
        "    return balanced_train\n",
        "\n",
        "def oversample(train):\n",
        "    sizes = [len(train[train['ratings']==i]) for i in range(1,6)]\n",
        "    majority_rating = np.argmax(sizes) + 1\n",
        "    majority_class_len = np.max(sizes)\n",
        "    a = []\n",
        "    for i in range(1,6):\n",
        "        s = train[train['ratings']==i].index\n",
        "        random_indices = np.random.choice(s,majority_class_len,replace=True)\n",
        "        a.extend(random_indices)\n",
        "    balanced_train = train.loc[a]\n",
        "    return balanced_train"
      ],
      "execution_count": null,
      "outputs": []
    },
    {
      "cell_type": "code",
      "metadata": {
        "id": "gdTYBwDpLhMg"
      },
      "source": [
        "#train = undersample(train)[['reviews','ratings']]\n",
        "#train.reset_index()\n",
        "#print(train)\n",
        "#train = train.drop(['index'])\n",
        "#train = oversample(train)\n"
      ],
      "execution_count": null,
      "outputs": []
    },
    {
      "cell_type": "code",
      "metadata": {
        "colab": {
          "base_uri": "https://localhost:8080/"
        },
        "id": "jQ2G-ow5KahX",
        "outputId": "874fbf48-1857-433c-f637-4645d3d334d1"
      },
      "source": [
        "train['reviews']"
      ],
      "execution_count": null,
      "outputs": [
        {
          "output_type": "execute_result",
          "data": {
            "text/plain": [
              "0        This book was very informative, covering all a...\n",
              "1        I am already a baseball fan and knew a bit abo...\n",
              "2        I didn't like this product it smudged all unde...\n",
              "3        I simply love the product. I appreciate print ...\n",
              "4        It goes on very easily and makes my eyes look ...\n",
              "                               ...                        \n",
              "49995                         it does not work((((((((((((\n",
              "49996    Really worthless, loud motor with absolutely n...\n",
              "49997    Don't waste your money on this. It does nothin...\n",
              "49998    Product does not remove ear wax. No suction, j...\n",
              "49999    If you wear hearing aids these are great for r...\n",
              "Name: reviews, Length: 50000, dtype: object"
            ]
          },
          "metadata": {
            "tags": []
          },
          "execution_count": 9
        }
      ]
    },
    {
      "cell_type": "code",
      "metadata": {
        "id": "eLtqpC8ZKahX"
      },
      "source": [
        ""
      ],
      "execution_count": null,
      "outputs": []
    },
    {
      "cell_type": "code",
      "metadata": {
        "id": "CJNnhhdxKahY"
      },
      "source": [
        "def convert_to_lower(text):\n",
        "    # return the reviews after convering then to lowercase\n",
        "    lower_text = text.copy()\n",
        "    for i in range(len(text)):\n",
        "        lower_text[i] = text[i].lower()\n",
        "    return lower_text"
      ],
      "execution_count": null,
      "outputs": []
    },
    {
      "cell_type": "code",
      "metadata": {
        "id": "HTI8jcS6KahY"
      },
      "source": [
        "def remove_punctuation(text):\n",
        "    #stop_words = set(stopwords.words('english'))\n",
        "    cleanedText = []\n",
        "    for test_str in text:\n",
        "        res = re.sub(r'[^\\w\\s]', '', test_str) \n",
        "        cleanedText.append(res)\n",
        "    return cleanedText"
      ],
      "execution_count": null,
      "outputs": []
    },
    {
      "cell_type": "code",
      "metadata": {
        "id": "f2KfNQQzKahZ"
      },
      "source": [
        "def remove_stopwords(text):\n",
        "    stop_words = set(stopwords.words('english'))\n",
        "    without_stopwords_text  = text.copy()\n",
        "    for i in range(len(text)):\n",
        "        without_stopwords_text[i] = [w for w in text[i] if w not in stop_words]\n",
        "    return without_stopwords_text"
      ],
      "execution_count": null,
      "outputs": []
    },
    {
      "cell_type": "code",
      "metadata": {
        "id": "kLCO1VgWKahZ"
      },
      "source": [
        "def perform_tokenization(text):\n",
        "    t = Tokenizer()\n",
        "    t.fit_on_texts(text)\n",
        "    encoded = t.texts_to_sequences(text)\n",
        "    return encoded"
      ],
      "execution_count": null,
      "outputs": []
    },
    {
      "cell_type": "code",
      "metadata": {
        "id": "RFkmGUmNKahZ"
      },
      "source": [
        "def get_dicts(train):\n",
        "    tokenizer = Tokenizer()\n",
        "    tokenizer.fit_on_texts(train)\n",
        "    words_to_index = tokenizer.word_index\n",
        "    return words_to_index"
      ],
      "execution_count": null,
      "outputs": []
    },
    {
      "cell_type": "code",
      "metadata": {
        "id": "9g2ZS_ISKahZ"
      },
      "source": [
        "# def gloveVector():\n",
        "#     wordMapping = {}\n",
        "#     fileName = ''\n",
        "#     with open(fileName, 'r', encoding='UTF-8') as f:\n",
        "#         for line in f:\n",
        "#             w_line = line.split()\n",
        "#             curr_word = w_line[0]\n",
        "#             wordMapping[curr_word] = np.array(w_line[1:], dtype=np.float64)\n",
        "#     return (wordMapping)\n",
        "\n"
      ],
      "execution_count": null,
      "outputs": []
    },
    {
      "cell_type": "code",
      "metadata": {
        "id": "BC9_k4l6Kaha"
      },
      "source": [
        "# word_to_index = get_dicts(train)\n",
        "# wordMap = gloveVector()\n",
        "# vocabSize = len(word_to_index)"
      ],
      "execution_count": null,
      "outputs": []
    },
    {
      "cell_type": "code",
      "metadata": {
        "id": "2feVClCnKaha"
      },
      "source": [
        "MAX_LENGTH = 50"
      ],
      "execution_count": null,
      "outputs": []
    },
    {
      "cell_type": "code",
      "metadata": {
        "id": "uW3P8jCKKaha"
      },
      "source": [
        "# def embeddingMatrix():\n",
        "#     vocab_len = len(word_to_index)\n",
        "#     embed_vector_len = wordMap['moon'].shape[0]\n",
        "#     emb_matrix = np.zeros((vocab_len, embed_vector_len))\n",
        "#     for word, index in word_to_index.items():\n",
        "#     embedding_vector = wordMap.get(word)\n",
        "#     if embedding_vector is not None:\n",
        "#         emb_matrix[index, :] = embedding_vector\n",
        "#     embedding_layer = Embedding(input_dim=vocab_len, output_dim=embed_vector_len, input_length=MAX_LENGTH, weights = [emb_matrix], trainable=False)\n",
        "#     return embedding_layer\n"
      ],
      "execution_count": null,
      "outputs": []
    },
    {
      "cell_type": "code",
      "metadata": {
        "id": "iT1_Dj8QKaha"
      },
      "source": [
        "def tokens(text):\n",
        "    a = text.copy()\n",
        "    for i in range(len(text)):\n",
        "        a[i] = nltk.word_tokenize(text[i])\n",
        "    return a"
      ],
      "execution_count": null,
      "outputs": []
    },
    {
      "cell_type": "code",
      "metadata": {
        "id": "d6Kn0lZdKahb"
      },
      "source": [
        "def perform_padding(data):\n",
        "  z=[]\n",
        "  for i in data:\n",
        "    k = [r for j in i for r in j]\n",
        "    result = np.zeros(MAX_LENGTH*50)\n",
        "    result[:len(k)] = np.array(k)\n",
        "    z.append(result)\n",
        "  return (np.array(z,dtype='float64'))"
      ],
      "execution_count": null,
      "outputs": []
    },
    {
      "cell_type": "code",
      "metadata": {
        "id": "xe-kKiwsKahb"
      },
      "source": [
        "def preprocess_data(data):\n",
        "    reviews = data[\"reviews\"].to_list()\n",
        "    #print(reviews)\n",
        "    reviews = convert_to_lower(reviews)\n",
        "    reviews = remove_punctuation(reviews)\n",
        "    reviews = tokens(reviews)\n",
        "    emb = []\n",
        "    for i in reviews:\n",
        "      tmp=[]\n",
        "      for j in i:\n",
        "        try:\n",
        "          tmp.append(glove_vectors_emb[j])\n",
        "        except KeyError:\n",
        "          tmp.append(np.zeros((50)))\n",
        "      emb.append(tmp)\n",
        "    padded = perform_padding(emb)    \n",
        "    return padded"
      ],
      "execution_count": null,
      "outputs": []
    },
    {
      "cell_type": "code",
      "metadata": {
        "id": "zjXi4Lt8Kahc"
      },
      "source": [
        "preprocessed_reviews = preprocess_data(train)"
      ],
      "execution_count": null,
      "outputs": []
    },
    {
      "cell_type": "code",
      "metadata": {
        "id": "dPnSIQinKahc"
      },
      "source": [
        "\n",
        "preprocessed_test_reviews = preprocess_data(test)"
      ],
      "execution_count": null,
      "outputs": []
    },
    {
      "cell_type": "code",
      "metadata": {
        "id": "_DJrYVrhKahc"
      },
      "source": [
        "def softmax_activation(x):\n",
        "    exp_x = np.exp(x)\n",
        "    return exp_x/np.sum(exp_x)"
      ],
      "execution_count": null,
      "outputs": []
    },
    {
      "cell_type": "code",
      "metadata": {
        "id": "6Px-83qkKahc"
      },
      "source": [
        ""
      ],
      "execution_count": null,
      "outputs": []
    },
    {
      "cell_type": "code",
      "metadata": {
        "id": "YZxfa9t5Kahd"
      },
      "source": [
        "class NeuralNetGlove:\n",
        "\n",
        "    def __init__(self, reviews, ratings):\n",
        "\n",
        "        self.reviews = reviews\n",
        "        self.ratings = ratings\n",
        "\n",
        "    def build_nn(self,hiddenLayers,activationHidden):\n",
        "        #add the input and output layer here; you can use either tensorflow or pytorch\n",
        "        self.model = Sequential()\n",
        "        self.model.add(InputLayer(input_shape=(MAX_LENGTH*50,)))\n",
        "        for i in range(hiddenLayers):\n",
        "            self.model.add(Dense(64,activation=activationHidden))\n",
        "        self.model.add(Dense(5,activation='softmax'))\n",
        "        self.model.compile(loss='categorical_crossentropy', optimizer=Adam(0.0001), metrics=['accuracy'])\n",
        "        self.model.summary()\n",
        "        \n",
        "    def train_nn(self,batch_size,epochs):\n",
        "        # write the training loop here; you can use either tensorflow or pytorch\n",
        "        # print validation accuracy\n",
        "        y_train = tf.keras.utils.to_categorical(self.ratings,num_classes=5)\n",
        "        self.history = self.model.fit(self.reviews, y_train, batch_size=batch_size, epochs=epochs, validation_split=0.2)\n",
        "        \n",
        "\n",
        "    def predict(self, reviews):\n",
        "        # return a list containing all the ratings predicted by the trained model\n",
        "        y_pred = self.model.predict(reviews)\n",
        "        pred1 = []\n",
        "        for i in range(len(y_pred)):\n",
        "            pred1.append(np.argmax(y_pred[i])+1)\n",
        "        return pred1"
      ],
      "execution_count": null,
      "outputs": []
    },
    {
      "cell_type": "code",
      "metadata": {
        "id": "kdaJYIr3Kahe"
      },
      "source": [
        "train_rating_list = train['ratings'].to_list()\n",
        "Y = [str(i-1) for i in train_rating_list]"
      ],
      "execution_count": null,
      "outputs": []
    },
    {
      "cell_type": "code",
      "metadata": {
        "id": "AM-09mPpKahe"
      },
      "source": [
        ""
      ],
      "execution_count": null,
      "outputs": []
    },
    {
      "cell_type": "code",
      "metadata": {
        "id": "Bn1KhlgQKahe"
      },
      "source": [
        ""
      ],
      "execution_count": null,
      "outputs": []
    },
    {
      "cell_type": "code",
      "metadata": {
        "id": "4msb4fxeKahe"
      },
      "source": [
        ""
      ],
      "execution_count": null,
      "outputs": []
    },
    {
      "cell_type": "code",
      "metadata": {
        "id": "1ZkRq7PwKahe"
      },
      "source": [
        "###### Code to find the model with best training and test set \n",
        "def bestModelNN():\n",
        "    trainAccuraciesReLU = []\n",
        "    testAccuraciesReLU = []\n",
        "    trainAccuraciesSigmoid = []\n",
        "    testAccuraciesSigmoid = []\n",
        "    \n",
        "    for i in range(0,5):\n",
        "        M = NeuralNetGlove(preprocessed_reviews,Y)\n",
        "        M.build_nn(hiddenLayers=i,activationHidden='sigmoid')\n",
        "        M.train_nn(64,15)\n",
        "        y_pred = M.predict(preprocessed_test_reviews)\n",
        "        accuracyTest = accuracy_score(test['ratings'],y_pred)\n",
        "        accuracyTrain = M.history.history['accuracy'][-1]\n",
        "        trainAccuraciesSigmoid.append(accuracyTrain)\n",
        "        testAccuraciesSigmoid.append(accuracyTest)\n",
        "        del M\n",
        "        \n",
        "    for i in range(0,5):\n",
        "        M = NeuralNetGlove(preprocessed_reviews,Y)\n",
        "        M.build_nn(hiddenLayers=i,activationHidden='relu')\n",
        "        M.train_nn(64,15)\n",
        "        y_pred = M.predict(preprocessed_test_reviews)\n",
        "        accuracyTest = accuracy_score(test['ratings'],y_pred)\n",
        "        accuracyTrain = M.history.history['accuracy'][-1]\n",
        "        trainAccuraciesReLU.append(accuracyTrain)\n",
        "        testAccuraciesReLU.append(accuracyTest)\n",
        "        del M \n",
        "        \n",
        "    print(trainAccuraciesReLU)\n",
        "    print(testAccuraciesReLU)\n",
        "    print(trainAccuraciesSigmoid)\n",
        "    print(testAccuraciesSigmoid)\n",
        "    return trainAccuraciesReLU, testAccuraciesReLU, trainAccuraciesSigmoid, testAccuraciesSigmoid\n",
        "\n"
      ],
      "execution_count": null,
      "outputs": []
    },
    {
      "cell_type": "code",
      "metadata": {
        "id": "Uboj0KJRKahf"
      },
      "source": [
        "##### Develop Report for the best model and prediction for some examples\n",
        "def report(y_pred,test,Model):\n",
        "    Classification_report = classification_report(test['ratings'],y_pred,target_names=['1','2','3','4','5'])\n",
        "    cm  = confusion_matrix(test['ratings'],y_pred)\n",
        "    print(\"Classification Report : \\n\",Classification_report)\n",
        "    print(\"Heat Map :\\n\")\n",
        "    sns.heatmap(cm,cmap=\"Blues\",annot=True,fmt='.4g',xticklabels=['1','2','3','4','5'],yticklabels=['1','2','3','4','5'])\n",
        "    #tried_examples = [['I like it but dont think I would buy again.'], ['Nice looking cleaner but way smaller than 2 liters. Not as advertised.'],['Total waste of money, I used all 10 of these and got 0 results from it.']] \n",
        "    # Create the pandas DataFrame \n",
        "    #df = pd.DataFrame(tried_examples, columns = ['reviews']) \n",
        "    #pre_tried_examples = preprocess_data(df,word_to_index)\n",
        "    #z = Model.predict(pre_tried_examples)\n",
        "    #print(\"Examples :\\n\",df)\n",
        "    #print(\"Predicted Values: \\n\",z)"
      ],
      "execution_count": null,
      "outputs": []
    },
    {
      "cell_type": "code",
      "metadata": {
        "colab": {
          "base_uri": "https://localhost:8080/"
        },
        "id": "rvCzxvLfKahf",
        "outputId": "d7a90fa8-80fb-4716-e9b0-77848a721fe9"
      },
      "source": [
        "trainAccuraciesReLU, testAccuraciesReLU, trainAccuraciesSigmoid, testAccuraciesSigmoid = bestModelNN()\n"
      ],
      "execution_count": null,
      "outputs": [
        {
          "output_type": "stream",
          "text": [
            "Model: \"sequential_2\"\n",
            "_________________________________________________________________\n",
            "Layer (type)                 Output Shape              Param #   \n",
            "=================================================================\n",
            "dense_2 (Dense)              (None, 5)                 12505     \n",
            "=================================================================\n",
            "Total params: 12,505\n",
            "Trainable params: 12,505\n",
            "Non-trainable params: 0\n",
            "_________________________________________________________________\n",
            "Epoch 1/15\n",
            "625/625 [==============================] - 2s 3ms/step - loss: 1.1553 - accuracy: 0.6234 - val_loss: 1.2397 - val_accuracy: 0.5744\n",
            "Epoch 2/15\n",
            "625/625 [==============================] - 2s 3ms/step - loss: 0.9743 - accuracy: 0.6855 - val_loss: 1.1773 - val_accuracy: 0.5754\n",
            "Epoch 3/15\n",
            "625/625 [==============================] - 2s 3ms/step - loss: 0.9340 - accuracy: 0.6864 - val_loss: 1.1413 - val_accuracy: 0.5795\n",
            "Epoch 4/15\n",
            "625/625 [==============================] - 2s 3ms/step - loss: 0.9104 - accuracy: 0.6858 - val_loss: 1.1254 - val_accuracy: 0.5829\n",
            "Epoch 5/15\n",
            "625/625 [==============================] - 2s 3ms/step - loss: 0.8897 - accuracy: 0.6909 - val_loss: 1.1092 - val_accuracy: 0.5851\n",
            "Epoch 6/15\n",
            "625/625 [==============================] - 2s 3ms/step - loss: 0.8724 - accuracy: 0.6948 - val_loss: 1.1109 - val_accuracy: 0.5876\n",
            "Epoch 7/15\n",
            "625/625 [==============================] - 1s 2ms/step - loss: 0.8558 - accuracy: 0.7001 - val_loss: 1.0918 - val_accuracy: 0.5921\n",
            "Epoch 8/15\n",
            "625/625 [==============================] - 2s 2ms/step - loss: 0.8473 - accuracy: 0.7009 - val_loss: 1.0956 - val_accuracy: 0.5919\n",
            "Epoch 9/15\n",
            "625/625 [==============================] - 2s 3ms/step - loss: 0.8493 - accuracy: 0.6958 - val_loss: 1.0758 - val_accuracy: 0.5960\n",
            "Epoch 10/15\n",
            "625/625 [==============================] - 2s 2ms/step - loss: 0.8410 - accuracy: 0.6997 - val_loss: 1.0663 - val_accuracy: 0.5978\n",
            "Epoch 11/15\n",
            "625/625 [==============================] - 2s 2ms/step - loss: 0.8320 - accuracy: 0.7047 - val_loss: 1.0696 - val_accuracy: 0.5968\n",
            "Epoch 12/15\n",
            "625/625 [==============================] - 2s 3ms/step - loss: 0.8375 - accuracy: 0.6977 - val_loss: 1.0721 - val_accuracy: 0.5969\n",
            "Epoch 13/15\n",
            "625/625 [==============================] - 2s 2ms/step - loss: 0.8231 - accuracy: 0.7048 - val_loss: 1.0622 - val_accuracy: 0.6007\n",
            "Epoch 14/15\n",
            "625/625 [==============================] - 2s 2ms/step - loss: 0.8282 - accuracy: 0.6998 - val_loss: 1.0686 - val_accuracy: 0.5992\n",
            "Epoch 15/15\n",
            "625/625 [==============================] - 2s 3ms/step - loss: 0.8144 - accuracy: 0.7091 - val_loss: 1.0628 - val_accuracy: 0.6017\n",
            "Model: \"sequential_3\"\n",
            "_________________________________________________________________\n",
            "Layer (type)                 Output Shape              Param #   \n",
            "=================================================================\n",
            "dense_3 (Dense)              (None, 64)                160064    \n",
            "_________________________________________________________________\n",
            "dense_4 (Dense)              (None, 5)                 325       \n",
            "=================================================================\n",
            "Total params: 160,389\n",
            "Trainable params: 160,389\n",
            "Non-trainable params: 0\n",
            "_________________________________________________________________\n",
            "Epoch 1/15\n",
            "625/625 [==============================] - 3s 4ms/step - loss: 1.0853 - accuracy: 0.6323 - val_loss: 1.2043 - val_accuracy: 0.5742\n",
            "Epoch 2/15\n",
            "625/625 [==============================] - 2s 4ms/step - loss: 0.9394 - accuracy: 0.6891 - val_loss: 1.1316 - val_accuracy: 0.5755\n",
            "Epoch 3/15\n",
            "625/625 [==============================] - 2s 4ms/step - loss: 0.9105 - accuracy: 0.6848 - val_loss: 1.1143 - val_accuracy: 0.5799\n",
            "Epoch 4/15\n",
            "625/625 [==============================] - 2s 4ms/step - loss: 0.8761 - accuracy: 0.6941 - val_loss: 1.0879 - val_accuracy: 0.5876\n",
            "Epoch 5/15\n",
            "625/625 [==============================] - 2s 4ms/step - loss: 0.8524 - accuracy: 0.6974 - val_loss: 1.0698 - val_accuracy: 0.5928\n",
            "Epoch 6/15\n",
            "625/625 [==============================] - 2s 4ms/step - loss: 0.8341 - accuracy: 0.7047 - val_loss: 1.0539 - val_accuracy: 0.5984\n",
            "Epoch 7/15\n",
            "625/625 [==============================] - 2s 4ms/step - loss: 0.8332 - accuracy: 0.7042 - val_loss: 1.0594 - val_accuracy: 0.5978\n",
            "Epoch 8/15\n",
            "625/625 [==============================] - 2s 4ms/step - loss: 0.8287 - accuracy: 0.7041 - val_loss: 1.0570 - val_accuracy: 0.6001\n",
            "Epoch 9/15\n",
            "625/625 [==============================] - 2s 4ms/step - loss: 0.8181 - accuracy: 0.7055 - val_loss: 1.0549 - val_accuracy: 0.6029\n",
            "Epoch 10/15\n",
            "625/625 [==============================] - 2s 4ms/step - loss: 0.8101 - accuracy: 0.7073 - val_loss: 1.0379 - val_accuracy: 0.6129\n",
            "Epoch 11/15\n",
            "625/625 [==============================] - 2s 4ms/step - loss: 0.7983 - accuracy: 0.7115 - val_loss: 1.0512 - val_accuracy: 0.6066\n",
            "Epoch 12/15\n",
            "625/625 [==============================] - 2s 4ms/step - loss: 0.8026 - accuracy: 0.7072 - val_loss: 1.0400 - val_accuracy: 0.6119\n",
            "Epoch 13/15\n",
            "625/625 [==============================] - 2s 4ms/step - loss: 0.7992 - accuracy: 0.7104 - val_loss: 1.0466 - val_accuracy: 0.6094\n",
            "Epoch 14/15\n",
            "625/625 [==============================] - 2s 4ms/step - loss: 0.7961 - accuracy: 0.7103 - val_loss: 1.0546 - val_accuracy: 0.6090\n",
            "Epoch 15/15\n",
            "625/625 [==============================] - 2s 4ms/step - loss: 0.7970 - accuracy: 0.7115 - val_loss: 1.0528 - val_accuracy: 0.6101\n",
            "Model: \"sequential_4\"\n",
            "_________________________________________________________________\n",
            "Layer (type)                 Output Shape              Param #   \n",
            "=================================================================\n",
            "dense_5 (Dense)              (None, 64)                160064    \n",
            "_________________________________________________________________\n",
            "dense_6 (Dense)              (None, 64)                4160      \n",
            "_________________________________________________________________\n",
            "dense_7 (Dense)              (None, 5)                 325       \n",
            "=================================================================\n",
            "Total params: 164,549\n",
            "Trainable params: 164,549\n",
            "Non-trainable params: 0\n",
            "_________________________________________________________________\n",
            "Epoch 1/15\n",
            "625/625 [==============================] - 3s 5ms/step - loss: 1.3466 - accuracy: 0.4868 - val_loss: 1.2773 - val_accuracy: 0.5742\n",
            "Epoch 2/15\n",
            "625/625 [==============================] - 3s 4ms/step - loss: 1.0227 - accuracy: 0.6841 - val_loss: 1.2472 - val_accuracy: 0.5742\n",
            "Epoch 3/15\n",
            "625/625 [==============================] - 3s 4ms/step - loss: 0.9775 - accuracy: 0.6854 - val_loss: 1.1659 - val_accuracy: 0.5742\n",
            "Epoch 4/15\n",
            "625/625 [==============================] - 3s 4ms/step - loss: 0.9316 - accuracy: 0.6853 - val_loss: 1.1210 - val_accuracy: 0.5786\n",
            "Epoch 5/15\n",
            "625/625 [==============================] - 3s 4ms/step - loss: 0.8894 - accuracy: 0.6925 - val_loss: 1.0924 - val_accuracy: 0.5891\n",
            "Epoch 6/15\n",
            "625/625 [==============================] - 3s 4ms/step - loss: 0.8657 - accuracy: 0.6976 - val_loss: 1.0810 - val_accuracy: 0.5919\n",
            "Epoch 7/15\n",
            "625/625 [==============================] - 3s 4ms/step - loss: 0.8519 - accuracy: 0.6984 - val_loss: 1.0663 - val_accuracy: 0.5986\n",
            "Epoch 8/15\n",
            "625/625 [==============================] - 3s 4ms/step - loss: 0.8471 - accuracy: 0.7013 - val_loss: 1.0585 - val_accuracy: 0.6015\n",
            "Epoch 9/15\n",
            "625/625 [==============================] - 3s 4ms/step - loss: 0.8335 - accuracy: 0.7030 - val_loss: 1.0588 - val_accuracy: 0.6016\n",
            "Epoch 10/15\n",
            "625/625 [==============================] - 3s 4ms/step - loss: 0.8311 - accuracy: 0.7024 - val_loss: 1.0616 - val_accuracy: 0.6025\n",
            "Epoch 11/15\n",
            "625/625 [==============================] - 3s 4ms/step - loss: 0.8272 - accuracy: 0.7025 - val_loss: 1.0490 - val_accuracy: 0.6062\n",
            "Epoch 12/15\n",
            "625/625 [==============================] - 3s 4ms/step - loss: 0.8233 - accuracy: 0.7052 - val_loss: 1.0518 - val_accuracy: 0.6061\n",
            "Epoch 13/15\n",
            "625/625 [==============================] - 3s 4ms/step - loss: 0.8177 - accuracy: 0.7048 - val_loss: 1.0523 - val_accuracy: 0.6073\n",
            "Epoch 14/15\n",
            "625/625 [==============================] - 3s 4ms/step - loss: 0.8091 - accuracy: 0.7093 - val_loss: 1.0435 - val_accuracy: 0.6089\n",
            "Epoch 15/15\n",
            "625/625 [==============================] - 3s 4ms/step - loss: 0.8059 - accuracy: 0.7096 - val_loss: 1.0458 - val_accuracy: 0.6102\n",
            "Model: \"sequential_5\"\n",
            "_________________________________________________________________\n",
            "Layer (type)                 Output Shape              Param #   \n",
            "=================================================================\n",
            "dense_8 (Dense)              (None, 64)                160064    \n",
            "_________________________________________________________________\n",
            "dense_9 (Dense)              (None, 64)                4160      \n",
            "_________________________________________________________________\n",
            "dense_10 (Dense)             (None, 64)                4160      \n",
            "_________________________________________________________________\n",
            "dense_11 (Dense)             (None, 5)                 325       \n",
            "=================================================================\n",
            "Total params: 168,709\n",
            "Trainable params: 168,709\n",
            "Non-trainable params: 0\n",
            "_________________________________________________________________\n",
            "Epoch 1/15\n",
            "625/625 [==============================] - 3s 5ms/step - loss: 1.1665 - accuracy: 0.6221 - val_loss: 1.2900 - val_accuracy: 0.5742\n",
            "Epoch 2/15\n",
            "625/625 [==============================] - 3s 4ms/step - loss: 1.0245 - accuracy: 0.6820 - val_loss: 1.2465 - val_accuracy: 0.5742\n",
            "Epoch 3/15\n",
            "625/625 [==============================] - 3s 4ms/step - loss: 0.9667 - accuracy: 0.6882 - val_loss: 1.1533 - val_accuracy: 0.5742\n",
            "Epoch 4/15\n",
            "625/625 [==============================] - 3s 4ms/step - loss: 0.9097 - accuracy: 0.6884 - val_loss: 1.1056 - val_accuracy: 0.5813\n",
            "Epoch 5/15\n",
            "625/625 [==============================] - 3s 4ms/step - loss: 0.8825 - accuracy: 0.6926 - val_loss: 1.0927 - val_accuracy: 0.5899\n",
            "Epoch 6/15\n",
            "625/625 [==============================] - 3s 4ms/step - loss: 0.8652 - accuracy: 0.6968 - val_loss: 1.0689 - val_accuracy: 0.5974\n",
            "Epoch 7/15\n",
            "625/625 [==============================] - 3s 4ms/step - loss: 0.8564 - accuracy: 0.6976 - val_loss: 1.0581 - val_accuracy: 0.6011\n",
            "Epoch 8/15\n",
            "625/625 [==============================] - 3s 4ms/step - loss: 0.8558 - accuracy: 0.6961 - val_loss: 1.0603 - val_accuracy: 0.6023\n",
            "Epoch 9/15\n",
            "625/625 [==============================] - 3s 5ms/step - loss: 0.8497 - accuracy: 0.6978 - val_loss: 1.0696 - val_accuracy: 0.6013\n",
            "Epoch 10/15\n",
            "625/625 [==============================] - 3s 4ms/step - loss: 0.8416 - accuracy: 0.6997 - val_loss: 1.0617 - val_accuracy: 0.6031\n",
            "Epoch 11/15\n",
            "625/625 [==============================] - 3s 4ms/step - loss: 0.8332 - accuracy: 0.7018 - val_loss: 1.0583 - val_accuracy: 0.6050\n",
            "Epoch 12/15\n",
            "625/625 [==============================] - 3s 5ms/step - loss: 0.8353 - accuracy: 0.7015 - val_loss: 1.0554 - val_accuracy: 0.6077\n",
            "Epoch 13/15\n",
            "625/625 [==============================] - 3s 4ms/step - loss: 0.8275 - accuracy: 0.7015 - val_loss: 1.0610 - val_accuracy: 0.6078\n",
            "Epoch 14/15\n",
            "625/625 [==============================] - 3s 4ms/step - loss: 0.8236 - accuracy: 0.7048 - val_loss: 1.0476 - val_accuracy: 0.6117\n",
            "Epoch 15/15\n",
            "625/625 [==============================] - 3s 5ms/step - loss: 0.8233 - accuracy: 0.7032 - val_loss: 1.0596 - val_accuracy: 0.6110\n",
            "Model: \"sequential_6\"\n",
            "_________________________________________________________________\n",
            "Layer (type)                 Output Shape              Param #   \n",
            "=================================================================\n",
            "dense_12 (Dense)             (None, 64)                160064    \n",
            "_________________________________________________________________\n",
            "dense_13 (Dense)             (None, 64)                4160      \n",
            "_________________________________________________________________\n",
            "dense_14 (Dense)             (None, 64)                4160      \n",
            "_________________________________________________________________\n",
            "dense_15 (Dense)             (None, 64)                4160      \n",
            "_________________________________________________________________\n",
            "dense_16 (Dense)             (None, 5)                 325       \n",
            "=================================================================\n",
            "Total params: 172,869\n",
            "Trainable params: 172,869\n",
            "Non-trainable params: 0\n",
            "_________________________________________________________________\n",
            "Epoch 1/15\n",
            "625/625 [==============================] - 3s 5ms/step - loss: 1.1515 - accuracy: 0.6907 - val_loss: 1.2869 - val_accuracy: 0.5742\n",
            "Epoch 2/15\n",
            "625/625 [==============================] - 3s 4ms/step - loss: 1.0279 - accuracy: 0.6845 - val_loss: 1.2676 - val_accuracy: 0.5742\n",
            "Epoch 3/15\n",
            "625/625 [==============================] - 3s 4ms/step - loss: 0.9871 - accuracy: 0.6864 - val_loss: 1.1535 - val_accuracy: 0.5742\n",
            "Epoch 4/15\n",
            "625/625 [==============================] - 3s 5ms/step - loss: 0.9114 - accuracy: 0.6862 - val_loss: 1.0987 - val_accuracy: 0.5779\n",
            "Epoch 5/15\n",
            "625/625 [==============================] - 3s 5ms/step - loss: 0.8849 - accuracy: 0.6894 - val_loss: 1.1027 - val_accuracy: 0.5867\n",
            "Epoch 6/15\n",
            "625/625 [==============================] - 3s 5ms/step - loss: 0.8715 - accuracy: 0.6953 - val_loss: 1.0866 - val_accuracy: 0.5944\n",
            "Epoch 7/15\n",
            "625/625 [==============================] - 3s 5ms/step - loss: 0.8650 - accuracy: 0.6968 - val_loss: 1.0807 - val_accuracy: 0.5979\n",
            "Epoch 8/15\n",
            "625/625 [==============================] - 3s 5ms/step - loss: 0.8574 - accuracy: 0.6979 - val_loss: 1.0757 - val_accuracy: 0.6008\n",
            "Epoch 9/15\n",
            "625/625 [==============================] - 3s 5ms/step - loss: 0.8591 - accuracy: 0.6956 - val_loss: 1.0845 - val_accuracy: 0.5990\n",
            "Epoch 10/15\n",
            "625/625 [==============================] - 3s 5ms/step - loss: 0.8593 - accuracy: 0.6967 - val_loss: 1.0636 - val_accuracy: 0.6061\n",
            "Epoch 11/15\n",
            "625/625 [==============================] - 3s 5ms/step - loss: 0.8427 - accuracy: 0.7026 - val_loss: 1.0698 - val_accuracy: 0.6051\n",
            "Epoch 12/15\n",
            "625/625 [==============================] - 3s 5ms/step - loss: 0.8450 - accuracy: 0.7026 - val_loss: 1.0809 - val_accuracy: 0.6028\n",
            "Epoch 13/15\n",
            "625/625 [==============================] - 3s 5ms/step - loss: 0.8473 - accuracy: 0.6985 - val_loss: 1.0822 - val_accuracy: 0.6035\n",
            "Epoch 14/15\n",
            "625/625 [==============================] - 3s 5ms/step - loss: 0.8405 - accuracy: 0.7019 - val_loss: 1.0719 - val_accuracy: 0.6051\n",
            "Epoch 15/15\n",
            "625/625 [==============================] - 3s 5ms/step - loss: 0.8488 - accuracy: 0.6981 - val_loss: 1.0821 - val_accuracy: 0.6044\n",
            "Model: \"sequential_7\"\n",
            "_________________________________________________________________\n",
            "Layer (type)                 Output Shape              Param #   \n",
            "=================================================================\n",
            "dense_17 (Dense)             (None, 5)                 12505     \n",
            "=================================================================\n",
            "Total params: 12,505\n",
            "Trainable params: 12,505\n",
            "Non-trainable params: 0\n",
            "_________________________________________________________________\n",
            "Epoch 1/15\n",
            "625/625 [==============================] - 2s 3ms/step - loss: 1.1452 - accuracy: 0.6338 - val_loss: 1.2380 - val_accuracy: 0.5737\n",
            "Epoch 2/15\n",
            "625/625 [==============================] - 2s 3ms/step - loss: 0.9787 - accuracy: 0.6865 - val_loss: 1.1854 - val_accuracy: 0.5745\n",
            "Epoch 3/15\n",
            "625/625 [==============================] - 2s 3ms/step - loss: 0.9416 - accuracy: 0.6834 - val_loss: 1.1462 - val_accuracy: 0.5778\n",
            "Epoch 4/15\n",
            "625/625 [==============================] - 2s 3ms/step - loss: 0.9043 - accuracy: 0.6911 - val_loss: 1.1213 - val_accuracy: 0.5815\n",
            "Epoch 5/15\n",
            "625/625 [==============================] - 2s 3ms/step - loss: 0.8927 - accuracy: 0.6893 - val_loss: 1.1096 - val_accuracy: 0.5852\n",
            "Epoch 6/15\n",
            "625/625 [==============================] - 2s 3ms/step - loss: 0.8662 - accuracy: 0.6971 - val_loss: 1.0993 - val_accuracy: 0.5876\n",
            "Epoch 7/15\n",
            "625/625 [==============================] - 2s 3ms/step - loss: 0.8599 - accuracy: 0.6977 - val_loss: 1.0903 - val_accuracy: 0.5912\n",
            "Epoch 8/15\n",
            "625/625 [==============================] - 2s 3ms/step - loss: 0.8460 - accuracy: 0.6994 - val_loss: 1.0761 - val_accuracy: 0.5941\n",
            "Epoch 9/15\n",
            "625/625 [==============================] - 2s 3ms/step - loss: 0.8377 - accuracy: 0.7029 - val_loss: 1.0758 - val_accuracy: 0.5945\n",
            "Epoch 10/15\n",
            "625/625 [==============================] - 2s 3ms/step - loss: 0.8432 - accuracy: 0.7006 - val_loss: 1.0828 - val_accuracy: 0.5928\n",
            "Epoch 11/15\n",
            "625/625 [==============================] - 2s 3ms/step - loss: 0.8333 - accuracy: 0.7025 - val_loss: 1.0751 - val_accuracy: 0.5955\n",
            "Epoch 12/15\n",
            "625/625 [==============================] - 2s 3ms/step - loss: 0.8288 - accuracy: 0.7044 - val_loss: 1.0668 - val_accuracy: 0.5973\n",
            "Epoch 13/15\n",
            "625/625 [==============================] - 2s 3ms/step - loss: 0.8180 - accuracy: 0.7073 - val_loss: 1.0565 - val_accuracy: 0.6033\n",
            "Epoch 14/15\n",
            "625/625 [==============================] - 2s 3ms/step - loss: 0.8175 - accuracy: 0.7079 - val_loss: 1.0670 - val_accuracy: 0.6003\n",
            "Epoch 15/15\n",
            "625/625 [==============================] - 2s 3ms/step - loss: 0.8150 - accuracy: 0.7072 - val_loss: 1.0574 - val_accuracy: 0.6023\n",
            "Model: \"sequential_8\"\n",
            "_________________________________________________________________\n",
            "Layer (type)                 Output Shape              Param #   \n",
            "=================================================================\n",
            "dense_18 (Dense)             (None, 64)                160064    \n",
            "_________________________________________________________________\n",
            "dense_19 (Dense)             (None, 5)                 325       \n",
            "=================================================================\n",
            "Total params: 160,389\n",
            "Trainable params: 160,389\n",
            "Non-trainable params: 0\n",
            "_________________________________________________________________\n",
            "Epoch 1/15\n",
            "625/625 [==============================] - 3s 4ms/step - loss: 1.1396 - accuracy: 0.6186 - val_loss: 1.1686 - val_accuracy: 0.5760\n",
            "Epoch 2/15\n",
            "625/625 [==============================] - 2s 4ms/step - loss: 0.9096 - accuracy: 0.6894 - val_loss: 1.0988 - val_accuracy: 0.5923\n",
            "Epoch 3/15\n",
            "625/625 [==============================] - 2s 4ms/step - loss: 0.8632 - accuracy: 0.6935 - val_loss: 1.0767 - val_accuracy: 0.5999\n",
            "Epoch 4/15\n",
            "625/625 [==============================] - 2s 4ms/step - loss: 0.8238 - accuracy: 0.7068 - val_loss: 1.0554 - val_accuracy: 0.6060\n",
            "Epoch 5/15\n",
            "625/625 [==============================] - 2s 4ms/step - loss: 0.8040 - accuracy: 0.7139 - val_loss: 1.0538 - val_accuracy: 0.6091\n",
            "Epoch 6/15\n",
            "625/625 [==============================] - 2s 4ms/step - loss: 0.7806 - accuracy: 0.7207 - val_loss: 1.0570 - val_accuracy: 0.6090\n",
            "Epoch 7/15\n",
            "625/625 [==============================] - 2s 4ms/step - loss: 0.7694 - accuracy: 0.7230 - val_loss: 1.0479 - val_accuracy: 0.6110\n",
            "Epoch 8/15\n",
            "625/625 [==============================] - 2s 4ms/step - loss: 0.7502 - accuracy: 0.7299 - val_loss: 1.0489 - val_accuracy: 0.6113\n",
            "Epoch 9/15\n",
            "625/625 [==============================] - 2s 4ms/step - loss: 0.7384 - accuracy: 0.7337 - val_loss: 1.0491 - val_accuracy: 0.6132\n",
            "Epoch 10/15\n",
            "625/625 [==============================] - 3s 5ms/step - loss: 0.7220 - accuracy: 0.7385 - val_loss: 1.0908 - val_accuracy: 0.6053\n",
            "Epoch 11/15\n",
            "625/625 [==============================] - 4s 6ms/step - loss: 0.7051 - accuracy: 0.7449 - val_loss: 1.0693 - val_accuracy: 0.6109\n",
            "Epoch 12/15\n",
            "625/625 [==============================] - 4s 7ms/step - loss: 0.6979 - accuracy: 0.7496 - val_loss: 1.0655 - val_accuracy: 0.6081\n",
            "Epoch 13/15\n",
            "625/625 [==============================] - 3s 5ms/step - loss: 0.6872 - accuracy: 0.7545 - val_loss: 1.0728 - val_accuracy: 0.6096\n",
            "Epoch 14/15\n",
            "625/625 [==============================] - 2s 4ms/step - loss: 0.6678 - accuracy: 0.7614 - val_loss: 1.0765 - val_accuracy: 0.6100\n",
            "Epoch 15/15\n",
            "625/625 [==============================] - 2s 4ms/step - loss: 0.6510 - accuracy: 0.7683 - val_loss: 1.0786 - val_accuracy: 0.6088\n",
            "Model: \"sequential_9\"\n",
            "_________________________________________________________________\n",
            "Layer (type)                 Output Shape              Param #   \n",
            "=================================================================\n",
            "dense_20 (Dense)             (None, 64)                160064    \n",
            "_________________________________________________________________\n",
            "dense_21 (Dense)             (None, 64)                4160      \n",
            "_________________________________________________________________\n",
            "dense_22 (Dense)             (None, 5)                 325       \n",
            "=================================================================\n",
            "Total params: 164,549\n",
            "Trainable params: 164,549\n",
            "Non-trainable params: 0\n",
            "_________________________________________________________________\n",
            "Epoch 1/15\n",
            "625/625 [==============================] - 3s 4ms/step - loss: 1.0984 - accuracy: 0.6362 - val_loss: 1.1471 - val_accuracy: 0.5739\n",
            "Epoch 2/15\n",
            "625/625 [==============================] - 3s 4ms/step - loss: 0.9049 - accuracy: 0.6874 - val_loss: 1.0943 - val_accuracy: 0.5857\n",
            "Epoch 3/15\n",
            "625/625 [==============================] - 3s 4ms/step - loss: 0.8530 - accuracy: 0.6981 - val_loss: 1.0636 - val_accuracy: 0.5977\n",
            "Epoch 4/15\n",
            "625/625 [==============================] - 3s 4ms/step - loss: 0.8214 - accuracy: 0.7039 - val_loss: 1.0790 - val_accuracy: 0.6018\n",
            "Epoch 5/15\n",
            "625/625 [==============================] - 3s 4ms/step - loss: 0.7895 - accuracy: 0.7129 - val_loss: 1.0568 - val_accuracy: 0.6065\n",
            "Epoch 6/15\n",
            "625/625 [==============================] - 3s 4ms/step - loss: 0.7663 - accuracy: 0.7196 - val_loss: 1.0563 - val_accuracy: 0.6112\n",
            "Epoch 7/15\n",
            "625/625 [==============================] - 3s 4ms/step - loss: 0.7468 - accuracy: 0.7270 - val_loss: 1.0849 - val_accuracy: 0.6064\n",
            "Epoch 8/15\n",
            "625/625 [==============================] - 3s 4ms/step - loss: 0.7173 - accuracy: 0.7378 - val_loss: 1.0721 - val_accuracy: 0.6088\n",
            "Epoch 9/15\n",
            "625/625 [==============================] - 3s 4ms/step - loss: 0.6904 - accuracy: 0.7475 - val_loss: 1.0669 - val_accuracy: 0.6122\n",
            "Epoch 10/15\n",
            "625/625 [==============================] - 3s 4ms/step - loss: 0.6701 - accuracy: 0.7575 - val_loss: 1.1096 - val_accuracy: 0.6093\n",
            "Epoch 11/15\n",
            "625/625 [==============================] - 2s 4ms/step - loss: 0.6401 - accuracy: 0.7679 - val_loss: 1.1022 - val_accuracy: 0.6062\n",
            "Epoch 12/15\n",
            "625/625 [==============================] - 3s 4ms/step - loss: 0.6147 - accuracy: 0.7816 - val_loss: 1.0872 - val_accuracy: 0.6089\n",
            "Epoch 13/15\n",
            "625/625 [==============================] - 2s 4ms/step - loss: 0.5970 - accuracy: 0.7894 - val_loss: 1.1244 - val_accuracy: 0.6056\n",
            "Epoch 14/15\n",
            "625/625 [==============================] - 3s 4ms/step - loss: 0.5713 - accuracy: 0.7979 - val_loss: 1.1375 - val_accuracy: 0.6041\n",
            "Epoch 15/15\n",
            "625/625 [==============================] - 3s 4ms/step - loss: 0.5513 - accuracy: 0.8077 - val_loss: 1.1513 - val_accuracy: 0.5998\n",
            "Model: \"sequential_10\"\n",
            "_________________________________________________________________\n",
            "Layer (type)                 Output Shape              Param #   \n",
            "=================================================================\n",
            "dense_23 (Dense)             (None, 64)                160064    \n",
            "_________________________________________________________________\n",
            "dense_24 (Dense)             (None, 64)                4160      \n",
            "_________________________________________________________________\n",
            "dense_25 (Dense)             (None, 64)                4160      \n",
            "_________________________________________________________________\n",
            "dense_26 (Dense)             (None, 5)                 325       \n",
            "=================================================================\n",
            "Total params: 168,709\n",
            "Trainable params: 168,709\n",
            "Non-trainable params: 0\n",
            "_________________________________________________________________\n",
            "Epoch 1/15\n",
            "625/625 [==============================] - 3s 5ms/step - loss: 1.1494 - accuracy: 0.6311 - val_loss: 1.1723 - val_accuracy: 0.5748\n",
            "Epoch 2/15\n",
            "625/625 [==============================] - 3s 4ms/step - loss: 0.9142 - accuracy: 0.6888 - val_loss: 1.0740 - val_accuracy: 0.5995\n",
            "Epoch 3/15\n",
            "625/625 [==============================] - 3s 4ms/step - loss: 0.8549 - accuracy: 0.6990 - val_loss: 1.0566 - val_accuracy: 0.6062\n",
            "Epoch 4/15\n",
            "625/625 [==============================] - 3s 4ms/step - loss: 0.8141 - accuracy: 0.7087 - val_loss: 1.0599 - val_accuracy: 0.6074\n",
            "Epoch 5/15\n",
            "625/625 [==============================] - 3s 5ms/step - loss: 0.7818 - accuracy: 0.7181 - val_loss: 1.0395 - val_accuracy: 0.6167\n",
            "Epoch 6/15\n",
            "625/625 [==============================] - 3s 5ms/step - loss: 0.7525 - accuracy: 0.7264 - val_loss: 1.0591 - val_accuracy: 0.6120\n",
            "Epoch 7/15\n",
            "625/625 [==============================] - 3s 5ms/step - loss: 0.7255 - accuracy: 0.7344 - val_loss: 1.0656 - val_accuracy: 0.6142\n",
            "Epoch 8/15\n",
            "625/625 [==============================] - 3s 5ms/step - loss: 0.6932 - accuracy: 0.7482 - val_loss: 1.0953 - val_accuracy: 0.6124\n",
            "Epoch 9/15\n",
            "625/625 [==============================] - 3s 5ms/step - loss: 0.6618 - accuracy: 0.7617 - val_loss: 1.0713 - val_accuracy: 0.6092\n",
            "Epoch 10/15\n",
            "625/625 [==============================] - 3s 5ms/step - loss: 0.6293 - accuracy: 0.7746 - val_loss: 1.1133 - val_accuracy: 0.6107\n",
            "Epoch 11/15\n",
            "625/625 [==============================] - 3s 5ms/step - loss: 0.5984 - accuracy: 0.7861 - val_loss: 1.1676 - val_accuracy: 0.6095\n",
            "Epoch 12/15\n",
            "625/625 [==============================] - 3s 5ms/step - loss: 0.5556 - accuracy: 0.8026 - val_loss: 1.1582 - val_accuracy: 0.5923\n",
            "Epoch 13/15\n",
            "625/625 [==============================] - 3s 5ms/step - loss: 0.5327 - accuracy: 0.8136 - val_loss: 1.2225 - val_accuracy: 0.6008\n",
            "Epoch 14/15\n",
            "625/625 [==============================] - 3s 5ms/step - loss: 0.5029 - accuracy: 0.8258 - val_loss: 1.2331 - val_accuracy: 0.5942\n",
            "Epoch 15/15\n",
            "625/625 [==============================] - 3s 5ms/step - loss: 0.4777 - accuracy: 0.8346 - val_loss: 1.2700 - val_accuracy: 0.5924\n",
            "Model: \"sequential_11\"\n",
            "_________________________________________________________________\n",
            "Layer (type)                 Output Shape              Param #   \n",
            "=================================================================\n",
            "dense_27 (Dense)             (None, 64)                160064    \n",
            "_________________________________________________________________\n",
            "dense_28 (Dense)             (None, 64)                4160      \n",
            "_________________________________________________________________\n",
            "dense_29 (Dense)             (None, 64)                4160      \n",
            "_________________________________________________________________\n",
            "dense_30 (Dense)             (None, 64)                4160      \n",
            "_________________________________________________________________\n",
            "dense_31 (Dense)             (None, 5)                 325       \n",
            "=================================================================\n",
            "Total params: 172,869\n",
            "Trainable params: 172,869\n",
            "Non-trainable params: 0\n",
            "_________________________________________________________________\n",
            "Epoch 1/15\n",
            "625/625 [==============================] - 4s 5ms/step - loss: 1.0915 - accuracy: 0.6703 - val_loss: 1.1947 - val_accuracy: 0.5742\n",
            "Epoch 2/15\n",
            "625/625 [==============================] - 3s 5ms/step - loss: 0.8934 - accuracy: 0.6889 - val_loss: 1.0667 - val_accuracy: 0.6004\n",
            "Epoch 3/15\n",
            "625/625 [==============================] - 3s 5ms/step - loss: 0.8337 - accuracy: 0.7015 - val_loss: 1.0422 - val_accuracy: 0.6149\n",
            "Epoch 4/15\n",
            "625/625 [==============================] - 3s 5ms/step - loss: 0.7938 - accuracy: 0.7123 - val_loss: 1.0370 - val_accuracy: 0.6150\n",
            "Epoch 5/15\n",
            "625/625 [==============================] - 3s 5ms/step - loss: 0.7665 - accuracy: 0.7222 - val_loss: 1.0805 - val_accuracy: 0.6098\n",
            "Epoch 6/15\n",
            "625/625 [==============================] - 3s 5ms/step - loss: 0.7287 - accuracy: 0.7368 - val_loss: 1.0702 - val_accuracy: 0.6144\n",
            "Epoch 7/15\n",
            "625/625 [==============================] - 3s 5ms/step - loss: 0.6976 - accuracy: 0.7479 - val_loss: 1.0699 - val_accuracy: 0.6141\n",
            "Epoch 8/15\n",
            "625/625 [==============================] - 3s 5ms/step - loss: 0.6500 - accuracy: 0.7598 - val_loss: 1.0955 - val_accuracy: 0.6118\n",
            "Epoch 9/15\n",
            "625/625 [==============================] - 3s 5ms/step - loss: 0.6336 - accuracy: 0.7694 - val_loss: 1.1566 - val_accuracy: 0.6033\n",
            "Epoch 10/15\n",
            "625/625 [==============================] - 3s 5ms/step - loss: 0.5887 - accuracy: 0.7892 - val_loss: 1.1679 - val_accuracy: 0.6051\n",
            "Epoch 11/15\n",
            "625/625 [==============================] - 3s 5ms/step - loss: 0.5536 - accuracy: 0.8015 - val_loss: 1.2282 - val_accuracy: 0.6015\n",
            "Epoch 12/15\n",
            "625/625 [==============================] - 3s 5ms/step - loss: 0.5181 - accuracy: 0.8157 - val_loss: 1.2523 - val_accuracy: 0.5947\n",
            "Epoch 13/15\n",
            "625/625 [==============================] - 3s 5ms/step - loss: 0.4758 - accuracy: 0.8352 - val_loss: 1.3013 - val_accuracy: 0.5814\n",
            "Epoch 14/15\n",
            "625/625 [==============================] - 3s 5ms/step - loss: 0.4496 - accuracy: 0.8464 - val_loss: 1.4138 - val_accuracy: 0.5863\n",
            "Epoch 15/15\n",
            "625/625 [==============================] - 3s 5ms/step - loss: 0.4097 - accuracy: 0.8604 - val_loss: 1.4201 - val_accuracy: 0.5908\n",
            "[0.70660001039505, 0.7671499848365784, 0.805649995803833, 0.8320000171661377, 0.8528749942779541]\n",
            "[0.6032, 0.6119, 0.6003, 0.5942, 0.5876]\n",
            "[0.7065749764442444, 0.7120000123977661, 0.7084000110626221, 0.7056750059127808, 0.7006499767303467]\n",
            "[0.6009, 0.6113, 0.6143, 0.6142, 0.6076]\n"
          ],
          "name": "stdout"
        }
      ]
    },
    {
      "cell_type": "code",
      "metadata": {
        "id": "4TRdwe6dKahf"
      },
      "source": [
        ""
      ],
      "execution_count": null,
      "outputs": []
    },
    {
      "cell_type": "code",
      "metadata": {
        "id": "z7KpMbgTKahg"
      },
      "source": [
        ""
      ],
      "execution_count": null,
      "outputs": []
    },
    {
      "cell_type": "markdown",
      "metadata": {
        "id": "fuqK-7wtMHzt"
      },
      "source": [
        "##### Accuracies"
      ]
    },
    {
      "cell_type": "code",
      "metadata": {
        "id": "kO8ys0-EKahg"
      },
      "source": [
        "all_accuracy = pd.DataFrame(columns=['layers','train_accuracy_sigmoid','test_accuracy_sigmoid','train_accuracy_relu','test_accuracy_relu'],index=np.arange(5))"
      ],
      "execution_count": null,
      "outputs": []
    },
    {
      "cell_type": "code",
      "metadata": {
        "colab": {
          "base_uri": "https://localhost:8080/",
          "height": 204
        },
        "id": "MeI_BSFAKahg",
        "outputId": "6cac4e23-4658-45e6-95f6-be804fcd033a"
      },
      "source": [
        "all_accuracy['layers'] = np.arange(5)\n",
        "all_accuracy['train_accuracy_sigmoid']= trainAccuraciesSigmoid\n",
        "all_accuracy['test_accuracy_sigmoid'] = testAccuraciesSigmoid\n",
        "all_accuracy['train_accuracy_relu'] = trainAccuraciesReLU\n",
        "all_accuracy['test_accuracy_relu'] = testAccuraciesReLU\n",
        "all_accuracy"
      ],
      "execution_count": null,
      "outputs": [
        {
          "output_type": "execute_result",
          "data": {
            "text/html": [
              "<div>\n",
              "<style scoped>\n",
              "    .dataframe tbody tr th:only-of-type {\n",
              "        vertical-align: middle;\n",
              "    }\n",
              "\n",
              "    .dataframe tbody tr th {\n",
              "        vertical-align: top;\n",
              "    }\n",
              "\n",
              "    .dataframe thead th {\n",
              "        text-align: right;\n",
              "    }\n",
              "</style>\n",
              "<table border=\"1\" class=\"dataframe\">\n",
              "  <thead>\n",
              "    <tr style=\"text-align: right;\">\n",
              "      <th></th>\n",
              "      <th>layers</th>\n",
              "      <th>train_accuracy_sigmoid</th>\n",
              "      <th>test_accuracy_sigmoid</th>\n",
              "      <th>train_accuracy_relu</th>\n",
              "      <th>test_accuracy_relu</th>\n",
              "    </tr>\n",
              "  </thead>\n",
              "  <tbody>\n",
              "    <tr>\n",
              "      <th>0</th>\n",
              "      <td>0</td>\n",
              "      <td>0.706575</td>\n",
              "      <td>0.6009</td>\n",
              "      <td>0.706600</td>\n",
              "      <td>0.6032</td>\n",
              "    </tr>\n",
              "    <tr>\n",
              "      <th>1</th>\n",
              "      <td>1</td>\n",
              "      <td>0.712000</td>\n",
              "      <td>0.6113</td>\n",
              "      <td>0.767150</td>\n",
              "      <td>0.6119</td>\n",
              "    </tr>\n",
              "    <tr>\n",
              "      <th>2</th>\n",
              "      <td>2</td>\n",
              "      <td>0.708400</td>\n",
              "      <td>0.6143</td>\n",
              "      <td>0.805650</td>\n",
              "      <td>0.6003</td>\n",
              "    </tr>\n",
              "    <tr>\n",
              "      <th>3</th>\n",
              "      <td>3</td>\n",
              "      <td>0.705675</td>\n",
              "      <td>0.6142</td>\n",
              "      <td>0.832000</td>\n",
              "      <td>0.5942</td>\n",
              "    </tr>\n",
              "    <tr>\n",
              "      <th>4</th>\n",
              "      <td>4</td>\n",
              "      <td>0.700650</td>\n",
              "      <td>0.6076</td>\n",
              "      <td>0.852875</td>\n",
              "      <td>0.5876</td>\n",
              "    </tr>\n",
              "  </tbody>\n",
              "</table>\n",
              "</div>"
            ],
            "text/plain": [
              "   layers  train_accuracy_sigmoid  ...  train_accuracy_relu  test_accuracy_relu\n",
              "0       0                0.706575  ...             0.706600              0.6032\n",
              "1       1                0.712000  ...             0.767150              0.6119\n",
              "2       2                0.708400  ...             0.805650              0.6003\n",
              "3       3                0.705675  ...             0.832000              0.5942\n",
              "4       4                0.700650  ...             0.852875              0.5876\n",
              "\n",
              "[5 rows x 5 columns]"
            ]
          },
          "metadata": {
            "tags": []
          },
          "execution_count": 58
        }
      ]
    },
    {
      "cell_type": "code",
      "metadata": {
        "id": "OYNLasyKKahh"
      },
      "source": [
        "import matplotlib.pyplot as plt"
      ],
      "execution_count": null,
      "outputs": []
    },
    {
      "cell_type": "code",
      "metadata": {
        "colab": {
          "base_uri": "https://localhost:8080/",
          "height": 530
        },
        "id": "QcmJ0-mTKahh",
        "outputId": "f3d266bf-7969-4bdf-bc5f-f8840ae0e393"
      },
      "source": [
        "plt.figure(figsize=(12,8))\n",
        "plt.plot(all_accuracy['layers'],all_accuracy['train_accuracy_sigmoid'],label='train_accuracy_sigmoid')\n",
        "plt.plot(all_accuracy['layers'],all_accuracy['test_accuracy_sigmoid'],label='test_accuracy_sigmoid')\n",
        "plt.plot(all_accuracy['layers'],all_accuracy['train_accuracy_relu'],label='train_accuracy_relu')\n",
        "plt.plot(all_accuracy['layers'],all_accuracy['test_accuracy_relu'],label='test_accuracy_relu')\n",
        "plt.title('For Glove Embeddings')\n",
        "plt.xlabel(\"No of hidden layers\")\n",
        "plt.ylabel(\"Accuracy\")\n",
        "plt.legend()"
      ],
      "execution_count": null,
      "outputs": [
        {
          "output_type": "execute_result",
          "data": {
            "text/plain": [
              "<matplotlib.legend.Legend at 0x7fcb3a809b10>"
            ]
          },
          "metadata": {
            "tags": []
          },
          "execution_count": 64
        },
        {
          "output_type": "display_data",
          "data": {
            "image/png": "[encoded data removed]",
            "text/plain": [
              "<Figure size 864x576 with 1 Axes>"
            ]
          },
          "metadata": {
            "tags": [],
            "needs_background": "light"
          }
        }
      ]
    },
    {
      "cell_type": "code",
      "metadata": {
        "id": "zs9qMjerKahi"
      },
      "source": [
        ""
      ],
      "execution_count": null,
      "outputs": []
    },
    {
      "cell_type": "code",
      "metadata": {
        "id": "assDjzcdKahi"
      },
      "source": [
        "#Best Model\n",
        "# 1. Layer:1   , Activation: ReLU\n"
      ],
      "execution_count": null,
      "outputs": []
    },
    {
      "cell_type": "code",
      "metadata": {
        "id": "mD4mFPt-Kahj"
      },
      "source": [
        "#Training Best Model:\n"
      ],
      "execution_count": null,
      "outputs": []
    },
    {
      "cell_type": "code",
      "metadata": {
        "colab": {
          "base_uri": "https://localhost:8080/"
        },
        "id": "tSndvTFAKahj",
        "outputId": "46cfcccd-a50a-4620-e855-a7b2c36e2bc8"
      },
      "source": [
        "Best_model = NeuralNetGlove(preprocessed_reviews,Y)\n",
        "Best_model.build_nn(hiddenLayers=1,activationHidden='relu')\n",
        "Best_model.train_nn(64,15)\n",
        "y_pred = Best_model.predict(preprocessed_test_reviews)\n",
        "accuracyTest = accuracy_score(test['ratings'],y_pred)\n",
        "accuracyTrain = Best_model.history.history['accuracy'][-1]\n",
        "print(accuracyTrain)\n",
        "print(accuracyTest)"
      ],
      "execution_count": null,
      "outputs": [
        {
          "output_type": "stream",
          "text": [
            "Model: \"sequential\"\n",
            "_________________________________________________________________\n",
            "Layer (type)                 Output Shape              Param #   \n",
            "=================================================================\n",
            "dense (Dense)                (None, 64)                160064    \n",
            "_________________________________________________________________\n",
            "dense_1 (Dense)              (None, 5)                 325       \n",
            "=================================================================\n",
            "Total params: 160,389\n",
            "Trainable params: 160,389\n",
            "Non-trainable params: 0\n",
            "_________________________________________________________________\n",
            "Epoch 1/15\n",
            "625/625 [==============================] - 4s 5ms/step - loss: 1.0581 - accuracy: 0.6740 - val_loss: 1.1413 - val_accuracy: 0.5788\n",
            "Epoch 2/15\n",
            "625/625 [==============================] - 3s 4ms/step - loss: 0.9080 - accuracy: 0.6881 - val_loss: 1.1209 - val_accuracy: 0.5853\n",
            "Epoch 3/15\n",
            "625/625 [==============================] - 3s 4ms/step - loss: 0.8525 - accuracy: 0.6997 - val_loss: 1.0779 - val_accuracy: 0.5988\n",
            "Epoch 4/15\n",
            "625/625 [==============================] - 3s 4ms/step - loss: 0.8178 - accuracy: 0.7092 - val_loss: 1.0515 - val_accuracy: 0.6064\n",
            "Epoch 5/15\n",
            "625/625 [==============================] - 2s 4ms/step - loss: 0.8014 - accuracy: 0.7133 - val_loss: 1.0706 - val_accuracy: 0.6045\n",
            "Epoch 6/15\n",
            "625/625 [==============================] - 3s 4ms/step - loss: 0.7883 - accuracy: 0.7147 - val_loss: 1.0407 - val_accuracy: 0.6121\n",
            "Epoch 7/15\n",
            "625/625 [==============================] - 3s 4ms/step - loss: 0.7610 - accuracy: 0.7262 - val_loss: 1.0411 - val_accuracy: 0.6134\n",
            "Epoch 8/15\n",
            "625/625 [==============================] - 2s 4ms/step - loss: 0.7413 - accuracy: 0.7305 - val_loss: 1.0552 - val_accuracy: 0.6127\n",
            "Epoch 9/15\n",
            "625/625 [==============================] - 2s 4ms/step - loss: 0.7223 - accuracy: 0.7387 - val_loss: 1.0506 - val_accuracy: 0.6136\n",
            "Epoch 10/15\n",
            "625/625 [==============================] - 3s 4ms/step - loss: 0.7103 - accuracy: 0.7435 - val_loss: 1.0447 - val_accuracy: 0.6163\n",
            "Epoch 11/15\n",
            "625/625 [==============================] - 3s 4ms/step - loss: 0.7026 - accuracy: 0.7448 - val_loss: 1.0513 - val_accuracy: 0.6162\n",
            "Epoch 12/15\n",
            "625/625 [==============================] - 3s 4ms/step - loss: 0.6877 - accuracy: 0.7524 - val_loss: 1.0607 - val_accuracy: 0.6143\n",
            "Epoch 13/15\n",
            "625/625 [==============================] - 3s 4ms/step - loss: 0.6713 - accuracy: 0.7563 - val_loss: 1.0470 - val_accuracy: 0.6179\n",
            "Epoch 14/15\n",
            "625/625 [==============================] - 3s 4ms/step - loss: 0.6583 - accuracy: 0.7613 - val_loss: 1.0745 - val_accuracy: 0.6170\n",
            "Epoch 15/15\n",
            "625/625 [==============================] - 3s 4ms/step - loss: 0.6421 - accuracy: 0.7695 - val_loss: 1.0778 - val_accuracy: 0.6131\n",
            "0.7669000029563904\n",
            "0.6127\n"
          ],
          "name": "stdout"
        }
      ]
    },
    {
      "cell_type": "code",
      "metadata": {
        "colab": {
          "base_uri": "https://localhost:8080/"
        },
        "id": "VgbZXRPWKahk",
        "outputId": "efd31843-252f-4902-9dcd-0e0b863475a2"
      },
      "source": [
        "accuracyTrain = Best_model.history.history['accuracy'][-1]\n",
        "print(accuracyTrain)\n",
        "print(accuracyTest)"
      ],
      "execution_count": null,
      "outputs": [
        {
          "output_type": "stream",
          "text": [
            "0.7669000029563904\n",
            "0.6127\n"
          ],
          "name": "stdout"
        }
      ]
    },
    {
      "cell_type": "code",
      "metadata": {
        "id": "hJ_CFwAGKahk"
      },
      "source": [
        "ai_crowd_test = pd.read_csv('ai_crowd_test.csv')"
      ],
      "execution_count": null,
      "outputs": []
    },
    {
      "cell_type": "code",
      "metadata": {
        "id": "OtmziJgXFkET"
      },
      "source": [
        "ai_crowd_test = preprocess_data(ai_crowd_test)"
      ],
      "execution_count": null,
      "outputs": []
    },
    {
      "cell_type": "code",
      "metadata": {
        "id": "pMMg3pLEFyNE"
      },
      "source": [
        "ai_crowd_pred = Best_model.predict(ai_crowd_test)"
      ],
      "execution_count": null,
      "outputs": []
    },
    {
      "cell_type": "code",
      "metadata": {
        "id": "1y-qmForF7nF"
      },
      "source": [
        "df = pd.DataFrame(columns=['ratings'],index=np.arange(len(ai_crowd_pred)))"
      ],
      "execution_count": null,
      "outputs": []
    },
    {
      "cell_type": "code",
      "metadata": {
        "colab": {
          "base_uri": "https://localhost:8080/",
          "height": 34
        },
        "id": "D-EBOQk4Gnfp",
        "outputId": "98dd0221-5973-4cdd-9cbc-a30d34ccbfcf"
      },
      "source": [
        "from google.colab import files\n",
        "files.download('ai_crowd.csv')"
      ],
      "execution_count": null,
      "outputs": [
        {
          "output_type": "display_data",
          "data": {
            "application/javascript": [
              "\n",
              "    async function download(id, filename, size) {\n",
              "      if (!google.colab.kernel.accessAllowed) {\n",
              "        return;\n",
              "      }\n",
              "      const div = document.createElement('div');\n",
              "      const label = document.createElement('label');\n",
              "      label.textContent = `Downloading \"${filename}\": `;\n",
              "      div.appendChild(label);\n",
              "      const progress = document.createElement('progress');\n",
              "      progress.max = size;\n",
              "      div.appendChild(progress);\n",
              "      document.body.appendChild(div);\n",
              "\n",
              "      const buffers = [];\n",
              "      let downloaded = 0;\n",
              "\n",
              "      const channel = await google.colab.kernel.comms.open(id);\n",
              "      // Send a message to notify the kernel that we're ready.\n",
              "      channel.send({})\n",
              "\n",
              "      for await (const message of channel.messages) {\n",
              "        // Send a message to notify the kernel that we're ready.\n",
              "        channel.send({})\n",
              "        if (message.buffers) {\n",
              "          for (const buffer of message.buffers) {\n",
              "            buffers.push(buffer);\n",
              "            downloaded += buffer.byteLength;\n",
              "            progress.value = downloaded;\n",
              "          }\n",
              "        }\n",
              "      }\n",
              "      const blob = new Blob(buffers, {type: 'application/binary'});\n",
              "      const a = document.createElement('a');\n",
              "      a.href = window.URL.createObjectURL(blob);\n",
              "      a.download = filename;\n",
              "      div.appendChild(a);\n",
              "      a.click();\n",
              "      div.remove();\n",
              "    }\n",
              "  "
            ],
            "text/plain": [
              "<IPython.core.display.Javascript object>"
            ]
          },
          "metadata": {
            "tags": []
          }
        },
        {
          "output_type": "display_data",
          "data": {
            "application/javascript": [
              "download(\"download_fff6471e-4a69-4e42-b5c0-a0fbda01d0c1\", \"ai_crowd.csv\", 68899)"
            ],
            "text/plain": [
              "<IPython.core.display.Javascript object>"
            ]
          },
          "metadata": {
            "tags": []
          }
        }
      ]
    },
    {
      "cell_type": "code",
      "metadata": {
        "id": "9VXV-bkzGh5S"
      },
      "source": [
        "df['ratings'] = ai_crowd_pred"
      ],
      "execution_count": null,
      "outputs": []
    },
    {
      "cell_type": "code",
      "metadata": {
        "id": "EGdI7lgZGomA"
      },
      "source": [
        "df.to_csv(\"ai_crowd.csv\")"
      ],
      "execution_count": null,
      "outputs": []
    },
    {
      "cell_type": "code",
      "metadata": {
        "id": "cTDG2iF0Kahl"
      },
      "source": [
        "### Prediction GUI"
      ],
      "execution_count": null,
      "outputs": []
    },
    {
      "cell_type": "code",
      "metadata": {
        "id": "zISfg2JFKahl"
      },
      "source": [
        "import ipywidgets as widgets\n",
        "from IPython.display import display"
      ],
      "execution_count": null,
      "outputs": []
    },
    {
      "cell_type": "code",
      "metadata": {
        "id": "EEnAYKY1VZ1Z"
      },
      "source": [
        "def preprocess_test(input):\n",
        "  input = input.split()\n",
        "  input = convert_to_lower(input)\n",
        "  emb=[]\n",
        "  for i in input:\n",
        "    try:\n",
        "      emb.append(glove_vectors_emb[i])\n",
        "    except KeyError:\n",
        "      emb.append(np.zeros((50)))\n",
        "     \n",
        "  return emb\n"
      ],
      "execution_count": null,
      "outputs": []
    },
    {
      "cell_type": "code",
      "metadata": {
        "id": "H-j0tJkev_N3"
      },
      "source": [
        ""
      ],
      "execution_count": null,
      "outputs": []
    },
    {
      "cell_type": "code",
      "metadata": {
        "colab": {
          "base_uri": "https://localhost:8080/",
          "height": 116,
          "referenced_widgets": [
            "0115a40b12b74e8fa40e420debba519c",
            "3d95b3d220ad482f9448c785856a20cf",
            "d1b2b1400d6c45f6851f0ae28282c551",
            "67338f262b4c42768e7af0318a2b3081",
            "f45a021f3cab4085ae6f7127ad19b875",
            "1b797b7f41684576aeae7684bd847a95",
            "923ebe2951894a8398f7660316b48ad3",
            "4c0e0cd576104cb8bd28c0fb6a85287d"
          ]
        },
        "id": "4AKoWb-KKahm",
        "outputId": "9c9789e6-161c-4e71-f3bd-406b6dd49fa3"
      },
      "source": [
        "k = widgets.Textarea(\n",
        "    value=\"\",\n",
        "    placeholder='Type something',\n",
        "    description='String:',\n",
        "    disabled=False)\n",
        "button = widgets.Button(description=\"Predict!\")\n",
        "output = widgets.Output()\n",
        "display(k,button, output)\n",
        "def on_button_clicked(b):\n",
        "    output.clear_output()\n",
        "    if k.value == \"\":\n",
        "      output.clear_output()\n",
        "    else :\n",
        "        \n",
        "      ##### Predict the k.value \n",
        "      #prediction = predict(k.value)\n",
        "      with output:\n",
        "        text = preprocess_test(k.value)\n",
        "        tmp=[]\n",
        "        for i in text:\n",
        "          for j in i:\n",
        "            tmp.append(j)\n",
        "        text_ = np.zeros(2500)\n",
        "        text_[:len(tmp)]=tmp\n",
        "\n",
        "        prediction = Best_model.predict(np.array([text_]))\n",
        "        print(\"Predicted Sentiment:\",prediction[0])\n",
        "    \n",
        "button.on_click(on_button_clicked)"
      ],
      "execution_count": null,
      "outputs": [
        {
          "output_type": "display_data",
          "data": {
            "application/vnd.jupyter.widget-view+json": {
              "model_id": "0115a40b12b74e8fa40e420debba519c",
              "version_minor": 0,
              "version_major": 2
            },
            "text/plain": [
              "Textarea(value='', description='String:', placeholder='Type something')"
            ]
          },
          "metadata": {
            "tags": []
          }
        },
        {
          "output_type": "display_data",
          "data": {
            "application/vnd.jupyter.widget-view+json": {
              "model_id": "67338f262b4c42768e7af0318a2b3081",
              "version_minor": 0,
              "version_major": 2
            },
            "text/plain": [
              "Button(description='Predict!', style=ButtonStyle())"
            ]
          },
          "metadata": {
            "tags": []
          }
        },
        {
          "output_type": "display_data",
          "data": {
            "application/vnd.jupyter.widget-view+json": {
              "model_id": "923ebe2951894a8398f7660316b48ad3",
              "version_minor": 0,
              "version_major": 2
            },
            "text/plain": [
              "Output()"
            ]
          },
          "metadata": {
            "tags": []
          }
        }
      ]
    },
    {
      "cell_type": "code",
      "metadata": {
        "id": "P0HgepbBKahm"
      },
      "source": [
        ""
      ],
      "execution_count": null,
      "outputs": []
    },
    {
      "cell_type": "code",
      "metadata": {
        "id": "VxEB8doqKahn"
      },
      "source": [
        "#Report for Best model"
      ],
      "execution_count": null,
      "outputs": []
    },
    {
      "cell_type": "code",
      "metadata": {
        "colab": {
          "base_uri": "https://localhost:8080/",
          "height": 520
        },
        "id": "0nABNstnKahn",
        "outputId": "388673ec-3f5c-4a9f-8d42-b8c016359977"
      },
      "source": [
        "report(y_pred,test,Model=Best_model)"
      ],
      "execution_count": null,
      "outputs": [
        {
          "output_type": "stream",
          "text": [
            "Classification Report : \n",
            "               precision    recall  f1-score   support\n",
            "\n",
            "           1       0.53      0.32      0.40      1271\n",
            "           2       0.25      0.04      0.07       630\n",
            "           3       0.29      0.13      0.18       911\n",
            "           4       0.25      0.07      0.11      1404\n",
            "           5       0.66      0.95      0.78      5784\n",
            "\n",
            "    accuracy                           0.61     10000\n",
            "   macro avg       0.40      0.30      0.31     10000\n",
            "weighted avg       0.53      0.61      0.54     10000\n",
            "\n",
            "Heat Map :\n",
            "\n"
          ],
          "name": "stdout"
        },
        {
          "output_type": "display_data",
          "data": {
            "image/png": "[encoded data removed]",
            "text/plain": [
              "<Figure size 432x288 with 2 Axes>"
            ]
          },
          "metadata": {
            "tags": [],
            "needs_background": "light"
          }
        }
      ]
    },
    {
      "cell_type": "code",
      "metadata": {
        "id": "70ERg_yPKahn"
      },
      "source": [
        ""
      ],
      "execution_count": null,
      "outputs": []
    },
    {
      "cell_type": "code",
      "metadata": {
        "id": "l23GSw20Kahn"
      },
      "source": [
        ""
      ],
      "execution_count": null,
      "outputs": []
    },
    {
      "cell_type": "markdown",
      "metadata": {
        "id": "uMw-y_uRbuid"
      },
      "source": [
        "### Different Models"
      ]
    },
    {
      "cell_type": "markdown",
      "metadata": {
        "id": "S1RRNzzIb0ZK"
      },
      "source": [
        "#### 1. Hiden layers: 0, activation: Sigmoid"
      ]
    },
    {
      "cell_type": "code",
      "metadata": {
        "colab": {
          "base_uri": "https://localhost:8080/"
        },
        "id": "Kg1tyVKQYVPz",
        "outputId": "4e6fd860-0f6f-451d-f464-b02d15898329"
      },
      "source": [
        "Sigmoid0 = NeuralNetGlove(preprocessed_reviews,Y)\n",
        "Sigmoid0.build_nn(hiddenLayers=0,activationHidden='sigmoid')\n",
        "Sigmoid0.train_nn(64,15)\n",
        "y_pred = Sigmoid0.predict(preprocessed_test_reviews)\n",
        "accuracyTest = accuracy_score(test['ratings'],y_pred)\n",
        "accuracyTrain = Sigmoid0.history.history['accuracy'][-1]\n",
        "print(accuracyTrain)\n",
        "print(accuracyTest)"
      ],
      "execution_count": null,
      "outputs": [
        {
          "output_type": "stream",
          "text": [
            "Model: \"sequential_1\"\n",
            "_________________________________________________________________\n",
            "Layer (type)                 Output Shape              Param #   \n",
            "=================================================================\n",
            "dense_2 (Dense)              (None, 5)                 12505     \n",
            "=================================================================\n",
            "Total params: 12,505\n",
            "Trainable params: 12,505\n",
            "Non-trainable params: 0\n",
            "_________________________________________________________________\n",
            "Epoch 1/15\n",
            "625/625 [==============================] - 2s 3ms/step - loss: 1.1599 - accuracy: 0.6243 - val_loss: 1.2362 - val_accuracy: 0.5733\n",
            "Epoch 2/15\n",
            "625/625 [==============================] - 2s 3ms/step - loss: 0.9858 - accuracy: 0.6827 - val_loss: 1.1830 - val_accuracy: 0.5746\n",
            "Epoch 3/15\n",
            "625/625 [==============================] - 2s 2ms/step - loss: 0.9390 - accuracy: 0.6847 - val_loss: 1.1459 - val_accuracy: 0.5778\n",
            "Epoch 4/15\n",
            "625/625 [==============================] - 2s 2ms/step - loss: 0.9194 - accuracy: 0.6847 - val_loss: 1.1305 - val_accuracy: 0.5807\n",
            "Epoch 5/15\n",
            "625/625 [==============================] - 2s 3ms/step - loss: 0.8931 - accuracy: 0.6894 - val_loss: 1.1110 - val_accuracy: 0.5842\n",
            "Epoch 6/15\n",
            "625/625 [==============================] - 2s 3ms/step - loss: 0.8781 - accuracy: 0.6932 - val_loss: 1.1031 - val_accuracy: 0.5869\n",
            "Epoch 7/15\n",
            "625/625 [==============================] - 2s 3ms/step - loss: 0.8524 - accuracy: 0.7002 - val_loss: 1.0845 - val_accuracy: 0.5922\n",
            "Epoch 8/15\n",
            "625/625 [==============================] - 2s 2ms/step - loss: 0.8544 - accuracy: 0.6953 - val_loss: 1.0870 - val_accuracy: 0.5919\n",
            "Epoch 9/15\n",
            "625/625 [==============================] - 2s 2ms/step - loss: 0.8402 - accuracy: 0.7020 - val_loss: 1.0746 - val_accuracy: 0.5968\n",
            "Epoch 10/15\n",
            "625/625 [==============================] - 2s 2ms/step - loss: 0.8452 - accuracy: 0.6976 - val_loss: 1.0786 - val_accuracy: 0.5935\n",
            "Epoch 11/15\n",
            "625/625 [==============================] - 2s 2ms/step - loss: 0.8399 - accuracy: 0.6988 - val_loss: 1.0775 - val_accuracy: 0.5945\n",
            "Epoch 12/15\n",
            "625/625 [==============================] - 2s 2ms/step - loss: 0.8262 - accuracy: 0.7025 - val_loss: 1.0645 - val_accuracy: 0.5988\n",
            "Epoch 13/15\n",
            "625/625 [==============================] - 2s 2ms/step - loss: 0.8244 - accuracy: 0.7040 - val_loss: 1.0624 - val_accuracy: 0.6001\n",
            "Epoch 14/15\n",
            "625/625 [==============================] - 2s 3ms/step - loss: 0.8278 - accuracy: 0.7035 - val_loss: 1.0672 - val_accuracy: 0.5996\n",
            "Epoch 15/15\n",
            "625/625 [==============================] - 2s 3ms/step - loss: 0.8140 - accuracy: 0.7081 - val_loss: 1.0629 - val_accuracy: 0.6004\n",
            "0.70660001039505\n",
            "0.6027\n"
          ],
          "name": "stdout"
        }
      ]
    },
    {
      "cell_type": "code",
      "metadata": {
        "colab": {
          "base_uri": "https://localhost:8080/",
          "height": 520
        },
        "id": "NMgnj6fNcx6t",
        "outputId": "a8353645-24a8-48b8-ba60-6e5d8effe6c4"
      },
      "source": [
        "report(y_pred,test,Model=Sigmoid0)"
      ],
      "execution_count": null,
      "outputs": [
        {
          "output_type": "stream",
          "text": [
            "Classification Report : \n",
            "               precision    recall  f1-score   support\n",
            "\n",
            "           1       0.53      0.22      0.31      1271\n",
            "           2       0.18      0.01      0.01       630\n",
            "           3       0.30      0.07      0.11       911\n",
            "           4       0.22      0.02      0.04      1404\n",
            "           5       0.62      0.98      0.76      5784\n",
            "\n",
            "    accuracy                           0.60     10000\n",
            "   macro avg       0.37      0.26      0.24     10000\n",
            "weighted avg       0.50      0.60      0.49     10000\n",
            "\n",
            "Heat Map :\n",
            "\n"
          ],
          "name": "stdout"
        },
        {
          "output_type": "display_data",
          "data": {
            "image/png": "[encoded data removed]",
            "text/plain": [
              "<Figure size 432x288 with 2 Axes>"
            ]
          },
          "metadata": {
            "tags": [],
            "needs_background": "light"
          }
        }
      ]
    },
    {
      "cell_type": "markdown",
      "metadata": {
        "id": "V99PqJLyb02I"
      },
      "source": [
        "#### 2. Hiden layers: 1, activation: Sigmoid"
      ]
    },
    {
      "cell_type": "code",
      "metadata": {
        "colab": {
          "base_uri": "https://localhost:8080/"
        },
        "id": "mWINHVDoc5U_",
        "outputId": "8fdb4a6b-531a-46db-f5c8-c130d016ebe5"
      },
      "source": [
        "Sigmoid1 = NeuralNetGlove(preprocessed_reviews,Y)\n",
        "Sigmoid1.build_nn(hiddenLayers=1,activationHidden='sigmoid')\n",
        "Sigmoid1.train_nn(64,15)\n",
        "y_pred = Sigmoid1.predict(preprocessed_test_reviews)\n",
        "accuracyTest = accuracy_score(test['ratings'],y_pred)\n",
        "accuracyTrain = Sigmoid1.history.history['accuracy'][-1]\n",
        "print(accuracyTrain)\n",
        "print(accuracyTest)"
      ],
      "execution_count": null,
      "outputs": [
        {
          "output_type": "stream",
          "text": [
            "Model: \"sequential_2\"\n",
            "_________________________________________________________________\n",
            "Layer (type)                 Output Shape              Param #   \n",
            "=================================================================\n",
            "dense_3 (Dense)              (None, 64)                160064    \n",
            "_________________________________________________________________\n",
            "dense_4 (Dense)              (None, 5)                 325       \n",
            "=================================================================\n",
            "Total params: 160,389\n",
            "Trainable params: 160,389\n",
            "Non-trainable params: 0\n",
            "_________________________________________________________________\n",
            "Epoch 1/15\n",
            "625/625 [==============================] - 3s 4ms/step - loss: 1.0790 - accuracy: 0.6543 - val_loss: 1.1939 - val_accuracy: 0.5742\n",
            "Epoch 2/15\n",
            "625/625 [==============================] - 2s 4ms/step - loss: 0.9462 - accuracy: 0.6865 - val_loss: 1.1374 - val_accuracy: 0.5754\n",
            "Epoch 3/15\n",
            "625/625 [==============================] - 2s 4ms/step - loss: 0.9046 - accuracy: 0.6854 - val_loss: 1.1093 - val_accuracy: 0.5809\n",
            "Epoch 4/15\n",
            "625/625 [==============================] - 2s 4ms/step - loss: 0.8711 - accuracy: 0.6937 - val_loss: 1.0898 - val_accuracy: 0.5876\n",
            "Epoch 5/15\n",
            "625/625 [==============================] - 2s 4ms/step - loss: 0.8513 - accuracy: 0.6992 - val_loss: 1.0635 - val_accuracy: 0.5955\n",
            "Epoch 6/15\n",
            "625/625 [==============================] - 2s 4ms/step - loss: 0.8412 - accuracy: 0.7009 - val_loss: 1.0665 - val_accuracy: 0.5947\n",
            "Epoch 7/15\n",
            "625/625 [==============================] - 2s 4ms/step - loss: 0.8230 - accuracy: 0.7074 - val_loss: 1.0603 - val_accuracy: 0.5975\n",
            "Epoch 8/15\n",
            "625/625 [==============================] - 2s 4ms/step - loss: 0.8276 - accuracy: 0.7034 - val_loss: 1.0581 - val_accuracy: 0.5998\n",
            "Epoch 9/15\n",
            "625/625 [==============================] - 2s 4ms/step - loss: 0.8258 - accuracy: 0.7029 - val_loss: 1.0506 - val_accuracy: 0.6055\n",
            "Epoch 10/15\n",
            "625/625 [==============================] - 2s 4ms/step - loss: 0.8122 - accuracy: 0.7078 - val_loss: 1.0448 - val_accuracy: 0.6063\n",
            "Epoch 11/15\n",
            "625/625 [==============================] - 2s 4ms/step - loss: 0.8017 - accuracy: 0.7111 - val_loss: 1.0494 - val_accuracy: 0.6062\n",
            "Epoch 12/15\n",
            "625/625 [==============================] - 2s 4ms/step - loss: 0.7995 - accuracy: 0.7121 - val_loss: 1.0454 - val_accuracy: 0.6073\n",
            "Epoch 13/15\n",
            "625/625 [==============================] - 2s 4ms/step - loss: 0.7967 - accuracy: 0.7124 - val_loss: 1.0509 - val_accuracy: 0.6083\n",
            "Epoch 14/15\n",
            "625/625 [==============================] - 2s 4ms/step - loss: 0.7939 - accuracy: 0.7121 - val_loss: 1.0404 - val_accuracy: 0.6112\n",
            "Epoch 15/15\n",
            "625/625 [==============================] - 2s 4ms/step - loss: 0.7918 - accuracy: 0.7118 - val_loss: 1.0505 - val_accuracy: 0.6096\n",
            "0.7122499942779541\n",
            "0.6117\n"
          ],
          "name": "stdout"
        }
      ]
    },
    {
      "cell_type": "code",
      "metadata": {
        "colab": {
          "base_uri": "https://localhost:8080/",
          "height": 520
        },
        "id": "hwckqs9SYamj",
        "outputId": "a4c16b4f-4436-41cb-f98f-1cd520a1c426"
      },
      "source": [
        "report(y_pred,test,Model=Sigmoid1)"
      ],
      "execution_count": null,
      "outputs": [
        {
          "output_type": "stream",
          "text": [
            "Classification Report : \n",
            "               precision    recall  f1-score   support\n",
            "\n",
            "           1       0.51      0.28      0.36      1271\n",
            "           2       0.19      0.01      0.02       630\n",
            "           3       0.31      0.10      0.15       911\n",
            "           4       0.29      0.03      0.05      1404\n",
            "           5       0.64      0.97      0.77      5784\n",
            "\n",
            "    accuracy                           0.61     10000\n",
            "   macro avg       0.39      0.28      0.27     10000\n",
            "weighted avg       0.51      0.61      0.51     10000\n",
            "\n",
            "Heat Map :\n",
            "\n"
          ],
          "name": "stdout"
        },
        {
          "output_type": "display_data",
          "data": {
            "image/png": "[encoded data removed]",
            "text/plain": [
              "<Figure size 432x288 with 2 Axes>"
            ]
          },
          "metadata": {
            "tags": [],
            "needs_background": "light"
          }
        }
      ]
    },
    {
      "cell_type": "markdown",
      "metadata": {
        "id": "UwQ1XRxRb3LI"
      },
      "source": [
        "### 3. Hiiden layers: 0, activation: ReLU"
      ]
    },
    {
      "cell_type": "code",
      "metadata": {
        "colab": {
          "base_uri": "https://localhost:8080/"
        },
        "id": "0yzk1K6pcVyi",
        "outputId": "7541d857-df3d-49c4-c003-f7dd889ce90e"
      },
      "source": [
        "ReLU0 = NeuralNetGlove(preprocessed_reviews,Y)\n",
        "ReLU0.build_nn(hiddenLayers=0,activationHidden='relu')\n",
        "ReLU0.train_nn(64,15)\n",
        "y_pred = ReLU0.predict(preprocessed_test_reviews)\n",
        "accuracyTest = accuracy_score(test['ratings'],y_pred)\n",
        "accuracyTrain = ReLU0.history.history['accuracy'][-1]\n",
        "print(accuracyTrain)\n",
        "print(accuracyTest)"
      ],
      "execution_count": null,
      "outputs": [
        {
          "output_type": "stream",
          "text": [
            "Model: \"sequential_3\"\n",
            "_________________________________________________________________\n",
            "Layer (type)                 Output Shape              Param #   \n",
            "=================================================================\n",
            "dense_5 (Dense)              (None, 5)                 12505     \n",
            "=================================================================\n",
            "Total params: 12,505\n",
            "Trainable params: 12,505\n",
            "Non-trainable params: 0\n",
            "_________________________________________________________________\n",
            "Epoch 1/15\n",
            "625/625 [==============================] - 2s 3ms/step - loss: 1.1915 - accuracy: 0.5856 - val_loss: 1.2397 - val_accuracy: 0.5741\n",
            "Epoch 2/15\n",
            "625/625 [==============================] - 2s 2ms/step - loss: 0.9839 - accuracy: 0.6816 - val_loss: 1.1802 - val_accuracy: 0.5748\n",
            "Epoch 3/15\n",
            "625/625 [==============================] - 2s 2ms/step - loss: 0.9373 - accuracy: 0.6870 - val_loss: 1.1486 - val_accuracy: 0.5775\n",
            "Epoch 4/15\n",
            "625/625 [==============================] - 2s 3ms/step - loss: 0.9021 - accuracy: 0.6888 - val_loss: 1.1317 - val_accuracy: 0.5793\n",
            "Epoch 5/15\n",
            "625/625 [==============================] - 2s 3ms/step - loss: 0.8823 - accuracy: 0.6934 - val_loss: 1.1090 - val_accuracy: 0.5837\n",
            "Epoch 6/15\n",
            "625/625 [==============================] - 2s 3ms/step - loss: 0.8784 - accuracy: 0.6896 - val_loss: 1.1032 - val_accuracy: 0.5870\n",
            "Epoch 7/15\n",
            "625/625 [==============================] - 2s 3ms/step - loss: 0.8621 - accuracy: 0.6968 - val_loss: 1.0937 - val_accuracy: 0.5892\n",
            "Epoch 8/15\n",
            "625/625 [==============================] - 2s 2ms/step - loss: 0.8526 - accuracy: 0.6990 - val_loss: 1.0845 - val_accuracy: 0.5930\n",
            "Epoch 9/15\n",
            "625/625 [==============================] - 2s 2ms/step - loss: 0.8392 - accuracy: 0.7034 - val_loss: 1.0780 - val_accuracy: 0.5958\n",
            "Epoch 10/15\n",
            "625/625 [==============================] - 2s 3ms/step - loss: 0.8392 - accuracy: 0.7021 - val_loss: 1.0789 - val_accuracy: 0.5927\n",
            "Epoch 11/15\n",
            "625/625 [==============================] - 2s 2ms/step - loss: 0.8383 - accuracy: 0.6984 - val_loss: 1.0736 - val_accuracy: 0.5954\n",
            "Epoch 12/15\n",
            "625/625 [==============================] - 2s 2ms/step - loss: 0.8233 - accuracy: 0.7078 - val_loss: 1.0701 - val_accuracy: 0.5963\n",
            "Epoch 13/15\n",
            "625/625 [==============================] - 2s 2ms/step - loss: 0.8296 - accuracy: 0.7053 - val_loss: 1.0584 - val_accuracy: 0.6007\n",
            "Epoch 14/15\n",
            "625/625 [==============================] - 2s 2ms/step - loss: 0.8140 - accuracy: 0.7097 - val_loss: 1.0609 - val_accuracy: 0.6005\n",
            "Epoch 15/15\n",
            "625/625 [==============================] - 2s 3ms/step - loss: 0.8115 - accuracy: 0.7079 - val_loss: 1.0602 - val_accuracy: 0.6020\n",
            "0.7070749998092651\n",
            "0.6053\n"
          ],
          "name": "stdout"
        }
      ]
    },
    {
      "cell_type": "code",
      "metadata": {
        "colab": {
          "base_uri": "https://localhost:8080/",
          "height": 520
        },
        "id": "s4UsyYKucVf_",
        "outputId": "6bab04ba-15ea-4d97-f8f0-ab8a942750c1"
      },
      "source": [
        "report(y_pred,test,Model=ReLU0)"
      ],
      "execution_count": null,
      "outputs": [
        {
          "output_type": "stream",
          "text": [
            "Classification Report : \n",
            "               precision    recall  f1-score   support\n",
            "\n",
            "           1       0.51      0.24      0.32      1271\n",
            "           2       0.26      0.01      0.02       630\n",
            "           3       0.32      0.08      0.13       911\n",
            "           4       0.25      0.02      0.03      1404\n",
            "           5       0.62      0.98      0.76      5784\n",
            "\n",
            "    accuracy                           0.61     10000\n",
            "   macro avg       0.39      0.26      0.25     10000\n",
            "weighted avg       0.51      0.61      0.50     10000\n",
            "\n",
            "Heat Map :\n",
            "\n"
          ],
          "name": "stdout"
        },
        {
          "output_type": "display_data",
          "data": {
            "image/png": "[encoded data removed]",
            "text/plain": [
              "<Figure size 432x288 with 2 Axes>"
            ]
          },
          "metadata": {
            "tags": [],
            "needs_background": "light"
          }
        }
      ]
    },
    {
      "cell_type": "markdown",
      "metadata": {
        "id": "e40YQDaIb4hU"
      },
      "source": [
        "### 1. Hiiden layers: 1, activation: ReLU"
      ]
    },
    {
      "cell_type": "code",
      "metadata": {
        "colab": {
          "base_uri": "https://localhost:8080/"
        },
        "id": "XZr_o77VcUEa",
        "outputId": "d684a3b9-b41a-4312-bdc7-b8101c602474"
      },
      "source": [
        "ReLU1 = NeuralNetGlove(preprocessed_reviews,Y)\n",
        "ReLU1.build_nn(hiddenLayers=1,activationHidden='relu')\n",
        "ReLU1.train_nn(64,15)\n",
        "y_pred = ReLU1.predict(preprocessed_test_reviews)\n",
        "accuracyTest = accuracy_score(test['ratings'],y_pred)\n",
        "accuracyTrain = ReLU1.history.history['accuracy'][-1]\n",
        "print(accuracyTrain)\n",
        "print(accuracyTest)"
      ],
      "execution_count": null,
      "outputs": [
        {
          "output_type": "stream",
          "text": [
            "Model: \"sequential_4\"\n",
            "_________________________________________________________________\n",
            "Layer (type)                 Output Shape              Param #   \n",
            "=================================================================\n",
            "dense_6 (Dense)              (None, 64)                160064    \n",
            "_________________________________________________________________\n",
            "dense_7 (Dense)              (None, 5)                 325       \n",
            "=================================================================\n",
            "Total params: 160,389\n",
            "Trainable params: 160,389\n",
            "Non-trainable params: 0\n",
            "_________________________________________________________________\n",
            "Epoch 1/15\n",
            "625/625 [==============================] - 3s 4ms/step - loss: 1.1029 - accuracy: 0.6446 - val_loss: 1.1637 - val_accuracy: 0.5758\n",
            "Epoch 2/15\n",
            "625/625 [==============================] - 2s 4ms/step - loss: 0.9065 - accuracy: 0.6912 - val_loss: 1.0941 - val_accuracy: 0.5874\n",
            "Epoch 3/15\n",
            "625/625 [==============================] - 2s 4ms/step - loss: 0.8512 - accuracy: 0.7005 - val_loss: 1.0773 - val_accuracy: 0.5949\n",
            "Epoch 4/15\n",
            "625/625 [==============================] - 2s 4ms/step - loss: 0.8254 - accuracy: 0.7036 - val_loss: 1.0738 - val_accuracy: 0.5986\n",
            "Epoch 5/15\n",
            "625/625 [==============================] - 2s 4ms/step - loss: 0.7941 - accuracy: 0.7155 - val_loss: 1.0410 - val_accuracy: 0.6088\n",
            "Epoch 6/15\n",
            "625/625 [==============================] - 2s 4ms/step - loss: 0.7815 - accuracy: 0.7179 - val_loss: 1.0744 - val_accuracy: 0.6039\n",
            "Epoch 7/15\n",
            "625/625 [==============================] - 2s 4ms/step - loss: 0.7578 - accuracy: 0.7261 - val_loss: 1.0516 - val_accuracy: 0.6069\n",
            "Epoch 8/15\n",
            "625/625 [==============================] - 2s 4ms/step - loss: 0.7372 - accuracy: 0.7316 - val_loss: 1.0540 - val_accuracy: 0.6097\n",
            "Epoch 9/15\n",
            "625/625 [==============================] - 2s 4ms/step - loss: 0.7244 - accuracy: 0.7354 - val_loss: 1.0527 - val_accuracy: 0.6142\n",
            "Epoch 10/15\n",
            "625/625 [==============================] - 2s 4ms/step - loss: 0.7168 - accuracy: 0.7405 - val_loss: 1.0478 - val_accuracy: 0.6140\n",
            "Epoch 11/15\n",
            "625/625 [==============================] - 2s 4ms/step - loss: 0.7010 - accuracy: 0.7459 - val_loss: 1.0685 - val_accuracy: 0.6118\n",
            "Epoch 12/15\n",
            "625/625 [==============================] - 2s 4ms/step - loss: 0.6879 - accuracy: 0.7498 - val_loss: 1.0895 - val_accuracy: 0.6077\n",
            "Epoch 13/15\n",
            "625/625 [==============================] - 2s 4ms/step - loss: 0.6732 - accuracy: 0.7538 - val_loss: 1.0525 - val_accuracy: 0.6113\n",
            "Epoch 14/15\n",
            "625/625 [==============================] - 2s 4ms/step - loss: 0.6589 - accuracy: 0.7609 - val_loss: 1.0811 - val_accuracy: 0.6117\n",
            "Epoch 15/15\n",
            "625/625 [==============================] - 2s 4ms/step - loss: 0.6437 - accuracy: 0.7658 - val_loss: 1.0686 - val_accuracy: 0.6102\n",
            "0.7655500173568726\n",
            "0.6126\n"
          ],
          "name": "stdout"
        }
      ]
    },
    {
      "cell_type": "code",
      "metadata": {
        "colab": {
          "base_uri": "https://localhost:8080/",
          "height": 520
        },
        "id": "YdSPv5wAc6Qz",
        "outputId": "76f98197-f67b-416b-998e-dcb30e47ea9d"
      },
      "source": [
        "report(y_pred,test,Model=ReLU1)"
      ],
      "execution_count": null,
      "outputs": [
        {
          "output_type": "stream",
          "text": [
            "Classification Report : \n",
            "               precision    recall  f1-score   support\n",
            "\n",
            "           1       0.56      0.32      0.41      1271\n",
            "           2       0.22      0.04      0.06       630\n",
            "           3       0.25      0.15      0.19       911\n",
            "           4       0.27      0.10      0.15      1404\n",
            "           5       0.67      0.94      0.78      5784\n",
            "\n",
            "    accuracy                           0.61     10000\n",
            "   macro avg       0.39      0.31      0.32     10000\n",
            "weighted avg       0.53      0.61      0.55     10000\n",
            "\n",
            "Heat Map :\n",
            "\n"
          ],
          "name": "stdout"
        },
        {
          "output_type": "display_data",
          "data": {
            "image/png": "[encoded data removed]",
            "text/plain": [
              "<Figure size 432x288 with 2 Axes>"
            ]
          },
          "metadata": {
            "tags": [],
            "needs_background": "light"
          }
        }
      ]
    },
    {
      "cell_type": "code",
      "metadata": {
        "id": "Vz5UaM7yeE2T"
      },
      "source": [
        ""
      ],
      "execution_count": null,
      "outputs": []
    },
    {
      "cell_type": "markdown",
      "metadata": {
        "id": "rRj_vE38KKJt"
      },
      "source": [
        "# Data Balance"
      ]
    },
    {
      "cell_type": "code",
      "metadata": {
        "id": "MkNZTSlTKN1N"
      },
      "source": [
        "def undersample(train):\n",
        "    sizes = [len(train[train['ratings']==i]) for i in range(1,6)]\n",
        "    minority_rating = np.argmin(sizes) + 1\n",
        "    minority_class_len = np.min(sizes)\n",
        "    a = []\n",
        "    for i in range(1,6):\n",
        "        s = train[train['ratings']==i].index\n",
        "        random_indices = np.random.choice(s,minority_class_len,replace=False)\n",
        "        a.extend(random_indices)\n",
        "    balanced_train = train.loc[a]\n",
        "    return balanced_train"
      ],
      "execution_count": null,
      "outputs": []
    },
    {
      "cell_type": "code",
      "metadata": {
        "id": "muKQAIhYKPjz"
      },
      "source": [
        "def oversample(train):\n",
        "    sizes = [len(train[train['ratings']==i]) for i in range(1,6)]\n",
        "    majority_rating = np.argmax(sizes) + 1\n",
        "    majority_class_len = np.max(sizes)\n",
        "    a = []\n",
        "    for i in range(1,6):\n",
        "        s = train[train['ratings']==i].index\n",
        "        random_indices = np.random.choice(s,majority_class_len,replace=True)\n",
        "        a.extend(random_indices)\n",
        "    balanced_train = train.loc[a]\n",
        "    return balanced_train"
      ],
      "execution_count": null,
      "outputs": []
    },
    {
      "cell_type": "code",
      "metadata": {
        "colab": {
          "base_uri": "https://localhost:8080/",
          "height": 701
        },
        "id": "_Cmll4tvKRgG",
        "outputId": "9964115b-d6ee-45e9-d86d-4afce7c1086d"
      },
      "source": [
        "train_under = undersample(train)[['reviews','ratings']]\n",
        "train_under.reset_index()\n",
        "#print(train)\n",
        "train_under = train_under.drop(['index'])\n",
        "#train = oversample(train)\n",
        "preprocessed_reviews_under = preprocess_data(train_under)\n",
        "\n",
        "undersample = NeuralNetGlove(preprocessed_reviews_under,Y)\n",
        "undersample.build_nn(hiddenLayers=1,activationHidden='relu')\n",
        "undersample.train_nn(64,15)\n",
        "y_pred = ReLU1.predict(preprocessed_test_reviews)\n",
        "accuracyTest = accuracy_score(test['ratings'],y_pred)\n",
        "accuracyTrain = ReLU1.history.history['accuracy'][-1]\n",
        "print(accuracyTrain)\n",
        "print(accuracyTest)"
      ],
      "execution_count": null,
      "outputs": [
        {
          "output_type": "stream",
          "text": [
            "Model: \"sequential_5\"\n",
            "_________________________________________________________________\n",
            "Layer (type)                 Output Shape              Param #   \n",
            "=================================================================\n",
            "dense_8 (Dense)              (None, 64)                160064    \n",
            "_________________________________________________________________\n",
            "dense_9 (Dense)              (None, 5)                 325       \n",
            "=================================================================\n",
            "Total params: 160,389\n",
            "Trainable params: 160,389\n",
            "Non-trainable params: 0\n",
            "_________________________________________________________________\n",
            "Epoch 1/15\n",
            "625/625 [==============================] - 3s 4ms/step - loss: 1.0966 - accuracy: 0.6439 - val_loss: 1.1674 - val_accuracy: 0.5765\n",
            "Epoch 2/15\n",
            "625/625 [==============================] - 2s 4ms/step - loss: 0.8964 - accuracy: 0.6929 - val_loss: 1.1100 - val_accuracy: 0.5865\n",
            "Epoch 3/15\n",
            "622/625 [============================>.] - ETA: 0s - loss: 0.8502 - accuracy: 0.6981"
          ],
          "name": "stdout"
        },
        {
          "output_type": "error",
          "ename": "KeyboardInterrupt",
          "evalue": "ignored",
          "traceback": [
            "\u001b[0;31m---------------------------------------------------------------------------\u001b[0m",
            "\u001b[0;31mKeyboardInterrupt\u001b[0m                         Traceback (most recent call last)",
            "\u001b[0;32m<ipython-input-56-2e64d00087a2>\u001b[0m in \u001b[0;36m<module>\u001b[0;34m()\u001b[0m\n\u001b[1;32m      1\u001b[0m \u001b[0mReLU1\u001b[0m \u001b[0;34m=\u001b[0m \u001b[0mNeuralNetGlove\u001b[0m\u001b[0;34m(\u001b[0m\u001b[0mpreprocessed_reviews\u001b[0m\u001b[0;34m,\u001b[0m\u001b[0mY\u001b[0m\u001b[0;34m)\u001b[0m\u001b[0;34m\u001b[0m\u001b[0;34m\u001b[0m\u001b[0m\n\u001b[1;32m      2\u001b[0m \u001b[0mReLU1\u001b[0m\u001b[0;34m.\u001b[0m\u001b[0mbuild_nn\u001b[0m\u001b[0;34m(\u001b[0m\u001b[0mhiddenLayers\u001b[0m\u001b[0;34m=\u001b[0m\u001b[0;36m1\u001b[0m\u001b[0;34m,\u001b[0m\u001b[0mactivationHidden\u001b[0m\u001b[0;34m=\u001b[0m\u001b[0;34m'relu'\u001b[0m\u001b[0;34m)\u001b[0m\u001b[0;34m\u001b[0m\u001b[0;34m\u001b[0m\u001b[0m\n\u001b[0;32m----> 3\u001b[0;31m \u001b[0mReLU1\u001b[0m\u001b[0;34m.\u001b[0m\u001b[0mtrain_nn\u001b[0m\u001b[0;34m(\u001b[0m\u001b[0;36m64\u001b[0m\u001b[0;34m,\u001b[0m\u001b[0;36m15\u001b[0m\u001b[0;34m)\u001b[0m\u001b[0;34m\u001b[0m\u001b[0;34m\u001b[0m\u001b[0m\n\u001b[0m\u001b[1;32m      4\u001b[0m \u001b[0my_pred\u001b[0m \u001b[0;34m=\u001b[0m \u001b[0mReLU1\u001b[0m\u001b[0;34m.\u001b[0m\u001b[0mpredict\u001b[0m\u001b[0;34m(\u001b[0m\u001b[0mpreprocessed_test_reviews\u001b[0m\u001b[0;34m)\u001b[0m\u001b[0;34m\u001b[0m\u001b[0;34m\u001b[0m\u001b[0m\n\u001b[1;32m      5\u001b[0m \u001b[0maccuracyTest\u001b[0m \u001b[0;34m=\u001b[0m \u001b[0maccuracy_score\u001b[0m\u001b[0;34m(\u001b[0m\u001b[0mtest\u001b[0m\u001b[0;34m[\u001b[0m\u001b[0;34m'ratings'\u001b[0m\u001b[0;34m]\u001b[0m\u001b[0;34m,\u001b[0m\u001b[0my_pred\u001b[0m\u001b[0;34m)\u001b[0m\u001b[0;34m\u001b[0m\u001b[0;34m\u001b[0m\u001b[0m\n",
            "\u001b[0;32m<ipython-input-26-1dc1da45c10d>\u001b[0m in \u001b[0;36mtrain_nn\u001b[0;34m(self, batch_size, epochs)\u001b[0m\n\u001b[1;32m     20\u001b[0m         \u001b[0;31m# print validation accuracy\u001b[0m\u001b[0;34m\u001b[0m\u001b[0;34m\u001b[0m\u001b[0;34m\u001b[0m\u001b[0m\n\u001b[1;32m     21\u001b[0m         \u001b[0my_train\u001b[0m \u001b[0;34m=\u001b[0m \u001b[0mtf\u001b[0m\u001b[0;34m.\u001b[0m\u001b[0mkeras\u001b[0m\u001b[0;34m.\u001b[0m\u001b[0mutils\u001b[0m\u001b[0;34m.\u001b[0m\u001b[0mto_categorical\u001b[0m\u001b[0;34m(\u001b[0m\u001b[0mself\u001b[0m\u001b[0;34m.\u001b[0m\u001b[0mratings\u001b[0m\u001b[0;34m,\u001b[0m\u001b[0mnum_classes\u001b[0m\u001b[0;34m=\u001b[0m\u001b[0;36m5\u001b[0m\u001b[0;34m)\u001b[0m\u001b[0;34m\u001b[0m\u001b[0;34m\u001b[0m\u001b[0m\n\u001b[0;32m---> 22\u001b[0;31m         \u001b[0mself\u001b[0m\u001b[0;34m.\u001b[0m\u001b[0mhistory\u001b[0m \u001b[0;34m=\u001b[0m \u001b[0mself\u001b[0m\u001b[0;34m.\u001b[0m\u001b[0mmodel\u001b[0m\u001b[0;34m.\u001b[0m\u001b[0mfit\u001b[0m\u001b[0;34m(\u001b[0m\u001b[0mself\u001b[0m\u001b[0;34m.\u001b[0m\u001b[0mreviews\u001b[0m\u001b[0;34m,\u001b[0m \u001b[0my_train\u001b[0m\u001b[0;34m,\u001b[0m \u001b[0mbatch_size\u001b[0m\u001b[0;34m=\u001b[0m\u001b[0mbatch_size\u001b[0m\u001b[0;34m,\u001b[0m \u001b[0mepochs\u001b[0m\u001b[0;34m=\u001b[0m\u001b[0mepochs\u001b[0m\u001b[0;34m,\u001b[0m \u001b[0mvalidation_split\u001b[0m\u001b[0;34m=\u001b[0m\u001b[0;36m0.2\u001b[0m\u001b[0;34m)\u001b[0m\u001b[0;34m\u001b[0m\u001b[0;34m\u001b[0m\u001b[0m\n\u001b[0m\u001b[1;32m     23\u001b[0m \u001b[0;34m\u001b[0m\u001b[0m\n\u001b[1;32m     24\u001b[0m \u001b[0;34m\u001b[0m\u001b[0m\n",
            "\u001b[0;32m/usr/local/lib/python3.7/dist-packages/tensorflow/python/keras/engine/training.py\u001b[0m in \u001b[0;36mfit\u001b[0;34m(self, x, y, batch_size, epochs, verbose, callbacks, validation_split, validation_data, shuffle, class_weight, sample_weight, initial_epoch, steps_per_epoch, validation_steps, validation_batch_size, validation_freq, max_queue_size, workers, use_multiprocessing)\u001b[0m\n\u001b[1;32m   1139\u001b[0m               \u001b[0mworkers\u001b[0m\u001b[0;34m=\u001b[0m\u001b[0mworkers\u001b[0m\u001b[0;34m,\u001b[0m\u001b[0;34m\u001b[0m\u001b[0;34m\u001b[0m\u001b[0m\n\u001b[1;32m   1140\u001b[0m               \u001b[0muse_multiprocessing\u001b[0m\u001b[0;34m=\u001b[0m\u001b[0muse_multiprocessing\u001b[0m\u001b[0;34m,\u001b[0m\u001b[0;34m\u001b[0m\u001b[0;34m\u001b[0m\u001b[0m\n\u001b[0;32m-> 1141\u001b[0;31m               return_dict=True)\n\u001b[0m\u001b[1;32m   1142\u001b[0m           \u001b[0mval_logs\u001b[0m \u001b[0;34m=\u001b[0m \u001b[0;34m{\u001b[0m\u001b[0;34m'val_'\u001b[0m \u001b[0;34m+\u001b[0m \u001b[0mname\u001b[0m\u001b[0;34m:\u001b[0m \u001b[0mval\u001b[0m \u001b[0;32mfor\u001b[0m \u001b[0mname\u001b[0m\u001b[0;34m,\u001b[0m \u001b[0mval\u001b[0m \u001b[0;32min\u001b[0m \u001b[0mval_logs\u001b[0m\u001b[0;34m.\u001b[0m\u001b[0mitems\u001b[0m\u001b[0;34m(\u001b[0m\u001b[0;34m)\u001b[0m\u001b[0;34m}\u001b[0m\u001b[0;34m\u001b[0m\u001b[0;34m\u001b[0m\u001b[0m\n\u001b[1;32m   1143\u001b[0m           \u001b[0mepoch_logs\u001b[0m\u001b[0;34m.\u001b[0m\u001b[0mupdate\u001b[0m\u001b[0;34m(\u001b[0m\u001b[0mval_logs\u001b[0m\u001b[0;34m)\u001b[0m\u001b[0;34m\u001b[0m\u001b[0;34m\u001b[0m\u001b[0m\n",
            "\u001b[0;32m/usr/local/lib/python3.7/dist-packages/tensorflow/python/keras/engine/training.py\u001b[0m in \u001b[0;36mevaluate\u001b[0;34m(self, x, y, batch_size, verbose, sample_weight, steps, callbacks, max_queue_size, workers, use_multiprocessing, return_dict)\u001b[0m\n\u001b[1;32m   1347\u001b[0m       \u001b[0;31m# Use cached evaluation data only when it's called in `Model.fit`\u001b[0m\u001b[0;34m\u001b[0m\u001b[0;34m\u001b[0m\u001b[0;34m\u001b[0m\u001b[0m\n\u001b[1;32m   1348\u001b[0m       if (getattr(self, '_fit_frame', None) is not None\n\u001b[0;32m-> 1349\u001b[0;31m           \u001b[0;32mand\u001b[0m \u001b[0mtf_inspect\u001b[0m\u001b[0;34m.\u001b[0m\u001b[0mcurrentframe\u001b[0m\u001b[0;34m(\u001b[0m\u001b[0;34m)\u001b[0m\u001b[0;34m.\u001b[0m\u001b[0mf_back\u001b[0m \u001b[0;32mis\u001b[0m \u001b[0mself\u001b[0m\u001b[0;34m.\u001b[0m\u001b[0m_fit_frame\u001b[0m\u001b[0;34m\u001b[0m\u001b[0;34m\u001b[0m\u001b[0m\n\u001b[0m\u001b[1;32m   1350\u001b[0m           and getattr(self, '_eval_data_handler', None) is not None):\n\u001b[1;32m   1351\u001b[0m         \u001b[0mdata_handler\u001b[0m \u001b[0;34m=\u001b[0m \u001b[0mself\u001b[0m\u001b[0;34m.\u001b[0m\u001b[0m_eval_data_handler\u001b[0m\u001b[0;34m\u001b[0m\u001b[0;34m\u001b[0m\u001b[0m\n",
            "\u001b[0;32m/usr/local/lib/python3.7/dist-packages/tensorflow/python/keras/utils/tf_inspect.py\u001b[0m in \u001b[0;36mcurrentframe\u001b[0;34m()\u001b[0m\n\u001b[1;32m     93\u001b[0m \u001b[0;32mdef\u001b[0m \u001b[0mcurrentframe\u001b[0m\u001b[0;34m(\u001b[0m\u001b[0;34m)\u001b[0m\u001b[0;34m:\u001b[0m\u001b[0;34m\u001b[0m\u001b[0;34m\u001b[0m\u001b[0m\n\u001b[1;32m     94\u001b[0m   \u001b[0;34m\"\"\"TFDecorator-aware replacement for inspect.currentframe.\"\"\"\u001b[0m\u001b[0;34m\u001b[0m\u001b[0;34m\u001b[0m\u001b[0m\n\u001b[0;32m---> 95\u001b[0;31m   \u001b[0;32mreturn\u001b[0m \u001b[0m_inspect\u001b[0m\u001b[0;34m.\u001b[0m\u001b[0mstack\u001b[0m\u001b[0;34m(\u001b[0m\u001b[0;34m)\u001b[0m\u001b[0;34m[\u001b[0m\u001b[0;36m1\u001b[0m\u001b[0;34m]\u001b[0m\u001b[0;34m[\u001b[0m\u001b[0;36m0\u001b[0m\u001b[0;34m]\u001b[0m\u001b[0;34m\u001b[0m\u001b[0;34m\u001b[0m\u001b[0m\n\u001b[0m\u001b[1;32m     96\u001b[0m \u001b[0;34m\u001b[0m\u001b[0m\n\u001b[1;32m     97\u001b[0m \u001b[0;34m\u001b[0m\u001b[0m\n",
            "\u001b[0;32m/usr/lib/python3.7/inspect.py\u001b[0m in \u001b[0;36mstack\u001b[0;34m(context)\u001b[0m\n\u001b[1;32m   1511\u001b[0m \u001b[0;32mdef\u001b[0m \u001b[0mstack\u001b[0m\u001b[0;34m(\u001b[0m\u001b[0mcontext\u001b[0m\u001b[0;34m=\u001b[0m\u001b[0;36m1\u001b[0m\u001b[0;34m)\u001b[0m\u001b[0;34m:\u001b[0m\u001b[0;34m\u001b[0m\u001b[0;34m\u001b[0m\u001b[0m\n\u001b[1;32m   1512\u001b[0m     \u001b[0;34m\"\"\"Return a list of records for the stack above the caller's frame.\"\"\"\u001b[0m\u001b[0;34m\u001b[0m\u001b[0;34m\u001b[0m\u001b[0m\n\u001b[0;32m-> 1513\u001b[0;31m     \u001b[0;32mreturn\u001b[0m \u001b[0mgetouterframes\u001b[0m\u001b[0;34m(\u001b[0m\u001b[0msys\u001b[0m\u001b[0;34m.\u001b[0m\u001b[0m_getframe\u001b[0m\u001b[0;34m(\u001b[0m\u001b[0;36m1\u001b[0m\u001b[0;34m)\u001b[0m\u001b[0;34m,\u001b[0m \u001b[0mcontext\u001b[0m\u001b[0;34m)\u001b[0m\u001b[0;34m\u001b[0m\u001b[0;34m\u001b[0m\u001b[0m\n\u001b[0m\u001b[1;32m   1514\u001b[0m \u001b[0;34m\u001b[0m\u001b[0m\n\u001b[1;32m   1515\u001b[0m \u001b[0;32mdef\u001b[0m \u001b[0mtrace\u001b[0m\u001b[0;34m(\u001b[0m\u001b[0mcontext\u001b[0m\u001b[0;34m=\u001b[0m\u001b[0;36m1\u001b[0m\u001b[0;34m)\u001b[0m\u001b[0;34m:\u001b[0m\u001b[0;34m\u001b[0m\u001b[0;34m\u001b[0m\u001b[0m\n",
            "\u001b[0;32m/usr/lib/python3.7/inspect.py\u001b[0m in \u001b[0;36mgetouterframes\u001b[0;34m(frame, context)\u001b[0m\n\u001b[1;32m   1488\u001b[0m     \u001b[0mframelist\u001b[0m \u001b[0;34m=\u001b[0m \u001b[0;34m[\u001b[0m\u001b[0;34m]\u001b[0m\u001b[0;34m\u001b[0m\u001b[0;34m\u001b[0m\u001b[0m\n\u001b[1;32m   1489\u001b[0m     \u001b[0;32mwhile\u001b[0m \u001b[0mframe\u001b[0m\u001b[0;34m:\u001b[0m\u001b[0;34m\u001b[0m\u001b[0;34m\u001b[0m\u001b[0m\n\u001b[0;32m-> 1490\u001b[0;31m         \u001b[0mframeinfo\u001b[0m \u001b[0;34m=\u001b[0m \u001b[0;34m(\u001b[0m\u001b[0mframe\u001b[0m\u001b[0;34m,\u001b[0m\u001b[0;34m)\u001b[0m \u001b[0;34m+\u001b[0m \u001b[0mgetframeinfo\u001b[0m\u001b[0;34m(\u001b[0m\u001b[0mframe\u001b[0m\u001b[0;34m,\u001b[0m \u001b[0mcontext\u001b[0m\u001b[0;34m)\u001b[0m\u001b[0;34m\u001b[0m\u001b[0;34m\u001b[0m\u001b[0m\n\u001b[0m\u001b[1;32m   1491\u001b[0m         \u001b[0mframelist\u001b[0m\u001b[0;34m.\u001b[0m\u001b[0mappend\u001b[0m\u001b[0;34m(\u001b[0m\u001b[0mFrameInfo\u001b[0m\u001b[0;34m(\u001b[0m\u001b[0;34m*\u001b[0m\u001b[0mframeinfo\u001b[0m\u001b[0;34m)\u001b[0m\u001b[0;34m)\u001b[0m\u001b[0;34m\u001b[0m\u001b[0;34m\u001b[0m\u001b[0m\n\u001b[1;32m   1492\u001b[0m         \u001b[0mframe\u001b[0m \u001b[0;34m=\u001b[0m \u001b[0mframe\u001b[0m\u001b[0;34m.\u001b[0m\u001b[0mf_back\u001b[0m\u001b[0;34m\u001b[0m\u001b[0;34m\u001b[0m\u001b[0m\n",
            "\u001b[0;32m/usr/lib/python3.7/inspect.py\u001b[0m in \u001b[0;36mgetframeinfo\u001b[0;34m(frame, context)\u001b[0m\n\u001b[1;32m   1462\u001b[0m         \u001b[0mstart\u001b[0m \u001b[0;34m=\u001b[0m \u001b[0mlineno\u001b[0m \u001b[0;34m-\u001b[0m \u001b[0;36m1\u001b[0m \u001b[0;34m-\u001b[0m \u001b[0mcontext\u001b[0m\u001b[0;34m//\u001b[0m\u001b[0;36m2\u001b[0m\u001b[0;34m\u001b[0m\u001b[0;34m\u001b[0m\u001b[0m\n\u001b[1;32m   1463\u001b[0m         \u001b[0;32mtry\u001b[0m\u001b[0;34m:\u001b[0m\u001b[0;34m\u001b[0m\u001b[0;34m\u001b[0m\u001b[0m\n\u001b[0;32m-> 1464\u001b[0;31m             \u001b[0mlines\u001b[0m\u001b[0;34m,\u001b[0m \u001b[0mlnum\u001b[0m \u001b[0;34m=\u001b[0m \u001b[0mfindsource\u001b[0m\u001b[0;34m(\u001b[0m\u001b[0mframe\u001b[0m\u001b[0;34m)\u001b[0m\u001b[0;34m\u001b[0m\u001b[0;34m\u001b[0m\u001b[0m\n\u001b[0m\u001b[1;32m   1465\u001b[0m         \u001b[0;32mexcept\u001b[0m \u001b[0mOSError\u001b[0m\u001b[0;34m:\u001b[0m\u001b[0;34m\u001b[0m\u001b[0;34m\u001b[0m\u001b[0m\n\u001b[1;32m   1466\u001b[0m             \u001b[0mlines\u001b[0m \u001b[0;34m=\u001b[0m \u001b[0mindex\u001b[0m \u001b[0;34m=\u001b[0m \u001b[0;32mNone\u001b[0m\u001b[0;34m\u001b[0m\u001b[0;34m\u001b[0m\u001b[0m\n",
            "\u001b[0;32m/usr/lib/python3.7/inspect.py\u001b[0m in \u001b[0;36mfindsource\u001b[0;34m(object)\u001b[0m\n\u001b[1;32m    778\u001b[0m             \u001b[0;32mraise\u001b[0m \u001b[0mOSError\u001b[0m\u001b[0;34m(\u001b[0m\u001b[0;34m'source code not available'\u001b[0m\u001b[0;34m)\u001b[0m\u001b[0;34m\u001b[0m\u001b[0;34m\u001b[0m\u001b[0m\n\u001b[1;32m    779\u001b[0m \u001b[0;34m\u001b[0m\u001b[0m\n\u001b[0;32m--> 780\u001b[0;31m     \u001b[0mmodule\u001b[0m \u001b[0;34m=\u001b[0m \u001b[0mgetmodule\u001b[0m\u001b[0;34m(\u001b[0m\u001b[0mobject\u001b[0m\u001b[0;34m,\u001b[0m \u001b[0mfile\u001b[0m\u001b[0;34m)\u001b[0m\u001b[0;34m\u001b[0m\u001b[0;34m\u001b[0m\u001b[0m\n\u001b[0m\u001b[1;32m    781\u001b[0m     \u001b[0;32mif\u001b[0m \u001b[0mmodule\u001b[0m\u001b[0;34m:\u001b[0m\u001b[0;34m\u001b[0m\u001b[0;34m\u001b[0m\u001b[0m\n\u001b[1;32m    782\u001b[0m         \u001b[0mlines\u001b[0m \u001b[0;34m=\u001b[0m \u001b[0mlinecache\u001b[0m\u001b[0;34m.\u001b[0m\u001b[0mgetlines\u001b[0m\u001b[0;34m(\u001b[0m\u001b[0mfile\u001b[0m\u001b[0;34m,\u001b[0m \u001b[0mmodule\u001b[0m\u001b[0;34m.\u001b[0m\u001b[0m__dict__\u001b[0m\u001b[0;34m)\u001b[0m\u001b[0;34m\u001b[0m\u001b[0;34m\u001b[0m\u001b[0m\n",
            "\u001b[0;32m/usr/lib/python3.7/inspect.py\u001b[0m in \u001b[0;36mgetmodule\u001b[0;34m(object, _filename)\u001b[0m\n\u001b[1;32m    733\u001b[0m         \u001b[0;32mif\u001b[0m \u001b[0mismodule\u001b[0m\u001b[0;34m(\u001b[0m\u001b[0mmodule\u001b[0m\u001b[0;34m)\u001b[0m \u001b[0;32mand\u001b[0m \u001b[0mhasattr\u001b[0m\u001b[0;34m(\u001b[0m\u001b[0mmodule\u001b[0m\u001b[0;34m,\u001b[0m \u001b[0;34m'__file__'\u001b[0m\u001b[0;34m)\u001b[0m\u001b[0;34m:\u001b[0m\u001b[0;34m\u001b[0m\u001b[0;34m\u001b[0m\u001b[0m\n\u001b[1;32m    734\u001b[0m             \u001b[0mf\u001b[0m \u001b[0;34m=\u001b[0m \u001b[0mmodule\u001b[0m\u001b[0;34m.\u001b[0m\u001b[0m__file__\u001b[0m\u001b[0;34m\u001b[0m\u001b[0;34m\u001b[0m\u001b[0m\n\u001b[0;32m--> 735\u001b[0;31m             \u001b[0;32mif\u001b[0m \u001b[0mf\u001b[0m \u001b[0;34m==\u001b[0m \u001b[0m_filesbymodname\u001b[0m\u001b[0;34m.\u001b[0m\u001b[0mget\u001b[0m\u001b[0;34m(\u001b[0m\u001b[0mmodname\u001b[0m\u001b[0;34m,\u001b[0m \u001b[0;32mNone\u001b[0m\u001b[0;34m)\u001b[0m\u001b[0;34m:\u001b[0m\u001b[0;34m\u001b[0m\u001b[0;34m\u001b[0m\u001b[0m\n\u001b[0m\u001b[1;32m    736\u001b[0m                 \u001b[0;31m# Have already mapped this module, so skip it\u001b[0m\u001b[0;34m\u001b[0m\u001b[0;34m\u001b[0m\u001b[0;34m\u001b[0m\u001b[0m\n\u001b[1;32m    737\u001b[0m                 \u001b[0;32mcontinue\u001b[0m\u001b[0;34m\u001b[0m\u001b[0;34m\u001b[0m\u001b[0m\n",
            "\u001b[0;31mKeyboardInterrupt\u001b[0m: "
          ]
        }
      ]
    },
    {
      "cell_type": "code",
      "metadata": {
        "id": "Y8HAinRoKa7L"
      },
      "source": [
        ""
      ],
      "execution_count": null,
      "outputs": []
    }
  ]
}
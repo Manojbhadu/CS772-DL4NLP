{
  "nbformat": 4,
  "nbformat_minor": 0,
  "metadata": {
    "kernelspec": {
      "display_name": "Python 3",
      "language": "python",
      "name": "python3"
    },
    "language_info": {
      "codemirror_mode": {
        "name": "ipython",
        "version": 3
      },
      "file_extension": ".py",
      "mimetype": "text/x-python",
      "name": "python",
      "nbconvert_exporter": "python",
      "pygments_lexer": "ipython3",
      "version": "3.6.9-final"
    },
    "colab": {
      "name": "Glove.ipynb",
      "provenance": [],
      "collapsed_sections": []
    },
    "widgets": {
      "application/vnd.jupyter.widget-state+json": {
        "09c33a2fa6ef4b29aab85cd08ffd73c3": {
          "model_module": "@jupyter-widgets/controls",
          "model_name": "TextareaModel",
          "state": {
            "_view_name": "TextareaView",
            "style": "IPY_MODEL_48c2f99a6e22460a8dd624a6b6b8f1fa",
            "rows": null,
            "_dom_classes": [],
            "description": "String:",
            "_model_name": "TextareaModel",
            "placeholder": "Type something",
            "_view_module": "@jupyter-widgets/controls",
            "_model_module_version": "1.5.0",
            "value": "I am not buying these books",
            "_view_count": null,
            "disabled": false,
            "_view_module_version": "1.5.0",
            "continuous_update": true,
            "description_tooltip": null,
            "_model_module": "@jupyter-widgets/controls",
            "layout": "IPY_MODEL_9764fee2073846bc9646d82388670ada"
          }
        },
        "48c2f99a6e22460a8dd624a6b6b8f1fa": {
          "model_module": "@jupyter-widgets/controls",
          "model_name": "DescriptionStyleModel",
          "state": {
            "_view_name": "StyleView",
            "_model_name": "DescriptionStyleModel",
            "description_width": "",
            "_view_module": "@jupyter-widgets/base",
            "_model_module_version": "1.5.0",
            "_view_count": null,
            "_view_module_version": "1.2.0",
            "_model_module": "@jupyter-widgets/controls"
          }
        },
        "9764fee2073846bc9646d82388670ada": {
          "model_module": "@jupyter-widgets/base",
          "model_name": "LayoutModel",
          "state": {
            "_view_name": "LayoutView",
            "grid_template_rows": null,
            "right": null,
            "justify_content": null,
            "_view_module": "@jupyter-widgets/base",
            "overflow": null,
            "_model_module_version": "1.2.0",
            "_view_count": null,
            "flex_flow": null,
            "width": null,
            "min_width": null,
            "border": null,
            "align_items": null,
            "bottom": null,
            "_model_module": "@jupyter-widgets/base",
            "top": null,
            "grid_column": null,
            "overflow_y": null,
            "overflow_x": null,
            "grid_auto_flow": null,
            "grid_area": null,
            "grid_template_columns": null,
            "flex": null,
            "_model_name": "LayoutModel",
            "justify_items": null,
            "grid_row": null,
            "max_height": null,
            "align_content": null,
            "visibility": null,
            "align_self": null,
            "height": null,
            "min_height": null,
            "padding": null,
            "grid_auto_rows": null,
            "grid_gap": null,
            "max_width": null,
            "order": null,
            "_view_module_version": "1.2.0",
            "grid_template_areas": null,
            "object_position": null,
            "object_fit": null,
            "grid_auto_columns": null,
            "margin": null,
            "display": null,
            "left": null
          }
        },
        "ede52e36b04847568cd4e6c297746d21": {
          "model_module": "@jupyter-widgets/controls",
          "model_name": "ButtonModel",
          "state": {
            "_view_name": "ButtonView",
            "style": "IPY_MODEL_742915858f854cafb801d74bceb56b49",
            "_dom_classes": [],
            "description": "Predict!",
            "_model_name": "ButtonModel",
            "button_style": "",
            "_view_module": "@jupyter-widgets/controls",
            "_model_module_version": "1.5.0",
            "tooltip": "",
            "_view_count": null,
            "disabled": false,
            "_view_module_version": "1.5.0",
            "layout": "IPY_MODEL_cd7eb5d195614972a699ab991c4cb571",
            "_model_module": "@jupyter-widgets/controls",
            "icon": ""
          }
        },
        "742915858f854cafb801d74bceb56b49": {
          "model_module": "@jupyter-widgets/controls",
          "model_name": "ButtonStyleModel",
          "state": {
            "_view_name": "StyleView",
            "_model_name": "ButtonStyleModel",
            "_view_module": "@jupyter-widgets/base",
            "_model_module_version": "1.5.0",
            "_view_count": null,
            "button_color": null,
            "font_weight": "",
            "_view_module_version": "1.2.0",
            "_model_module": "@jupyter-widgets/controls"
          }
        },
        "cd7eb5d195614972a699ab991c4cb571": {
          "model_module": "@jupyter-widgets/base",
          "model_name": "LayoutModel",
          "state": {
            "_view_name": "LayoutView",
            "grid_template_rows": null,
            "right": null,
            "justify_content": null,
            "_view_module": "@jupyter-widgets/base",
            "overflow": null,
            "_model_module_version": "1.2.0",
            "_view_count": null,
            "flex_flow": null,
            "width": null,
            "min_width": null,
            "border": null,
            "align_items": null,
            "bottom": null,
            "_model_module": "@jupyter-widgets/base",
            "top": null,
            "grid_column": null,
            "overflow_y": null,
            "overflow_x": null,
            "grid_auto_flow": null,
            "grid_area": null,
            "grid_template_columns": null,
            "flex": null,
            "_model_name": "LayoutModel",
            "justify_items": null,
            "grid_row": null,
            "max_height": null,
            "align_content": null,
            "visibility": null,
            "align_self": null,
            "height": null,
            "min_height": null,
            "padding": null,
            "grid_auto_rows": null,
            "grid_gap": null,
            "max_width": null,
            "order": null,
            "_view_module_version": "1.2.0",
            "grid_template_areas": null,
            "object_position": null,
            "object_fit": null,
            "grid_auto_columns": null,
            "margin": null,
            "display": null,
            "left": null
          }
        },
        "8983672981914ef684c6b17359bb4d84": {
          "model_module": "@jupyter-widgets/output",
          "model_name": "OutputModel",
          "state": {
            "_view_name": "OutputView",
            "msg_id": "",
            "_dom_classes": [],
            "_model_name": "OutputModel",
            "outputs": [
              {
                "output_type": "stream",
                "metadata": {
                  "tags": []
                },
                "text": "[5, 5, 1, 5, 5, 5]\n",
                "stream": "stdout"
              }
            ],
            "_view_module": "@jupyter-widgets/output",
            "_model_module_version": "1.0.0",
            "_view_count": null,
            "_view_module_version": "1.0.0",
            "layout": "IPY_MODEL_42b0d03ebfd448a0afa577ebb14f3c19",
            "_model_module": "@jupyter-widgets/output"
          }
        },
        "42b0d03ebfd448a0afa577ebb14f3c19": {
          "model_module": "@jupyter-widgets/base",
          "model_name": "LayoutModel",
          "state": {
            "_view_name": "LayoutView",
            "grid_template_rows": null,
            "right": null,
            "justify_content": null,
            "_view_module": "@jupyter-widgets/base",
            "overflow": null,
            "_model_module_version": "1.2.0",
            "_view_count": null,
            "flex_flow": null,
            "width": null,
            "min_width": null,
            "border": null,
            "align_items": null,
            "bottom": null,
            "_model_module": "@jupyter-widgets/base",
            "top": null,
            "grid_column": null,
            "overflow_y": null,
            "overflow_x": null,
            "grid_auto_flow": null,
            "grid_area": null,
            "grid_template_columns": null,
            "flex": null,
            "_model_name": "LayoutModel",
            "justify_items": null,
            "grid_row": null,
            "max_height": null,
            "align_content": null,
            "visibility": null,
            "align_self": null,
            "height": null,
            "min_height": null,
            "padding": null,
            "grid_auto_rows": null,
            "grid_gap": null,
            "max_width": null,
            "order": null,
            "_view_module_version": "1.2.0",
            "grid_template_areas": null,
            "object_position": null,
            "object_fit": null,
            "grid_auto_columns": null,
            "margin": null,
            "display": null,
            "left": null
          }
        }
      }
    }
  },
  "cells": [
    {
      "cell_type": "code",
      "metadata": {
        "id": "HWxaiMA7KahS"
      },
      "source": [
        "import pandas as pd\n",
        "import numpy as np\n",
        "import tensorflow as tf\n",
        "import nltk\n",
        "from nltk.corpus import stopwords\n",
        "from keras.preprocessing.sequence import pad_sequences\n",
        "import re\n",
        "from keras.preprocessing.text import Tokenizer\n",
        "from keras.models import Sequential\n",
        "from keras.layers import Dense, InputLayer, Activation, Flatten\n",
        "from keras.optimizers import Adam\n",
        "from sklearn.metrics import accuracy_score,classification_report,confusion_matrix\n",
        "import seaborn as sns\n",
        "import gensim\n",
        "import gensim.downloader"
      ],
      "execution_count": 29,
      "outputs": []
    },
    {
      "cell_type": "code",
      "metadata": {
        "colab": {
          "base_uri": "https://localhost:8080/"
        },
        "id": "c9KlIsZALGHS",
        "outputId": "7d795415-dbdc-4dfc-b6e5-f66375cdb489"
      },
      "source": [
        "import nltk\n",
        "nltk.download('punkt')"
      ],
      "execution_count": 30,
      "outputs": [
        {
          "output_type": "stream",
          "text": [
            "[nltk_data] Downloading package punkt to /root/nltk_data...\n",
            "[nltk_data]   Package punkt is already up-to-date!\n"
          ],
          "name": "stdout"
        },
        {
          "output_type": "execute_result",
          "data": {
            "text/plain": [
              "True"
            ]
          },
          "metadata": {
            "tags": []
          },
          "execution_count": 30
        }
      ]
    },
    {
      "cell_type": "code",
      "metadata": {
        "colab": {
          "base_uri": "https://localhost:8080/"
        },
        "id": "Y1MgpOegKahV",
        "outputId": "d8cc85cf-93f5-42fe-8287-ae680ab7f81e"
      },
      "source": [
        "print(list(gensim.downloader.info()['models'].keys()))"
      ],
      "execution_count": 31,
      "outputs": [
        {
          "output_type": "stream",
          "text": [
            "['fasttext-wiki-news-subwords-300', 'conceptnet-numberbatch-17-06-300', 'word2vec-ruscorpora-300', 'word2vec-google-news-300', 'glove-wiki-gigaword-50', 'glove-wiki-gigaword-100', 'glove-wiki-gigaword-200', 'glove-wiki-gigaword-300', 'glove-twitter-25', 'glove-twitter-50', 'glove-twitter-100', 'glove-twitter-200', '__testing_word2vec-matrix-synopsis']\n"
          ],
          "name": "stdout"
        }
      ]
    },
    {
      "cell_type": "code",
      "metadata": {
        "id": "6xayVW4DKahW"
      },
      "source": [
        "# word2vec_vectors_emb = gensim.downloader.load('word2vec-google-news-300')\n",
        "# fasttext_vectors_emb = gensim.downloader.load('fasttext-wiki-news-subwords-300')\n",
        "glove_vectors_emb = gensim.downloader.load('glove-wiki-gigaword-50')"
      ],
      "execution_count": 32,
      "outputs": []
    },
    {
      "cell_type": "code",
      "metadata": {
        "id": "Bk3dIYA0KahW"
      },
      "source": [
        "train = pd.read_csv(\"train.csv\")\n",
        "test = pd.read_csv(\"test.csv\")  "
      ],
      "execution_count": 33,
      "outputs": []
    },
    {
      "cell_type": "code",
      "metadata": {
        "colab": {
          "base_uri": "https://localhost:8080/"
        },
        "id": "jQ2G-ow5KahX",
        "outputId": "b1aed4aa-abfe-4643-a05d-80e9136c4e30"
      },
      "source": [
        "train['reviews']"
      ],
      "execution_count": 34,
      "outputs": [
        {
          "output_type": "execute_result",
          "data": {
            "text/plain": [
              "0        This book was very informative, covering all a...\n",
              "1        I am already a baseball fan and knew a bit abo...\n",
              "2        I didn't like this product it smudged all unde...\n",
              "3        I simply love the product. I appreciate print ...\n",
              "4        It goes on very easily and makes my eyes look ...\n",
              "                               ...                        \n",
              "49995                         it does not work((((((((((((\n",
              "49996    Really worthless, loud motor with absolutely n...\n",
              "49997    Don't waste your money on this. It does nothin...\n",
              "49998    Product does not remove ear wax. No suction, j...\n",
              "49999    If you wear hearing aids these are great for r...\n",
              "Name: reviews, Length: 50000, dtype: object"
            ]
          },
          "metadata": {
            "tags": []
          },
          "execution_count": 34
        }
      ]
    },
    {
      "cell_type": "code",
      "metadata": {
        "id": "eLtqpC8ZKahX"
      },
      "source": [
        ""
      ],
      "execution_count": 34,
      "outputs": []
    },
    {
      "cell_type": "code",
      "metadata": {
        "id": "CJNnhhdxKahY"
      },
      "source": [
        "def convert_to_lower(text):\n",
        "    # return the reviews after convering then to lowercase\n",
        "    lower_text = text.copy()\n",
        "    for i in range(len(text)):\n",
        "        lower_text[i] = text[i].lower()\n",
        "    return lower_text"
      ],
      "execution_count": 35,
      "outputs": []
    },
    {
      "cell_type": "code",
      "metadata": {
        "id": "HTI8jcS6KahY"
      },
      "source": [
        "def remove_punctuation(text):\n",
        "    #stop_words = set(stopwords.words('english'))\n",
        "    cleanedText = []\n",
        "    for test_str in text:\n",
        "        res = re.sub(r'[^\\w\\s]', '', test_str) \n",
        "        cleanedText.append(res)\n",
        "    return cleanedText"
      ],
      "execution_count": 36,
      "outputs": []
    },
    {
      "cell_type": "code",
      "metadata": {
        "id": "f2KfNQQzKahZ"
      },
      "source": [
        "def remove_stopwords(text):\n",
        "    stop_words = set(stopwords.words('english'))\n",
        "    without_stopwords_text  = text.copy()\n",
        "    for i in range(len(text)):\n",
        "        without_stopwords_text[i] = [w for w in text[i] if w not in stop_words]\n",
        "    return without_stopwords_text"
      ],
      "execution_count": 37,
      "outputs": []
    },
    {
      "cell_type": "code",
      "metadata": {
        "id": "kLCO1VgWKahZ"
      },
      "source": [
        "def perform_tokenization(text):\n",
        "    t = Tokenizer()\n",
        "    t.fit_on_texts(text)\n",
        "    encoded = t.texts_to_sequences(text)\n",
        "    return encoded"
      ],
      "execution_count": 38,
      "outputs": []
    },
    {
      "cell_type": "code",
      "metadata": {
        "id": "RFkmGUmNKahZ"
      },
      "source": [
        "def get_dicts(train):\n",
        "    tokenizer = Tokenizer()\n",
        "    tokenizer.fit_on_texts(train)\n",
        "    words_to_index = tokenizer.word_index\n",
        "    return words_to_index"
      ],
      "execution_count": 39,
      "outputs": []
    },
    {
      "cell_type": "code",
      "metadata": {
        "id": "9g2ZS_ISKahZ"
      },
      "source": [
        "# def gloveVector():\n",
        "#     wordMapping = {}\n",
        "#     fileName = ''\n",
        "#     with open(fileName, 'r', encoding='UTF-8') as f:\n",
        "#         for line in f:\n",
        "#             w_line = line.split()\n",
        "#             curr_word = w_line[0]\n",
        "#             wordMapping[curr_word] = np.array(w_line[1:], dtype=np.float64)\n",
        "#     return (wordMapping)\n",
        "\n"
      ],
      "execution_count": 40,
      "outputs": []
    },
    {
      "cell_type": "code",
      "metadata": {
        "id": "BC9_k4l6Kaha"
      },
      "source": [
        "# word_to_index = get_dicts(train)\n",
        "# wordMap = gloveVector()\n",
        "# vocabSize = len(word_to_index)"
      ],
      "execution_count": 41,
      "outputs": []
    },
    {
      "cell_type": "code",
      "metadata": {
        "id": "2feVClCnKaha"
      },
      "source": [
        "MAX_LENGTH = 50"
      ],
      "execution_count": 42,
      "outputs": []
    },
    {
      "cell_type": "code",
      "metadata": {
        "id": "uW3P8jCKKaha"
      },
      "source": [
        "# def embeddingMatrix():\n",
        "#     vocab_len = len(word_to_index)\n",
        "#     embed_vector_len = wordMap['moon'].shape[0]\n",
        "#     emb_matrix = np.zeros((vocab_len, embed_vector_len))\n",
        "#     for word, index in word_to_index.items():\n",
        "#     embedding_vector = wordMap.get(word)\n",
        "#     if embedding_vector is not None:\n",
        "#         emb_matrix[index, :] = embedding_vector\n",
        "#     embedding_layer = Embedding(input_dim=vocab_len, output_dim=embed_vector_len, input_length=MAX_LENGTH, weights = [emb_matrix], trainable=False)\n",
        "#     return embedding_layer\n"
      ],
      "execution_count": 43,
      "outputs": []
    },
    {
      "cell_type": "code",
      "metadata": {
        "id": "iT1_Dj8QKaha"
      },
      "source": [
        "def tokens(text):\n",
        "    a = text.copy()\n",
        "    for i in range(len(text)):\n",
        "        a[i] = nltk.word_tokenize(text[i])\n",
        "    return a"
      ],
      "execution_count": 44,
      "outputs": []
    },
    {
      "cell_type": "code",
      "metadata": {
        "id": "d6Kn0lZdKahb"
      },
      "source": [
        "def perform_padding(data):\n",
        "  z=[]\n",
        "  for i in data:\n",
        "    k = [r for j in i for r in j]\n",
        "    result = np.zeros(MAX_LENGTH*50)\n",
        "    result[:len(k)] = np.array(k)\n",
        "    z.append(result)\n",
        "  return (np.array(z,dtype='float64'))"
      ],
      "execution_count": 45,
      "outputs": []
    },
    {
      "cell_type": "code",
      "metadata": {
        "id": "xe-kKiwsKahb"
      },
      "source": [
        "def preprocess_data(data):\n",
        "    reviews = data[\"reviews\"]\n",
        "    reviews = convert_to_lower(reviews)\n",
        "    reviews = remove_punctuation(reviews)\n",
        "    reviews = tokens(reviews)\n",
        "    emb = []\n",
        "    for i in reviews:\n",
        "      tmp=[]\n",
        "      for j in i:\n",
        "        try:\n",
        "          tmp.append(glove_vectors_emb[j])\n",
        "        except KeyError:\n",
        "          tmp.append(np.zeros((50)))\n",
        "      emb.append(tmp)\n",
        "    padded = perform_padding(emb)    \n",
        "    return padded"
      ],
      "execution_count": 46,
      "outputs": []
    },
    {
      "cell_type": "code",
      "metadata": {
        "id": "zjXi4Lt8Kahc"
      },
      "source": [
        "preprocessed_reviews = preprocess_data(train)"
      ],
      "execution_count": 47,
      "outputs": []
    },
    {
      "cell_type": "code",
      "metadata": {
        "id": "dPnSIQinKahc"
      },
      "source": [
        "preprocessed_test_reviews = preprocess_data(test)"
      ],
      "execution_count": 48,
      "outputs": []
    },
    {
      "cell_type": "code",
      "metadata": {
        "id": "_DJrYVrhKahc"
      },
      "source": [
        "def softmax_activation(x):\n",
        "    exp_x = np.exp(x)\n",
        "    return exp_x/np.sum(exp_x)"
      ],
      "execution_count": 49,
      "outputs": []
    },
    {
      "cell_type": "code",
      "metadata": {
        "id": "6Px-83qkKahc"
      },
      "source": [
        ""
      ],
      "execution_count": 85,
      "outputs": []
    },
    {
      "cell_type": "code",
      "metadata": {
        "id": "YZxfa9t5Kahd"
      },
      "source": [
        "class NeuralNetGlove:\n",
        "\n",
        "    def __init__(self, reviews, ratings):\n",
        "\n",
        "        self.reviews = reviews\n",
        "        self.ratings = ratings\n",
        "\n",
        "    def build_nn(self,hiddenLayers,activationHidden):\n",
        "        #add the input and output layer here; you can use either tensorflow or pytorch\n",
        "        self.model = Sequential()\n",
        "        self.model.add(InputLayer(input_shape=(MAX_LENGTH*50,)))\n",
        "        for i in range(hiddenLayers):\n",
        "            self.model.add(Dense(64,activation=activationHidden))\n",
        "        self.model.add(Dense(5,activation='softmax'))\n",
        "        self.model.compile(loss='categorical_crossentropy', optimizer=Adam(0.0001), metrics=['accuracy'])\n",
        "        self.model.summary()\n",
        "        \n",
        "    def train_nn(self,batch_size,epochs):\n",
        "        # write the training loop here; you can use either tensorflow or pytorch\n",
        "        # print validation accuracy\n",
        "        y_train = tf.keras.utils.to_categorical(self.ratings,num_classes=5)\n",
        "        self.history = self.model.fit(self.reviews, y_train, batch_size=batch_size, epochs=epochs, validation_split=0.2)\n",
        "        \n",
        "\n",
        "    def predict(self, reviews):\n",
        "        # return a list containing all the ratings predicted by the trained model\n",
        "        y_pred = self.model.predict(reviews)\n",
        "        pred1 = []\n",
        "        for i in range(len(y_pred)):\n",
        "            pred1.append(np.argmax(y_pred[i])+1)\n",
        "        return pred1"
      ],
      "execution_count": 50,
      "outputs": []
    },
    {
      "cell_type": "code",
      "metadata": {
        "id": "kdaJYIr3Kahe"
      },
      "source": [
        "train_rating_list = train['ratings'].to_list()\n",
        "Y = [str(i-1) for i in train_rating_list]"
      ],
      "execution_count": 51,
      "outputs": []
    },
    {
      "cell_type": "code",
      "metadata": {
        "id": "AM-09mPpKahe"
      },
      "source": [
        ""
      ],
      "execution_count": 51,
      "outputs": []
    },
    {
      "cell_type": "code",
      "metadata": {
        "id": "Bn1KhlgQKahe"
      },
      "source": [
        ""
      ],
      "execution_count": 51,
      "outputs": []
    },
    {
      "cell_type": "code",
      "metadata": {
        "id": "4msb4fxeKahe"
      },
      "source": [
        ""
      ],
      "execution_count": 51,
      "outputs": []
    },
    {
      "cell_type": "code",
      "metadata": {
        "id": "1ZkRq7PwKahe"
      },
      "source": [
        "###### Code to find the model with best training and test set \n",
        "def bestModelNN():\n",
        "    trainAccuraciesReLU = []\n",
        "    testAccuraciesReLU = []\n",
        "    trainAccuraciesSigmoid = []\n",
        "    testAccuraciesSigmoid = []\n",
        "    \n",
        "    for i in range(0,5):\n",
        "        M = NeuralNetGlove(preprocessed_reviews,Y)\n",
        "        M.build_nn(hiddenLayers=i,activationHidden='sigmoid')\n",
        "        M.train_nn(64,15)\n",
        "        y_pred = M.predict(preprocessed_test_reviews)\n",
        "        accuracyTest = accuracy_score(test['ratings'],y_pred)\n",
        "        accuracyTrain = M.history.history['accuracy'][-1]\n",
        "        trainAccuraciesSigmoid.append(accuracyTrain)\n",
        "        testAccuraciesSigmoid.append(accuracyTest)\n",
        "        del M\n",
        "        \n",
        "    for i in range(0,5):\n",
        "        M = NeuralNetGlove(preprocessed_reviews,Y)\n",
        "        M.build_nn(hiddenLayers=i,activationHidden='relu')\n",
        "        M.train_nn(64,15)\n",
        "        y_pred = M.predict(preprocessed_test_reviews)\n",
        "        accuracyTest = accuracy_score(test['ratings'],y_pred)\n",
        "        accuracyTrain = M.history.history['accuracy'][-1]\n",
        "        trainAccuraciesReLU.append(accuracyTrain)\n",
        "        testAccuraciesReLU.append(accuracyTest)\n",
        "        del M \n",
        "        \n",
        "    print(trainAccuraciesReLU)\n",
        "    print(testAccuraciesReLU)\n",
        "    print(trainAccuraciesSigmoid)\n",
        "    print(testAccuraciesSigmoid)\n",
        "    return trainAccuraciesReLU, testAccuraciesReLU, trainAccuraciesSigmoid, testAccuraciesSigmoid\n",
        "\n"
      ],
      "execution_count": 52,
      "outputs": []
    },
    {
      "cell_type": "code",
      "metadata": {
        "id": "Uboj0KJRKahf"
      },
      "source": [
        "##### Develop Report for the best model and prediction for some examples\n",
        "def report(y_pred,test,Model):\n",
        "    Classification_report = classification_report(test['ratings'],y_pred,target_names=['1','2','3','4','5'])\n",
        "    cm  = confusion_matrix(test['ratings'],y_pred)\n",
        "    print(\"Classification Report : \\n\",Classification_report)\n",
        "    print(\"Heat Map :\\n\")\n",
        "    sns.heatmap(cm,cmap=\"Blues\",annot=True,fmt='.4g',xticklabels=['1','2','3','4','5'],yticklabels=['1','2','3','4','5'])\n",
        "    #tried_examples = [['I like it but dont think I would buy again.'], ['Nice looking cleaner but way smaller than 2 liters. Not as advertised.'],['Total waste of money, I used all 10 of these and got 0 results from it.']] \n",
        "    # Create the pandas DataFrame \n",
        "    #df = pd.DataFrame(tried_examples, columns = ['reviews']) \n",
        "    #pre_tried_examples = preprocess_data(df,word_to_index)\n",
        "    #z = Model.predict(pre_tried_examples)\n",
        "    #print(\"Examples :\\n\",df)\n",
        "    #print(\"Predicted Values: \\n\",z)"
      ],
      "execution_count": 76,
      "outputs": []
    },
    {
      "cell_type": "code",
      "metadata": {
        "colab": {
          "base_uri": "https://localhost:8080/"
        },
        "id": "rvCzxvLfKahf",
        "outputId": "d7a90fa8-80fb-4716-e9b0-77848a721fe9"
      },
      "source": [
        "trainAccuraciesReLU, testAccuraciesReLU, trainAccuraciesSigmoid, testAccuraciesSigmoid = bestModelNN()\n"
      ],
      "execution_count": 54,
      "outputs": [
        {
          "output_type": "stream",
          "text": [
            "Model: \"sequential_2\"\n",
            "_________________________________________________________________\n",
            "Layer (type)                 Output Shape              Param #   \n",
            "=================================================================\n",
            "dense_2 (Dense)              (None, 5)                 12505     \n",
            "=================================================================\n",
            "Total params: 12,505\n",
            "Trainable params: 12,505\n",
            "Non-trainable params: 0\n",
            "_________________________________________________________________\n",
            "Epoch 1/15\n",
            "625/625 [==============================] - 2s 3ms/step - loss: 1.1553 - accuracy: 0.6234 - val_loss: 1.2397 - val_accuracy: 0.5744\n",
            "Epoch 2/15\n",
            "625/625 [==============================] - 2s 3ms/step - loss: 0.9743 - accuracy: 0.6855 - val_loss: 1.1773 - val_accuracy: 0.5754\n",
            "Epoch 3/15\n",
            "625/625 [==============================] - 2s 3ms/step - loss: 0.9340 - accuracy: 0.6864 - val_loss: 1.1413 - val_accuracy: 0.5795\n",
            "Epoch 4/15\n",
            "625/625 [==============================] - 2s 3ms/step - loss: 0.9104 - accuracy: 0.6858 - val_loss: 1.1254 - val_accuracy: 0.5829\n",
            "Epoch 5/15\n",
            "625/625 [==============================] - 2s 3ms/step - loss: 0.8897 - accuracy: 0.6909 - val_loss: 1.1092 - val_accuracy: 0.5851\n",
            "Epoch 6/15\n",
            "625/625 [==============================] - 2s 3ms/step - loss: 0.8724 - accuracy: 0.6948 - val_loss: 1.1109 - val_accuracy: 0.5876\n",
            "Epoch 7/15\n",
            "625/625 [==============================] - 1s 2ms/step - loss: 0.8558 - accuracy: 0.7001 - val_loss: 1.0918 - val_accuracy: 0.5921\n",
            "Epoch 8/15\n",
            "625/625 [==============================] - 2s 2ms/step - loss: 0.8473 - accuracy: 0.7009 - val_loss: 1.0956 - val_accuracy: 0.5919\n",
            "Epoch 9/15\n",
            "625/625 [==============================] - 2s 3ms/step - loss: 0.8493 - accuracy: 0.6958 - val_loss: 1.0758 - val_accuracy: 0.5960\n",
            "Epoch 10/15\n",
            "625/625 [==============================] - 2s 2ms/step - loss: 0.8410 - accuracy: 0.6997 - val_loss: 1.0663 - val_accuracy: 0.5978\n",
            "Epoch 11/15\n",
            "625/625 [==============================] - 2s 2ms/step - loss: 0.8320 - accuracy: 0.7047 - val_loss: 1.0696 - val_accuracy: 0.5968\n",
            "Epoch 12/15\n",
            "625/625 [==============================] - 2s 3ms/step - loss: 0.8375 - accuracy: 0.6977 - val_loss: 1.0721 - val_accuracy: 0.5969\n",
            "Epoch 13/15\n",
            "625/625 [==============================] - 2s 2ms/step - loss: 0.8231 - accuracy: 0.7048 - val_loss: 1.0622 - val_accuracy: 0.6007\n",
            "Epoch 14/15\n",
            "625/625 [==============================] - 2s 2ms/step - loss: 0.8282 - accuracy: 0.6998 - val_loss: 1.0686 - val_accuracy: 0.5992\n",
            "Epoch 15/15\n",
            "625/625 [==============================] - 2s 3ms/step - loss: 0.8144 - accuracy: 0.7091 - val_loss: 1.0628 - val_accuracy: 0.6017\n",
            "Model: \"sequential_3\"\n",
            "_________________________________________________________________\n",
            "Layer (type)                 Output Shape              Param #   \n",
            "=================================================================\n",
            "dense_3 (Dense)              (None, 64)                160064    \n",
            "_________________________________________________________________\n",
            "dense_4 (Dense)              (None, 5)                 325       \n",
            "=================================================================\n",
            "Total params: 160,389\n",
            "Trainable params: 160,389\n",
            "Non-trainable params: 0\n",
            "_________________________________________________________________\n",
            "Epoch 1/15\n",
            "625/625 [==============================] - 3s 4ms/step - loss: 1.0853 - accuracy: 0.6323 - val_loss: 1.2043 - val_accuracy: 0.5742\n",
            "Epoch 2/15\n",
            "625/625 [==============================] - 2s 4ms/step - loss: 0.9394 - accuracy: 0.6891 - val_loss: 1.1316 - val_accuracy: 0.5755\n",
            "Epoch 3/15\n",
            "625/625 [==============================] - 2s 4ms/step - loss: 0.9105 - accuracy: 0.6848 - val_loss: 1.1143 - val_accuracy: 0.5799\n",
            "Epoch 4/15\n",
            "625/625 [==============================] - 2s 4ms/step - loss: 0.8761 - accuracy: 0.6941 - val_loss: 1.0879 - val_accuracy: 0.5876\n",
            "Epoch 5/15\n",
            "625/625 [==============================] - 2s 4ms/step - loss: 0.8524 - accuracy: 0.6974 - val_loss: 1.0698 - val_accuracy: 0.5928\n",
            "Epoch 6/15\n",
            "625/625 [==============================] - 2s 4ms/step - loss: 0.8341 - accuracy: 0.7047 - val_loss: 1.0539 - val_accuracy: 0.5984\n",
            "Epoch 7/15\n",
            "625/625 [==============================] - 2s 4ms/step - loss: 0.8332 - accuracy: 0.7042 - val_loss: 1.0594 - val_accuracy: 0.5978\n",
            "Epoch 8/15\n",
            "625/625 [==============================] - 2s 4ms/step - loss: 0.8287 - accuracy: 0.7041 - val_loss: 1.0570 - val_accuracy: 0.6001\n",
            "Epoch 9/15\n",
            "625/625 [==============================] - 2s 4ms/step - loss: 0.8181 - accuracy: 0.7055 - val_loss: 1.0549 - val_accuracy: 0.6029\n",
            "Epoch 10/15\n",
            "625/625 [==============================] - 2s 4ms/step - loss: 0.8101 - accuracy: 0.7073 - val_loss: 1.0379 - val_accuracy: 0.6129\n",
            "Epoch 11/15\n",
            "625/625 [==============================] - 2s 4ms/step - loss: 0.7983 - accuracy: 0.7115 - val_loss: 1.0512 - val_accuracy: 0.6066\n",
            "Epoch 12/15\n",
            "625/625 [==============================] - 2s 4ms/step - loss: 0.8026 - accuracy: 0.7072 - val_loss: 1.0400 - val_accuracy: 0.6119\n",
            "Epoch 13/15\n",
            "625/625 [==============================] - 2s 4ms/step - loss: 0.7992 - accuracy: 0.7104 - val_loss: 1.0466 - val_accuracy: 0.6094\n",
            "Epoch 14/15\n",
            "625/625 [==============================] - 2s 4ms/step - loss: 0.7961 - accuracy: 0.7103 - val_loss: 1.0546 - val_accuracy: 0.6090\n",
            "Epoch 15/15\n",
            "625/625 [==============================] - 2s 4ms/step - loss: 0.7970 - accuracy: 0.7115 - val_loss: 1.0528 - val_accuracy: 0.6101\n",
            "Model: \"sequential_4\"\n",
            "_________________________________________________________________\n",
            "Layer (type)                 Output Shape              Param #   \n",
            "=================================================================\n",
            "dense_5 (Dense)              (None, 64)                160064    \n",
            "_________________________________________________________________\n",
            "dense_6 (Dense)              (None, 64)                4160      \n",
            "_________________________________________________________________\n",
            "dense_7 (Dense)              (None, 5)                 325       \n",
            "=================================================================\n",
            "Total params: 164,549\n",
            "Trainable params: 164,549\n",
            "Non-trainable params: 0\n",
            "_________________________________________________________________\n",
            "Epoch 1/15\n",
            "625/625 [==============================] - 3s 5ms/step - loss: 1.3466 - accuracy: 0.4868 - val_loss: 1.2773 - val_accuracy: 0.5742\n",
            "Epoch 2/15\n",
            "625/625 [==============================] - 3s 4ms/step - loss: 1.0227 - accuracy: 0.6841 - val_loss: 1.2472 - val_accuracy: 0.5742\n",
            "Epoch 3/15\n",
            "625/625 [==============================] - 3s 4ms/step - loss: 0.9775 - accuracy: 0.6854 - val_loss: 1.1659 - val_accuracy: 0.5742\n",
            "Epoch 4/15\n",
            "625/625 [==============================] - 3s 4ms/step - loss: 0.9316 - accuracy: 0.6853 - val_loss: 1.1210 - val_accuracy: 0.5786\n",
            "Epoch 5/15\n",
            "625/625 [==============================] - 3s 4ms/step - loss: 0.8894 - accuracy: 0.6925 - val_loss: 1.0924 - val_accuracy: 0.5891\n",
            "Epoch 6/15\n",
            "625/625 [==============================] - 3s 4ms/step - loss: 0.8657 - accuracy: 0.6976 - val_loss: 1.0810 - val_accuracy: 0.5919\n",
            "Epoch 7/15\n",
            "625/625 [==============================] - 3s 4ms/step - loss: 0.8519 - accuracy: 0.6984 - val_loss: 1.0663 - val_accuracy: 0.5986\n",
            "Epoch 8/15\n",
            "625/625 [==============================] - 3s 4ms/step - loss: 0.8471 - accuracy: 0.7013 - val_loss: 1.0585 - val_accuracy: 0.6015\n",
            "Epoch 9/15\n",
            "625/625 [==============================] - 3s 4ms/step - loss: 0.8335 - accuracy: 0.7030 - val_loss: 1.0588 - val_accuracy: 0.6016\n",
            "Epoch 10/15\n",
            "625/625 [==============================] - 3s 4ms/step - loss: 0.8311 - accuracy: 0.7024 - val_loss: 1.0616 - val_accuracy: 0.6025\n",
            "Epoch 11/15\n",
            "625/625 [==============================] - 3s 4ms/step - loss: 0.8272 - accuracy: 0.7025 - val_loss: 1.0490 - val_accuracy: 0.6062\n",
            "Epoch 12/15\n",
            "625/625 [==============================] - 3s 4ms/step - loss: 0.8233 - accuracy: 0.7052 - val_loss: 1.0518 - val_accuracy: 0.6061\n",
            "Epoch 13/15\n",
            "625/625 [==============================] - 3s 4ms/step - loss: 0.8177 - accuracy: 0.7048 - val_loss: 1.0523 - val_accuracy: 0.6073\n",
            "Epoch 14/15\n",
            "625/625 [==============================] - 3s 4ms/step - loss: 0.8091 - accuracy: 0.7093 - val_loss: 1.0435 - val_accuracy: 0.6089\n",
            "Epoch 15/15\n",
            "625/625 [==============================] - 3s 4ms/step - loss: 0.8059 - accuracy: 0.7096 - val_loss: 1.0458 - val_accuracy: 0.6102\n",
            "Model: \"sequential_5\"\n",
            "_________________________________________________________________\n",
            "Layer (type)                 Output Shape              Param #   \n",
            "=================================================================\n",
            "dense_8 (Dense)              (None, 64)                160064    \n",
            "_________________________________________________________________\n",
            "dense_9 (Dense)              (None, 64)                4160      \n",
            "_________________________________________________________________\n",
            "dense_10 (Dense)             (None, 64)                4160      \n",
            "_________________________________________________________________\n",
            "dense_11 (Dense)             (None, 5)                 325       \n",
            "=================================================================\n",
            "Total params: 168,709\n",
            "Trainable params: 168,709\n",
            "Non-trainable params: 0\n",
            "_________________________________________________________________\n",
            "Epoch 1/15\n",
            "625/625 [==============================] - 3s 5ms/step - loss: 1.1665 - accuracy: 0.6221 - val_loss: 1.2900 - val_accuracy: 0.5742\n",
            "Epoch 2/15\n",
            "625/625 [==============================] - 3s 4ms/step - loss: 1.0245 - accuracy: 0.6820 - val_loss: 1.2465 - val_accuracy: 0.5742\n",
            "Epoch 3/15\n",
            "625/625 [==============================] - 3s 4ms/step - loss: 0.9667 - accuracy: 0.6882 - val_loss: 1.1533 - val_accuracy: 0.5742\n",
            "Epoch 4/15\n",
            "625/625 [==============================] - 3s 4ms/step - loss: 0.9097 - accuracy: 0.6884 - val_loss: 1.1056 - val_accuracy: 0.5813\n",
            "Epoch 5/15\n",
            "625/625 [==============================] - 3s 4ms/step - loss: 0.8825 - accuracy: 0.6926 - val_loss: 1.0927 - val_accuracy: 0.5899\n",
            "Epoch 6/15\n",
            "625/625 [==============================] - 3s 4ms/step - loss: 0.8652 - accuracy: 0.6968 - val_loss: 1.0689 - val_accuracy: 0.5974\n",
            "Epoch 7/15\n",
            "625/625 [==============================] - 3s 4ms/step - loss: 0.8564 - accuracy: 0.6976 - val_loss: 1.0581 - val_accuracy: 0.6011\n",
            "Epoch 8/15\n",
            "625/625 [==============================] - 3s 4ms/step - loss: 0.8558 - accuracy: 0.6961 - val_loss: 1.0603 - val_accuracy: 0.6023\n",
            "Epoch 9/15\n",
            "625/625 [==============================] - 3s 5ms/step - loss: 0.8497 - accuracy: 0.6978 - val_loss: 1.0696 - val_accuracy: 0.6013\n",
            "Epoch 10/15\n",
            "625/625 [==============================] - 3s 4ms/step - loss: 0.8416 - accuracy: 0.6997 - val_loss: 1.0617 - val_accuracy: 0.6031\n",
            "Epoch 11/15\n",
            "625/625 [==============================] - 3s 4ms/step - loss: 0.8332 - accuracy: 0.7018 - val_loss: 1.0583 - val_accuracy: 0.6050\n",
            "Epoch 12/15\n",
            "625/625 [==============================] - 3s 5ms/step - loss: 0.8353 - accuracy: 0.7015 - val_loss: 1.0554 - val_accuracy: 0.6077\n",
            "Epoch 13/15\n",
            "625/625 [==============================] - 3s 4ms/step - loss: 0.8275 - accuracy: 0.7015 - val_loss: 1.0610 - val_accuracy: 0.6078\n",
            "Epoch 14/15\n",
            "625/625 [==============================] - 3s 4ms/step - loss: 0.8236 - accuracy: 0.7048 - val_loss: 1.0476 - val_accuracy: 0.6117\n",
            "Epoch 15/15\n",
            "625/625 [==============================] - 3s 5ms/step - loss: 0.8233 - accuracy: 0.7032 - val_loss: 1.0596 - val_accuracy: 0.6110\n",
            "Model: \"sequential_6\"\n",
            "_________________________________________________________________\n",
            "Layer (type)                 Output Shape              Param #   \n",
            "=================================================================\n",
            "dense_12 (Dense)             (None, 64)                160064    \n",
            "_________________________________________________________________\n",
            "dense_13 (Dense)             (None, 64)                4160      \n",
            "_________________________________________________________________\n",
            "dense_14 (Dense)             (None, 64)                4160      \n",
            "_________________________________________________________________\n",
            "dense_15 (Dense)             (None, 64)                4160      \n",
            "_________________________________________________________________\n",
            "dense_16 (Dense)             (None, 5)                 325       \n",
            "=================================================================\n",
            "Total params: 172,869\n",
            "Trainable params: 172,869\n",
            "Non-trainable params: 0\n",
            "_________________________________________________________________\n",
            "Epoch 1/15\n",
            "625/625 [==============================] - 3s 5ms/step - loss: 1.1515 - accuracy: 0.6907 - val_loss: 1.2869 - val_accuracy: 0.5742\n",
            "Epoch 2/15\n",
            "625/625 [==============================] - 3s 4ms/step - loss: 1.0279 - accuracy: 0.6845 - val_loss: 1.2676 - val_accuracy: 0.5742\n",
            "Epoch 3/15\n",
            "625/625 [==============================] - 3s 4ms/step - loss: 0.9871 - accuracy: 0.6864 - val_loss: 1.1535 - val_accuracy: 0.5742\n",
            "Epoch 4/15\n",
            "625/625 [==============================] - 3s 5ms/step - loss: 0.9114 - accuracy: 0.6862 - val_loss: 1.0987 - val_accuracy: 0.5779\n",
            "Epoch 5/15\n",
            "625/625 [==============================] - 3s 5ms/step - loss: 0.8849 - accuracy: 0.6894 - val_loss: 1.1027 - val_accuracy: 0.5867\n",
            "Epoch 6/15\n",
            "625/625 [==============================] - 3s 5ms/step - loss: 0.8715 - accuracy: 0.6953 - val_loss: 1.0866 - val_accuracy: 0.5944\n",
            "Epoch 7/15\n",
            "625/625 [==============================] - 3s 5ms/step - loss: 0.8650 - accuracy: 0.6968 - val_loss: 1.0807 - val_accuracy: 0.5979\n",
            "Epoch 8/15\n",
            "625/625 [==============================] - 3s 5ms/step - loss: 0.8574 - accuracy: 0.6979 - val_loss: 1.0757 - val_accuracy: 0.6008\n",
            "Epoch 9/15\n",
            "625/625 [==============================] - 3s 5ms/step - loss: 0.8591 - accuracy: 0.6956 - val_loss: 1.0845 - val_accuracy: 0.5990\n",
            "Epoch 10/15\n",
            "625/625 [==============================] - 3s 5ms/step - loss: 0.8593 - accuracy: 0.6967 - val_loss: 1.0636 - val_accuracy: 0.6061\n",
            "Epoch 11/15\n",
            "625/625 [==============================] - 3s 5ms/step - loss: 0.8427 - accuracy: 0.7026 - val_loss: 1.0698 - val_accuracy: 0.6051\n",
            "Epoch 12/15\n",
            "625/625 [==============================] - 3s 5ms/step - loss: 0.8450 - accuracy: 0.7026 - val_loss: 1.0809 - val_accuracy: 0.6028\n",
            "Epoch 13/15\n",
            "625/625 [==============================] - 3s 5ms/step - loss: 0.8473 - accuracy: 0.6985 - val_loss: 1.0822 - val_accuracy: 0.6035\n",
            "Epoch 14/15\n",
            "625/625 [==============================] - 3s 5ms/step - loss: 0.8405 - accuracy: 0.7019 - val_loss: 1.0719 - val_accuracy: 0.6051\n",
            "Epoch 15/15\n",
            "625/625 [==============================] - 3s 5ms/step - loss: 0.8488 - accuracy: 0.6981 - val_loss: 1.0821 - val_accuracy: 0.6044\n",
            "Model: \"sequential_7\"\n",
            "_________________________________________________________________\n",
            "Layer (type)                 Output Shape              Param #   \n",
            "=================================================================\n",
            "dense_17 (Dense)             (None, 5)                 12505     \n",
            "=================================================================\n",
            "Total params: 12,505\n",
            "Trainable params: 12,505\n",
            "Non-trainable params: 0\n",
            "_________________________________________________________________\n",
            "Epoch 1/15\n",
            "625/625 [==============================] - 2s 3ms/step - loss: 1.1452 - accuracy: 0.6338 - val_loss: 1.2380 - val_accuracy: 0.5737\n",
            "Epoch 2/15\n",
            "625/625 [==============================] - 2s 3ms/step - loss: 0.9787 - accuracy: 0.6865 - val_loss: 1.1854 - val_accuracy: 0.5745\n",
            "Epoch 3/15\n",
            "625/625 [==============================] - 2s 3ms/step - loss: 0.9416 - accuracy: 0.6834 - val_loss: 1.1462 - val_accuracy: 0.5778\n",
            "Epoch 4/15\n",
            "625/625 [==============================] - 2s 3ms/step - loss: 0.9043 - accuracy: 0.6911 - val_loss: 1.1213 - val_accuracy: 0.5815\n",
            "Epoch 5/15\n",
            "625/625 [==============================] - 2s 3ms/step - loss: 0.8927 - accuracy: 0.6893 - val_loss: 1.1096 - val_accuracy: 0.5852\n",
            "Epoch 6/15\n",
            "625/625 [==============================] - 2s 3ms/step - loss: 0.8662 - accuracy: 0.6971 - val_loss: 1.0993 - val_accuracy: 0.5876\n",
            "Epoch 7/15\n",
            "625/625 [==============================] - 2s 3ms/step - loss: 0.8599 - accuracy: 0.6977 - val_loss: 1.0903 - val_accuracy: 0.5912\n",
            "Epoch 8/15\n",
            "625/625 [==============================] - 2s 3ms/step - loss: 0.8460 - accuracy: 0.6994 - val_loss: 1.0761 - val_accuracy: 0.5941\n",
            "Epoch 9/15\n",
            "625/625 [==============================] - 2s 3ms/step - loss: 0.8377 - accuracy: 0.7029 - val_loss: 1.0758 - val_accuracy: 0.5945\n",
            "Epoch 10/15\n",
            "625/625 [==============================] - 2s 3ms/step - loss: 0.8432 - accuracy: 0.7006 - val_loss: 1.0828 - val_accuracy: 0.5928\n",
            "Epoch 11/15\n",
            "625/625 [==============================] - 2s 3ms/step - loss: 0.8333 - accuracy: 0.7025 - val_loss: 1.0751 - val_accuracy: 0.5955\n",
            "Epoch 12/15\n",
            "625/625 [==============================] - 2s 3ms/step - loss: 0.8288 - accuracy: 0.7044 - val_loss: 1.0668 - val_accuracy: 0.5973\n",
            "Epoch 13/15\n",
            "625/625 [==============================] - 2s 3ms/step - loss: 0.8180 - accuracy: 0.7073 - val_loss: 1.0565 - val_accuracy: 0.6033\n",
            "Epoch 14/15\n",
            "625/625 [==============================] - 2s 3ms/step - loss: 0.8175 - accuracy: 0.7079 - val_loss: 1.0670 - val_accuracy: 0.6003\n",
            "Epoch 15/15\n",
            "625/625 [==============================] - 2s 3ms/step - loss: 0.8150 - accuracy: 0.7072 - val_loss: 1.0574 - val_accuracy: 0.6023\n",
            "Model: \"sequential_8\"\n",
            "_________________________________________________________________\n",
            "Layer (type)                 Output Shape              Param #   \n",
            "=================================================================\n",
            "dense_18 (Dense)             (None, 64)                160064    \n",
            "_________________________________________________________________\n",
            "dense_19 (Dense)             (None, 5)                 325       \n",
            "=================================================================\n",
            "Total params: 160,389\n",
            "Trainable params: 160,389\n",
            "Non-trainable params: 0\n",
            "_________________________________________________________________\n",
            "Epoch 1/15\n",
            "625/625 [==============================] - 3s 4ms/step - loss: 1.1396 - accuracy: 0.6186 - val_loss: 1.1686 - val_accuracy: 0.5760\n",
            "Epoch 2/15\n",
            "625/625 [==============================] - 2s 4ms/step - loss: 0.9096 - accuracy: 0.6894 - val_loss: 1.0988 - val_accuracy: 0.5923\n",
            "Epoch 3/15\n",
            "625/625 [==============================] - 2s 4ms/step - loss: 0.8632 - accuracy: 0.6935 - val_loss: 1.0767 - val_accuracy: 0.5999\n",
            "Epoch 4/15\n",
            "625/625 [==============================] - 2s 4ms/step - loss: 0.8238 - accuracy: 0.7068 - val_loss: 1.0554 - val_accuracy: 0.6060\n",
            "Epoch 5/15\n",
            "625/625 [==============================] - 2s 4ms/step - loss: 0.8040 - accuracy: 0.7139 - val_loss: 1.0538 - val_accuracy: 0.6091\n",
            "Epoch 6/15\n",
            "625/625 [==============================] - 2s 4ms/step - loss: 0.7806 - accuracy: 0.7207 - val_loss: 1.0570 - val_accuracy: 0.6090\n",
            "Epoch 7/15\n",
            "625/625 [==============================] - 2s 4ms/step - loss: 0.7694 - accuracy: 0.7230 - val_loss: 1.0479 - val_accuracy: 0.6110\n",
            "Epoch 8/15\n",
            "625/625 [==============================] - 2s 4ms/step - loss: 0.7502 - accuracy: 0.7299 - val_loss: 1.0489 - val_accuracy: 0.6113\n",
            "Epoch 9/15\n",
            "625/625 [==============================] - 2s 4ms/step - loss: 0.7384 - accuracy: 0.7337 - val_loss: 1.0491 - val_accuracy: 0.6132\n",
            "Epoch 10/15\n",
            "625/625 [==============================] - 3s 5ms/step - loss: 0.7220 - accuracy: 0.7385 - val_loss: 1.0908 - val_accuracy: 0.6053\n",
            "Epoch 11/15\n",
            "625/625 [==============================] - 4s 6ms/step - loss: 0.7051 - accuracy: 0.7449 - val_loss: 1.0693 - val_accuracy: 0.6109\n",
            "Epoch 12/15\n",
            "625/625 [==============================] - 4s 7ms/step - loss: 0.6979 - accuracy: 0.7496 - val_loss: 1.0655 - val_accuracy: 0.6081\n",
            "Epoch 13/15\n",
            "625/625 [==============================] - 3s 5ms/step - loss: 0.6872 - accuracy: 0.7545 - val_loss: 1.0728 - val_accuracy: 0.6096\n",
            "Epoch 14/15\n",
            "625/625 [==============================] - 2s 4ms/step - loss: 0.6678 - accuracy: 0.7614 - val_loss: 1.0765 - val_accuracy: 0.6100\n",
            "Epoch 15/15\n",
            "625/625 [==============================] - 2s 4ms/step - loss: 0.6510 - accuracy: 0.7683 - val_loss: 1.0786 - val_accuracy: 0.6088\n",
            "Model: \"sequential_9\"\n",
            "_________________________________________________________________\n",
            "Layer (type)                 Output Shape              Param #   \n",
            "=================================================================\n",
            "dense_20 (Dense)             (None, 64)                160064    \n",
            "_________________________________________________________________\n",
            "dense_21 (Dense)             (None, 64)                4160      \n",
            "_________________________________________________________________\n",
            "dense_22 (Dense)             (None, 5)                 325       \n",
            "=================================================================\n",
            "Total params: 164,549\n",
            "Trainable params: 164,549\n",
            "Non-trainable params: 0\n",
            "_________________________________________________________________\n",
            "Epoch 1/15\n",
            "625/625 [==============================] - 3s 4ms/step - loss: 1.0984 - accuracy: 0.6362 - val_loss: 1.1471 - val_accuracy: 0.5739\n",
            "Epoch 2/15\n",
            "625/625 [==============================] - 3s 4ms/step - loss: 0.9049 - accuracy: 0.6874 - val_loss: 1.0943 - val_accuracy: 0.5857\n",
            "Epoch 3/15\n",
            "625/625 [==============================] - 3s 4ms/step - loss: 0.8530 - accuracy: 0.6981 - val_loss: 1.0636 - val_accuracy: 0.5977\n",
            "Epoch 4/15\n",
            "625/625 [==============================] - 3s 4ms/step - loss: 0.8214 - accuracy: 0.7039 - val_loss: 1.0790 - val_accuracy: 0.6018\n",
            "Epoch 5/15\n",
            "625/625 [==============================] - 3s 4ms/step - loss: 0.7895 - accuracy: 0.7129 - val_loss: 1.0568 - val_accuracy: 0.6065\n",
            "Epoch 6/15\n",
            "625/625 [==============================] - 3s 4ms/step - loss: 0.7663 - accuracy: 0.7196 - val_loss: 1.0563 - val_accuracy: 0.6112\n",
            "Epoch 7/15\n",
            "625/625 [==============================] - 3s 4ms/step - loss: 0.7468 - accuracy: 0.7270 - val_loss: 1.0849 - val_accuracy: 0.6064\n",
            "Epoch 8/15\n",
            "625/625 [==============================] - 3s 4ms/step - loss: 0.7173 - accuracy: 0.7378 - val_loss: 1.0721 - val_accuracy: 0.6088\n",
            "Epoch 9/15\n",
            "625/625 [==============================] - 3s 4ms/step - loss: 0.6904 - accuracy: 0.7475 - val_loss: 1.0669 - val_accuracy: 0.6122\n",
            "Epoch 10/15\n",
            "625/625 [==============================] - 3s 4ms/step - loss: 0.6701 - accuracy: 0.7575 - val_loss: 1.1096 - val_accuracy: 0.6093\n",
            "Epoch 11/15\n",
            "625/625 [==============================] - 2s 4ms/step - loss: 0.6401 - accuracy: 0.7679 - val_loss: 1.1022 - val_accuracy: 0.6062\n",
            "Epoch 12/15\n",
            "625/625 [==============================] - 3s 4ms/step - loss: 0.6147 - accuracy: 0.7816 - val_loss: 1.0872 - val_accuracy: 0.6089\n",
            "Epoch 13/15\n",
            "625/625 [==============================] - 2s 4ms/step - loss: 0.5970 - accuracy: 0.7894 - val_loss: 1.1244 - val_accuracy: 0.6056\n",
            "Epoch 14/15\n",
            "625/625 [==============================] - 3s 4ms/step - loss: 0.5713 - accuracy: 0.7979 - val_loss: 1.1375 - val_accuracy: 0.6041\n",
            "Epoch 15/15\n",
            "625/625 [==============================] - 3s 4ms/step - loss: 0.5513 - accuracy: 0.8077 - val_loss: 1.1513 - val_accuracy: 0.5998\n",
            "Model: \"sequential_10\"\n",
            "_________________________________________________________________\n",
            "Layer (type)                 Output Shape              Param #   \n",
            "=================================================================\n",
            "dense_23 (Dense)             (None, 64)                160064    \n",
            "_________________________________________________________________\n",
            "dense_24 (Dense)             (None, 64)                4160      \n",
            "_________________________________________________________________\n",
            "dense_25 (Dense)             (None, 64)                4160      \n",
            "_________________________________________________________________\n",
            "dense_26 (Dense)             (None, 5)                 325       \n",
            "=================================================================\n",
            "Total params: 168,709\n",
            "Trainable params: 168,709\n",
            "Non-trainable params: 0\n",
            "_________________________________________________________________\n",
            "Epoch 1/15\n",
            "625/625 [==============================] - 3s 5ms/step - loss: 1.1494 - accuracy: 0.6311 - val_loss: 1.1723 - val_accuracy: 0.5748\n",
            "Epoch 2/15\n",
            "625/625 [==============================] - 3s 4ms/step - loss: 0.9142 - accuracy: 0.6888 - val_loss: 1.0740 - val_accuracy: 0.5995\n",
            "Epoch 3/15\n",
            "625/625 [==============================] - 3s 4ms/step - loss: 0.8549 - accuracy: 0.6990 - val_loss: 1.0566 - val_accuracy: 0.6062\n",
            "Epoch 4/15\n",
            "625/625 [==============================] - 3s 4ms/step - loss: 0.8141 - accuracy: 0.7087 - val_loss: 1.0599 - val_accuracy: 0.6074\n",
            "Epoch 5/15\n",
            "625/625 [==============================] - 3s 5ms/step - loss: 0.7818 - accuracy: 0.7181 - val_loss: 1.0395 - val_accuracy: 0.6167\n",
            "Epoch 6/15\n",
            "625/625 [==============================] - 3s 5ms/step - loss: 0.7525 - accuracy: 0.7264 - val_loss: 1.0591 - val_accuracy: 0.6120\n",
            "Epoch 7/15\n",
            "625/625 [==============================] - 3s 5ms/step - loss: 0.7255 - accuracy: 0.7344 - val_loss: 1.0656 - val_accuracy: 0.6142\n",
            "Epoch 8/15\n",
            "625/625 [==============================] - 3s 5ms/step - loss: 0.6932 - accuracy: 0.7482 - val_loss: 1.0953 - val_accuracy: 0.6124\n",
            "Epoch 9/15\n",
            "625/625 [==============================] - 3s 5ms/step - loss: 0.6618 - accuracy: 0.7617 - val_loss: 1.0713 - val_accuracy: 0.6092\n",
            "Epoch 10/15\n",
            "625/625 [==============================] - 3s 5ms/step - loss: 0.6293 - accuracy: 0.7746 - val_loss: 1.1133 - val_accuracy: 0.6107\n",
            "Epoch 11/15\n",
            "625/625 [==============================] - 3s 5ms/step - loss: 0.5984 - accuracy: 0.7861 - val_loss: 1.1676 - val_accuracy: 0.6095\n",
            "Epoch 12/15\n",
            "625/625 [==============================] - 3s 5ms/step - loss: 0.5556 - accuracy: 0.8026 - val_loss: 1.1582 - val_accuracy: 0.5923\n",
            "Epoch 13/15\n",
            "625/625 [==============================] - 3s 5ms/step - loss: 0.5327 - accuracy: 0.8136 - val_loss: 1.2225 - val_accuracy: 0.6008\n",
            "Epoch 14/15\n",
            "625/625 [==============================] - 3s 5ms/step - loss: 0.5029 - accuracy: 0.8258 - val_loss: 1.2331 - val_accuracy: 0.5942\n",
            "Epoch 15/15\n",
            "625/625 [==============================] - 3s 5ms/step - loss: 0.4777 - accuracy: 0.8346 - val_loss: 1.2700 - val_accuracy: 0.5924\n",
            "Model: \"sequential_11\"\n",
            "_________________________________________________________________\n",
            "Layer (type)                 Output Shape              Param #   \n",
            "=================================================================\n",
            "dense_27 (Dense)             (None, 64)                160064    \n",
            "_________________________________________________________________\n",
            "dense_28 (Dense)             (None, 64)                4160      \n",
            "_________________________________________________________________\n",
            "dense_29 (Dense)             (None, 64)                4160      \n",
            "_________________________________________________________________\n",
            "dense_30 (Dense)             (None, 64)                4160      \n",
            "_________________________________________________________________\n",
            "dense_31 (Dense)             (None, 5)                 325       \n",
            "=================================================================\n",
            "Total params: 172,869\n",
            "Trainable params: 172,869\n",
            "Non-trainable params: 0\n",
            "_________________________________________________________________\n",
            "Epoch 1/15\n",
            "625/625 [==============================] - 4s 5ms/step - loss: 1.0915 - accuracy: 0.6703 - val_loss: 1.1947 - val_accuracy: 0.5742\n",
            "Epoch 2/15\n",
            "625/625 [==============================] - 3s 5ms/step - loss: 0.8934 - accuracy: 0.6889 - val_loss: 1.0667 - val_accuracy: 0.6004\n",
            "Epoch 3/15\n",
            "625/625 [==============================] - 3s 5ms/step - loss: 0.8337 - accuracy: 0.7015 - val_loss: 1.0422 - val_accuracy: 0.6149\n",
            "Epoch 4/15\n",
            "625/625 [==============================] - 3s 5ms/step - loss: 0.7938 - accuracy: 0.7123 - val_loss: 1.0370 - val_accuracy: 0.6150\n",
            "Epoch 5/15\n",
            "625/625 [==============================] - 3s 5ms/step - loss: 0.7665 - accuracy: 0.7222 - val_loss: 1.0805 - val_accuracy: 0.6098\n",
            "Epoch 6/15\n",
            "625/625 [==============================] - 3s 5ms/step - loss: 0.7287 - accuracy: 0.7368 - val_loss: 1.0702 - val_accuracy: 0.6144\n",
            "Epoch 7/15\n",
            "625/625 [==============================] - 3s 5ms/step - loss: 0.6976 - accuracy: 0.7479 - val_loss: 1.0699 - val_accuracy: 0.6141\n",
            "Epoch 8/15\n",
            "625/625 [==============================] - 3s 5ms/step - loss: 0.6500 - accuracy: 0.7598 - val_loss: 1.0955 - val_accuracy: 0.6118\n",
            "Epoch 9/15\n",
            "625/625 [==============================] - 3s 5ms/step - loss: 0.6336 - accuracy: 0.7694 - val_loss: 1.1566 - val_accuracy: 0.6033\n",
            "Epoch 10/15\n",
            "625/625 [==============================] - 3s 5ms/step - loss: 0.5887 - accuracy: 0.7892 - val_loss: 1.1679 - val_accuracy: 0.6051\n",
            "Epoch 11/15\n",
            "625/625 [==============================] - 3s 5ms/step - loss: 0.5536 - accuracy: 0.8015 - val_loss: 1.2282 - val_accuracy: 0.6015\n",
            "Epoch 12/15\n",
            "625/625 [==============================] - 3s 5ms/step - loss: 0.5181 - accuracy: 0.8157 - val_loss: 1.2523 - val_accuracy: 0.5947\n",
            "Epoch 13/15\n",
            "625/625 [==============================] - 3s 5ms/step - loss: 0.4758 - accuracy: 0.8352 - val_loss: 1.3013 - val_accuracy: 0.5814\n",
            "Epoch 14/15\n",
            "625/625 [==============================] - 3s 5ms/step - loss: 0.4496 - accuracy: 0.8464 - val_loss: 1.4138 - val_accuracy: 0.5863\n",
            "Epoch 15/15\n",
            "625/625 [==============================] - 3s 5ms/step - loss: 0.4097 - accuracy: 0.8604 - val_loss: 1.4201 - val_accuracy: 0.5908\n",
            "[0.70660001039505, 0.7671499848365784, 0.805649995803833, 0.8320000171661377, 0.8528749942779541]\n",
            "[0.6032, 0.6119, 0.6003, 0.5942, 0.5876]\n",
            "[0.7065749764442444, 0.7120000123977661, 0.7084000110626221, 0.7056750059127808, 0.7006499767303467]\n",
            "[0.6009, 0.6113, 0.6143, 0.6142, 0.6076]\n"
          ],
          "name": "stdout"
        }
      ]
    },
    {
      "cell_type": "code",
      "metadata": {
        "id": "4TRdwe6dKahf"
      },
      "source": [
        ""
      ],
      "execution_count": null,
      "outputs": []
    },
    {
      "cell_type": "code",
      "metadata": {
        "id": "z7KpMbgTKahg"
      },
      "source": [
        ""
      ],
      "execution_count": null,
      "outputs": []
    },
    {
      "cell_type": "markdown",
      "metadata": {
        "id": "fuqK-7wtMHzt"
      },
      "source": [
        "##### Accuracies"
      ]
    },
    {
      "cell_type": "code",
      "metadata": {
        "id": "kO8ys0-EKahg"
      },
      "source": [
        "all_accuracy = pd.DataFrame(columns=['layers','train_accuracy_sigmoid','test_accuracy_sigmoid','train_accuracy_relu','test_accuracy_relu'],index=np.arange(5))"
      ],
      "execution_count": 56,
      "outputs": []
    },
    {
      "cell_type": "code",
      "metadata": {
        "colab": {
          "base_uri": "https://localhost:8080/",
          "height": 204
        },
        "id": "MeI_BSFAKahg",
        "outputId": "6cac4e23-4658-45e6-95f6-be804fcd033a"
      },
      "source": [
        "all_accuracy['layers'] = np.arange(5)\n",
        "all_accuracy['train_accuracy_sigmoid']= trainAccuraciesSigmoid\n",
        "all_accuracy['test_accuracy_sigmoid'] = testAccuraciesSigmoid\n",
        "all_accuracy['train_accuracy_relu'] = trainAccuraciesReLU\n",
        "all_accuracy['test_accuracy_relu'] = testAccuraciesReLU\n",
        "all_accuracy"
      ],
      "execution_count": 58,
      "outputs": [
        {
          "output_type": "execute_result",
          "data": {
            "text/html": [
              "<div>\n",
              "<style scoped>\n",
              "    .dataframe tbody tr th:only-of-type {\n",
              "        vertical-align: middle;\n",
              "    }\n",
              "\n",
              "    .dataframe tbody tr th {\n",
              "        vertical-align: top;\n",
              "    }\n",
              "\n",
              "    .dataframe thead th {\n",
              "        text-align: right;\n",
              "    }\n",
              "</style>\n",
              "<table border=\"1\" class=\"dataframe\">\n",
              "  <thead>\n",
              "    <tr style=\"text-align: right;\">\n",
              "      <th></th>\n",
              "      <th>layers</th>\n",
              "      <th>train_accuracy_sigmoid</th>\n",
              "      <th>test_accuracy_sigmoid</th>\n",
              "      <th>train_accuracy_relu</th>\n",
              "      <th>test_accuracy_relu</th>\n",
              "    </tr>\n",
              "  </thead>\n",
              "  <tbody>\n",
              "    <tr>\n",
              "      <th>0</th>\n",
              "      <td>0</td>\n",
              "      <td>0.706575</td>\n",
              "      <td>0.6009</td>\n",
              "      <td>0.706600</td>\n",
              "      <td>0.6032</td>\n",
              "    </tr>\n",
              "    <tr>\n",
              "      <th>1</th>\n",
              "      <td>1</td>\n",
              "      <td>0.712000</td>\n",
              "      <td>0.6113</td>\n",
              "      <td>0.767150</td>\n",
              "      <td>0.6119</td>\n",
              "    </tr>\n",
              "    <tr>\n",
              "      <th>2</th>\n",
              "      <td>2</td>\n",
              "      <td>0.708400</td>\n",
              "      <td>0.6143</td>\n",
              "      <td>0.805650</td>\n",
              "      <td>0.6003</td>\n",
              "    </tr>\n",
              "    <tr>\n",
              "      <th>3</th>\n",
              "      <td>3</td>\n",
              "      <td>0.705675</td>\n",
              "      <td>0.6142</td>\n",
              "      <td>0.832000</td>\n",
              "      <td>0.5942</td>\n",
              "    </tr>\n",
              "    <tr>\n",
              "      <th>4</th>\n",
              "      <td>4</td>\n",
              "      <td>0.700650</td>\n",
              "      <td>0.6076</td>\n",
              "      <td>0.852875</td>\n",
              "      <td>0.5876</td>\n",
              "    </tr>\n",
              "  </tbody>\n",
              "</table>\n",
              "</div>"
            ],
            "text/plain": [
              "   layers  train_accuracy_sigmoid  ...  train_accuracy_relu  test_accuracy_relu\n",
              "0       0                0.706575  ...             0.706600              0.6032\n",
              "1       1                0.712000  ...             0.767150              0.6119\n",
              "2       2                0.708400  ...             0.805650              0.6003\n",
              "3       3                0.705675  ...             0.832000              0.5942\n",
              "4       4                0.700650  ...             0.852875              0.5876\n",
              "\n",
              "[5 rows x 5 columns]"
            ]
          },
          "metadata": {
            "tags": []
          },
          "execution_count": 58
        }
      ]
    },
    {
      "cell_type": "code",
      "metadata": {
        "id": "OYNLasyKKahh"
      },
      "source": [
        "import matplotlib.pyplot as plt"
      ],
      "execution_count": 60,
      "outputs": []
    },
    {
      "cell_type": "code",
      "metadata": {
        "colab": {
          "base_uri": "https://localhost:8080/",
          "height": 530
        },
        "id": "QcmJ0-mTKahh",
        "outputId": "f3d266bf-7969-4bdf-bc5f-f8840ae0e393"
      },
      "source": [
        "plt.figure(figsize=(12,8))\n",
        "plt.plot(all_accuracy['layers'],all_accuracy['train_accuracy_sigmoid'],label='train_accuracy_sigmoid')\n",
        "plt.plot(all_accuracy['layers'],all_accuracy['test_accuracy_sigmoid'],label='test_accuracy_sigmoid')\n",
        "plt.plot(all_accuracy['layers'],all_accuracy['train_accuracy_relu'],label='train_accuracy_relu')\n",
        "plt.plot(all_accuracy['layers'],all_accuracy['test_accuracy_relu'],label='test_accuracy_relu')\n",
        "plt.title('For Glove Embeddings')\n",
        "plt.xlabel(\"No of hidden layers\")\n",
        "plt.ylabel(\"Accuracy\")\n",
        "plt.legend()"
      ],
      "execution_count": 64,
      "outputs": [
        {
          "output_type": "execute_result",
          "data": {
            "text/plain": [
              "<matplotlib.legend.Legend at 0x7fcb3a809b10>"
            ]
          },
          "metadata": {
            "tags": []
          },
          "execution_count": 64
        },
        {
          "output_type": "display_data",
          "data": {
            "image/png": "[encoded data removed]",
            "text/plain": [
              "<Figure size 864x576 with 1 Axes>"
            ]
          },
          "metadata": {
            "tags": [],
            "needs_background": "light"
          }
        }
      ]
    },
    {
      "cell_type": "code",
      "metadata": {
        "id": "zs9qMjerKahi"
      },
      "source": [
        ""
      ],
      "execution_count": null,
      "outputs": []
    },
    {
      "cell_type": "code",
      "metadata": {
        "id": "assDjzcdKahi"
      },
      "source": [
        "#Best Model\n",
        "# 1. Layer:1   , Activation: ReLU\n"
      ],
      "execution_count": null,
      "outputs": []
    },
    {
      "cell_type": "code",
      "metadata": {
        "id": "mD4mFPt-Kahj"
      },
      "source": [
        "#Training Best Model:\n"
      ],
      "execution_count": 65,
      "outputs": []
    },
    {
      "cell_type": "code",
      "metadata": {
        "colab": {
          "base_uri": "https://localhost:8080/",
          "height": 966
        },
        "id": "tSndvTFAKahj",
        "outputId": "0a4ef7ec-080a-4d10-eca4-8f77b448e1da"
      },
      "source": [
        "Best_model = NeuralNetGlove(preprocessed_reviews,Y)\n",
        "Best_model.build_nn(hiddenLayers=1,activationHidden='relu')\n",
        "Best_model.train_nn(64,15)\n",
        "y_pred = Best_model.predict(preprocessed_test_reviews)\n",
        "accuracyTest = accuracy_score(test['ratings'],y_pred)\n",
        "accuracyTrain = Best_model.history.history['accuracy'][-1]\n",
        "print(accuracyTrain)\n",
        "print(accuracyTest)"
      ],
      "execution_count": 67,
      "outputs": [
        {
          "output_type": "stream",
          "text": [
            "Model: \"sequential_12\"\n",
            "_________________________________________________________________\n",
            "Layer (type)                 Output Shape              Param #   \n",
            "=================================================================\n",
            "dense_32 (Dense)             (None, 64)                160064    \n",
            "_________________________________________________________________\n",
            "dense_33 (Dense)             (None, 5)                 325       \n",
            "=================================================================\n",
            "Total params: 160,389\n",
            "Trainable params: 160,389\n",
            "Non-trainable params: 0\n",
            "_________________________________________________________________\n",
            "Epoch 1/15\n",
            "625/625 [==============================] - 3s 4ms/step - loss: 1.1023 - accuracy: 0.6431 - val_loss: 1.1607 - val_accuracy: 0.5752\n",
            "Epoch 2/15\n",
            "625/625 [==============================] - 2s 4ms/step - loss: 0.8964 - accuracy: 0.6947 - val_loss: 1.0973 - val_accuracy: 0.5858\n",
            "Epoch 3/15\n",
            "625/625 [==============================] - 2s 4ms/step - loss: 0.8599 - accuracy: 0.6976 - val_loss: 1.0760 - val_accuracy: 0.5944\n",
            "Epoch 4/15\n",
            "625/625 [==============================] - 2s 4ms/step - loss: 0.8222 - accuracy: 0.7082 - val_loss: 1.0516 - val_accuracy: 0.6022\n",
            "Epoch 5/15\n",
            "625/625 [==============================] - 2s 4ms/step - loss: 0.8009 - accuracy: 0.7134 - val_loss: 1.0600 - val_accuracy: 0.6058\n",
            "Epoch 6/15\n",
            "625/625 [==============================] - 3s 4ms/step - loss: 0.7807 - accuracy: 0.7208 - val_loss: 1.0434 - val_accuracy: 0.6071\n",
            "Epoch 7/15\n",
            "625/625 [==============================] - 2s 4ms/step - loss: 0.7699 - accuracy: 0.7222 - val_loss: 1.0559 - val_accuracy: 0.6081\n",
            "Epoch 8/15\n",
            "625/625 [==============================] - 2s 4ms/step - loss: 0.7572 - accuracy: 0.7264 - val_loss: 1.0621 - val_accuracy: 0.6084\n",
            "Epoch 9/15\n",
            "625/625 [==============================] - 2s 4ms/step - loss: 0.7345 - accuracy: 0.7347 - val_loss: 1.0509 - val_accuracy: 0.6136\n",
            "Epoch 10/15\n",
            "625/625 [==============================] - 3s 4ms/step - loss: 0.7169 - accuracy: 0.7414 - val_loss: 1.0609 - val_accuracy: 0.6112\n",
            "Epoch 11/15\n",
            "625/625 [==============================] - 2s 4ms/step - loss: 0.7000 - accuracy: 0.7473 - val_loss: 1.0448 - val_accuracy: 0.6130\n",
            "Epoch 12/15\n",
            "625/625 [==============================] - 3s 4ms/step - loss: 0.6905 - accuracy: 0.7507 - val_loss: 1.0698 - val_accuracy: 0.6100\n",
            "Epoch 13/15\n",
            "625/625 [==============================] - 2s 4ms/step - loss: 0.6769 - accuracy: 0.7555 - val_loss: 1.0698 - val_accuracy: 0.6155\n",
            "Epoch 14/15\n",
            "625/625 [==============================] - 2s 4ms/step - loss: 0.6624 - accuracy: 0.7629 - val_loss: 1.0548 - val_accuracy: 0.6171\n",
            "Epoch 15/15\n",
            "625/625 [==============================] - 2s 4ms/step - loss: 0.6446 - accuracy: 0.7705 - val_loss: 1.0531 - val_accuracy: 0.6163\n"
          ],
          "name": "stdout"
        },
        {
          "output_type": "error",
          "ename": "NameError",
          "evalue": "ignored",
          "traceback": [
            "\u001b[0;31m---------------------------------------------------------------------------\u001b[0m",
            "\u001b[0;31mNameError\u001b[0m                                 Traceback (most recent call last)",
            "\u001b[0;32m<ipython-input-67-8f986e6c56db>\u001b[0m in \u001b[0;36m<module>\u001b[0;34m()\u001b[0m\n\u001b[1;32m      4\u001b[0m \u001b[0my_pred\u001b[0m \u001b[0;34m=\u001b[0m \u001b[0mBest_model\u001b[0m\u001b[0;34m.\u001b[0m\u001b[0mpredict\u001b[0m\u001b[0;34m(\u001b[0m\u001b[0mpreprocessed_test_reviews\u001b[0m\u001b[0;34m)\u001b[0m\u001b[0;34m\u001b[0m\u001b[0;34m\u001b[0m\u001b[0m\n\u001b[1;32m      5\u001b[0m \u001b[0maccuracyTest\u001b[0m \u001b[0;34m=\u001b[0m \u001b[0maccuracy_score\u001b[0m\u001b[0;34m(\u001b[0m\u001b[0mtest\u001b[0m\u001b[0;34m[\u001b[0m\u001b[0;34m'ratings'\u001b[0m\u001b[0;34m]\u001b[0m\u001b[0;34m,\u001b[0m\u001b[0my_pred\u001b[0m\u001b[0;34m)\u001b[0m\u001b[0;34m\u001b[0m\u001b[0;34m\u001b[0m\u001b[0m\n\u001b[0;32m----> 6\u001b[0;31m \u001b[0maccuracyTrain\u001b[0m \u001b[0;34m=\u001b[0m \u001b[0mM\u001b[0m\u001b[0;34m.\u001b[0m\u001b[0mhistory\u001b[0m\u001b[0;34m.\u001b[0m\u001b[0mhistory\u001b[0m\u001b[0;34m[\u001b[0m\u001b[0;34m'accuracy'\u001b[0m\u001b[0;34m]\u001b[0m\u001b[0;34m[\u001b[0m\u001b[0;34m-\u001b[0m\u001b[0;36m1\u001b[0m\u001b[0;34m]\u001b[0m\u001b[0;34m\u001b[0m\u001b[0;34m\u001b[0m\u001b[0m\n\u001b[0m\u001b[1;32m      7\u001b[0m \u001b[0mprint\u001b[0m\u001b[0;34m(\u001b[0m\u001b[0maccuracyTrain\u001b[0m\u001b[0;34m)\u001b[0m\u001b[0;34m\u001b[0m\u001b[0;34m\u001b[0m\u001b[0m\n\u001b[1;32m      8\u001b[0m \u001b[0mprint\u001b[0m\u001b[0;34m(\u001b[0m\u001b[0maccuracyTest\u001b[0m\u001b[0;34m)\u001b[0m\u001b[0;34m\u001b[0m\u001b[0;34m\u001b[0m\u001b[0m\n",
            "\u001b[0;31mNameError\u001b[0m: name 'M' is not defined"
          ]
        }
      ]
    },
    {
      "cell_type": "code",
      "metadata": {
        "colab": {
          "base_uri": "https://localhost:8080/"
        },
        "id": "VgbZXRPWKahk",
        "outputId": "9c210c5e-6a31-423f-fb7b-64fcbcd62b7a"
      },
      "source": [
        "accuracyTrain = Best_model.history.history['accuracy'][-1]\n",
        "print(accuracyTrain)\n",
        "print(accuracyTest)"
      ],
      "execution_count": 69,
      "outputs": [
        {
          "output_type": "stream",
          "text": [
            "0.7691749930381775\n",
            "0.6137\n"
          ],
          "name": "stdout"
        }
      ]
    },
    {
      "cell_type": "code",
      "metadata": {
        "id": "hJ_CFwAGKahk"
      },
      "source": [
        ""
      ],
      "execution_count": null,
      "outputs": []
    },
    {
      "cell_type": "code",
      "metadata": {
        "id": "cTDG2iF0Kahl"
      },
      "source": [
        "### Prediction GUI"
      ],
      "execution_count": null,
      "outputs": []
    },
    {
      "cell_type": "code",
      "metadata": {
        "id": "zISfg2JFKahl"
      },
      "source": [
        "import ipywidgets as widgets\n",
        "from IPython.display import display"
      ],
      "execution_count": 70,
      "outputs": []
    },
    {
      "cell_type": "code",
      "metadata": {
        "id": "EEnAYKY1VZ1Z"
      },
      "source": [
        "def preprocess_test(input):\n",
        "  input = input.split()\n",
        "  \n",
        "  input = convert_to_lower(input)\n",
        "  input = tokens(input)\n",
        "  emb=[]\n",
        "  for i in input:\n",
        "    try:\n",
        "      emb.append(glove_vectors_emb[i])\n",
        "    except KeyError:\n",
        "      emb.append(np.zeros((50)))\n",
        "  padded = perform_padding(emb)    \n",
        "  return padded\n"
      ],
      "execution_count": 96,
      "outputs": []
    },
    {
      "cell_type": "code",
      "metadata": {
        "colab": {
          "base_uri": "https://localhost:8080/",
          "height": 116,
          "referenced_widgets": [
            "09c33a2fa6ef4b29aab85cd08ffd73c3",
            "48c2f99a6e22460a8dd624a6b6b8f1fa",
            "9764fee2073846bc9646d82388670ada",
            "ede52e36b04847568cd4e6c297746d21",
            "742915858f854cafb801d74bceb56b49",
            "cd7eb5d195614972a699ab991c4cb571",
            "8983672981914ef684c6b17359bb4d84",
            "42b0d03ebfd448a0afa577ebb14f3c19"
          ]
        },
        "id": "4AKoWb-KKahm",
        "outputId": "f64c0e4f-0f75-4315-a12a-91e204ca3499"
      },
      "source": [
        "k = widgets.Textarea(\n",
        "    value=\"\",\n",
        "    placeholder='Type something',\n",
        "    description='String:',\n",
        "    disabled=False)\n",
        "button = widgets.Button(description=\"Predict!\")\n",
        "output = widgets.Output()\n",
        "display(k,button, output)\n",
        "def on_button_clicked(b):\n",
        "    output.clear_output()\n",
        "    if k.value == \"\":\n",
        "      output.clear_output()\n",
        "    else :\n",
        "        with output:\n",
        "            ##### Predict the k.value \n",
        "            #prediction = predict(k.value)\n",
        "            text = preprocess_test(k.value)\n",
        "            prediction = Best_model.predict(text)\n",
        "            print(prediction)\n",
        "    \n",
        "button.on_click(on_button_clicked)"
      ],
      "execution_count": 107,
      "outputs": [
        {
          "output_type": "display_data",
          "data": {
            "application/vnd.jupyter.widget-view+json": {
              "model_id": "09c33a2fa6ef4b29aab85cd08ffd73c3",
              "version_minor": 0,
              "version_major": 2
            },
            "text/plain": [
              "Textarea(value='', description='String:', placeholder='Type something')"
            ]
          },
          "metadata": {
            "tags": []
          }
        },
        {
          "output_type": "display_data",
          "data": {
            "application/vnd.jupyter.widget-view+json": {
              "model_id": "ede52e36b04847568cd4e6c297746d21",
              "version_minor": 0,
              "version_major": 2
            },
            "text/plain": [
              "Button(description='Predict!', style=ButtonStyle())"
            ]
          },
          "metadata": {
            "tags": []
          }
        },
        {
          "output_type": "display_data",
          "data": {
            "application/vnd.jupyter.widget-view+json": {
              "model_id": "8983672981914ef684c6b17359bb4d84",
              "version_minor": 0,
              "version_major": 2
            },
            "text/plain": [
              "Output()"
            ]
          },
          "metadata": {
            "tags": []
          }
        }
      ]
    },
    {
      "cell_type": "code",
      "metadata": {
        "id": "P0HgepbBKahm"
      },
      "source": [
        ""
      ],
      "execution_count": 79,
      "outputs": []
    },
    {
      "cell_type": "code",
      "metadata": {
        "id": "VxEB8doqKahn"
      },
      "source": [
        "#Report for Best model"
      ],
      "execution_count": null,
      "outputs": []
    },
    {
      "cell_type": "code",
      "metadata": {
        "colab": {
          "base_uri": "https://localhost:8080/",
          "height": 520
        },
        "id": "0nABNstnKahn",
        "outputId": "ea72df87-b6fc-4e52-926d-9beef529f207"
      },
      "source": [
        "report(y_pred,test,Model=Best_model)"
      ],
      "execution_count": 77,
      "outputs": [
        {
          "output_type": "stream",
          "text": [
            "Classification Report : \n",
            "               precision    recall  f1-score   support\n",
            "\n",
            "           1       0.48      0.37      0.42      1271\n",
            "           2       0.25      0.05      0.09       630\n",
            "           3       0.28      0.18      0.22       911\n",
            "           4       0.27      0.07      0.11      1404\n",
            "           5       0.67      0.93      0.78      5784\n",
            "\n",
            "    accuracy                           0.61     10000\n",
            "   macro avg       0.39      0.32      0.32     10000\n",
            "weighted avg       0.53      0.61      0.55     10000\n",
            "\n",
            "Heat Map :\n",
            "\n"
          ],
          "name": "stdout"
        },
        {
          "output_type": "display_data",
          "data": {
            "image/png": "[encoded data removed]",
            "text/plain": [
              "<Figure size 432x288 with 2 Axes>"
            ]
          },
          "metadata": {
            "tags": [],
            "needs_background": "light"
          }
        }
      ]
    },
    {
      "cell_type": "code",
      "metadata": {
        "id": "70ERg_yPKahn"
      },
      "source": [
        ""
      ],
      "execution_count": null,
      "outputs": []
    },
    {
      "cell_type": "code",
      "metadata": {
        "id": "l23GSw20Kahn"
      },
      "source": [
        ""
      ],
      "execution_count": null,
      "outputs": []
    },
    {
      "cell_type": "markdown",
      "metadata": {
        "id": "uMw-y_uRbuid"
      },
      "source": [
        "### Different Models"
      ]
    },
    {
      "cell_type": "markdown",
      "metadata": {
        "id": "S1RRNzzIb0ZK"
      },
      "source": [
        "#### 1. Hiden layers: 0, activation: Sigmoid"
      ]
    },
    {
      "cell_type": "code",
      "metadata": {
        "colab": {
          "base_uri": "https://localhost:8080/"
        },
        "id": "Kg1tyVKQYVPz",
        "outputId": "89d259c6-d1d2-4a0b-9571-8539fa3fabfc"
      },
      "source": [
        "Sigmoid0 = NeuralNetGlove(preprocessed_reviews,Y)\n",
        "Sigmoid0.build_nn(hiddenLayers=0,activationHidden='sigmoid')\n",
        "Sigmoid0.train_nn(64,15)\n",
        "y_pred = Sigmoid0.predict(preprocessed_test_reviews)\n",
        "accuracyTest = accuracy_score(test['ratings'],y_pred)\n",
        "accuracyTrain = Sigmoid0.history.history['accuracy'][-1]\n",
        "print(accuracyTrain)\n",
        "print(accuracyTest)"
      ],
      "execution_count": 98,
      "outputs": [
        {
          "output_type": "stream",
          "text": [
            "Model: \"sequential_13\"\n",
            "_________________________________________________________________\n",
            "Layer (type)                 Output Shape              Param #   \n",
            "=================================================================\n",
            "dense_34 (Dense)             (None, 5)                 12505     \n",
            "=================================================================\n",
            "Total params: 12,505\n",
            "Trainable params: 12,505\n",
            "Non-trainable params: 0\n",
            "_________________________________________________________________\n",
            "Epoch 1/15\n",
            "625/625 [==============================] - 2s 3ms/step - loss: 1.1403 - accuracy: 0.6289 - val_loss: 1.2325 - val_accuracy: 0.5739\n",
            "Epoch 2/15\n",
            "625/625 [==============================] - 2s 3ms/step - loss: 0.9808 - accuracy: 0.6833 - val_loss: 1.1706 - val_accuracy: 0.5770\n",
            "Epoch 3/15\n",
            "625/625 [==============================] - 2s 3ms/step - loss: 0.9408 - accuracy: 0.6836 - val_loss: 1.1439 - val_accuracy: 0.5802\n",
            "Epoch 4/15\n",
            "625/625 [==============================] - 2s 3ms/step - loss: 0.9049 - accuracy: 0.6899 - val_loss: 1.1190 - val_accuracy: 0.5839\n",
            "Epoch 5/15\n",
            "625/625 [==============================] - 2s 3ms/step - loss: 0.8794 - accuracy: 0.6923 - val_loss: 1.1005 - val_accuracy: 0.5880\n",
            "Epoch 6/15\n",
            "625/625 [==============================] - 2s 3ms/step - loss: 0.8731 - accuracy: 0.6934 - val_loss: 1.0889 - val_accuracy: 0.5916\n",
            "Epoch 7/15\n",
            "625/625 [==============================] - 2s 3ms/step - loss: 0.8629 - accuracy: 0.6955 - val_loss: 1.0905 - val_accuracy: 0.5920\n",
            "Epoch 8/15\n",
            "625/625 [==============================] - 2s 3ms/step - loss: 0.8523 - accuracy: 0.6993 - val_loss: 1.0853 - val_accuracy: 0.5920\n",
            "Epoch 9/15\n",
            "625/625 [==============================] - 2s 3ms/step - loss: 0.8439 - accuracy: 0.7002 - val_loss: 1.0741 - val_accuracy: 0.5943\n",
            "Epoch 10/15\n",
            "625/625 [==============================] - 2s 3ms/step - loss: 0.8372 - accuracy: 0.7033 - val_loss: 1.0748 - val_accuracy: 0.5951\n",
            "Epoch 11/15\n",
            "625/625 [==============================] - 2s 3ms/step - loss: 0.8358 - accuracy: 0.7016 - val_loss: 1.0699 - val_accuracy: 0.5980\n",
            "Epoch 12/15\n",
            "625/625 [==============================] - 2s 3ms/step - loss: 0.8299 - accuracy: 0.7040 - val_loss: 1.0599 - val_accuracy: 0.6030\n",
            "Epoch 13/15\n",
            "625/625 [==============================] - 2s 3ms/step - loss: 0.8162 - accuracy: 0.7093 - val_loss: 1.0663 - val_accuracy: 0.6004\n",
            "Epoch 14/15\n",
            "625/625 [==============================] - 2s 3ms/step - loss: 0.8161 - accuracy: 0.7082 - val_loss: 1.0628 - val_accuracy: 0.6026\n",
            "Epoch 15/15\n",
            "625/625 [==============================] - 2s 3ms/step - loss: 0.8159 - accuracy: 0.7073 - val_loss: 1.0559 - val_accuracy: 0.6051\n",
            "0.7074249982833862\n",
            "0.6037\n"
          ],
          "name": "stdout"
        }
      ]
    },
    {
      "cell_type": "code",
      "metadata": {
        "colab": {
          "base_uri": "https://localhost:8080/",
          "height": 520
        },
        "id": "NMgnj6fNcx6t",
        "outputId": "724e3ae8-3add-4c5d-fd04-e1cb2bc3a1c8"
      },
      "source": [
        "report(y_pred,test,Model=Sigmoid0)"
      ],
      "execution_count": 99,
      "outputs": [
        {
          "output_type": "stream",
          "text": [
            "Classification Report : \n",
            "               precision    recall  f1-score   support\n",
            "\n",
            "           1       0.52      0.23      0.32      1271\n",
            "           2       0.25      0.01      0.03       630\n",
            "           3       0.28      0.07      0.11       911\n",
            "           4       0.21      0.02      0.04      1404\n",
            "           5       0.63      0.98      0.76      5784\n",
            "\n",
            "    accuracy                           0.60     10000\n",
            "   macro avg       0.38      0.26      0.25     10000\n",
            "weighted avg       0.50      0.60      0.50     10000\n",
            "\n",
            "Heat Map :\n",
            "\n"
          ],
          "name": "stdout"
        },
        {
          "output_type": "display_data",
          "data": {
            "image/png": "[encoded data removed]",
            "text/plain": [
              "<Figure size 432x288 with 2 Axes>"
            ]
          },
          "metadata": {
            "tags": [],
            "needs_background": "light"
          }
        }
      ]
    },
    {
      "cell_type": "markdown",
      "metadata": {
        "id": "V99PqJLyb02I"
      },
      "source": [
        "#### 2. Hiden layers: 1, activation: Sigmoid"
      ]
    },
    {
      "cell_type": "code",
      "metadata": {
        "colab": {
          "base_uri": "https://localhost:8080/"
        },
        "id": "mWINHVDoc5U_",
        "outputId": "df2a704c-663b-44ce-990f-497b89853f78"
      },
      "source": [
        "Sigmoid1 = NeuralNetGlove(preprocessed_reviews,Y)\n",
        "Sigmoid1.build_nn(hiddenLayers=1,activationHidden='sigmoid')\n",
        "Sigmoid1.train_nn(64,15)\n",
        "y_pred = Sigmoid1.predict(preprocessed_test_reviews)\n",
        "accuracyTest = accuracy_score(test['ratings'],y_pred)\n",
        "accuracyTrain = Sigmoid1.history.history['accuracy'][-1]\n",
        "print(accuracyTrain)\n",
        "print(accuracyTest)"
      ],
      "execution_count": 100,
      "outputs": [
        {
          "output_type": "stream",
          "text": [
            "Model: \"sequential_14\"\n",
            "_________________________________________________________________\n",
            "Layer (type)                 Output Shape              Param #   \n",
            "=================================================================\n",
            "dense_35 (Dense)             (None, 64)                160064    \n",
            "_________________________________________________________________\n",
            "dense_36 (Dense)             (None, 5)                 325       \n",
            "=================================================================\n",
            "Total params: 160,389\n",
            "Trainable params: 160,389\n",
            "Non-trainable params: 0\n",
            "_________________________________________________________________\n",
            "Epoch 1/15\n",
            "625/625 [==============================] - 3s 4ms/step - loss: 1.0830 - accuracy: 0.6372 - val_loss: 1.2026 - val_accuracy: 0.5742\n",
            "Epoch 2/15\n",
            "625/625 [==============================] - 2s 4ms/step - loss: 0.9443 - accuracy: 0.6868 - val_loss: 1.1428 - val_accuracy: 0.5747\n",
            "Epoch 3/15\n",
            "625/625 [==============================] - 2s 4ms/step - loss: 0.9017 - accuracy: 0.6860 - val_loss: 1.1016 - val_accuracy: 0.5819\n",
            "Epoch 4/15\n",
            "625/625 [==============================] - 2s 4ms/step - loss: 0.8746 - accuracy: 0.6918 - val_loss: 1.0825 - val_accuracy: 0.5904\n",
            "Epoch 5/15\n",
            "625/625 [==============================] - 2s 4ms/step - loss: 0.8508 - accuracy: 0.6990 - val_loss: 1.0725 - val_accuracy: 0.5932\n",
            "Epoch 6/15\n",
            "625/625 [==============================] - 3s 4ms/step - loss: 0.8482 - accuracy: 0.6970 - val_loss: 1.0743 - val_accuracy: 0.5939\n",
            "Epoch 7/15\n",
            "625/625 [==============================] - 2s 4ms/step - loss: 0.8356 - accuracy: 0.7003 - val_loss: 1.0517 - val_accuracy: 0.6029\n",
            "Epoch 8/15\n",
            "625/625 [==============================] - 2s 4ms/step - loss: 0.8222 - accuracy: 0.7060 - val_loss: 1.0607 - val_accuracy: 0.6013\n",
            "Epoch 9/15\n",
            "625/625 [==============================] - 2s 4ms/step - loss: 0.8145 - accuracy: 0.7084 - val_loss: 1.0533 - val_accuracy: 0.6035\n",
            "Epoch 10/15\n",
            "625/625 [==============================] - 3s 4ms/step - loss: 0.8053 - accuracy: 0.7109 - val_loss: 1.0341 - val_accuracy: 0.6129\n",
            "Epoch 11/15\n",
            "625/625 [==============================] - 2s 4ms/step - loss: 0.8046 - accuracy: 0.7098 - val_loss: 1.0555 - val_accuracy: 0.6076\n",
            "Epoch 12/15\n",
            "625/625 [==============================] - 3s 4ms/step - loss: 0.8050 - accuracy: 0.7096 - val_loss: 1.0501 - val_accuracy: 0.6077\n",
            "Epoch 13/15\n",
            "625/625 [==============================] - 3s 4ms/step - loss: 0.8056 - accuracy: 0.7073 - val_loss: 1.0417 - val_accuracy: 0.6133\n",
            "Epoch 14/15\n",
            "625/625 [==============================] - 3s 4ms/step - loss: 0.7974 - accuracy: 0.7133 - val_loss: 1.0601 - val_accuracy: 0.6068\n",
            "Epoch 15/15\n",
            "625/625 [==============================] - 2s 4ms/step - loss: 0.7880 - accuracy: 0.7145 - val_loss: 1.0549 - val_accuracy: 0.6107\n",
            "0.7120000123977661\n",
            "0.6096\n"
          ],
          "name": "stdout"
        }
      ]
    },
    {
      "cell_type": "code",
      "metadata": {
        "colab": {
          "base_uri": "https://localhost:8080/",
          "height": 520
        },
        "id": "hwckqs9SYamj",
        "outputId": "d3d3e15e-6f80-441f-b16f-bb392de963d0"
      },
      "source": [
        "report(y_pred,test,Model=Sigmoid1)"
      ],
      "execution_count": 101,
      "outputs": [
        {
          "output_type": "stream",
          "text": [
            "Classification Report : \n",
            "               precision    recall  f1-score   support\n",
            "\n",
            "           1       0.52      0.27      0.35      1271\n",
            "           2       0.25      0.01      0.02       630\n",
            "           3       0.29      0.10      0.15       911\n",
            "           4       0.24      0.03      0.05      1404\n",
            "           5       0.63      0.97      0.77      5784\n",
            "\n",
            "    accuracy                           0.61     10000\n",
            "   macro avg       0.39      0.28      0.27     10000\n",
            "weighted avg       0.51      0.61      0.51     10000\n",
            "\n",
            "Heat Map :\n",
            "\n"
          ],
          "name": "stdout"
        },
        {
          "output_type": "display_data",
          "data": {
            "image/png": "[encoded data removed]",
            "text/plain": [
              "<Figure size 432x288 with 2 Axes>"
            ]
          },
          "metadata": {
            "tags": [],
            "needs_background": "light"
          }
        }
      ]
    },
    {
      "cell_type": "markdown",
      "metadata": {
        "id": "UwQ1XRxRb3LI"
      },
      "source": [
        "### 3. Hiiden layers: 0, activation: ReLU"
      ]
    },
    {
      "cell_type": "code",
      "metadata": {
        "colab": {
          "base_uri": "https://localhost:8080/"
        },
        "id": "0yzk1K6pcVyi",
        "outputId": "ed514101-4646-4270-cbbb-3bb12ae86d7e"
      },
      "source": [
        "ReLU0 = NeuralNetGlove(preprocessed_reviews,Y)\n",
        "ReLU0.build_nn(hiddenLayers=0,activationHidden='relu')\n",
        "ReLU0.train_nn(64,15)\n",
        "y_pred = ReLU0.predict(preprocessed_test_reviews)\n",
        "accuracyTest = accuracy_score(test['ratings'],y_pred)\n",
        "accuracyTrain = ReLU0.history.history['accuracy'][-1]\n",
        "print(accuracyTrain)\n",
        "print(accuracyTest)"
      ],
      "execution_count": 102,
      "outputs": [
        {
          "output_type": "stream",
          "text": [
            "Model: \"sequential_15\"\n",
            "_________________________________________________________________\n",
            "Layer (type)                 Output Shape              Param #   \n",
            "=================================================================\n",
            "dense_37 (Dense)             (None, 5)                 12505     \n",
            "=================================================================\n",
            "Total params: 12,505\n",
            "Trainable params: 12,505\n",
            "Non-trainable params: 0\n",
            "_________________________________________________________________\n",
            "Epoch 1/15\n",
            "625/625 [==============================] - 2s 3ms/step - loss: 1.2874 - accuracy: 0.5379 - val_loss: 1.2496 - val_accuracy: 0.5743\n",
            "Epoch 2/15\n",
            "625/625 [==============================] - 2s 3ms/step - loss: 0.9981 - accuracy: 0.6798 - val_loss: 1.1970 - val_accuracy: 0.5745\n",
            "Epoch 3/15\n",
            "625/625 [==============================] - 2s 3ms/step - loss: 0.9405 - accuracy: 0.6874 - val_loss: 1.1615 - val_accuracy: 0.5765\n",
            "Epoch 4/15\n",
            "625/625 [==============================] - 2s 3ms/step - loss: 0.9193 - accuracy: 0.6872 - val_loss: 1.1420 - val_accuracy: 0.5780\n",
            "Epoch 5/15\n",
            "625/625 [==============================] - 2s 3ms/step - loss: 0.8939 - accuracy: 0.6900 - val_loss: 1.1134 - val_accuracy: 0.5829\n",
            "Epoch 6/15\n",
            "625/625 [==============================] - 2s 3ms/step - loss: 0.8738 - accuracy: 0.6962 - val_loss: 1.1051 - val_accuracy: 0.5841\n",
            "Epoch 7/15\n",
            "625/625 [==============================] - 2s 3ms/step - loss: 0.8696 - accuracy: 0.6934 - val_loss: 1.0994 - val_accuracy: 0.5883\n",
            "Epoch 8/15\n",
            "625/625 [==============================] - 2s 3ms/step - loss: 0.8674 - accuracy: 0.6912 - val_loss: 1.0931 - val_accuracy: 0.5902\n",
            "Epoch 9/15\n",
            "625/625 [==============================] - 2s 3ms/step - loss: 0.8469 - accuracy: 0.7002 - val_loss: 1.0827 - val_accuracy: 0.5929\n",
            "Epoch 10/15\n",
            "625/625 [==============================] - 2s 3ms/step - loss: 0.8456 - accuracy: 0.6984 - val_loss: 1.0791 - val_accuracy: 0.5947\n",
            "Epoch 11/15\n",
            "625/625 [==============================] - 2s 3ms/step - loss: 0.8255 - accuracy: 0.7074 - val_loss: 1.0731 - val_accuracy: 0.5956\n",
            "Epoch 12/15\n",
            "625/625 [==============================] - 2s 3ms/step - loss: 0.8282 - accuracy: 0.7022 - val_loss: 1.0756 - val_accuracy: 0.5968\n",
            "Epoch 13/15\n",
            "625/625 [==============================] - 2s 3ms/step - loss: 0.8265 - accuracy: 0.7028 - val_loss: 1.0665 - val_accuracy: 0.5988\n",
            "Epoch 14/15\n",
            "625/625 [==============================] - 2s 3ms/step - loss: 0.8240 - accuracy: 0.7066 - val_loss: 1.0692 - val_accuracy: 0.5992\n",
            "Epoch 15/15\n",
            "625/625 [==============================] - 2s 3ms/step - loss: 0.8193 - accuracy: 0.7080 - val_loss: 1.0667 - val_accuracy: 0.6016\n",
            "0.7066249847412109\n",
            "0.6029\n"
          ],
          "name": "stdout"
        }
      ]
    },
    {
      "cell_type": "code",
      "metadata": {
        "colab": {
          "base_uri": "https://localhost:8080/",
          "height": 520
        },
        "id": "s4UsyYKucVf_",
        "outputId": "08479dc2-f598-4218-8a8d-f6e95efcee38"
      },
      "source": [
        "report(y_pred,test,Model=ReLU0)"
      ],
      "execution_count": 103,
      "outputs": [
        {
          "output_type": "stream",
          "text": [
            "Classification Report : \n",
            "               precision    recall  f1-score   support\n",
            "\n",
            "           1       0.54      0.20      0.29      1271\n",
            "           2       0.15      0.00      0.01       630\n",
            "           3       0.29      0.11      0.16       911\n",
            "           4       0.28      0.01      0.03      1404\n",
            "           5       0.62      0.98      0.76      5784\n",
            "\n",
            "    accuracy                           0.60     10000\n",
            "   macro avg       0.38      0.26      0.25     10000\n",
            "weighted avg       0.50      0.60      0.49     10000\n",
            "\n",
            "Heat Map :\n",
            "\n"
          ],
          "name": "stdout"
        },
        {
          "output_type": "display_data",
          "data": {
            "image/png": "[encoded data removed]",
            "text/plain": [
              "<Figure size 432x288 with 2 Axes>"
            ]
          },
          "metadata": {
            "tags": [],
            "needs_background": "light"
          }
        }
      ]
    },
    {
      "cell_type": "markdown",
      "metadata": {
        "id": "e40YQDaIb4hU"
      },
      "source": [
        "### 1. Hiiden layers: 1, activation: ReLU"
      ]
    },
    {
      "cell_type": "code",
      "metadata": {
        "colab": {
          "base_uri": "https://localhost:8080/"
        },
        "id": "XZr_o77VcUEa",
        "outputId": "e912d507-c6d8-41a9-b685-354c7d730a1e"
      },
      "source": [
        "ReLU1 = NeuralNetGlove(preprocessed_reviews,Y)\n",
        "ReLU1.build_nn(hiddenLayers=0,activationHidden='sigmoid')\n",
        "ReLU1.train_nn(64,15)\n",
        "y_pred = ReLU1.predict(preprocessed_test_reviews)\n",
        "accuracyTest = accuracy_score(test['ratings'],y_pred)\n",
        "accuracyTrain = ReLU1.history.history['accuracy'][-1]\n",
        "print(accuracyTrain)\n",
        "print(accuracyTest)"
      ],
      "execution_count": 104,
      "outputs": [
        {
          "output_type": "stream",
          "text": [
            "Model: \"sequential_16\"\n",
            "_________________________________________________________________\n",
            "Layer (type)                 Output Shape              Param #   \n",
            "=================================================================\n",
            "dense_38 (Dense)             (None, 5)                 12505     \n",
            "=================================================================\n",
            "Total params: 12,505\n",
            "Trainable params: 12,505\n",
            "Non-trainable params: 0\n",
            "_________________________________________________________________\n",
            "Epoch 1/15\n",
            "625/625 [==============================] - 2s 3ms/step - loss: 1.1529 - accuracy: 0.6117 - val_loss: 1.2386 - val_accuracy: 0.5742\n",
            "Epoch 2/15\n",
            "625/625 [==============================] - 2s 3ms/step - loss: 0.9700 - accuracy: 0.6895 - val_loss: 1.1775 - val_accuracy: 0.5754\n",
            "Epoch 3/15\n",
            "625/625 [==============================] - 2s 3ms/step - loss: 0.9381 - accuracy: 0.6843 - val_loss: 1.1560 - val_accuracy: 0.5761\n",
            "Epoch 4/15\n",
            "625/625 [==============================] - 2s 3ms/step - loss: 0.9019 - accuracy: 0.6904 - val_loss: 1.1252 - val_accuracy: 0.5805\n",
            "Epoch 5/15\n",
            "625/625 [==============================] - 2s 3ms/step - loss: 0.8856 - accuracy: 0.6930 - val_loss: 1.1052 - val_accuracy: 0.5829\n",
            "Epoch 6/15\n",
            "625/625 [==============================] - 2s 3ms/step - loss: 0.8706 - accuracy: 0.6961 - val_loss: 1.0965 - val_accuracy: 0.5880\n",
            "Epoch 7/15\n",
            "625/625 [==============================] - 2s 3ms/step - loss: 0.8620 - accuracy: 0.6959 - val_loss: 1.0888 - val_accuracy: 0.5903\n",
            "Epoch 8/15\n",
            "625/625 [==============================] - 2s 3ms/step - loss: 0.8518 - accuracy: 0.6976 - val_loss: 1.0825 - val_accuracy: 0.5926\n",
            "Epoch 9/15\n",
            "625/625 [==============================] - 2s 3ms/step - loss: 0.8438 - accuracy: 0.7016 - val_loss: 1.0707 - val_accuracy: 0.5952\n",
            "Epoch 10/15\n",
            "625/625 [==============================] - 2s 3ms/step - loss: 0.8416 - accuracy: 0.7011 - val_loss: 1.0676 - val_accuracy: 0.5975\n",
            "Epoch 11/15\n",
            "625/625 [==============================] - 2s 3ms/step - loss: 0.8265 - accuracy: 0.7054 - val_loss: 1.0643 - val_accuracy: 0.5982\n",
            "Epoch 12/15\n",
            "625/625 [==============================] - 2s 3ms/step - loss: 0.8248 - accuracy: 0.7060 - val_loss: 1.0720 - val_accuracy: 0.5979\n",
            "Epoch 13/15\n",
            "625/625 [==============================] - 2s 3ms/step - loss: 0.8227 - accuracy: 0.7067 - val_loss: 1.0642 - val_accuracy: 0.5990\n",
            "Epoch 14/15\n",
            "625/625 [==============================] - 2s 3ms/step - loss: 0.8260 - accuracy: 0.7021 - val_loss: 1.0637 - val_accuracy: 0.6006\n",
            "Epoch 15/15\n",
            "625/625 [==============================] - 2s 3ms/step - loss: 0.8166 - accuracy: 0.7081 - val_loss: 1.0608 - val_accuracy: 0.6020\n",
            "0.7062000036239624\n",
            "0.6021\n"
          ],
          "name": "stdout"
        }
      ]
    },
    {
      "cell_type": "code",
      "metadata": {
        "colab": {
          "base_uri": "https://localhost:8080/",
          "height": 520
        },
        "id": "YdSPv5wAc6Qz",
        "outputId": "bf9fc2eb-23c4-46f2-902b-3136e91792a0"
      },
      "source": [
        "report(y_pred,test,Model=ReLU1)"
      ],
      "execution_count": 105,
      "outputs": [
        {
          "output_type": "stream",
          "text": [
            "Classification Report : \n",
            "               precision    recall  f1-score   support\n",
            "\n",
            "           1       0.52      0.21      0.30      1271\n",
            "           2       0.00      0.00      0.00       630\n",
            "           3       0.27      0.08      0.12       911\n",
            "           4       0.24      0.02      0.04      1404\n",
            "           5       0.62      0.98      0.76      5784\n",
            "\n",
            "    accuracy                           0.60     10000\n",
            "   macro avg       0.33      0.26      0.25     10000\n",
            "weighted avg       0.48      0.60      0.50     10000\n",
            "\n",
            "Heat Map :\n",
            "\n"
          ],
          "name": "stdout"
        },
        {
          "output_type": "display_data",
          "data": {
            "image/png": "[encoded data removed]",
            "text/plain": [
              "<Figure size 432x288 with 2 Axes>"
            ]
          },
          "metadata": {
            "tags": [],
            "needs_background": "light"
          }
        }
      ]
    },
    {
      "cell_type": "code",
      "metadata": {
        "id": "Vz5UaM7yeE2T"
      },
      "source": [
        ""
      ],
      "execution_count": null,
      "outputs": []
    }
  ]
}
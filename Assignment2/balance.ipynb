{
 "metadata": {
  "language_info": {
   "codemirror_mode": {
    "name": "ipython",
    "version": 3
   },
   "file_extension": ".py",
   "mimetype": "text/x-python",
   "name": "python",
   "nbconvert_exporter": "python",
   "pygments_lexer": "ipython3",
   "version": "3.6.9-final"
  },
  "orig_nbformat": 2,
  "kernelspec": {
   "name": "python3",
   "display_name": "Python 3.6.9 64-bit",
   "metadata": {
    "interpreter": {
     "hash": "31f2aee4e71d21fbe5cf8b01ff0e069b9275f58929596ceb00d14d90e3e16cd6"
    }
   }
  }
 },
 "nbformat": 4,
 "nbformat_minor": 2,
 "cells": [
  {
   "cell_type": "code",
   "execution_count": 23,
   "metadata": {},
   "outputs": [],
   "source": [
    "import numpy as np\n",
    "import pandas as pd "
   ]
  },
  {
   "cell_type": "code",
   "execution_count": 24,
   "metadata": {},
   "outputs": [],
   "source": [
    "train = pd.read_csv('./train.csv')\n",
    "test = pd.read_csv('./test.csv')\n"
   ]
  },
  {
   "cell_type": "code",
   "execution_count": 25,
   "metadata": {},
   "outputs": [],
   "source": [
    "def undersample(train):\n",
    "    sizes = [len(train[train['ratings']==i]) for i in range(1,6)]\n",
    "    minority_rating = np.argmin(sizes) + 1\n",
    "    minority_class_len = np.min(sizes)\n",
    "    a = []\n",
    "    for i in range(1,6):\n",
    "        s = train[train['ratings']==i].index\n",
    "        random_indices = np.random.choice(s,minority_class_len,replace=False)\n",
    "        a.extend(random_indices)\n",
    "    balanced_train = train.loc[a]\n",
    "    return balanced_train"
   ]
  },
  {
   "cell_type": "code",
   "execution_count": 27,
   "metadata": {},
   "outputs": [],
   "source": [
    "def oversample(train):\n",
    "    sizes = [len(train[train['ratings']==i]) for i in range(1,6)]\n",
    "    majority_rating = np.argmax(sizes) + 1\n",
    "    majority_class_len = np.max(sizes)\n",
    "    a = []\n",
    "    for i in range(1,6):\n",
    "        s = train[train['ratings']==i].index\n",
    "        random_indices = np.random.choice(s,majority_class_len,replace=True)\n",
    "        a.extend(random_indices)\n",
    "    balanced_train = train.loc[a]\n",
    "    return balanced_train"
   ]
  },
  {
   "cell_type": "code",
   "execution_count": 28,
   "metadata": {},
   "outputs": [],
   "source": [
    "a = oversample(train)"
   ]
  },
  {
   "cell_type": "code",
   "execution_count": 29,
   "metadata": {},
   "outputs": [
    {
     "output_type": "execute_result",
     "data": {
      "text/plain": [
       "       Unnamed: 0                                            reviews  ratings\n",
       "38802       38802  Smell is disgusting! Picture was deceiving, an...        1\n",
       "40892       40892  I would not even give it a 1 star.  I will not...        1\n",
       "27740       27740  Didn't realize how small the bottles were. Or ...        1\n",
       "49592       49592  Bottle was open and not sealed and half spille...        1\n",
       "19007       19007  Disappointing.  Did not do clean shave job. Ha...        1\n",
       "...           ...                                                ...      ...\n",
       "23483       23483  I really like this mirror and the fact that it...        5\n",
       "8556         8556  I love the feel of my skin after using the Avo...        5\n",
       "41757       41757  bought this for my eight year old daughter and...        5\n",
       "27826       27826  I will be telling everyone about this makeup. ...        5\n",
       "4214         4214  I love this smell and I will buy more! Must ge...        5\n",
       "\n",
       "[165965 rows x 3 columns]"
      ],
      "text/html": "<div>\n<style scoped>\n    .dataframe tbody tr th:only-of-type {\n        vertical-align: middle;\n    }\n\n    .dataframe tbody tr th {\n        vertical-align: top;\n    }\n\n    .dataframe thead th {\n        text-align: right;\n    }\n</style>\n<table border=\"1\" class=\"dataframe\">\n  <thead>\n    <tr style=\"text-align: right;\">\n      <th></th>\n      <th>Unnamed: 0</th>\n      <th>reviews</th>\n      <th>ratings</th>\n    </tr>\n  </thead>\n  <tbody>\n    <tr>\n      <th>38802</th>\n      <td>38802</td>\n      <td>Smell is disgusting! Picture was deceiving, an...</td>\n      <td>1</td>\n    </tr>\n    <tr>\n      <th>40892</th>\n      <td>40892</td>\n      <td>I would not even give it a 1 star.  I will not...</td>\n      <td>1</td>\n    </tr>\n    <tr>\n      <th>27740</th>\n      <td>27740</td>\n      <td>Didn't realize how small the bottles were. Or ...</td>\n      <td>1</td>\n    </tr>\n    <tr>\n      <th>49592</th>\n      <td>49592</td>\n      <td>Bottle was open and not sealed and half spille...</td>\n      <td>1</td>\n    </tr>\n    <tr>\n      <th>19007</th>\n      <td>19007</td>\n      <td>Disappointing.  Did not do clean shave job. Ha...</td>\n      <td>1</td>\n    </tr>\n    <tr>\n      <th>16929</th>\n      <td>16929</td>\n      <td>Item came busted open and the contents leaked ...</td>\n      <td>1</td>\n    </tr>\n    <tr>\n      <th>46295</th>\n      <td>46295</td>\n      <td>I have used this product for approximately 3 m...</td>\n      <td>1</td>\n    </tr>\n    <tr>\n      <th>11225</th>\n      <td>11225</td>\n      <td>Worse shave with ANY razor. Pulls, screen tore...</td>\n      <td>1</td>\n    </tr>\n    <tr>\n      <th>32410</th>\n      <td>32410</td>\n      <td>Although I have been using this product daily ...</td>\n      <td>1</td>\n    </tr>\n    <tr>\n      <th>28703</th>\n      <td>28703</td>\n      <td>Dry, not impressed. Didn't look or feel good a...</td>\n      <td>1</td>\n    </tr>\n    <tr>\n      <th>43145</th>\n      <td>43145</td>\n      <td>Very flimsy, put together backwards, not even ...</td>\n      <td>1</td>\n    </tr>\n    <tr>\n      <th>31648</th>\n      <td>31648</td>\n      <td>Not very happy with it.  It won't stay clipped...</td>\n      <td>1</td>\n    </tr>\n    <tr>\n      <th>45315</th>\n      <td>45315</td>\n      <td>This is fake. Called the manufacturer. No expi...</td>\n      <td>1</td>\n    </tr>\n    <tr>\n      <th>45004</th>\n      <td>45004</td>\n      <td>I think this is a knock off, don't purchase le...</td>\n      <td>1</td>\n    </tr>\n    <tr>\n      <th>40661</th>\n      <td>40661</td>\n      <td>This product is nothing more than a moisturize...</td>\n      <td>1</td>\n    </tr>\n    <tr>\n      <th>21233</th>\n      <td>21233</td>\n      <td>You will never know whether this product is go...</td>\n      <td>1</td>\n    </tr>\n    <tr>\n      <th>23567</th>\n      <td>23567</td>\n      <td>I can't get them to work, not that they were m...</td>\n      <td>1</td>\n    </tr>\n    <tr>\n      <th>29333</th>\n      <td>29333</td>\n      <td>Did not receive the pink bag to keep the brush...</td>\n      <td>1</td>\n    </tr>\n    <tr>\n      <th>11599</th>\n      <td>11599</td>\n      <td>Fell right off. I guess it was a cheap fix fir...</td>\n      <td>1</td>\n    </tr>\n    <tr>\n      <th>5925</th>\n      <td>5925</td>\n      <td>Tore me up ,the blade is not a sharp blade at ...</td>\n      <td>1</td>\n    </tr>\n    <tr>\n      <th>34522</th>\n      <td>34522</td>\n      <td>I have been using for it over 2 months now and...</td>\n      <td>1</td>\n    </tr>\n    <tr>\n      <th>46961</th>\n      <td>46961</td>\n      <td>Style is ok, but the roots are way to dark, lo...</td>\n      <td>1</td>\n    </tr>\n    <tr>\n      <th>26165</th>\n      <td>26165</td>\n      <td>Lousy razors.  I will not order these again.  ...</td>\n      <td>1</td>\n    </tr>\n    <tr>\n      <th>2400</th>\n      <td>2400</td>\n      <td>JUST POOR VALUE AND QUALITY. PUT WATER ON YOUR...</td>\n      <td>1</td>\n    </tr>\n    <tr>\n      <th>40035</th>\n      <td>40035</td>\n      <td>Noticed no change.  Not even in the smoothness...</td>\n      <td>1</td>\n    </tr>\n    <tr>\n      <th>47500</th>\n      <td>47500</td>\n      <td>Item was returned because after almost a month...</td>\n      <td>1</td>\n    </tr>\n    <tr>\n      <th>19583</th>\n      <td>19583</td>\n      <td>I returned this item. I purchased thinking thi...</td>\n      <td>1</td>\n    </tr>\n    <tr>\n      <th>47249</th>\n      <td>47249</td>\n      <td>This is not a travel dryer. It is not small.</td>\n      <td>1</td>\n    </tr>\n    <tr>\n      <th>19135</th>\n      <td>19135</td>\n      <td>this shaver is not good for the price.\\nI woul...</td>\n      <td>1</td>\n    </tr>\n    <tr>\n      <th>7117</th>\n      <td>7117</td>\n      <td>The wax was not wax but probably was some synt...</td>\n      <td>1</td>\n    </tr>\n    <tr>\n      <th>...</th>\n      <td>...</td>\n      <td>...</td>\n      <td>...</td>\n    </tr>\n    <tr>\n      <th>29937</th>\n      <td>29937</td>\n      <td>The item arrived quickly and is serving my nee...</td>\n      <td>5</td>\n    </tr>\n    <tr>\n      <th>2732</th>\n      <td>2732</td>\n      <td>I love this thing. Not bad for a womans shape ...</td>\n      <td>5</td>\n    </tr>\n    <tr>\n      <th>47087</th>\n      <td>47087</td>\n      <td>Good quality to it. Not a chemical diluted pro...</td>\n      <td>5</td>\n    </tr>\n    <tr>\n      <th>11099</th>\n      <td>11099</td>\n      <td>This is a very nice product because of the var...</td>\n      <td>5</td>\n    </tr>\n    <tr>\n      <th>4127</th>\n      <td>4127</td>\n      <td>Great Deal!!  WAY CHEAPER THAN THE ONES AT THE...</td>\n      <td>5</td>\n    </tr>\n    <tr>\n      <th>38171</th>\n      <td>38171</td>\n      <td>As described and arrived quickly. Good price f...</td>\n      <td>5</td>\n    </tr>\n    <tr>\n      <th>40592</th>\n      <td>40592</td>\n      <td>This is a staple in my every day make up routi...</td>\n      <td>5</td>\n    </tr>\n    <tr>\n      <th>21332</th>\n      <td>21332</td>\n      <td>My mom wanted this for Christmas! Her other on...</td>\n      <td>5</td>\n    </tr>\n    <tr>\n      <th>13597</th>\n      <td>13597</td>\n      <td>Good value, we purchase these on the subscribe...</td>\n      <td>5</td>\n    </tr>\n    <tr>\n      <th>16520</th>\n      <td>16520</td>\n      <td>Love this.  Just the right size for my short h...</td>\n      <td>5</td>\n    </tr>\n    <tr>\n      <th>13967</th>\n      <td>13967</td>\n      <td>Perfect!  I could not find a 3/4 \" drying brus...</td>\n      <td>5</td>\n    </tr>\n    <tr>\n      <th>20826</th>\n      <td>20826</td>\n      <td>Expensive but worth it if you have braces. Ver...</td>\n      <td>5</td>\n    </tr>\n    <tr>\n      <th>43464</th>\n      <td>43464</td>\n      <td>It's absolutely fantastic! I needed to straigh...</td>\n      <td>5</td>\n    </tr>\n    <tr>\n      <th>549</th>\n      <td>549</td>\n      <td>It does exactly what it's supposed to do and i...</td>\n      <td>5</td>\n    </tr>\n    <tr>\n      <th>4937</th>\n      <td>4937</td>\n      <td>The light brown shade is a true light brown an...</td>\n      <td>5</td>\n    </tr>\n    <tr>\n      <th>10823</th>\n      <td>10823</td>\n      <td>WORKS AS DESCRIBED. REALLY CLEANS YOUR TEETH A...</td>\n      <td>5</td>\n    </tr>\n    <tr>\n      <th>18182</th>\n      <td>18182</td>\n      <td>Been using this product for maybe 30 years or ...</td>\n      <td>5</td>\n    </tr>\n    <tr>\n      <th>17309</th>\n      <td>17309</td>\n      <td>I love this soap! Always have it in my bathroom!</td>\n      <td>5</td>\n    </tr>\n    <tr>\n      <th>30156</th>\n      <td>30156</td>\n      <td>This was magic for our dry elbows, knees and f...</td>\n      <td>5</td>\n    </tr>\n    <tr>\n      <th>11492</th>\n      <td>11492</td>\n      <td>Liquit Trust come in this classy bottle, has n...</td>\n      <td>5</td>\n    </tr>\n    <tr>\n      <th>3924</th>\n      <td>3924</td>\n      <td>Works great! This size is hard to find in stor...</td>\n      <td>5</td>\n    </tr>\n    <tr>\n      <th>4403</th>\n      <td>4403</td>\n      <td>I love this product been using it for years. g...</td>\n      <td>5</td>\n    </tr>\n    <tr>\n      <th>28060</th>\n      <td>28060</td>\n      <td>See above review for the conditioner - same go...</td>\n      <td>5</td>\n    </tr>\n    <tr>\n      <th>995</th>\n      <td>995</td>\n      <td>Beautiful finish, design and solidly made.  It...</td>\n      <td>5</td>\n    </tr>\n    <tr>\n      <th>44803</th>\n      <td>44803</td>\n      <td>I use this every day  I live on the gulf coast...</td>\n      <td>5</td>\n    </tr>\n    <tr>\n      <th>23483</th>\n      <td>23483</td>\n      <td>I really like this mirror and the fact that it...</td>\n      <td>5</td>\n    </tr>\n    <tr>\n      <th>8556</th>\n      <td>8556</td>\n      <td>I love the feel of my skin after using the Avo...</td>\n      <td>5</td>\n    </tr>\n    <tr>\n      <th>41757</th>\n      <td>41757</td>\n      <td>bought this for my eight year old daughter and...</td>\n      <td>5</td>\n    </tr>\n    <tr>\n      <th>27826</th>\n      <td>27826</td>\n      <td>I will be telling everyone about this makeup. ...</td>\n      <td>5</td>\n    </tr>\n    <tr>\n      <th>4214</th>\n      <td>4214</td>\n      <td>I love this smell and I will buy more! Must ge...</td>\n      <td>5</td>\n    </tr>\n  </tbody>\n</table>\n<p>165965 rows × 3 columns</p>\n</div>"
     },
     "metadata": {},
     "execution_count": 29
    }
   ],
   "source": [
    "a"
   ]
  },
  {
   "cell_type": "code",
   "execution_count": 30,
   "metadata": {},
   "outputs": [
    {
     "output_type": "execute_result",
     "data": {
      "text/plain": [
       "[2265, 2265, 2265, 2265, 2265]"
      ]
     },
     "metadata": {},
     "execution_count": 30
    }
   ],
   "source": []
  },
  {
   "cell_type": "code",
   "execution_count": 22,
   "metadata": {},
   "outputs": [
    {
     "output_type": "execute_result",
     "data": {
      "text/plain": [
       "[2265, 2265, 2265, 2265, 2265]"
      ]
     },
     "metadata": {},
     "execution_count": 22
    }
   ],
   "source": []
  },
  {
   "cell_type": "code",
   "execution_count": null,
   "metadata": {},
   "outputs": [],
   "source": []
  }
 ]
}